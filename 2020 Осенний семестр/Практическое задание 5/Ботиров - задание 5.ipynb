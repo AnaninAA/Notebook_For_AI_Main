{
 "cells": [
  {
   "cell_type": "code",
   "execution_count": 1,
   "metadata": {},
   "outputs": [],
   "source": [
    "import numpy as np\n",
    "import pandas as pd\n",
    "import matplotlib.pyplot as plt\n",
    "import sklearn as sk\n",
    "\n",
    "from sklearn import linear_model\n",
    "from sklearn.model_selection import train_test_split\n",
    "from sklearn.metrics import mean_squared_error\n",
    "from sklearn.preprocessing import MinMaxScaler"
   ]
  },
  {
   "cell_type": "code",
   "execution_count": 2,
   "metadata": {},
   "outputs": [
    {
     "name": "stdout",
     "output_type": "stream",
     "text": [
      "    Species  Weight  Length1  Length2  Length3   Height   Width\n",
      "0     Bream   242.0     23.2     25.4     30.0  11.5200  4.0200\n",
      "1     Bream   290.0     24.0     26.3     31.2  12.4800  4.3056\n",
      "2     Bream   340.0     23.9     26.5     31.1  12.3778  4.6961\n",
      "3     Bream   363.0     26.3     29.0     33.5  12.7300  4.4555\n",
      "4     Bream   430.0     26.5     29.0     34.0  12.4440  5.1340\n",
      "..      ...     ...      ...      ...      ...      ...     ...\n",
      "154   Smelt    12.2     11.5     12.2     13.4   2.0904  1.3936\n",
      "155   Smelt    13.4     11.7     12.4     13.5   2.4300  1.2690\n",
      "156   Smelt    12.2     12.1     13.0     13.8   2.2770  1.2558\n",
      "157   Smelt    19.7     13.2     14.3     15.2   2.8728  2.0672\n",
      "158   Smelt    19.9     13.8     15.0     16.2   2.9322  1.8792\n",
      "\n",
      "[159 rows x 7 columns]\n"
     ]
    }
   ],
   "source": [
    "# Набор данных взят с https://www.kaggle.com/aungpyaeap/fish-market\n",
    "# Параметры нескольких популярных промысловых рыб\n",
    "# length 1 = Body height\n",
    "# length 2 = Total Length\n",
    "# length 3 = Diagonal Length\n",
    "fish_data = pd.read_csv(\"datasets/Fish.csv\", delimiter=',')\n",
    "print(fish_data)"
   ]
  },
  {
   "cell_type": "code",
   "execution_count": 3,
   "metadata": {
    "scrolled": true
   },
   "outputs": [
    {
     "name": "stdout",
     "output_type": "stream",
     "text": [
      "     Length1  Weight\n",
      "0       23.2   242.0\n",
      "1       24.0   290.0\n",
      "2       23.9   340.0\n",
      "3       26.3   363.0\n",
      "4       26.5   430.0\n",
      "..       ...     ...\n",
      "154     11.5    12.2\n",
      "155     11.7    13.4\n",
      "156     12.1    12.2\n",
      "157     13.2    19.7\n",
      "158     13.8    19.9\n",
      "\n",
      "[159 rows x 2 columns]\n"
     ]
    }
   ],
   "source": [
    "# Выделим две переменных\n",
    "x_label = 'Length1'\n",
    "y_label = 'Weight'\n",
    "data = fish_data[[x_label, y_label]]\n",
    "print(data)"
   ]
  },
  {
   "cell_type": "code",
   "execution_count": 4,
   "metadata": {},
   "outputs": [
    {
     "name": "stdout",
     "output_type": "stream",
     "text": [
      "32\n"
     ]
    }
   ],
   "source": [
    "# Определим размер валидационной и тестовой выборок\n",
    "val_test_size = round(0.2*len(data))\n",
    "print(val_test_size)"
   ]
  },
  {
   "cell_type": "code",
   "execution_count": 5,
   "metadata": {},
   "outputs": [],
   "source": [
    "# Генерируем уникальный seed\n",
    "my_code = \"Ботиров\"\n",
    "seed_limit = 2 ** 32\n",
    "my_seed = int.from_bytes(my_code.encode(), \"little\") % seed_limit"
   ]
  },
  {
   "cell_type": "code",
   "execution_count": 6,
   "metadata": {
    "scrolled": true
   },
   "outputs": [
    {
     "name": "stdout",
     "output_type": "stream",
     "text": [
      "95 32 32\n"
     ]
    }
   ],
   "source": [
    "# Создадим обучающую, валидационную и тестовую выборки\n",
    "random_state = my_seed\n",
    "train_val, test = train_test_split(data, test_size=val_test_size, random_state=random_state)\n",
    "train, val = train_test_split(train_val, test_size=val_test_size, random_state=random_state)\n",
    "print(len(train), len(val), len(test))"
   ]
  },
  {
   "cell_type": "code",
   "execution_count": 7,
   "metadata": {},
   "outputs": [],
   "source": [
    "# Преобразуем данные к ожидаемому библиотекой skleran формату\n",
    "train_x = np.array(train[x_label]).reshape(-1,1)\n",
    "train_y = np.array(train[y_label]).reshape(-1,1)\n",
    "\n",
    "val_x = np.array(val[x_label]).reshape(-1,1)\n",
    "val_y = np.array(val[y_label]).reshape(-1,1)\n",
    "\n",
    "test_x = np.array(test[x_label]).reshape(-1,1)\n",
    "test_y = np.array(test[y_label]).reshape(-1,1)"
   ]
  },
  {
   "cell_type": "code",
   "execution_count": 8,
   "metadata": {
    "scrolled": true
   },
   "outputs": [
    {
     "data": {
      "image/png": "[encoded data removed]",
      "text/plain": [
       "<Figure size 432x288 with 1 Axes>"
      ]
     },
     "metadata": {
      "needs_background": "light"
     },
     "output_type": "display_data"
    }
   ],
   "source": [
    "# Нарисуем график\n",
    "plt.plot(train_x, train_y, 'o')\n",
    "plt.show()"
   ]
  },
  {
   "cell_type": "code",
   "execution_count": 9,
   "metadata": {
    "scrolled": true
   },
   "outputs": [
    {
     "data": {
      "text/plain": [
       "LinearRegression()"
      ]
     },
     "execution_count": 9,
     "metadata": {},
     "output_type": "execute_result"
    }
   ],
   "source": [
    "# Создадим модель линейной регрессии и обучим ее на обучающей выборке.\n",
    "model1 = linear_model.LinearRegression()\n",
    "model1.fit(train_x, train_y)"
   ]
  },
  {
   "cell_type": "code",
   "execution_count": 10,
   "metadata": {},
   "outputs": [
    {
     "name": "stdout",
     "output_type": "stream",
     "text": [
      "[[33.34813586]] [-469.40569719]\n",
      "[33.34813586] [-469.40569719]\n"
     ]
    }
   ],
   "source": [
    "# Результат обучения:  значения a и b: y = ax+b\n",
    "print(model1.coef_, model1.intercept_)\n",
    "\n",
    "a = model1.coef_[0]\n",
    "b = model1.intercept_\n",
    "print(a, b)"
   ]
  },
  {
   "cell_type": "code",
   "execution_count": 11,
   "metadata": {
    "scrolled": true
   },
   "outputs": [
    {
     "data": {
      "image/png": "[encoded data removed]",
      "text/plain": [
       "<Figure size 432x288 with 1 Axes>"
      ]
     },
     "metadata": {
      "needs_background": "light"
     },
     "output_type": "display_data"
    }
   ],
   "source": [
    "# Добавим полученную линию на график\n",
    "x = np.linspace(min(train_x), max(train_x), 100)\n",
    "y = a * x + b\n",
    "\n",
    "plt.plot(train_x, train_y, 'o')\n",
    "plt.plot(x, y)\n",
    "plt.show()"
   ]
  },
  {
   "cell_type": "code",
   "execution_count": 12,
   "metadata": {},
   "outputs": [
    {
     "name": "stdout",
     "output_type": "stream",
     "text": [
      "18677.051100104243\n"
     ]
    }
   ],
   "source": [
    "# Проверим результат на валидационной выборке\n",
    "val_predicted = model1.predict(val_x)\n",
    "mse1 = mean_squared_error(val_y, val_predicted)\n",
    "print(mse1)"
   ]
  },
  {
   "cell_type": "code",
   "execution_count": 13,
   "metadata": {
    "scrolled": true
   },
   "outputs": [
    {
     "data": {
      "image/png": "[encoded data removed]",
      "text/plain": [
       "<Figure size 432x288 with 1 Axes>"
      ]
     },
     "metadata": {
      "needs_background": "light"
     },
     "output_type": "display_data"
    }
   ],
   "source": [
    "# Результат не очень хорош для интерпретации, попробуем сначала нормировать значения\n",
    "scaler_x = MinMaxScaler()\n",
    "scaler_x.fit(train_x)\n",
    "scaled_train_x = scaler_x.transform(train_x)\n",
    "\n",
    "scaler_y = MinMaxScaler()\n",
    "scaler_y.fit(train_y)\n",
    "scaled_train_y = scaler_y.transform(train_y)\n",
    "\n",
    "plt.plot(scaled_train_x, scaled_train_y, 'o')\n",
    "plt.show()"
   ]
  },
  {
   "cell_type": "code",
   "execution_count": 14,
   "metadata": {
    "scrolled": true
   },
   "outputs": [
    {
     "data": {
      "image/png": "[encoded data removed]",
      "text/plain": [
       "<Figure size 432x288 with 1 Axes>"
      ]
     },
     "metadata": {
      "needs_background": "light"
     },
     "output_type": "display_data"
    }
   ],
   "source": [
    "# Строим модель и выводим результаты для нормированных данных\n",
    "model2 = linear_model.LinearRegression()\n",
    "model2.fit(scaled_train_x, scaled_train_y)\n",
    "a = model2.coef_[0]\n",
    "b = model2.intercept_\n",
    "\n",
    "x = np.linspace(min(scaled_train_x), max(scaled_train_x), 100)\n",
    "y = a * x + b\n",
    "\n",
    "plt.plot(scaled_train_x, scaled_train_y, 'o')\n",
    "plt.plot(x, y)\n",
    "plt.show()"
   ]
  },
  {
   "cell_type": "code",
   "execution_count": 15,
   "metadata": {},
   "outputs": [
    {
     "name": "stdout",
     "output_type": "stream",
     "text": [
      "0.006860257520699443\n"
     ]
    }
   ],
   "source": [
    "# Проверим результат на валидационной выборке\n",
    "scaled_val_x = scaler_x.transform(val_x)\n",
    "scaled_val_y = scaler_y.transform(val_y)\n",
    "\n",
    "val_predicted = model2.predict(scaled_val_x)\n",
    "\n",
    "mse2 = mean_squared_error(scaled_val_y, val_predicted)\n",
    "print(mse2)"
   ]
  },
  {
   "cell_type": "code",
   "execution_count": 16,
   "metadata": {
    "scrolled": false
   },
   "outputs": [
    {
     "data": {
      "image/png": "[encoded data removed]",
      "text/plain": [
       "<Figure size 432x288 with 1 Axes>"
      ]
     },
     "metadata": {
      "needs_background": "light"
     },
     "output_type": "display_data"
    }
   ],
   "source": [
    "# Построим модель линейной регресси с L1-регуляризацией и выведем результаты для нормированных данных.\n",
    "model3 = linear_model.Lasso(alpha=0.01)\n",
    "model3.fit(scaled_train_x, scaled_train_y)\n",
    "a = model3.coef_[0]\n",
    "b = model3.intercept_\n",
    "\n",
    "x = np.linspace(min(scaled_train_x), max(scaled_train_x), 100)\n",
    "y = a * x + b\n",
    "\n",
    "plt.plot(scaled_train_x, scaled_train_y, 'o')\n",
    "plt.plot(x, y)\n",
    "plt.show()"
   ]
  },
  {
   "cell_type": "code",
   "execution_count": 17,
   "metadata": {},
   "outputs": [
    {
     "name": "stdout",
     "output_type": "stream",
     "text": [
      "0.007374812784446336\n"
     ]
    }
   ],
   "source": [
    "# Проверим результат на валидационной выборке\n",
    "scaled_val_x = scaler_x.transform(val_x)\n",
    "scaled_val_y = scaler_y.transform(val_y)\n",
    "\n",
    "val_predicted = model3.predict(scaled_val_x)\n",
    "\n",
    "mse3 = mean_squared_error(scaled_val_y, val_predicted)\n",
    "print(mse3)\n",
    "# Можете поэкспериментировать со значением параметра alpha, чтобы уменьшить ошибку"
   ]
  },
  {
   "cell_type": "code",
   "execution_count": 18,
   "metadata": {
    "scrolled": true
   },
   "outputs": [
    {
     "data": {
      "image/png": "[encoded data removed]",
      "text/plain": [
       "<Figure size 432x288 with 1 Axes>"
      ]
     },
     "metadata": {
      "needs_background": "light"
     },
     "output_type": "display_data"
    }
   ],
   "source": [
    "# Построим модель линейной регресси с L2-регуляризацией и выведем результаты для нормированных данных\n",
    "model4 = linear_model.Ridge(alpha=0.01)\n",
    "model4.fit(scaled_train_x, scaled_train_y)\n",
    "a = model4.coef_[0]\n",
    "b = model4.intercept_\n",
    "\n",
    "x = np.linspace(min(scaled_train_x), max(scaled_train_x), 100)\n",
    "y = a * x + b\n",
    "\n",
    "plt.plot(scaled_train_x, scaled_train_y, 'o')\n",
    "plt.plot(x, y)\n",
    "plt.show()"
   ]
  },
  {
   "cell_type": "code",
   "execution_count": 19,
   "metadata": {},
   "outputs": [
    {
     "name": "stdout",
     "output_type": "stream",
     "text": [
      "0.006842511838625382\n"
     ]
    }
   ],
   "source": [
    "# Проверим результат на валидационной выборке\n",
    "scaled_val_x = scaler_x.transform(val_x)\n",
    "scaled_val_y = scaler_y.transform(val_y)\n",
    "\n",
    "val_predicted = model4.predict(scaled_val_x)\n",
    "\n",
    "mse4 = mean_squared_error(scaled_val_y, val_predicted)\n",
    "print(mse4)\n",
    "# Можете поэкспериментировать со значением параметра alpha, чтобы уменьшить ошибку"
   ]
  },
  {
   "cell_type": "code",
   "execution_count": 20,
   "metadata": {
    "scrolled": true
   },
   "outputs": [
    {
     "data": {
      "image/png": "[encoded data removed]",
      "text/plain": [
       "<Figure size 432x288 with 1 Axes>"
      ]
     },
     "metadata": {
      "needs_background": "light"
     },
     "output_type": "display_data"
    }
   ],
   "source": [
    "# Построим модель линейной регресси с ElasticNet-регуляризацией и выведем результаты для нормированных данных\n",
    "model5 = linear_model.ElasticNet(alpha=0.01, l1_ratio = 0.01)\n",
    "model5.fit(scaled_train_x, scaled_train_y)\n",
    "a = model5.coef_[0]\n",
    "b = model5.intercept_\n",
    "\n",
    "x = np.linspace(min(scaled_train_x), max(scaled_train_x), 100)\n",
    "y = a * x + b\n",
    "\n",
    "plt.plot(scaled_train_x, scaled_train_y, 'o')\n",
    "plt.plot(x, y)\n",
    "plt.show()"
   ]
  },
  {
   "cell_type": "code",
   "execution_count": 21,
   "metadata": {},
   "outputs": [
    {
     "name": "stdout",
     "output_type": "stream",
     "text": [
      "0.006979032094548017\n"
     ]
    }
   ],
   "source": [
    "# Проверим результат на валидационной выборке\n",
    "scaled_val_x = scaler_x.transform(val_x)\n",
    "scaled_val_y = scaler_y.transform(val_y)\n",
    "\n",
    "val_predicted = model5.predict(scaled_val_x)\n",
    "\n",
    "mse5 = mean_squared_error(scaled_val_y, val_predicted)\n",
    "print(mse5)\n",
    "# Можете поэкспериментировать со значениями параметров alpha и l1_ratio, чтобы уменьшить ошибку"
   ]
  },
  {
   "cell_type": "code",
   "execution_count": 22,
   "metadata": {},
   "outputs": [
    {
     "name": "stdout",
     "output_type": "stream",
     "text": [
      "0.006860257520699443 0.007374812784446336 0.006842511838625382 0.006979032094548017\n"
     ]
    }
   ],
   "source": [
    "# Выведем ошибки для моделей на нормированных данных\n",
    "print(mse2, mse3, mse4, mse5)"
   ]
  },
  {
   "cell_type": "code",
   "execution_count": 23,
   "metadata": {},
   "outputs": [
    {
     "name": "stdout",
     "output_type": "stream",
     "text": [
      "0.008147063830927528\n"
     ]
    }
   ],
   "source": [
    "# Минимальное значение достигается для второй модели, получим итоговую величину ошибки на тестовой выборке\n",
    "scaled_test_x = scaler_x.transform(test_x)\n",
    "scaled_test_y = scaler_y.transform(test_y)\n",
    "\n",
    "test_predicted = model2.predict(scaled_test_x)\n",
    "\n",
    "mse_test = mean_squared_error(scaled_test_y, test_predicted)\n",
    "print(mse_test)"
   ]
  },
  {
   "cell_type": "code",
   "execution_count": 24,
   "metadata": {},
   "outputs": [],
   "source": [
    "# Повторите выделение данных, нормирование, и анализ 4 моделей\n",
    "# (обычная линейная регрессия, L1-регуляризация, L2-регуляризация, ElasticNet-регуляризация)\n",
    "# для x = Length2 и y = Width."
   ]
  },
  {
   "cell_type": "code",
   "execution_count": 25,
   "metadata": {},
   "outputs": [
    {
     "name": "stdout",
     "output_type": "stream",
     "text": [
      "     Length2  Weight\n",
      "0       25.4   242.0\n",
      "1       26.3   290.0\n",
      "2       26.5   340.0\n",
      "3       29.0   363.0\n",
      "4       29.0   430.0\n",
      "..       ...     ...\n",
      "154     12.2    12.2\n",
      "155     12.4    13.4\n",
      "156     13.0    12.2\n",
      "157     14.3    19.7\n",
      "158     15.0    19.9\n",
      "\n",
      "[159 rows x 2 columns]\n"
     ]
    }
   ],
   "source": [
    "x_label = 'Length2'\n",
    "y_label = 'Weight'\n",
    "data = fish_data[[x_label, y_label]]\n",
    "print(data)"
   ]
  },
  {
   "cell_type": "code",
   "execution_count": 26,
   "metadata": {},
   "outputs": [
    {
     "name": "stdout",
     "output_type": "stream",
     "text": [
      "32\n"
     ]
    }
   ],
   "source": [
    "# Определим размер валидационной и тестовой выборок\n",
    "val_test_size = round(0.2*len(data))\n",
    "print(val_test_size)"
   ]
  },
  {
   "cell_type": "code",
   "execution_count": 27,
   "metadata": {},
   "outputs": [
    {
     "name": "stdout",
     "output_type": "stream",
     "text": [
      "95 32 32\n"
     ]
    }
   ],
   "source": [
    "# Создадим обучающую, валидационную и тестовую выборки\n",
    "random_state = my_seed\n",
    "train_val, test = train_test_split(data, test_size=val_test_size, random_state=random_state)\n",
    "train, val = train_test_split(train_val, test_size=val_test_size, random_state=random_state)\n",
    "print(len(train), len(val), len(test))"
   ]
  },
  {
   "cell_type": "code",
   "execution_count": 28,
   "metadata": {},
   "outputs": [],
   "source": [
    "# Преобразуем данные к ожидаемому библиотекой skleran формату\n",
    "train_x = np.array(train[x_label]).reshape(-1,1)\n",
    "train_y = np.array(train[y_label]).reshape(-1,1)\n",
    "\n",
    "val_x = np.array(val[x_label]).reshape(-1,1)\n",
    "val_y = np.array(val[y_label]).reshape(-1,1)\n",
    "\n",
    "test_x = np.array(test[x_label]).reshape(-1,1)\n",
    "test_y = np.array(test[y_label]).reshape(-1,1)"
   ]
  },
  {
   "cell_type": "code",
   "execution_count": 29,
   "metadata": {},
   "outputs": [
    {
     "data": {
      "image/png": "[encoded data removed]",
      "text/plain": [
       "<Figure size 432x288 with 1 Axes>"
      ]
     },
     "metadata": {
      "needs_background": "light"
     },
     "output_type": "display_data"
    }
   ],
   "source": [
    "# Нарисуем график\n",
    "plt.plot(train_x, train_y, 'o')\n",
    "plt.show()"
   ]
  },
  {
   "cell_type": "code",
   "execution_count": 30,
   "metadata": {},
   "outputs": [],
   "source": [
    "# Создадим модель линейной регрессии и обучим ее на обучающей выборке.\n",
    "model1 = linear_model.LinearRegression().fit(train_x, train_y)"
   ]
  },
  {
   "cell_type": "code",
   "execution_count": 31,
   "metadata": {},
   "outputs": [
    {
     "name": "stdout",
     "output_type": "stream",
     "text": [
      "[[31.17519857]] [-479.73231998]\n",
      "[31.17519857] [-479.73231998]\n"
     ]
    }
   ],
   "source": [
    "# Результат обучения:  значения a и b: y = ax+b\n",
    "print(model1.coef_, model1.intercept_)\n",
    "\n",
    "a = model1.coef_[0]\n",
    "b = model1.intercept_\n",
    "print(a, b)"
   ]
  },
  {
   "cell_type": "code",
   "execution_count": 32,
   "metadata": {},
   "outputs": [
    {
     "data": {
      "image/png": "[encoded data removed]",
      "text/plain": [
       "<Figure size 432x288 with 1 Axes>"
      ]
     },
     "metadata": {
      "needs_background": "light"
     },
     "output_type": "display_data"
    }
   ],
   "source": [
    "# Добавим полученную линию на график\n",
    "x = np.linspace(min(train_x), max(train_x), 100)\n",
    "y = a * x + b\n",
    "\n",
    "plt.plot(train_x, train_y, 'o')\n",
    "plt.plot(x, y)\n",
    "plt.show()"
   ]
  },
  {
   "cell_type": "code",
   "execution_count": 33,
   "metadata": {},
   "outputs": [
    {
     "name": "stdout",
     "output_type": "stream",
     "text": [
      "18016.441853482364\n"
     ]
    }
   ],
   "source": [
    "# Проверим результат на валидационной выборке\n",
    "val_predicted = model1.predict(val_x)\n",
    "mse1 = mean_squared_error(val_y, val_predicted)\n",
    "print(mse1)"
   ]
  },
  {
   "cell_type": "code",
   "execution_count": 34,
   "metadata": {},
   "outputs": [
    {
     "data": {
      "image/png": "[encoded data removed]",
      "text/plain": [
       "<Figure size 432x288 with 1 Axes>"
      ]
     },
     "metadata": {
      "needs_background": "light"
     },
     "output_type": "display_data"
    }
   ],
   "source": [
    "# Результат не очень хорош для интерпретации, попробуем сначала нормировать значения\n",
    "scaler_x = MinMaxScaler().fit(train_x)\n",
    "scaled_train_x = scaler_x.transform(train_x)\n",
    "\n",
    "scaler_y = MinMaxScaler().fit(train_y)\n",
    "scaled_train_y = scaler_y.transform(train_y)\n",
    "\n",
    "plt.plot(scaled_train_x, scaled_train_y, 'o')\n",
    "plt.show()"
   ]
  },
  {
   "cell_type": "code",
   "execution_count": 35,
   "metadata": {},
   "outputs": [
    {
     "data": {
      "image/png": "[encoded data removed]",
      "text/plain": [
       "<Figure size 432x288 with 1 Axes>"
      ]
     },
     "metadata": {
      "needs_background": "light"
     },
     "output_type": "display_data"
    }
   ],
   "source": [
    "# Строим модель и выводим результаты для нормированных данных\n",
    "model2 = linear_model.LinearRegression().fit(scaled_train_x, scaled_train_y)\n",
    "a = model2.coef_[0]\n",
    "b = model2.intercept_\n",
    "\n",
    "x = np.linspace(min(scaled_train_x), max(scaled_train_x), 100)\n",
    "y = a * x + b\n",
    "\n",
    "plt.plot(scaled_train_x, scaled_train_y, 'o')\n",
    "plt.plot(x, y)\n",
    "plt.show()"
   ]
  },
  {
   "cell_type": "code",
   "execution_count": 36,
   "metadata": {},
   "outputs": [
    {
     "name": "stdout",
     "output_type": "stream",
     "text": [
      "0.006617609496228598\n"
     ]
    }
   ],
   "source": [
    "# Проверим результат на валидационной выборке\n",
    "scaled_val_x = scaler_x.transform(val_x)\n",
    "scaled_val_y = scaler_y.transform(val_y)\n",
    "\n",
    "val_predicted = model2.predict(scaled_val_x)\n",
    "\n",
    "mse2 = mean_squared_error(scaled_val_y, val_predicted)\n",
    "print(mse2)"
   ]
  },
  {
   "cell_type": "code",
   "execution_count": 37,
   "metadata": {},
   "outputs": [
    {
     "data": {
      "image/png": "[encoded data removed]",
      "text/plain": [
       "<Figure size 432x288 with 1 Axes>"
      ]
     },
     "metadata": {
      "needs_background": "light"
     },
     "output_type": "display_data"
    }
   ],
   "source": [
    "# Построим модель линейной регресси с L1-регуляризацией и выведем результаты для нормированных данных.\n",
    "model3 = linear_model.Lasso(alpha=0.01).fit(scaled_train_x, scaled_train_y)\n",
    "a = model3.coef_[0]\n",
    "b = model3.intercept_\n",
    "\n",
    "x = np.linspace(min(scaled_train_x), max(scaled_train_x), 100)\n",
    "y = a * x + b\n",
    "\n",
    "plt.plot(scaled_train_x, scaled_train_y, 'o')\n",
    "plt.plot(x, y)\n",
    "plt.show()"
   ]
  },
  {
   "cell_type": "code",
   "execution_count": 38,
   "metadata": {},
   "outputs": [
    {
     "name": "stdout",
     "output_type": "stream",
     "text": [
      "0.007136180778764662\n"
     ]
    }
   ],
   "source": [
    "# Проверим результат на валидационной выборке\n",
    "scaled_val_x = scaler_x.transform(val_x)\n",
    "scaled_val_y = scaler_y.transform(val_y)\n",
    "\n",
    "val_predicted = model3.predict(scaled_val_x)\n",
    "\n",
    "mse3 = mean_squared_error(scaled_val_y, val_predicted)\n",
    "print(mse3)\n",
    "# Можете поэкспериментировать со значением параметра alpha, чтобы уменьшить ошибку"
   ]
  },
  {
   "cell_type": "code",
   "execution_count": 39,
   "metadata": {},
   "outputs": [
    {
     "data": {
      "image/png": "[encoded data removed]",
      "text/plain": [
       "<Figure size 432x288 with 1 Axes>"
      ]
     },
     "metadata": {
      "needs_background": "light"
     },
     "output_type": "display_data"
    }
   ],
   "source": [
    "# Построим модель линейной регресси с L2-регуляризацией и выведем результаты для нормированных данных\n",
    "model4 = linear_model.Ridge(alpha=0.01).fit(scaled_train_x, scaled_train_y)\n",
    "a = model4.coef_[0]\n",
    "b = model4.intercept_\n",
    "\n",
    "x = np.linspace(min(scaled_train_x), max(scaled_train_x), 100)\n",
    "y = a * x + b\n",
    "\n",
    "plt.plot(scaled_train_x, scaled_train_y, 'o')\n",
    "plt.plot(x, y)\n",
    "plt.show()"
   ]
  },
  {
   "cell_type": "code",
   "execution_count": 40,
   "metadata": {},
   "outputs": [
    {
     "name": "stdout",
     "output_type": "stream",
     "text": [
      "0.006600206743450476\n"
     ]
    }
   ],
   "source": [
    "# Проверим результат на валидационной выборке\n",
    "scaled_val_x = scaler_x.transform(val_x)\n",
    "scaled_val_y = scaler_y.transform(val_y)\n",
    "\n",
    "val_predicted = model4.predict(scaled_val_x)\n",
    "\n",
    "mse4 = mean_squared_error(scaled_val_y, val_predicted)\n",
    "print(mse4)\n",
    "# Можете поэкспериментировать со значением параметра alpha, чтобы уменьшить ошибку"
   ]
  },
  {
   "cell_type": "code",
   "execution_count": 41,
   "metadata": {},
   "outputs": [
    {
     "data": {
      "image/png": "[encoded data removed]",
      "text/plain": [
       "<Figure size 432x288 with 1 Axes>"
      ]
     },
     "metadata": {
      "needs_background": "light"
     },
     "output_type": "display_data"
    }
   ],
   "source": [
    "# Построим модель линейной регресси с ElasticNet-регуляризацией и выведем результаты для нормированных данных\n",
    "model5 = linear_model.ElasticNet(alpha=0.01, l1_ratio = 0.01)\n",
    "model5.fit(scaled_train_x, scaled_train_y)\n",
    "a = model5.coef_[0]\n",
    "b = model5.intercept_\n",
    "\n",
    "x = np.linspace(min(scaled_train_x), max(scaled_train_x), 100)\n",
    "y = a * x + b\n",
    "\n",
    "plt.plot(scaled_train_x, scaled_train_y, 'o')\n",
    "plt.plot(x, y)\n",
    "plt.show()"
   ]
  },
  {
   "cell_type": "code",
   "execution_count": 42,
   "metadata": {},
   "outputs": [
    {
     "name": "stdout",
     "output_type": "stream",
     "text": [
      "0.006743964277891342\n"
     ]
    }
   ],
   "source": [
    "# Проверим результат на валидационной выборке\n",
    "scaled_val_x = scaler_x.transform(val_x)\n",
    "scaled_val_y = scaler_y.transform(val_y)\n",
    "\n",
    "val_predicted = model5.predict(scaled_val_x)\n",
    "\n",
    "mse5 = mean_squared_error(scaled_val_y, val_predicted)\n",
    "print(mse5)\n",
    "# Можете поэкспериментировать со значениями параметров alpha и l1_ratio, чтобы уменьшить ошибку"
   ]
  },
  {
   "cell_type": "code",
   "execution_count": 43,
   "metadata": {},
   "outputs": [
    {
     "name": "stdout",
     "output_type": "stream",
     "text": [
      "0.006617609496228598 0.007136180778764662 0.006600206743450476 0.006743964277891342\n"
     ]
    }
   ],
   "source": [
    "# Выведем ошибки для моделей на нормированных данных\n",
    "print(mse2, mse3, mse4, mse5)"
   ]
  },
  {
   "cell_type": "code",
   "execution_count": 44,
   "metadata": {},
   "outputs": [
    {
     "name": "stdout",
     "output_type": "stream",
     "text": [
      "0.007998263217350782\n"
     ]
    }
   ],
   "source": [
    "# Минимальное значение достигается для второй модели, получим итоговую величину ошибки на тестовой выборке\n",
    "scaled_test_x = scaler_x.transform(test_x)\n",
    "scaled_test_y = scaler_y.transform(test_y)\n",
    "\n",
    "test_predicted = model2.predict(scaled_test_x)\n",
    "\n",
    "mse_test = mean_squared_error(scaled_test_y, test_predicted)\n",
    "print(mse_test)"
   ]
  },
  {
   "cell_type": "code",
   "execution_count": null,
   "metadata": {},
   "outputs": [],
   "source": []
  }
 ],
 "metadata": {
  "kernelspec": {
   "display_name": "Python 3",
   "language": "python",
   "name": "python3"
  },
  "language_info": {
   "codemirror_mode": {
    "name": "ipython",
    "version": 3
   },
   "file_extension": ".py",
   "mimetype": "text/x-python",
   "name": "python",
   "nbconvert_exporter": "python",
   "pygments_lexer": "ipython3",
   "version": "3.7.8"
  }
 },
 "nbformat": 4,
 "nbformat_minor": 2
}
