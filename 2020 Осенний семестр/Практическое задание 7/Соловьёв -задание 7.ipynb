{
 "cells": [
  {
   "cell_type": "code",
   "execution_count": 11,
   "metadata": {},
   "outputs": [],
   "source": [
    "import numpy as np\n",
    "import pandas as pd\n",
    "import matplotlib.pyplot as plt\n",
    "import sklearn as sk\n",
    "\n",
    "from sklearn.neighbors import KNeighborsRegressor\n",
    "from sklearn.model_selection import train_test_split\n",
    "from sklearn.preprocessing import MinMaxScaler\n",
    "from sklearn.metrics import mean_squared_error"
   ]
  },
  {
   "cell_type": "code",
   "execution_count": 12,
   "metadata": {},
   "outputs": [
    {
     "name": "stdout",
     "output_type": "stream",
     "text": [
      "    Species  Weight  Length1  Length2  Length3   Height   Width\n",
      "0     Bream   242.0     23.2     25.4     30.0  11.5200  4.0200\n",
      "1     Bream   290.0     24.0     26.3     31.2  12.4800  4.3056\n",
      "2     Bream   340.0     23.9     26.5     31.1  12.3778  4.6961\n",
      "3     Bream   363.0     26.3     29.0     33.5  12.7300  4.4555\n",
      "4     Bream   430.0     26.5     29.0     34.0  12.4440  5.1340\n",
      "..      ...     ...      ...      ...      ...      ...     ...\n",
      "154   Smelt    12.2     11.5     12.2     13.4   2.0904  1.3936\n",
      "155   Smelt    13.4     11.7     12.4     13.5   2.4300  1.2690\n",
      "156   Smelt    12.2     12.1     13.0     13.8   2.2770  1.2558\n",
      "157   Smelt    19.7     13.2     14.3     15.2   2.8728  2.0672\n",
      "158   Smelt    19.9     13.8     15.0     16.2   2.9322  1.8792\n",
      "\n",
      "[159 rows x 7 columns]\n"
     ]
    }
   ],
   "source": [
    "# Набор данных взят с https://www.kaggle.com/aungpyaeap/fish-market\n",
    "# Параметры нескольких популярных промысловых рыб\n",
    "# length 1 = Body height\n",
    "# length 2 = Total Length\n",
    "# length 3 = Diagonal Length\n",
    "fish_data = pd.read_csv(\"datasets/Fish.csv\", delimiter=',')\n",
    "print(fish_data)"
   ]
  },
  {
   "cell_type": "code",
   "execution_count": 13,
   "metadata": {
    "scrolled": true
   },
   "outputs": [
    {
     "name": "stdout",
     "output_type": "stream",
     "text": [
      "      Height   Width  Weight\n",
      "0    11.5200  4.0200   242.0\n",
      "1    12.4800  4.3056   290.0\n",
      "2    12.3778  4.6961   340.0\n",
      "3    12.7300  4.4555   363.0\n",
      "4    12.4440  5.1340   430.0\n",
      "..       ...     ...     ...\n",
      "154   2.0904  1.3936    12.2\n",
      "155   2.4300  1.2690    13.4\n",
      "156   2.2770  1.2558    12.2\n",
      "157   2.8728  2.0672    19.7\n",
      "158   2.9322  1.8792    19.9\n",
      "\n",
      "[159 rows x 3 columns]\n"
     ]
    }
   ],
   "source": [
    "# Выделим входные параметры и целевое значение\n",
    "x_labels = ['Height', 'Width']\n",
    "y_label = 'Weight'\n",
    "\n",
    "data = fish_data[x_labels + [y_label]]\n",
    "print(data)"
   ]
  },
  {
   "cell_type": "code",
   "execution_count": 14,
   "metadata": {},
   "outputs": [
    {
     "name": "stdout",
     "output_type": "stream",
     "text": [
      "32\n"
     ]
    }
   ],
   "source": [
    "# Определим размер валидационной и тестовой выборок\n",
    "val_test_size = round(0.2*len(data))\n",
    "print(val_test_size)"
   ]
  },
  {
   "cell_type": "code",
   "execution_count": 15,
   "metadata": {},
   "outputs": [],
   "source": [
    "# Генерируем уникальный seed\n",
    "my_code = \"Соловьёв\"\n",
    "seed_limit = 2 ** 32\n",
    "my_seed = int.from_bytes(my_code.encode(), \"little\") % seed_limit"
   ]
  },
  {
   "cell_type": "code",
   "execution_count": 16,
   "metadata": {
    "scrolled": true
   },
   "outputs": [
    {
     "name": "stdout",
     "output_type": "stream",
     "text": [
      "95 32 32\n"
     ]
    }
   ],
   "source": [
    "# Создадим обучающую, валидационную и тестовую выборки\n",
    "random_state = my_seed\n",
    "train_val, test = train_test_split(data, test_size=val_test_size, random_state=random_state)\n",
    "train, val = train_test_split(train_val, test_size=val_test_size, random_state=random_state)\n",
    "print(len(train), len(val), len(test))"
   ]
  },
  {
   "cell_type": "code",
   "execution_count": 17,
   "metadata": {},
   "outputs": [],
   "source": [
    "# Выделим обучающую, валидационную и тестовую выборки\n",
    "train_x = train[x_labels]\n",
    "train_y = np.array(train[y_label]).reshape(-1,1)\n",
    "\n",
    "val_x = val[x_labels]\n",
    "val_y = np.array(val[y_label]).reshape(-1,1)\n",
    "\n",
    "test_x = test[x_labels]\n",
    "test_y = np.array(test[y_label]).reshape(-1,1)"
   ]
  },
  {
   "cell_type": "code",
   "execution_count": 18,
   "metadata": {},
   "outputs": [],
   "source": [
    "# Нормируем значения параметров\n",
    "scaler_x = MinMaxScaler()\n",
    "scaler_x.fit(train_x)\n",
    "scaled_train_x = scaler_x.transform(train_x)\n",
    "\n",
    "scaler_y = MinMaxScaler()\n",
    "scaler_y.fit(train_y)\n",
    "scaled_train_y = scaler_y.transform(train_y)"
   ]
  },
  {
   "cell_type": "code",
   "execution_count": 19,
   "metadata": {
    "scrolled": false
   },
   "outputs": [],
   "source": [
    "# Создадим модель метода k-ближайших соседей и обучим ее на нормированных данных. По умолчанию k = 5.\n",
    "minmse=10\n",
    "mink=0\n",
    "a=[]\n",
    "scaled_val_x = scaler_x.transform(val_x)\n",
    "scaled_val_y = scaler_y.transform(val_y)\n",
    "for k in range(1,51):\n",
    "            model1 = KNeighborsRegressor(n_neighbors = k)\n",
    "            model1.fit(scaled_train_x, scaled_train_y)\n",
    "            val_predicted = model1.predict(scaled_val_x)\n",
    "            mse1 = mean_squared_error(scaled_val_y, val_predicted)\n",
    "            a.append(mse1)\n",
    "            if mse1<minmse:\n",
    "                minmse=mse1\n",
    "                mink=k"
   ]
  },
  {
   "cell_type": "code",
   "execution_count": 20,
   "metadata": {},
   "outputs": [
    {
     "name": "stdout",
     "output_type": "stream",
     "text": [
      "Минимальная среднеквадратичная ошибка 0.005086151977539062\n",
      "Значение k, соответствующее минимальной среднеквадратичной ошибке 4\n",
      "\n",
      "[0.009907678344726561, 0.011437611755371092, 0.006591267157660589, 0.005086151977539062, 0.0072214669335937485, 0.007703570275200735, 0.0070445040283203105, 0.006191243652343749, 0.00615596741928289, 0.005492213369140625, 0.005420576347414127, 0.005501309004889594, 0.00607230342779216, 0.0063731620470942295, 0.006404322975260417, 0.007091906711578369, 0.006779372159858889, 0.006968559606481482, 0.007226147255683539, 0.007732193368225096, 0.007985668692037363, 0.008270548547665934, 0.008613314057146444, 0.008806245063993665, 0.008990540954101563, 0.00927004181540224, 0.009579155597786191, 0.00982058208185313, 0.01009415055391763, 0.01035960103027344, 0.010678332469864766, 0.01097702097427845, 0.011431939884574617, 0.011838955632404473, 0.012193577585399393, 0.012529042604140292, 0.012807524846346556, 0.01313160684330906, 0.013554288168441304, 0.014042592797241212, 0.014448125091207803, 0.014586012680987923, 0.01492509944247735, 0.015513393841956272, 0.015858507244707273, 0.01629044237762047, 0.016538022466518802, 0.016732012107478246, 0.017348135817941254, 0.018012265638281247]\n"
     ]
    }
   ],
   "source": [
    "print(\"Минимальная среднеквадратичная ошибка\",minmse)\n",
    "print(\"Значение k, соответствующее минимальной среднеквадратичной ошибке\",mink)\n",
    "print()\n",
    "print(a)"
   ]
  },
  {
   "cell_type": "code",
   "execution_count": 21,
   "metadata": {},
   "outputs": [
    {
     "name": "stdout",
     "output_type": "stream",
     "text": [
      "0.005086151977539062\n"
     ]
    }
   ],
   "source": [
    "model1 = KNeighborsRegressor(n_neighbors = 4)\n",
    "model1.fit(scaled_train_x, scaled_train_y)\n",
    "val_predicted = model1.predict(scaled_val_x)\n",
    "mse1 = mean_squared_error(scaled_val_y, val_predicted)\n",
    "print(mse1)"
   ]
  },
  {
   "cell_type": "code",
   "execution_count": 22,
   "metadata": {},
   "outputs": [
    {
     "name": "stdout",
     "output_type": "stream",
     "text": [
      "0.009878629226684572\n"
     ]
    }
   ],
   "source": [
    "# Проверим результат на тестевойой выборке.\n",
    "scaled_test_x = scaler_x.transform(test_x)\n",
    "scaled_test_y = scaler_y.transform(test_y)\n",
    "\n",
    "test_predicted = model1.predict(scaled_test_x)\n",
    "\n",
    "mse2 = mean_squared_error(scaled_test_y,test_predicted)\n",
    "print(mse2)"
   ]
  },
  {
   "cell_type": "code",
   "execution_count": null,
   "metadata": {},
   "outputs": [],
   "source": []
  }
 ],
 "metadata": {
  "kernelspec": {
   "display_name": "Python 3",
   "language": "python",
   "name": "python3"
  },
  "language_info": {
   "codemirror_mode": {
    "name": "ipython",
    "version": 3
   },
   "file_extension": ".py",
   "mimetype": "text/x-python",
   "name": "python",
   "nbconvert_exporter": "python",
   "pygments_lexer": "ipython3",
   "version": "3.7.8"
  }
 },
 "nbformat": 4,
 "nbformat_minor": 2
}
