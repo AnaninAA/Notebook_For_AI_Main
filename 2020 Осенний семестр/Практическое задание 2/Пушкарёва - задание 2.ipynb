{
  "nbformat": 4,
  "nbformat_minor": 0,
  "metadata": {
    "kernelspec": {
      "display_name": "Python 3",
      "language": "python",
      "name": "python3"
    },
    "language_info": {
      "codemirror_mode": {
        "name": "ipython",
        "version": 3
      },
      "file_extension": ".py",
      "mimetype": "text/x-python",
      "name": "python",
      "nbconvert_exporter": "python",
      "pygments_lexer": "ipython3",
      "version": "3.7.8"
    },
    "colab": {
      "name": "task2.ipynb",
      "provenance": []
    }
  },
  "cells": [
    {
      "cell_type": "code",
      "metadata": {
        "id": "FQ7AXY2KrlFT",
        "colab_type": "code",
        "colab": {}
      },
      "source": [
        "import numpy as np\n",
        "import pandas as pd\n",
        "import matplotlib.pyplot as plt\n",
        "import sklearn as sk"
      ],
      "execution_count": 1,
      "outputs": []
    },
    {
      "cell_type": "code",
      "metadata": {
        "id": "_sXPEIw_rlFb",
        "colab_type": "code",
        "colab": {}
      },
      "source": [
        "# Генерируем уникальный seed\n",
        "my_code = \"Пушкарёва\"\n",
        "seed_limit = 2 ** 32\n",
        "my_seed = int.from_bytes(my_code.encode(), \"little\") % seed_limit\n",
        "\n",
        "np.random.seed(my_seed)"
      ],
      "execution_count": 4,
      "outputs": []
    },
    {
      "cell_type": "code",
      "metadata": {
        "id": "Hw5C6i-6rlFj",
        "colab_type": "code",
        "colab": {
          "base_uri": "https://localhost:8080/",
          "height": 513
        },
        "outputId": "d00339fb-c908-40ee-870f-7b84049c7c9b"
      },
      "source": [
        "# Формируем случайную нормально распределенную выборку sample1 и её отсортированную версию sample2\n",
        "sample1 = np.random.normal(0, 1, 10000)\n",
        "sample2 = np.sort(sample1)\n",
        "\n",
        "plt.hist(sample1, bins=100)\n",
        "plt.show()\n",
        "plt.hist(sample2, bins=100)\n",
        "plt.show()"
      ],
      "execution_count": 14,
      "outputs": [
        {
          "output_type": "display_data",
          "data": {
            "image/png": "[encoded data removed]",
            "text/plain": [
              "<Figure size 432x288 with 1 Axes>"
            ]
          },
          "metadata": {
            "tags": [],
            "needs_background": "light"
          }
        },
        {
          "output_type": "display_data",
          "data": {
            "image/png": "[encoded data removed]",
            "text/plain": [
              "<Figure size 432x288 with 1 Axes>"
            ]
          },
          "metadata": {
            "tags": [],
            "needs_background": "light"
          }
        }
      ]
    },
    {
      "cell_type": "code",
      "metadata": {
        "id": "f2Eru2KIrlFr",
        "colab_type": "code",
        "colab": {
          "base_uri": "https://localhost:8080/",
          "height": 265
        },
        "outputId": "8327652e-2d53-4e27-c63e-90fc7eb94b4a"
      },
      "source": [
        "# Создайте подвыборку s_1, состоящую из первых 60% элементов sample1\n",
        "\n",
        "s_1 = sample1[0:6000]\n",
        "\n",
        "plt.hist(s_1, bins=100)\n",
        "plt.show()"
      ],
      "execution_count": 16,
      "outputs": [
        {
          "output_type": "display_data",
          "data": {
            "image/png": "[encoded data removed]",
            "text/plain": [
              "<Figure size 432x288 with 1 Axes>"
            ]
          },
          "metadata": {
            "tags": [],
            "needs_background": "light"
          }
        }
      ]
    },
    {
      "cell_type": "code",
      "metadata": {
        "id": "q9y0qkiurlFy",
        "colab_type": "code",
        "colab": {
          "base_uri": "https://localhost:8080/",
          "height": 265
        },
        "outputId": "11cd7e3d-64bc-4990-db9e-2b81fdcc03d6"
      },
      "source": [
        "# Создайте подвыборку s_rnd_1, выбрав в нее 60% случайных элементов из sample1\n",
        "s_rnd_1 = np.random.choice(sample1, 6000, replace=False)\n",
        "plt.hist(s_rnd_1, bins=100)\n",
        "plt.show()"
      ],
      "execution_count": 15,
      "outputs": [
        {
          "output_type": "display_data",
          "data": {
            "image/png": "[encoded data removed]",
            "text/plain": [
              "<Figure size 432x288 with 1 Axes>"
            ]
          },
          "metadata": {
            "tags": [],
            "needs_background": "light"
          }
        }
      ]
    },
    {
      "cell_type": "code",
      "metadata": {
        "id": "p92xgTynrlF3",
        "colab_type": "code",
        "colab": {
          "base_uri": "https://localhost:8080/",
          "height": 513
        },
        "outputId": "a16a45db-fd82-47b1-db37-2d1b33f5eaa5"
      },
      "source": [
        "# Выведите и сравните гистограммы для s_1 и s_rnd_1:\n",
        "# Опишите и объясните результат\n",
        "\n",
        "plt.hist(s_1, bins=100)\n",
        "plt.show()\n",
        "plt.hist(s_rnd_1, bins=100)\n",
        "plt.show()"
      ],
      "execution_count": 20,
      "outputs": [
        {
          "output_type": "display_data",
          "data": {
            "image/png": "[encoded data removed]",
            "text/plain": [
              "<Figure size 432x288 with 1 Axes>"
            ]
          },
          "metadata": {
            "tags": [],
            "needs_background": "light"
          }
        },
        {
          "output_type": "display_data",
          "data": {
            "image/png": "[encoded data removed]",
            "text/plain": [
              "<Figure size 432x288 with 1 Axes>"
            ]
          },
          "metadata": {
            "tags": [],
            "needs_background": "light"
          }
        }
      ]
    },
    {
      "cell_type": "code",
      "metadata": {
        "id": "x56kUHGRrlF-",
        "colab_type": "code",
        "colab": {
          "base_uri": "https://localhost:8080/",
          "height": 265
        },
        "outputId": "a96cacdd-77e4-40d1-c70b-2b71bcdf1490"
      },
      "source": [
        "# Создайте подвыборку s_2, состоящую из первых 60% элементов sample2\n",
        "s_2 = sample2[0:6000]\n",
        "\n",
        "plt.hist(s_2, bins=100)\n",
        "plt.show()"
      ],
      "execution_count": 19,
      "outputs": [
        {
          "output_type": "display_data",
          "data": {
            "image/png": "[encoded data removed]",
            "text/plain": [
              "<Figure size 432x288 with 1 Axes>"
            ]
          },
          "metadata": {
            "tags": [],
            "needs_background": "light"
          }
        }
      ]
    },
    {
      "cell_type": "code",
      "metadata": {
        "id": "FCQchjljrlGE",
        "colab_type": "code",
        "colab": {
          "base_uri": "https://localhost:8080/",
          "height": 265
        },
        "outputId": "efddf100-e724-428c-bc8e-a2977f4b28d2"
      },
      "source": [
        "# Создайте подвыборку s_rnd_2, выбрав в нее 60% случайных элементов из sample2\n",
        "s_rnd_2 = np.random.choice(sample1, 6000, replace=False)\n",
        "plt.hist(s_rnd_2, bins=100)\n",
        "plt.show()"
      ],
      "execution_count": 18,
      "outputs": [
        {
          "output_type": "display_data",
          "data": {
            "image/png": "[encoded data removed]",
            "text/plain": [
              "<Figure size 432x288 with 1 Axes>"
            ]
          },
          "metadata": {
            "tags": [],
            "needs_background": "light"
          }
        }
      ]
    },
    {
      "cell_type": "code",
      "metadata": {
        "id": "Qrr1qDMIrlGJ",
        "colab_type": "code",
        "colab": {
          "base_uri": "https://localhost:8080/",
          "height": 513
        },
        "outputId": "8f8e633c-23fc-470c-adfb-6d0d21cf8a5a"
      },
      "source": [
        "# Выведите и сравните гистограммы для s_2 и s_rnd_2:\n",
        "# Опишите и объясните результат\n",
        "\n",
        "plt.hist(s_2, bins=100)\n",
        "plt.show()\n",
        "plt.hist(s_rnd_2, bins=100)\n",
        "plt.show()"
      ],
      "execution_count": 21,
      "outputs": [
        {
          "output_type": "display_data",
          "data": {
            "image/png": "[encoded data removed]",
            "text/plain": [
              "<Figure size 432x288 with 1 Axes>"
            ]
          },
          "metadata": {
            "tags": [],
            "needs_background": "light"
          }
        },
        {
          "output_type": "display_data",
          "data": {
            "image/png": "[encoded data removed]",
            "text/plain": [
              "<Figure size 432x288 with 1 Axes>"
            ]
          },
          "metadata": {
            "tags": [],
            "needs_background": "light"
          }
        }
      ]
    },
    {
      "cell_type": "code",
      "metadata": {
        "id": "T4pMsy1prlGN",
        "colab_type": "code",
        "colab": {}
      },
      "source": [
        "# Почему результаты для sample1 и sample2 различаются?\n",
        "\n"
      ],
      "execution_count": null,
      "outputs": []
    }
  ]
}