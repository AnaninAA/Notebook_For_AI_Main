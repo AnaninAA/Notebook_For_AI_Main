{
  "cells":[
    {
      "cell_type":"code",
      "source":[
        "import numpy as np\n",
        "import pandas as pd\n",
        "import matplotlib.pyplot as plt\n",
        "import sklearn as sk"
      ],
      "execution_count":8,
      "outputs":[
        
      ],
      "metadata":{
        
      }
    },
    {
      "cell_type":"code",
      "source":[
        "# Генерируем уникальный seed\n",
        "my_code = \"Рахматуллаев и Тимуров\"\n",
        "seed_limit = 2 ** 32\n",
        "my_seed = int.from_bytes(my_code.encode(), \"little\") % seed_limit\n",
        "\n",
        "np.random.seed(my_seed)"
      ],
      "execution_count":9,
      "outputs":[
        
      ],
      "metadata":{
        
      }
    },
    {
      "cell_type":"code",
      "source":[
        "# Формируем случайную нормально распределенную выборку sample1 и её отсортированную версию sample2\n",
        "sample1 = np.random.normal(0, 1, 10000)\n",
        "sample2 = np.sort(sample1)\n",
        "\n",
        "plt.hist(sample1, bins=100)\n",
        "plt.show()\n",
        "plt.hist(sample2, bins=100)\n",
        "plt.show()"
      ],
      "execution_count":10,
      "outputs":[
        {
          "data":{
            "image\/png":"[encoded data removed]"
          },
          "metadata":{
            "image\/png":{
              "width":0,
              "height":0
            }
          },
          "output_type":"display_data"
        }
      ],
      "metadata":{
        
      }
    },
    {
      "cell_type":"code",
      "source":[
        "percent_60 = int(len(sample1) * 0.6)\n",
        "# Создайте подвыборку s_1, состоящую из первых 60% элементов sample1\n",
        "s_1 = sample1[0:percent_60]\n",
        "#Создайте подвыборку s_rnd_1, выбрав в нее 60% случайных элементов из sample1\n",
        "s_rnd_1 = np.random.choice(sample1, percent_60, replace=False)\n",
        "# Выведите и сравните гистограммы для s_1 и s_rnd_1:\n",
        "# Опишите и объясните результатp\n",
        "plt.hist(s_1, bins=100)\n",
        "plt.show()\n",
        "plt.hist(s_rnd_1, bins=100)\n",
        "plt.show()"
      ],
      "execution_count":11,
      "outputs":[
        {
          "data":{
            "image\/png":"[encoded data removed]"
          },
          "metadata":{
            "image\/png":{
              "width":0,
              "height":0
            }
          },
          "output_type":"display_data"
        }
      ],
      "metadata":{
        
      }
    },
    {
      "cell_type":"code",
      "source":[
        "# Создайте подвыборку s_2, состоящую из первых 60% элементов sample2\n",
        "s_2 = sample2[0:percent_60]\n",
        "# Создайте подвыборку s_rnd_2, выбрав в нее 60% случайных элементов из sample2\n",
        "s_rnd_2 = np.random.choice(sample2, percent_60, replace=False)\n",
        "# Выведите и сравните гистограммы для s_2 и s_rnd_2:\n",
        "# Опишите и объясните результат\n",
        "plt.hist(s_2, bins=100)\n",
        "plt.show()\n",
        "plt.hist(s_rnd_2, bins=100)\n",
        "plt.show()"
      ],
      "execution_count":12,
      "outputs":[
        {
          "data":{
            "image\/png":"[encoded data removed]"
          },
          "metadata":{
            "image\/png":{
              "width":0,
              "height":0
            }
          },
          "output_type":"display_data"
        }
      ],
      "metadata":{
        
      }
    },
    {
      "cell_type":"code",
      "source":[
        "# Почему результаты для sample1 и sample2 различаются?"
      ],
      "execution_count":13,
      "outputs":[
        
      ],
      "metadata":{
        
      }
    }
  ],
  "metadata":{
    
  },
  "nbformat":4,
  "nbformat_minor":0
}