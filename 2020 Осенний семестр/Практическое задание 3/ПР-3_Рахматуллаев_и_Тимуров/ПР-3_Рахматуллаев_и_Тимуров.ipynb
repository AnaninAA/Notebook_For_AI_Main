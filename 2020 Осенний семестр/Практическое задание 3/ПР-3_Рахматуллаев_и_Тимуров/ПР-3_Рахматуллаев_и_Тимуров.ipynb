{
  "cells":[
    {
      "cell_type":"code",
      "source":[
        "import numpy as np\n",
        "import pandas as pd\n",
        "import matplotlib.pyplot as plt\n",
        "import sklearn as sk\n",
        "from sklearn.metrics import accuracy_score, precision_score, recall_score, f1_score"
      ],
      "execution_count":1,
      "outputs":[
        
      ],
      "metadata":{
        
      }
    },
    {
      "cell_type":"code",
      "source":[
        "# Генерируем уникальный seed\n",
        "my_code = \"Рахматуллаев и Тимуров\"\n",
        "seed_limit = 2 ** 32\n",
        "my_seed = int.from_bytes(my_code.encode(), \"little\") % seed_limit\n",
        "\n",
        "np.random.seed(my_seed)"
      ],
      "execution_count":2,
      "outputs":[
        
      ],
      "metadata":{
        
      }
    },
    {
      "cell_type":"code",
      "source":[
        "# Формируем случайную нормально распределенную выборку sample\n",
        "N = 10000\n",
        "sample = np.random.normal(0, 1, N)\n",
        "\n",
        "plt.hist(sample, bins=100)\n",
        "plt.show()"
      ],
      "execution_count":3,
      "outputs":[
        {
          "data":{
            "image\/png":"[encoded data removed]"
          },
          "metadata":{
            "image\/png":{
              "width":0,
              "height":0
            }
          },
          "output_type":"display_data"
        }
      ],
      "metadata":{
        
      }
    },
    {
      "cell_type":"code",
      "source":[
        "# Формируем массив целевых метока классов: 0 - если значение в sample меньше t и 1 - если больше\n",
        "t = 0\n",
        "target_labels = np.array([0 if i < t else 1 for i in sample])\n",
        "plt.hist(target_labels, bins=100)\n",
        "plt.show()"
      ],
      "execution_count":4,
      "outputs":[
        {
          "data":{
            "image\/png":"[encoded data removed]"
          },
          "metadata":{
            "image\/png":{
              "width":0,
              "height":0
            }
          },
          "output_type":"display_data"
        }
      ],
      "metadata":{
        
      }
    },
    {
      "cell_type":"code",
      "source":[
        "# Используя данные заготовки (или, при желании, не используя), \n",
        "# реализуйте функции для рассчета accuracy, precision, recall и F1\n",
        "\n",
        "def confusion_matrix(target_labels, model_labels) :\n",
        "    tp = 0\n",
        "    tn = 0\n",
        "    fp = 0\n",
        "    fn = 0\n",
        "    for i in range(len(target_labels)) :\n",
        "        if target_labels[i] == 1 and model_labels[i] == 1 :\n",
        "            tp += 1\n",
        "        if target_labels[i] == 0 and model_labels[i] == 0 :\n",
        "            tn += 1\n",
        "        if target_labels[i] == 0 and model_labels[i] == 1 :\n",
        "            fp += 1\n",
        "        if target_labels[i] == 1 and model_labels[i] == 0 :\n",
        "            fn += 1\n",
        "    return tp, tn, fp, fn\n",
        "\n",
        "def metrics_list(target_labels, model_labels):\n",
        "    metrics_result = []\n",
        "    metrics_result.append(sk.metrics.accuracy_score(target_labels, model_labels))\n",
        "    metrics_result.append(sk.metrics.precision_score(target_labels, model_labels))\n",
        "    metrics_result.append(sk.metrics.recall_score(target_labels, model_labels))\n",
        "    metrics_result.append(sk.metrics.f1_score(target_labels, model_labels))\n",
        "    return metrics_result"
      ],
      "execution_count":5,
      "outputs":[
        
      ],
      "metadata":{
        
      }
    },
    {
      "cell_type":"code",
      "source":[
        "# Первый эксперимент: t = 0, модель с вероятностью 50% возвращает 0 и 1\n",
        "t = 0\n",
        "target_labels = np.array([0 if i < t else 1 for i in sample])\n",
        "\n",
        "model_labels = np.random.randint(2, size=N)\n",
        "\n",
        "# Рассчитайте и выведите значения метрик accuracy, precision, recall и F1.\n",
        "metrics_list(target_labels, model_labels)"
      ],
      "execution_count":6,
      "outputs":[
        {
          "data":{
            "text\/plain":[
              "[0.5063, 0.5076335877862596, 0.5040893676441253, 0.5058552697427685]"
            ]
          },
          "metadata":{
            
          },
          "output_type":"display_data"
        }
      ],
      "metadata":{
        
      }
    },
    {
      "cell_type":"code",
      "source":[
        "# Второй эксперимент: t = 0, модель с вероятностью 25% возвращает 0 и с 75% - 1\n",
        "t = 0\n",
        "target_labels = np.array([0 if i < t else 1 for i in sample])\n",
        "\n",
        "labels = np.random.randint(4, size=N)\n",
        "model_labels = np.array([0 if i == 0 else 1 for i in labels])\n",
        "np.random.shuffle(model_labels)\n",
        "\n",
        "# Рассчитайте и выведите значения метрик accuracy, precision, recall и F1.\n",
        "metrics_list(target_labels, model_labels)"
      ],
      "execution_count":7,
      "outputs":[
        {
          "data":{
            "text\/plain":[
              "[0.4984, 0.4997995456367767, 0.7460602433672452, 0.5985915492957746]"
            ]
          },
          "metadata":{
            
          },
          "output_type":"display_data"
        }
      ],
      "metadata":{
        
      }
    },
    {
      "cell_type":"code",
      "source":[
        "# Проанализируйте, какие из метрик применимы в первом и втором экспериментах."
      ],
      "execution_count":8,
      "outputs":[
        
      ],
      "metadata":{
        
      }
    },
    {
      "cell_type":"code",
      "source":[
        "# Третий эксперимент: t = 2, модель с вероятностью 50% возвращает 0 и 1\n",
        "t = 2\n",
        "target_labels = np.array([0 if i < t else 1 for i in sample])\n",
        "\n",
        "model_labels = np.random.randint(2, size=N)\n",
        "\n",
        "# Рассчитайте и выведите значения метрик accuracy, precision, recall и F1.\n",
        "metrics_list(target_labels, model_labels)"
      ],
      "execution_count":9,
      "outputs":[
        {
          "data":{
            "text\/plain":[
              "[0.4997, 0.02068273092369478, 0.4497816593886463, 0.03954693799193704]"
            ]
          },
          "metadata":{
            
          },
          "output_type":"display_data"
        }
      ],
      "metadata":{
        
      }
    },
    {
      "cell_type":"code",
      "source":[
        "# Четвёртый эксперимент: t = 2, модель с вероятностью 100% возвращает 0\n",
        "t = 2\n",
        "target_labels = np.array([0 if i < t else 1 for i in sample])\n",
        "\n",
        "model_labels = np.zeros(N)\n",
        "\n",
        "# Рассчитайте и выведите значения метрик accuracy, precision, recall и F1.\n",
        "metrics_list(target_labels, model_labels)"
      ],
      "execution_count":10,
      "outputs":[
        {
          "name":"stderr",
          "text":[
            "\/opt\/anaconda3\/envs\/datalore-user\/lib\/python3.7\/site-packages\/sklearn\/metrics\/_classification.py:1221: UndefinedMetricWarning: Precision is ill-defined and being set to 0.0 due to no predicted samples. Use `zero_division` parameter to control this behavior.\n",
            "  _warn_prf(average, modifier, msg_start, len(result))\n"
          ],
          "output_type":"stream"
        },
        {
          "data":{
            "text\/plain":[
              "[0.9771, 0.0, 0.0, 0.0]"
            ]
          },
          "metadata":{
            
          },
          "output_type":"display_data"
        }
      ],
      "metadata":{
        
      }
    },
    {
      "cell_type":"code",
      "source":[
        "# Проанализируйте, какие из метрик применимы в третьем и четвёртом экспериментах."
      ],
      "execution_count":11,
      "outputs":[
        
      ],
      "metadata":{
        
      }
    }
  ],
  "metadata":{
    
  },
  "nbformat":4,
  "nbformat_minor":0
}