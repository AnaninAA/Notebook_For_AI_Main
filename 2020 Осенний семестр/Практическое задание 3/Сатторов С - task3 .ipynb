{
 "cells": [
  {
   "cell_type": "code",
   "execution_count": 1,
   "metadata": {
    "colab": {},
    "colab_type": "code",
    "id": "jCIIG4eCyMrP"
   },
   "outputs": [],
   "source": [
    "import numpy as np\n",
    "import pandas as pd\n",
    "import matplotlib.pyplot as plt\n",
    "import sklearn as sk"
   ]
  },
  {
   "cell_type": "code",
   "execution_count": 2,
   "metadata": {
    "colab": {},
    "colab_type": "code",
    "id": "0NkLKSbfyMrX"
   },
   "outputs": [],
   "source": [
    "# Генерируем уникальный seed\n",
    "my_code = \"Johnson\"\n",
    "seed_limit = 2 ** 32\n",
    "my_seed = int.from_bytes(my_code.encode(), \"little\") % seed_limit\n",
    "\n",
    "np.random.seed(my_seed)"
   ]
  },
  {
   "cell_type": "code",
   "execution_count": 3,
   "metadata": {
    "colab": {
     "base_uri": "https://localhost:8080/",
     "height": 513
    },
    "colab_type": "code",
    "id": "VAABYAScyMrc",
    "outputId": "71cd5b6d-4d97-4638-91ac-ae674e6bcdef",
    "scrolled": false
   },
   "outputs": [
    {
     "data": {
      "image/png": "[encoded data removed]",
      "text/plain": [
       "<Figure size 432x288 with 1 Axes>"
      ]
     },
     "metadata": {
      "needs_background": "light"
     },
     "output_type": "display_data"
    }
   ],
   "source": [
    "# Формируем случайную нормально распределенную выборку sample\n",
    "N = 10000\n",
    "sample = np.random.normal(0, 1, N)\n",
    "\n",
    "plt.hist(sample, bins=100)\n",
    "plt.show()"
   ]
  },
  {
   "cell_type": "code",
   "execution_count": 4,
   "metadata": {
    "scrolled": true
   },
   "outputs": [
    {
     "data": {
      "image/png": "[encoded data removed]",
      "text/plain": [
       "<Figure size 432x288 with 1 Axes>"
      ]
     },
     "metadata": {
      "needs_background": "light"
     },
     "output_type": "display_data"
    }
   ],
   "source": [
    "# Формируем массив целевых метока классов: 0 - если значение в sample меньше t и 1 - если больше\n",
    "t = 0\n",
    "target_labels = np.array([0 if i < t else 1 for i in sample])\n",
    "plt.hist(target_labels, bins=100)\n",
    "plt.show()"
   ]
  },
  {
   "cell_type": "code",
   "execution_count": 13,
   "metadata": {
    "colab": {},
    "colab_type": "code",
    "id": "lpiBPPw1yMr_"
   },
   "outputs": [],
   "source": [
    "# Используя данные заготовки (или, при желании, не используя), \n",
    "# реализуйте функции для рассчета accuracy, precision, recall и F1\n",
    "\n",
    "def confusion_matrix(target_labels, model_labels) :\n",
    "    tp = 0\n",
    "    tn = 0\n",
    "    fp = 0\n",
    "    fn = 0\n",
    "    for i in range(len(target_labels)) :\n",
    "        if target_labels[i] == 1 and model_labels[i] == 1 :\n",
    "            tp += 1\n",
    "        if target_labels[i] == 0 and model_labels[i] == 0 :\n",
    "            tn += 1\n",
    "        if target_labels[i] == 0 and model_labels[i] == 1 :\n",
    "            fp += 1\n",
    "        if target_labels[i] == 1 and model_labels[i] == 0 :\n",
    "            fn += 1\n",
    "    return tp, tn, fp, fn\n",
    "\n",
    "def accuracy (target_labels, model_labels) :\n",
    "    tp, tn, fp, fn = confusion_matrix(target_labels, model_labels)\n",
    "    if (tp+fp+tn+fn)!=0:\n",
    "        acc=(tp+tn)/(tp+fp+tn+fn)\n",
    "    else: acc='_'\n",
    "    return acc\n",
    "\n",
    "def precision (target_labels, model_labels) :\n",
    "    tp, tn, fp, fn = confusion_matrix(target_labels, model_labels)\n",
    "    if (tp+fp)!=0:\n",
    "        prec=tp/(tp+fp)\n",
    "    else:\n",
    "        prec='_'\n",
    "    return prec\n",
    "\n",
    "def recall (target_labels, model_labels) :\n",
    "    tp, tn, fp, fn = confusion_matrix(target_labels, model_labels)\n",
    "    if (tp+fn)!=0:\n",
    "        rec=tp/(tp+fn)\n",
    "    else: rec='_'\n",
    "    return rec\n",
    "\n",
    "def F1 (target_labels, model_labels) :\n",
    "    tp, tn, fp, fn = confusion_matrix(target_labels, model_labels)\n",
    "    if precision(target_labels, model_labels)!='_' and recall(target_labels, model_labels)!='_':\n",
    "        fone=(precision(target_labels, model_labels)*recall(target_labels, model_labels))/(precision(target_labels, model_labels)+recall(target_labels, model_labels))\n",
    "    else: fone='_'\n",
    "    return fone"
   ]
  },
  {
   "cell_type": "code",
   "execution_count": 14,
   "metadata": {
    "scrolled": true
   },
   "outputs": [
    {
     "name": "stdout",
     "output_type": "stream",
     "text": [
      "0.5007\n",
      "0.5039556962025317\n",
      "0.5062586926286509\n",
      "0.25255228466646845\n"
     ]
    }
   ],
   "source": [
    "# Первый эксперимент: t = 0, модель с вероятностью 50% возвращает 0 и 1\n",
    "t = 0\n",
    "target_labels = np.array([0 if i < t else 1 for i in sample])\n",
    "\n",
    "model_labels = np.random.randint(2, size=N)\n",
    "print(accuracy(target_labels, model_labels))\n",
    "print(precision(target_labels, model_labels))\n",
    "print(recall(target_labels, model_labels))\n",
    "print(F1(target_labels, model_labels))\n",
    "\n",
    "# Рассчитайте и выведите значения метрик accuracy, precision, recall и F1."
   ]
  },
  {
   "cell_type": "code",
   "execution_count": 15,
   "metadata": {},
   "outputs": [
    {
     "name": "stdout",
     "output_type": "stream",
     "text": [
      "0.4996\n",
      "0.5019387618665597\n",
      "0.7458772104112855\n",
      "0.3000319693094629\n"
     ]
    }
   ],
   "source": [
    "# Второй эксперимент: t = 0, модель с вероятностью 25% возвращает 0 и с 75% - 1\n",
    "t = 0\n",
    "target_labels = np.array([0 if i < t else 1 for i in sample])\n",
    "\n",
    "labels = np.random.randint(4, size=N)\n",
    "model_labels = np.array([0 if i == 0 else 1 for i in labels])\n",
    "np.random.shuffle(model_labels)\n",
    "\n",
    "print(accuracy(target_labels, model_labels))\n",
    "print(precision(target_labels, model_labels))\n",
    "print(recall(target_labels, model_labels))\n",
    "print(F1(target_labels, model_labels))\n",
    "\n",
    "# Рассчитайте и выведите значения метрик accuracy, precision, recall и F1."
   ]
  },
  {
   "cell_type": "code",
   "execution_count": null,
   "metadata": {},
   "outputs": [],
   "source": [
    "# Проанализируйте, какие из метрик применимы в первом и втором экспериментах."
   ]
  },
  {
   "cell_type": "code",
   "execution_count": 16,
   "metadata": {},
   "outputs": [
    {
     "name": "stdout",
     "output_type": "stream",
     "text": [
      "0.4965\n",
      "0.019411646988192914\n",
      "0.019411646988192914\n",
      "0.018550392044367946\n"
     ]
    }
   ],
   "source": [
    "# Третий эксперимент: t = 2, модель с вероятностью 50% возвращает 0 и 1\n",
    "t = 2\n",
    "target_labels = np.array([0 if i < t else 1 for i in sample])\n",
    "\n",
    "model_labels = np.random.randint(2, size=N)\n",
    "print(accuracy(target_labels, model_labels))\n",
    "print(precision(target_labels, model_labels))\n",
    "print(precision(target_labels, model_labels))\n",
    "print(F1(target_labels, model_labels))\n",
    "\n",
    "# Рассчитайте и выведите значения метрик accuracy, precision, recall и F1."
   ]
  },
  {
   "cell_type": "code",
   "execution_count": 18,
   "metadata": {},
   "outputs": [
    {
     "name": "stdout",
     "output_type": "stream",
     "text": [
      "0.9768\n",
      "_\n",
      "0.0\n",
      "_\n"
     ]
    }
   ],
   "source": [
    "# Четвёртый эксперимент: t = 2, модель с вероятностью 100% возвращает 0\n",
    "t = 2\n",
    "target_labels = np.array([0 if i < t else 1 for i in sample])\n",
    "\n",
    "model_labels = np.zeros(N)\n",
    "print(accuracy(target_labels, model_labels))\n",
    "print(precision(target_labels, model_labels))\n",
    "print(recall(target_labels, model_labels))\n",
    "print(F1(target_labels, model_labels))\n",
    "\n",
    "# Рассчитайте и выведите значения метрик accuracy, precision, recall и F1."
   ]
  },
  {
   "cell_type": "code",
   "execution_count": 20,
   "metadata": {},
   "outputs": [],
   "source": [
    "# Проанализируйте, какие из метрик применимы в третьем и четвёртом экспериментах.\n",
    "#accuracy и recall"
   ]
  },
  {
   "cell_type": "code",
   "execution_count": null,
   "metadata": {},
   "outputs": [],
   "source": []
  }
 ],
 "metadata": {
  "colab": {
   "name": "task2.ipynb",
   "provenance": []
  },
  "kernelspec": {
   "display_name": "Python 3",
   "language": "python",
   "name": "python3"
  },
  "language_info": {
   "codemirror_mode": {
    "name": "ipython",
    "version": 3
   },
   "file_extension": ".py",
   "mimetype": "text/x-python",
   "name": "python",
   "nbconvert_exporter": "python",
   "pygments_lexer": "ipython3",
   "version": "3.7.8"
  }
 },
 "nbformat": 4,
 "nbformat_minor": 1
}
