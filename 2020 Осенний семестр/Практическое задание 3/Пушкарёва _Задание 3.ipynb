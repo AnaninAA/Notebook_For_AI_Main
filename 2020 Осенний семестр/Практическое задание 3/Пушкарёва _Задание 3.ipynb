{
 "cells": [
  {
   "cell_type": "code",
   "execution_count": 9,
   "metadata": {
    "colab": {},
    "colab_type": "code",
    "id": "jCIIG4eCyMrP"
   },
   "outputs": [],
   "source": [
    "import numpy as np\n",
    "import pandas as pd\n",
    "import matplotlib.pyplot as plt\n",
    "import sklearn as sk\n",
    "from sklearn.metrics import accuracy_score, precision_score, recall_score, f1_score"
   ]
  },
  {
   "cell_type": "code",
   "execution_count": 10,
   "metadata": {
    "colab": {},
    "colab_type": "code",
    "id": "0NkLKSbfyMrX"
   },
   "outputs": [],
   "source": [
    "# Генерируем уникальный seed\n",
    "my_code = \"Пушкарёва\"\n",
    "seed_limit = 2 ** 32\n",
    "my_seed = int.from_bytes(my_code.encode(), \"little\") % seed_limit\n",
    "\n",
    "np.random.seed(my_seed)"
   ]
  },
  {
   "cell_type": "code",
   "execution_count": 11,
   "metadata": {
    "colab": {
     "base_uri": "https://localhost:8080/",
     "height": 513
    },
    "colab_type": "code",
    "id": "VAABYAScyMrc",
    "outputId": "71cd5b6d-4d97-4638-91ac-ae674e6bcdef",
    "scrolled": false
   },
   "outputs": [
    {
     "data": {
      "image/png": "[encoded data removed]",
      "text/plain": [
       "<Figure size 432x288 with 1 Axes>"
      ]
     },
     "metadata": {
      "needs_background": "light"
     },
     "output_type": "display_data"
    }
   ],
   "source": [
    "# Формируем случайную нормально распределенную выборку sample\n",
    "N = 10000\n",
    "sample = np.random.normal(0, 1, N)\n",
    "\n",
    "plt.hist(sample, bins=100)\n",
    "plt.show()"
   ]
  },
  {
   "cell_type": "code",
   "execution_count": 12,
   "metadata": {
    "scrolled": true
   },
   "outputs": [
    {
     "data": {
      "image/png": "[encoded data removed]",
      "text/plain": [
       "<Figure size 432x288 with 1 Axes>"
      ]
     },
     "metadata": {
      "needs_background": "light"
     },
     "output_type": "display_data"
    }
   ],
   "source": [
    "# Формируем массив целевых метока классов: 0 - если значение в sample меньше t и 1 - если больше\n",
    "t = 0\n",
    "target_labels = np.array([0 if i < t else 1 for i in sample])\n",
    "plt.hist(target_labels, bins=100)\n",
    "plt.show()"
   ]
  },
  {
   "cell_type": "code",
   "execution_count": 13,
   "metadata": {
    "colab": {},
    "colab_type": "code",
    "id": "lpiBPPw1yMr_"
   },
   "outputs": [],
   "source": [
    "# Используя данные заготовки (или, при желании, не используя), \n",
    "# реализуйте функции для рассчета accuracy, precision, recall и F1\n",
    "\n",
    "def confusion_matrix(target_labels, model_labels) :\n",
    "    tp = 0\n",
    "    tn = 0\n",
    "    fp = 0\n",
    "    fn = 0\n",
    "    for i in range(len(target_labels)) :\n",
    "        if target_labels[i] == 1 and model_labels[i] == 1 :\n",
    "            tp += 1\n",
    "        if target_labels[i] == 0 and model_labels[i] == 0 :\n",
    "            tn += 1\n",
    "        if target_labels[i] == 0 and model_labels[i] == 1 :\n",
    "            fp += 1\n",
    "        if target_labels[i] == 1 and model_labels[i] == 0 :\n",
    "            fn += 1\n",
    "    return tp, tn, fp, fn\n",
    "\n",
    "\n",
    "\n",
    "def metrics_list(target_labels, model_labels):\n",
    "    metrics_result = []\n",
    "    metrics_result.append(sk.metrics.accuracy_score(target_labels, model_labels))\n",
    "    metrics_result.append(sk.metrics.precision_score(target_labels, model_labels))\n",
    "    metrics_result.append(sk.metrics.recall_score(target_labels, model_labels))\n",
    "    metrics_result.append(sk.metrics.f1_score(target_labels, model_labels))\n",
    "    return metrics_result"
   ]
  },
  {
   "cell_type": "code",
   "execution_count": 14,
   "metadata": {
    "scrolled": true
   },
   "outputs": [
    {
     "data": {
      "text/plain": [
       "[0.5042, 0.5027504911591356, 0.51323706377858, 0.5079396585946804]"
      ]
     },
     "execution_count": 14,
     "metadata": {},
     "output_type": "execute_result"
    }
   ],
   "source": [
    "# Первый эксперимент: t = 0, модель с вероятностью 50% возвращает 0 и 1\n",
    "t = 0\n",
    "target_labels = np.array([0 if i < t else 1 for i in sample])\n",
    "\n",
    "model_labels = np.random.randint(2, size=N)\n",
    "\n",
    "# Рассчитайте и выведите значения метрик accuracy, precision, recall и F1.\n",
    "\n",
    "metrics_list(target_labels, model_labels)"
   ]
  },
  {
   "cell_type": "code",
   "execution_count": 15,
   "metadata": {},
   "outputs": [
    {
     "data": {
      "text/plain": [
       "[0.4953, 0.4959262722051556, 0.7446851183313277, 0.5953659905395655]"
      ]
     },
     "execution_count": 15,
     "metadata": {},
     "output_type": "execute_result"
    }
   ],
   "source": [
    "# Второй эксперимент: t = 0, модель с вероятностью 25% возвращает 0 и с 75% - 1\n",
    "t = 0\n",
    "target_labels = np.array([0 if i < t else 1 for i in sample])\n",
    "\n",
    "labels = np.random.randint(4, size=N)\n",
    "model_labels = np.array([0 if i == 0 else 1 for i in labels])\n",
    "np.random.shuffle(model_labels)\n",
    "\n",
    "# Рассчитайте и выведите значения метрик accuracy, precision, recall и F1.\n",
    "\n",
    "metrics_list(target_labels, model_labels)"
   ]
  },
  {
   "cell_type": "code",
   "execution_count": null,
   "metadata": {},
   "outputs": [],
   "source": [
    "# Проанализируйте, какие из метрик применимы в первом и втором экспериментах."
   ]
  },
  {
   "cell_type": "code",
   "execution_count": 16,
   "metadata": {},
   "outputs": [
    {
     "data": {
      "text/plain": [
       "[0.5062, 0.021483583299554115, 0.49074074074074076, 0.041165048543689325]"
      ]
     },
     "execution_count": 16,
     "metadata": {},
     "output_type": "execute_result"
    }
   ],
   "source": [
    "# Третий эксперимент: t = 2, модель с вероятностью 50% возвращает 0 и 1\n",
    "t = 2\n",
    "target_labels = np.array([0 if i < t else 1 for i in sample])\n",
    "\n",
    "model_labels = np.random.randint(2, size=N)\n",
    "\n",
    "# Рассчитайте и выведите значения метрик accuracy, precision, recall и F1.\n",
    "metrics_list(target_labels, model_labels)"
   ]
  },
  {
   "cell_type": "code",
   "execution_count": 17,
   "metadata": {},
   "outputs": [
    {
     "name": "stderr",
     "output_type": "stream",
     "text": [
      "/srv/conda/envs/notebook/lib/python3.7/site-packages/sklearn/metrics/_classification.py:1221: UndefinedMetricWarning: Precision is ill-defined and being set to 0.0 due to no predicted samples. Use `zero_division` parameter to control this behavior.\n",
      "  _warn_prf(average, modifier, msg_start, len(result))\n"
     ]
    },
    {
     "data": {
      "text/plain": [
       "[0.9784, 0.0, 0.0, 0.0]"
      ]
     },
     "execution_count": 17,
     "metadata": {},
     "output_type": "execute_result"
    }
   ],
   "source": [
    "# Четвёртый эксперимент: t = 2, модель с вероятностью 100% возвращает 0\n",
    "t = 2\n",
    "target_labels = np.array([0 if i < t else 1 for i in sample])\n",
    "\n",
    "model_labels = np.zeros(N)\n",
    "\n",
    "# Рассчитайте и выведите значения метрик accuracy, precision, recall и F1.\n",
    "metrics_list(target_labels, model_labels)"
   ]
  },
  {
   "cell_type": "code",
   "execution_count": null,
   "metadata": {},
   "outputs": [],
   "source": [
    "# Проанализируйте, какие из метрик применимы в третьем и четвёртом экспериментах."
   ]
  }
 ],
 "metadata": {
  "colab": {
   "name": "task2.ipynb",
   "provenance": []
  },
  "kernelspec": {
   "display_name": "Python 3",
   "language": "python",
   "name": "python3"
  },
  "language_info": {
   "codemirror_mode": {
    "name": "ipython",
    "version": 3
   },
   "file_extension": ".py",
   "mimetype": "text/x-python",
   "name": "python",
   "nbconvert_exporter": "python",
   "pygments_lexer": "ipython3",
   "version": "3.7.8"
  }
 },
 "nbformat": 4,
 "nbformat_minor": 1
}
