{
 "cells": [
  {
   "cell_type": "code",
   "execution_count": 1,
   "metadata": {},
   "outputs": [],
   "source": [
    "# Зависимости\n",
    "import pandas as pd\n",
    "import numpy as np\n",
    "import matplotlib.pyplot as plt\n",
    "import random\n",
    "import os\n",
    "\n",
    "from sklearn.model_selection import train_test_split\n",
    "from sklearn.preprocessing import MinMaxScaler\n",
    "from sklearn.compose import ColumnTransformer, TransformedTargetRegressor \n",
    "\n",
    "from seaborn import pairplot\n",
    "\n",
    "from sklearn.linear_model import LinearRegression\n",
    "from sklearn.metrics import mean_squared_error"
   ]
  },
  {
   "cell_type": "code",
   "execution_count": 2,
   "metadata": {},
   "outputs": [],
   "source": [
    "# Инициализируем все известные генераторы случаынйх чисел / Setting all known random seeds\n",
    "my_code = \"Johnson\"\n",
    "seed_limit = 2 ** 32\n",
    "my_seed = int.from_bytes(my_code.encode(), \"little\") % seed_limit\n",
    "\n",
    "os.environ['PYTHONHASHSEED']=str(my_seed)\n",
    "\n",
    "random.seed(my_seed)\n",
    "\n",
    "np.random.seed(my_seed)"
   ]
  },
  {
   "cell_type": "code",
   "execution_count": 3,
   "metadata": {},
   "outputs": [],
   "source": [
    "# Читаем данные из файла\n",
    "train_data = pd.read_csv(\"datasets/rus_stocks_funds_train.csv\")"
   ]
  },
  {
   "cell_type": "code",
   "execution_count": 4,
   "metadata": {
    "scrolled": true
   },
   "outputs": [
    {
     "data": {
      "text/html": [
       "<div>\n",
       "<style scoped>\n",
       "    .dataframe tbody tr th:only-of-type {\n",
       "        vertical-align: middle;\n",
       "    }\n",
       "\n",
       "    .dataframe tbody tr th {\n",
       "        vertical-align: top;\n",
       "    }\n",
       "\n",
       "    .dataframe thead th {\n",
       "        text-align: right;\n",
       "    }\n",
       "</style>\n",
       "<table border=\"1\" class=\"dataframe\">\n",
       "  <thead>\n",
       "    <tr style=\"text-align: right;\">\n",
       "      <th></th>\n",
       "      <th>Total issued ordinary shares</th>\n",
       "      <th>Number of shares available for sale</th>\n",
       "      <th>Number of employees</th>\n",
       "      <th>Number of shareholders</th>\n",
       "      <th>Price/Profit</th>\n",
       "      <th>Debt/Assets</th>\n",
       "    </tr>\n",
       "  </thead>\n",
       "  <tbody>\n",
       "    <tr>\n",
       "      <th>0</th>\n",
       "      <td>7.210000e+09</td>\n",
       "      <td>2.870000e+09</td>\n",
       "      <td>110809.6875</td>\n",
       "      <td>3190.000000</td>\n",
       "      <td>9.870000</td>\n",
       "      <td>0.27</td>\n",
       "    </tr>\n",
       "    <tr>\n",
       "      <th>1</th>\n",
       "      <td>1.060000e+10</td>\n",
       "      <td>1.130000e+09</td>\n",
       "      <td>318000.0000</td>\n",
       "      <td>28230.000000</td>\n",
       "      <td>13.910000</td>\n",
       "      <td>0.30</td>\n",
       "    </tr>\n",
       "    <tr>\n",
       "      <th>2</th>\n",
       "      <td>2.249000e+10</td>\n",
       "      <td>1.027000e+10</td>\n",
       "      <td>329570.0000</td>\n",
       "      <td>61044.948718</td>\n",
       "      <td>4.080000</td>\n",
       "      <td>0.25</td>\n",
       "    </tr>\n",
       "    <tr>\n",
       "      <th>3</th>\n",
       "      <td>4.995200e+08</td>\n",
       "      <td>1.964200e+08</td>\n",
       "      <td>59380.0000</td>\n",
       "      <td>81.000000</td>\n",
       "      <td>2.910000</td>\n",
       "      <td>1.31</td>\n",
       "    </tr>\n",
       "    <tr>\n",
       "      <th>4</th>\n",
       "      <td>9.520000e+09</td>\n",
       "      <td>1.309960e+11</td>\n",
       "      <td>110809.6875</td>\n",
       "      <td>61044.948718</td>\n",
       "      <td>15.525191</td>\n",
       "      <td>0.35</td>\n",
       "    </tr>\n",
       "  </tbody>\n",
       "</table>\n",
       "</div>"
      ],
      "text/plain": [
       "   Total issued ordinary shares  Number of shares available for sale  \\\n",
       "0                  7.210000e+09                         2.870000e+09   \n",
       "1                  1.060000e+10                         1.130000e+09   \n",
       "2                  2.249000e+10                         1.027000e+10   \n",
       "3                  4.995200e+08                         1.964200e+08   \n",
       "4                  9.520000e+09                         1.309960e+11   \n",
       "\n",
       "   Number of employees  Number of shareholders  Price/Profit  Debt/Assets  \n",
       "0          110809.6875             3190.000000      9.870000         0.27  \n",
       "1          318000.0000            28230.000000     13.910000         0.30  \n",
       "2          329570.0000            61044.948718      4.080000         0.25  \n",
       "3           59380.0000               81.000000      2.910000         1.31  \n",
       "4          110809.6875            61044.948718     15.525191         0.35  "
      ]
     },
     "execution_count": 4,
     "metadata": {},
     "output_type": "execute_result"
    }
   ],
   "source": [
    "train_data.head()"
   ]
  },
  {
   "cell_type": "code",
   "execution_count": 5,
   "metadata": {},
   "outputs": [],
   "source": [
    "#pairplot(train_data)"
   ]
  },
  {
   "cell_type": "code",
   "execution_count": 6,
   "metadata": {},
   "outputs": [
    {
     "name": "stdout",
     "output_type": "stream",
     "text": [
      "66\n"
     ]
    }
   ],
   "source": [
    "# Определим размер валидационной выборки\n",
    "val_size = round(0.2*len(train_data))\n",
    "print(val_size)"
   ]
  },
  {
   "cell_type": "code",
   "execution_count": 7,
   "metadata": {},
   "outputs": [
    {
     "name": "stdout",
     "output_type": "stream",
     "text": [
      "263 66\n"
     ]
    }
   ],
   "source": [
    "# Создадим обучающую и валидационную выборки\n",
    "random_state = my_seed\n",
    "train, val = train_test_split(train_data, test_size=val_size, random_state=random_state)\n",
    "print(len(train), len(val))"
   ]
  },
  {
   "cell_type": "code",
   "execution_count": 8,
   "metadata": {},
   "outputs": [
    {
     "data": {
      "text/plain": [
       "ColumnTransformer(remainder='passthrough',\n",
       "                  transformers=[('numerical', MinMaxScaler(),\n",
       "                                 ['Total issued ordinary shares',\n",
       "                                  'Number of shares available for sale',\n",
       "                                  'Number of employees',\n",
       "                                  'Number of shareholders', 'Price/Profit'])])"
      ]
     },
     "execution_count": 8,
     "metadata": {},
     "output_type": "execute_result"
    }
   ],
   "source": [
    "# Значения в числовых столбцах преобразуем к отрезку [0,1].\n",
    "# Для настройки скалировщика используем только обучающую выборку.\n",
    "y_column = 'Debt/Assets'\n",
    "x_columns = [e for e in train_data.columns if e != y_column]\n",
    "\n",
    "ct = ColumnTransformer(transformers=[('numerical', MinMaxScaler(), x_columns)], remainder='passthrough')\n",
    "\n",
    "ct.fit(train)"
   ]
  },
  {
   "cell_type": "code",
   "execution_count": 9,
   "metadata": {},
   "outputs": [],
   "source": [
    "# Преобразуем значения, тип данных приводим к DataFrame\n",
    "sc_train = pd.DataFrame(ct.transform(train))\n",
    "sc_val = pd.DataFrame(ct.transform(val))"
   ]
  },
  {
   "cell_type": "code",
   "execution_count": 10,
   "metadata": {},
   "outputs": [],
   "source": [
    "# Устанавливаем названия столбцов\n",
    "column_names = list(x_columns) + [y_column]\n",
    "sc_train.columns = column_names\n",
    "sc_val.columns = column_names"
   ]
  },
  {
   "cell_type": "code",
   "execution_count": 11,
   "metadata": {},
   "outputs": [
    {
     "data": {
      "text/html": [
       "<div>\n",
       "<style scoped>\n",
       "    .dataframe tbody tr th:only-of-type {\n",
       "        vertical-align: middle;\n",
       "    }\n",
       "\n",
       "    .dataframe tbody tr th {\n",
       "        vertical-align: top;\n",
       "    }\n",
       "\n",
       "    .dataframe thead th {\n",
       "        text-align: right;\n",
       "    }\n",
       "</style>\n",
       "<table border=\"1\" class=\"dataframe\">\n",
       "  <thead>\n",
       "    <tr style=\"text-align: right;\">\n",
       "      <th></th>\n",
       "      <th>Total issued ordinary shares</th>\n",
       "      <th>Number of shares available for sale</th>\n",
       "      <th>Number of employees</th>\n",
       "      <th>Number of shareholders</th>\n",
       "      <th>Price/Profit</th>\n",
       "      <th>Debt/Assets</th>\n",
       "    </tr>\n",
       "  </thead>\n",
       "  <tbody>\n",
       "    <tr>\n",
       "      <th>0</th>\n",
       "      <td>0.000019</td>\n",
       "      <td>0.023842</td>\n",
       "      <td>0.231213</td>\n",
       "      <td>0.000103</td>\n",
       "      <td>0.051813</td>\n",
       "      <td>0.12</td>\n",
       "    </tr>\n",
       "    <tr>\n",
       "      <th>1</th>\n",
       "      <td>0.000691</td>\n",
       "      <td>0.049084</td>\n",
       "      <td>0.231213</td>\n",
       "      <td>0.149645</td>\n",
       "      <td>0.029332</td>\n",
       "      <td>0.21</td>\n",
       "    </tr>\n",
       "    <tr>\n",
       "      <th>2</th>\n",
       "      <td>0.000175</td>\n",
       "      <td>0.049084</td>\n",
       "      <td>0.231213</td>\n",
       "      <td>0.149645</td>\n",
       "      <td>0.069377</td>\n",
       "      <td>0.35</td>\n",
       "    </tr>\n",
       "    <tr>\n",
       "      <th>3</th>\n",
       "      <td>0.005863</td>\n",
       "      <td>0.027575</td>\n",
       "      <td>0.231213</td>\n",
       "      <td>0.692601</td>\n",
       "      <td>0.010846</td>\n",
       "      <td>0.21</td>\n",
       "    </tr>\n",
       "    <tr>\n",
       "      <th>4</th>\n",
       "      <td>0.000444</td>\n",
       "      <td>0.024265</td>\n",
       "      <td>0.118138</td>\n",
       "      <td>0.000000</td>\n",
       "      <td>0.032932</td>\n",
       "      <td>0.53</td>\n",
       "    </tr>\n",
       "    <tr>\n",
       "      <th>...</th>\n",
       "      <td>...</td>\n",
       "      <td>...</td>\n",
       "      <td>...</td>\n",
       "      <td>...</td>\n",
       "      <td>...</td>\n",
       "      <td>...</td>\n",
       "    </tr>\n",
       "    <tr>\n",
       "      <th>258</th>\n",
       "      <td>0.001269</td>\n",
       "      <td>0.030674</td>\n",
       "      <td>0.231213</td>\n",
       "      <td>0.076527</td>\n",
       "      <td>0.063121</td>\n",
       "      <td>0.00</td>\n",
       "    </tr>\n",
       "    <tr>\n",
       "      <th>259</th>\n",
       "      <td>0.000444</td>\n",
       "      <td>0.024098</td>\n",
       "      <td>0.119557</td>\n",
       "      <td>0.000000</td>\n",
       "      <td>0.009309</td>\n",
       "      <td>0.51</td>\n",
       "    </tr>\n",
       "    <tr>\n",
       "      <th>260</th>\n",
       "      <td>0.000444</td>\n",
       "      <td>0.024101</td>\n",
       "      <td>0.116422</td>\n",
       "      <td>0.000000</td>\n",
       "      <td>0.016642</td>\n",
       "      <td>0.61</td>\n",
       "    </tr>\n",
       "    <tr>\n",
       "      <th>261</th>\n",
       "      <td>0.000210</td>\n",
       "      <td>0.049084</td>\n",
       "      <td>0.231213</td>\n",
       "      <td>0.149645</td>\n",
       "      <td>0.092869</td>\n",
       "      <td>0.32</td>\n",
       "    </tr>\n",
       "    <tr>\n",
       "      <th>262</th>\n",
       "      <td>0.000274</td>\n",
       "      <td>0.024383</td>\n",
       "      <td>0.231213</td>\n",
       "      <td>0.000221</td>\n",
       "      <td>0.063121</td>\n",
       "      <td>0.62</td>\n",
       "    </tr>\n",
       "  </tbody>\n",
       "</table>\n",
       "<p>263 rows × 6 columns</p>\n",
       "</div>"
      ],
      "text/plain": [
       "     Total issued ordinary shares  Number of shares available for sale  \\\n",
       "0                        0.000019                             0.023842   \n",
       "1                        0.000691                             0.049084   \n",
       "2                        0.000175                             0.049084   \n",
       "3                        0.005863                             0.027575   \n",
       "4                        0.000444                             0.024265   \n",
       "..                            ...                                  ...   \n",
       "258                      0.001269                             0.030674   \n",
       "259                      0.000444                             0.024098   \n",
       "260                      0.000444                             0.024101   \n",
       "261                      0.000210                             0.049084   \n",
       "262                      0.000274                             0.024383   \n",
       "\n",
       "     Number of employees  Number of shareholders  Price/Profit  Debt/Assets  \n",
       "0               0.231213                0.000103      0.051813         0.12  \n",
       "1               0.231213                0.149645      0.029332         0.21  \n",
       "2               0.231213                0.149645      0.069377         0.35  \n",
       "3               0.231213                0.692601      0.010846         0.21  \n",
       "4               0.118138                0.000000      0.032932         0.53  \n",
       "..                   ...                     ...           ...          ...  \n",
       "258             0.231213                0.076527      0.063121         0.00  \n",
       "259             0.119557                0.000000      0.009309         0.51  \n",
       "260             0.116422                0.000000      0.016642         0.61  \n",
       "261             0.231213                0.149645      0.092869         0.32  \n",
       "262             0.231213                0.000221      0.063121         0.62  \n",
       "\n",
       "[263 rows x 6 columns]"
      ]
     },
     "execution_count": 11,
     "metadata": {},
     "output_type": "execute_result"
    }
   ],
   "source": [
    "sc_train"
   ]
  },
  {
   "cell_type": "code",
   "execution_count": 12,
   "metadata": {},
   "outputs": [],
   "source": [
    "# Отберем необходимые параметры\n",
    "x_train = sc_train[x_columns]\n",
    "x_val = sc_val[x_columns]\n",
    "\n",
    "y_train = (sc_train[y_column].values).flatten()\n",
    "y_val = (sc_val[y_column].values).flatten()"
   ]
  },
  {
   "cell_type": "code",
   "execution_count": 13,
   "metadata": {},
   "outputs": [],
   "source": [
    "# Создадим простую модель логистической регрессии\n",
    "model = TransformedTargetRegressor(regressor=LinearRegression(), transformer=MinMaxScaler())"
   ]
  },
  {
   "cell_type": "code",
   "execution_count": 14,
   "metadata": {
    "scrolled": true
   },
   "outputs": [
    {
     "data": {
      "text/plain": [
       "TransformedTargetRegressor(regressor=LinearRegression(),\n",
       "                           transformer=MinMaxScaler())"
      ]
     },
     "execution_count": 14,
     "metadata": {},
     "output_type": "execute_result"
    }
   ],
   "source": [
    "# Обучим модель\n",
    "model.fit(x_train, y_train)"
   ]
  },
  {
   "cell_type": "code",
   "execution_count": 15,
   "metadata": {
    "scrolled": false
   },
   "outputs": [
    {
     "name": "stdout",
     "output_type": "stream",
     "text": [
      "0.06225053605015133\n"
     ]
    }
   ],
   "source": [
    "# Проверим работу обученной модели на валидационной выборке\n",
    "pred_val = model.predict(x_val)\n",
    "mse = mean_squared_error(y_val, pred_val)\n",
    "print(mse)"
   ]
  },
  {
   "cell_type": "code",
   "execution_count": 16,
   "metadata": {},
   "outputs": [
    {
     "data": {
      "text/plain": [
       "array([0.42945689, 0.33661569, 0.33955468, 0.22537816, 0.40119091,\n",
       "       0.33981055, 0.36686139, 0.22442996, 0.33467435, 0.33963302,\n",
       "       0.37839735, 0.33820541, 0.38418762, 0.35913726, 0.33941317,\n",
       "       0.33912358, 0.34013135, 0.07428396, 0.33231989, 0.38300217,\n",
       "       0.07423179, 0.34017186, 0.42921183, 0.33819233, 0.33837921,\n",
       "       0.35391013, 0.38080223, 0.33805228, 0.38356802, 0.38442347,\n",
       "       0.41097829, 0.30138249, 0.35423524, 0.33788552, 0.40868469,\n",
       "       0.38379401, 0.2253135 , 0.33219555, 0.33936806, 0.3383364 ,\n",
       "       0.33973282, 0.33980089, 0.38319811, 0.13114521, 0.38065417,\n",
       "       0.301047  , 0.41359864, 0.383085  , 0.25502962, 0.13221364,\n",
       "       0.38905076, 0.32075881, 0.22438841, 0.45203842, 0.33970675,\n",
       "       0.25516739, 0.33897928, 0.20140158, 0.36207406, 0.37436895,\n",
       "       0.33851902, 0.33981469, 0.37853492, 0.38253872, 0.33712503,\n",
       "       0.33792977])"
      ]
     },
     "execution_count": 16,
     "metadata": {},
     "output_type": "execute_result"
    }
   ],
   "source": [
    "pred_val"
   ]
  },
  {
   "cell_type": "code",
   "execution_count": 17,
   "metadata": {},
   "outputs": [],
   "source": [
    "test = pd.read_csv(\"datasets/rus_stocks_funds_test.csv\")"
   ]
  },
  {
   "cell_type": "code",
   "execution_count": 18,
   "metadata": {},
   "outputs": [],
   "source": [
    "test[y_column] = 0.0"
   ]
  },
  {
   "cell_type": "code",
   "execution_count": 19,
   "metadata": {},
   "outputs": [
    {
     "data": {
      "text/html": [
       "<div>\n",
       "<style scoped>\n",
       "    .dataframe tbody tr th:only-of-type {\n",
       "        vertical-align: middle;\n",
       "    }\n",
       "\n",
       "    .dataframe tbody tr th {\n",
       "        vertical-align: top;\n",
       "    }\n",
       "\n",
       "    .dataframe thead th {\n",
       "        text-align: right;\n",
       "    }\n",
       "</style>\n",
       "<table border=\"1\" class=\"dataframe\">\n",
       "  <thead>\n",
       "    <tr style=\"text-align: right;\">\n",
       "      <th></th>\n",
       "      <th>Total issued ordinary shares</th>\n",
       "      <th>Number of shares available for sale</th>\n",
       "      <th>Number of employees</th>\n",
       "      <th>Number of shareholders</th>\n",
       "      <th>Price/Profit</th>\n",
       "      <th>Debt/Assets</th>\n",
       "    </tr>\n",
       "  </thead>\n",
       "  <tbody>\n",
       "    <tr>\n",
       "      <th>0</th>\n",
       "      <td>3.644700e+11</td>\n",
       "      <td>1.017600e+11</td>\n",
       "      <td>5840.0000</td>\n",
       "      <td>306350.000000</td>\n",
       "      <td>7.860000</td>\n",
       "      <td>0.0</td>\n",
       "    </tr>\n",
       "    <tr>\n",
       "      <th>1</th>\n",
       "      <td>6.968900e+08</td>\n",
       "      <td>4.339700e+08</td>\n",
       "      <td>110809.6875</td>\n",
       "      <td>39210.000000</td>\n",
       "      <td>5.670000</td>\n",
       "      <td>0.0</td>\n",
       "    </tr>\n",
       "    <tr>\n",
       "      <th>2</th>\n",
       "      <td>1.580000e+07</td>\n",
       "      <td>3.880000e+06</td>\n",
       "      <td>110809.6875</td>\n",
       "      <td>29.000000</td>\n",
       "      <td>7.060000</td>\n",
       "      <td>0.0</td>\n",
       "    </tr>\n",
       "    <tr>\n",
       "      <th>3</th>\n",
       "      <td>1.295000e+08</td>\n",
       "      <td>3.573000e+07</td>\n",
       "      <td>110809.6875</td>\n",
       "      <td>25.000000</td>\n",
       "      <td>14.940000</td>\n",
       "      <td>0.0</td>\n",
       "    </tr>\n",
       "    <tr>\n",
       "      <th>4</th>\n",
       "      <td>2.400000e+09</td>\n",
       "      <td>1.309960e+11</td>\n",
       "      <td>110809.6875</td>\n",
       "      <td>61044.948718</td>\n",
       "      <td>15.525191</td>\n",
       "      <td>0.0</td>\n",
       "    </tr>\n",
       "    <tr>\n",
       "      <th>...</th>\n",
       "      <td>...</td>\n",
       "      <td>...</td>\n",
       "      <td>...</td>\n",
       "      <td>...</td>\n",
       "      <td>...</td>\n",
       "      <td>...</td>\n",
       "    </tr>\n",
       "    <tr>\n",
       "      <th>77</th>\n",
       "      <td>1.528600e+08</td>\n",
       "      <td>1.309960e+11</td>\n",
       "      <td>110809.6875</td>\n",
       "      <td>61044.948718</td>\n",
       "      <td>6.270000</td>\n",
       "      <td>0.0</td>\n",
       "    </tr>\n",
       "    <tr>\n",
       "      <th>78</th>\n",
       "      <td>1.295000e+08</td>\n",
       "      <td>2.634000e+07</td>\n",
       "      <td>110809.6875</td>\n",
       "      <td>25.000000</td>\n",
       "      <td>15.525191</td>\n",
       "      <td>0.0</td>\n",
       "    </tr>\n",
       "    <tr>\n",
       "      <th>79</th>\n",
       "      <td>2.246000e+10</td>\n",
       "      <td>0.000000e+00</td>\n",
       "      <td>281550.0000</td>\n",
       "      <td>61044.948718</td>\n",
       "      <td>6.340000</td>\n",
       "      <td>0.0</td>\n",
       "    </tr>\n",
       "    <tr>\n",
       "      <th>80</th>\n",
       "      <td>1.295000e+08</td>\n",
       "      <td>3.371000e+07</td>\n",
       "      <td>110809.6875</td>\n",
       "      <td>25.000000</td>\n",
       "      <td>6.320000</td>\n",
       "      <td>0.0</td>\n",
       "    </tr>\n",
       "    <tr>\n",
       "      <th>81</th>\n",
       "      <td>2.250000e+09</td>\n",
       "      <td>1.309960e+11</td>\n",
       "      <td>110809.6875</td>\n",
       "      <td>61044.948718</td>\n",
       "      <td>9.530000</td>\n",
       "      <td>0.0</td>\n",
       "    </tr>\n",
       "  </tbody>\n",
       "</table>\n",
       "<p>82 rows × 6 columns</p>\n",
       "</div>"
      ],
      "text/plain": [
       "    Total issued ordinary shares  Number of shares available for sale  \\\n",
       "0                   3.644700e+11                         1.017600e+11   \n",
       "1                   6.968900e+08                         4.339700e+08   \n",
       "2                   1.580000e+07                         3.880000e+06   \n",
       "3                   1.295000e+08                         3.573000e+07   \n",
       "4                   2.400000e+09                         1.309960e+11   \n",
       "..                           ...                                  ...   \n",
       "77                  1.528600e+08                         1.309960e+11   \n",
       "78                  1.295000e+08                         2.634000e+07   \n",
       "79                  2.246000e+10                         0.000000e+00   \n",
       "80                  1.295000e+08                         3.371000e+07   \n",
       "81                  2.250000e+09                         1.309960e+11   \n",
       "\n",
       "    Number of employees  Number of shareholders  Price/Profit  Debt/Assets  \n",
       "0             5840.0000           306350.000000      7.860000          0.0  \n",
       "1           110809.6875            39210.000000      5.670000          0.0  \n",
       "2           110809.6875               29.000000      7.060000          0.0  \n",
       "3           110809.6875               25.000000     14.940000          0.0  \n",
       "4           110809.6875            61044.948718     15.525191          0.0  \n",
       "..                  ...                     ...           ...          ...  \n",
       "77          110809.6875            61044.948718      6.270000          0.0  \n",
       "78          110809.6875               25.000000     15.525191          0.0  \n",
       "79          281550.0000            61044.948718      6.340000          0.0  \n",
       "80          110809.6875               25.000000      6.320000          0.0  \n",
       "81          110809.6875            61044.948718      9.530000          0.0  \n",
       "\n",
       "[82 rows x 6 columns]"
      ]
     },
     "execution_count": 19,
     "metadata": {},
     "output_type": "execute_result"
    }
   ],
   "source": [
    "test"
   ]
  },
  {
   "cell_type": "code",
   "execution_count": 20,
   "metadata": {},
   "outputs": [],
   "source": [
    "sc_test = pd.DataFrame(ct.transform(test))\n",
    "sc_test.columns = column_names"
   ]
  },
  {
   "cell_type": "code",
   "execution_count": 21,
   "metadata": {},
   "outputs": [],
   "source": [
    "x_test = sc_test[x_columns]"
   ]
  },
  {
   "cell_type": "code",
   "execution_count": 22,
   "metadata": {},
   "outputs": [],
   "source": [
    "test[y_column] = model.predict(x_test)"
   ]
  },
  {
   "cell_type": "code",
   "execution_count": 23,
   "metadata": {},
   "outputs": [
    {
     "data": {
      "text/html": [
       "<div>\n",
       "<style scoped>\n",
       "    .dataframe tbody tr th:only-of-type {\n",
       "        vertical-align: middle;\n",
       "    }\n",
       "\n",
       "    .dataframe tbody tr th {\n",
       "        vertical-align: top;\n",
       "    }\n",
       "\n",
       "    .dataframe thead th {\n",
       "        text-align: right;\n",
       "    }\n",
       "</style>\n",
       "<table border=\"1\" class=\"dataframe\">\n",
       "  <thead>\n",
       "    <tr style=\"text-align: right;\">\n",
       "      <th></th>\n",
       "      <th>Total issued ordinary shares</th>\n",
       "      <th>Number of shares available for sale</th>\n",
       "      <th>Number of employees</th>\n",
       "      <th>Number of shareholders</th>\n",
       "      <th>Price/Profit</th>\n",
       "      <th>Debt/Assets</th>\n",
       "    </tr>\n",
       "  </thead>\n",
       "  <tbody>\n",
       "    <tr>\n",
       "      <th>0</th>\n",
       "      <td>3.644700e+11</td>\n",
       "      <td>1.017600e+11</td>\n",
       "      <td>5840.0000</td>\n",
       "      <td>306350.000000</td>\n",
       "      <td>7.860000</td>\n",
       "      <td>0.219138</td>\n",
       "    </tr>\n",
       "    <tr>\n",
       "      <th>1</th>\n",
       "      <td>6.968900e+08</td>\n",
       "      <td>4.339700e+08</td>\n",
       "      <td>110809.6875</td>\n",
       "      <td>39210.000000</td>\n",
       "      <td>5.670000</td>\n",
       "      <td>0.355237</td>\n",
       "    </tr>\n",
       "    <tr>\n",
       "      <th>2</th>\n",
       "      <td>1.580000e+07</td>\n",
       "      <td>3.880000e+06</td>\n",
       "      <td>110809.6875</td>\n",
       "      <td>29.000000</td>\n",
       "      <td>7.060000</td>\n",
       "      <td>0.384219</td>\n",
       "    </tr>\n",
       "    <tr>\n",
       "      <th>3</th>\n",
       "      <td>1.295000e+08</td>\n",
       "      <td>3.573000e+07</td>\n",
       "      <td>110809.6875</td>\n",
       "      <td>25.000000</td>\n",
       "      <td>14.940000</td>\n",
       "      <td>0.382734</td>\n",
       "    </tr>\n",
       "    <tr>\n",
       "      <th>4</th>\n",
       "      <td>2.400000e+09</td>\n",
       "      <td>1.309960e+11</td>\n",
       "      <td>110809.6875</td>\n",
       "      <td>61044.948718</td>\n",
       "      <td>15.525191</td>\n",
       "      <td>0.338192</td>\n",
       "    </tr>\n",
       "  </tbody>\n",
       "</table>\n",
       "</div>"
      ],
      "text/plain": [
       "   Total issued ordinary shares  Number of shares available for sale  \\\n",
       "0                  3.644700e+11                         1.017600e+11   \n",
       "1                  6.968900e+08                         4.339700e+08   \n",
       "2                  1.580000e+07                         3.880000e+06   \n",
       "3                  1.295000e+08                         3.573000e+07   \n",
       "4                  2.400000e+09                         1.309960e+11   \n",
       "\n",
       "   Number of employees  Number of shareholders  Price/Profit  Debt/Assets  \n",
       "0            5840.0000           306350.000000      7.860000     0.219138  \n",
       "1          110809.6875            39210.000000      5.670000     0.355237  \n",
       "2          110809.6875               29.000000      7.060000     0.384219  \n",
       "3          110809.6875               25.000000     14.940000     0.382734  \n",
       "4          110809.6875            61044.948718     15.525191     0.338192  "
      ]
     },
     "execution_count": 23,
     "metadata": {},
     "output_type": "execute_result"
    }
   ],
   "source": [
    "test.head()"
   ]
  },
  {
   "cell_type": "code",
   "execution_count": 24,
   "metadata": {},
   "outputs": [],
   "source": [
    "test.to_csv('task5_results/rus_stocks_funds_result.csv', index=False)"
   ]
  }
 ],
 "metadata": {
  "kernelspec": {
   "display_name": "Python 3",
   "language": "python",
   "name": "python3"
  },
  "language_info": {
   "codemirror_mode": {
    "name": "ipython",
    "version": 3
   },
   "file_extension": ".py",
   "mimetype": "text/x-python",
   "name": "python",
   "nbconvert_exporter": "python",
   "pygments_lexer": "ipython3",
   "version": "3.6.12"
  }
 },
 "nbformat": 4,
 "nbformat_minor": 2
}
