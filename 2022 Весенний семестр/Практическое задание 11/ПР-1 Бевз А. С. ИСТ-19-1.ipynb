{
 "cells": [
  {
   "cell_type": "code",
   "execution_count": null,
   "metadata": {},
   "outputs": [],
   "source": [
    "# Зависимости\n",
    "import pandas as pd\n",
    "import numpy as np\n",
    "import matplotlib.pyplot as plt\n",
    "import random\n",
    "\n",
    "from sklearn.model_selection import train_test_split\n",
    "from sklearn.preprocessing import MinMaxScaler\n",
    "from sklearn.compose import ColumnTransformer\n",
    "\n",
    "from sklearn.linear_model import LinearRegression, Lasso, Ridge, ElasticNet, LogisticRegression\n",
    "from sklearn.neighbors import KNeighborsRegressor, KNeighborsClassifier\n",
    "from sklearn.naive_bayes import MultinomialNB\n",
    "from sklearn.svm import SVR, SVC\n",
    "from sklearn.tree import DecisionTreeRegressor, DecisionTreeClassifier\n",
    "from sklearn.cluster import KMeans\n",
    "\n",
    "from sklearn.metrics import mean_squared_error, f1_score, silhouette_score"
   ]
  },
  {
   "cell_type": "code",
   "execution_count": 2,
   "metadata": {},
   "outputs": [],
   "source": [
    "# Генерируем уникальный seed\n",
    "my_code = \"Bevz\"\n",
    "seed_limit = 2 ** 32\n",
    "my_seed = int.from_bytes(my_code.encode(), \"little\") % seed_limit"
   ]
  },
  {
   "cell_type": "code",
   "execution_count": 3,
   "metadata": {},
   "outputs": [],
   "source": [
    "# Данные загружены отсюда: https://www.kaggle.com/dwdkills/russian-demography\n",
    "# Читаем данные из файла\n",
    "example_data = pd.read_csv(\"../datasets/russian_demography.csv\")"
   ]
  },
  {
   "cell_type": "code",
   "execution_count": 4,
   "metadata": {},
   "outputs": [
    {
     "data": {
      "text/html": [
       "<div>\n",
       "<style scoped>\n",
       "    .dataframe tbody tr th:only-of-type {\n",
       "        vertical-align: middle;\n",
       "    }\n",
       "\n",
       "    .dataframe tbody tr th {\n",
       "        vertical-align: top;\n",
       "    }\n",
       "\n",
       "    .dataframe thead th {\n",
       "        text-align: right;\n",
       "    }\n",
       "</style>\n",
       "<table border=\"1\" class=\"dataframe\">\n",
       "  <thead>\n",
       "    <tr style=\"text-align: right;\">\n",
       "      <th></th>\n",
       "      <th>year</th>\n",
       "      <th>region</th>\n",
       "      <th>npg</th>\n",
       "      <th>birth_rate</th>\n",
       "      <th>death_rate</th>\n",
       "      <th>gdw</th>\n",
       "      <th>urbanization</th>\n",
       "    </tr>\n",
       "  </thead>\n",
       "  <tbody>\n",
       "    <tr>\n",
       "      <th>0</th>\n",
       "      <td>1990</td>\n",
       "      <td>Republic of Adygea</td>\n",
       "      <td>1.9</td>\n",
       "      <td>14.2</td>\n",
       "      <td>12.3</td>\n",
       "      <td>84.66</td>\n",
       "      <td>52.42</td>\n",
       "    </tr>\n",
       "    <tr>\n",
       "      <th>1</th>\n",
       "      <td>1990</td>\n",
       "      <td>Altai Krai</td>\n",
       "      <td>1.8</td>\n",
       "      <td>12.9</td>\n",
       "      <td>11.1</td>\n",
       "      <td>80.24</td>\n",
       "      <td>58.07</td>\n",
       "    </tr>\n",
       "    <tr>\n",
       "      <th>2</th>\n",
       "      <td>1990</td>\n",
       "      <td>Amur Oblast</td>\n",
       "      <td>7.6</td>\n",
       "      <td>16.2</td>\n",
       "      <td>8.6</td>\n",
       "      <td>69.55</td>\n",
       "      <td>68.37</td>\n",
       "    </tr>\n",
       "    <tr>\n",
       "      <th>3</th>\n",
       "      <td>1990</td>\n",
       "      <td>Arkhangelsk Oblast</td>\n",
       "      <td>3.7</td>\n",
       "      <td>13.5</td>\n",
       "      <td>9.8</td>\n",
       "      <td>73.26</td>\n",
       "      <td>73.63</td>\n",
       "    </tr>\n",
       "    <tr>\n",
       "      <th>4</th>\n",
       "      <td>1990</td>\n",
       "      <td>Astrakhan Oblast</td>\n",
       "      <td>4.7</td>\n",
       "      <td>15.1</td>\n",
       "      <td>10.4</td>\n",
       "      <td>77.05</td>\n",
       "      <td>68.01</td>\n",
       "    </tr>\n",
       "  </tbody>\n",
       "</table>\n",
       "</div>"
      ],
      "text/plain": [
       "   year              region  npg  birth_rate  death_rate    gdw  urbanization\n",
       "0  1990  Republic of Adygea  1.9        14.2        12.3  84.66         52.42\n",
       "1  1990          Altai Krai  1.8        12.9        11.1  80.24         58.07\n",
       "2  1990         Amur Oblast  7.6        16.2         8.6  69.55         68.37\n",
       "3  1990  Arkhangelsk Oblast  3.7        13.5         9.8  73.26         73.63\n",
       "4  1990    Astrakhan Oblast  4.7        15.1        10.4  77.05         68.01"
      ]
     },
     "execution_count": 4,
     "metadata": {},
     "output_type": "execute_result"
    }
   ],
   "source": [
    "# \"year\" - год (1990-2017)\n",
    "# \"region\" - название региона\n",
    "# \"npg\" - естественный прирост населения на 1000 человек\n",
    "# \"birth_rate\" - количество рождений на 1000 человек\n",
    "# \"death_rate\" - количество смертей на 1000 человек\n",
    "# \"gdw\" - коэффициент демографической нагрузки на 100 человек (Отношение числа нетрудоспособных к числу трудоспособных).\n",
    "# \"urbanization\" - процент городского населения\n",
    "\n",
    "example_data.head()"
   ]
  },
  {
   "cell_type": "code",
   "execution_count": 5,
   "metadata": {},
   "outputs": [],
   "source": [
    "# Так как список регионов меняется от года к году, в данных есть строки без значений. Удалим их\n",
    "example_data.dropna(inplace=True)"
   ]
  },
  {
   "cell_type": "code",
   "execution_count": 6,
   "metadata": {},
   "outputs": [
    {
     "data": {
      "text/plain": [
       "(2315, 7)"
      ]
     },
     "execution_count": 6,
     "metadata": {},
     "output_type": "execute_result"
    }
   ],
   "source": [
    "example_data.shape"
   ]
  },
  {
   "cell_type": "code",
   "execution_count": 7,
   "metadata": {},
   "outputs": [
    {
     "name": "stdout",
     "output_type": "stream",
     "text": [
      "463\n"
     ]
    }
   ],
   "source": [
    "# Определим размер валидационной и тестовой выборок\n",
    "val_test_size = round(0.2*len(example_data))\n",
    "print(val_test_size)"
   ]
  },
  {
   "cell_type": "code",
   "execution_count": 8,
   "metadata": {},
   "outputs": [
    {
     "name": "stdout",
     "output_type": "stream",
     "text": [
      "1389 463 463\n"
     ]
    }
   ],
   "source": [
    "# Создадим обучающую, валидационную и тестовую выборки\n",
    "random_state = my_seed\n",
    "train_val, test = train_test_split(example_data, test_size=val_test_size, random_state=random_state)\n",
    "train, val = train_test_split(train_val, test_size=val_test_size, random_state=random_state)\n",
    "print(len(train), len(val), len(test))"
   ]
  },
  {
   "cell_type": "code",
   "execution_count": 9,
   "metadata": {},
   "outputs": [
    {
     "data": {
      "text/html": [
       "<div>\n",
       "<style scoped>\n",
       "    .dataframe tbody tr th:only-of-type {\n",
       "        vertical-align: middle;\n",
       "    }\n",
       "\n",
       "    .dataframe tbody tr th {\n",
       "        vertical-align: top;\n",
       "    }\n",
       "\n",
       "    .dataframe thead th {\n",
       "        text-align: right;\n",
       "    }\n",
       "</style>\n",
       "<table border=\"1\" class=\"dataframe\">\n",
       "  <thead>\n",
       "    <tr style=\"text-align: right;\">\n",
       "      <th></th>\n",
       "      <th>year</th>\n",
       "      <th>region</th>\n",
       "      <th>npg</th>\n",
       "      <th>birth_rate</th>\n",
       "      <th>death_rate</th>\n",
       "      <th>gdw</th>\n",
       "      <th>urbanization</th>\n",
       "    </tr>\n",
       "  </thead>\n",
       "  <tbody>\n",
       "    <tr>\n",
       "      <th>970</th>\n",
       "      <td>2001</td>\n",
       "      <td>Lipetsk Oblast</td>\n",
       "      <td>-9.1</td>\n",
       "      <td>8.0</td>\n",
       "      <td>17.1</td>\n",
       "      <td>72.08</td>\n",
       "      <td>64.09</td>\n",
       "    </tr>\n",
       "    <tr>\n",
       "      <th>2002</th>\n",
       "      <td>2013</td>\n",
       "      <td>Orenburg Oblast</td>\n",
       "      <td>0.9</td>\n",
       "      <td>14.8</td>\n",
       "      <td>13.9</td>\n",
       "      <td>68.23</td>\n",
       "      <td>59.70</td>\n",
       "    </tr>\n",
       "    <tr>\n",
       "      <th>77</th>\n",
       "      <td>1990</td>\n",
       "      <td>Khanty–Mansi Autonomous Okrug – Yugra</td>\n",
       "      <td>12.9</td>\n",
       "      <td>17.1</td>\n",
       "      <td>4.2</td>\n",
       "      <td>58.98</td>\n",
       "      <td>91.66</td>\n",
       "    </tr>\n",
       "    <tr>\n",
       "      <th>509</th>\n",
       "      <td>1995</td>\n",
       "      <td>Yaroslavl Oblast</td>\n",
       "      <td>-9.8</td>\n",
       "      <td>7.6</td>\n",
       "      <td>17.4</td>\n",
       "      <td>78.06</td>\n",
       "      <td>80.62</td>\n",
       "    </tr>\n",
       "    <tr>\n",
       "      <th>270</th>\n",
       "      <td>1993</td>\n",
       "      <td>Zabaykalsky Krai</td>\n",
       "      <td>-0.3</td>\n",
       "      <td>12.6</td>\n",
       "      <td>12.9</td>\n",
       "      <td>78.17</td>\n",
       "      <td>63.64</td>\n",
       "    </tr>\n",
       "  </tbody>\n",
       "</table>\n",
       "</div>"
      ],
      "text/plain": [
       "      year                                 region   npg  birth_rate  \\\n",
       "970   2001                         Lipetsk Oblast  -9.1         8.0   \n",
       "2002  2013                        Orenburg Oblast   0.9        14.8   \n",
       "77    1990  Khanty–Mansi Autonomous Okrug – Yugra  12.9        17.1   \n",
       "509   1995                       Yaroslavl Oblast  -9.8         7.6   \n",
       "270   1993                       Zabaykalsky Krai  -0.3        12.6   \n",
       "\n",
       "      death_rate    gdw  urbanization  \n",
       "970         17.1  72.08         64.09  \n",
       "2002        13.9  68.23         59.70  \n",
       "77           4.2  58.98         91.66  \n",
       "509         17.4  78.06         80.62  \n",
       "270         12.9  78.17         63.64  "
      ]
     },
     "execution_count": 9,
     "metadata": {},
     "output_type": "execute_result"
    }
   ],
   "source": [
    "train.head()"
   ]
  },
  {
   "cell_type": "code",
   "execution_count": 10,
   "metadata": {
    "scrolled": true
   },
   "outputs": [
    {
     "data": {
      "text/plain": [
       "ColumnTransformer(remainder='passthrough',\n",
       "                  transformers=[('numerical', MinMaxScaler(),\n",
       "                                 ['year', 'npg', 'birth_rate', 'death_rate',\n",
       "                                  'gdw', 'urbanization'])])"
      ]
     },
     "execution_count": 10,
     "metadata": {},
     "output_type": "execute_result"
    }
   ],
   "source": [
    "# Значения в числовых столбцах преобразуем к отрезку [0,1].\n",
    "# Для настройки скалировщика используем только обучающую выборку.\n",
    "columns_to_scale = ['year', 'npg', 'birth_rate', 'death_rate', 'gdw', 'urbanization']\n",
    "\n",
    "ct = ColumnTransformer(transformers=[('numerical', MinMaxScaler(), columns_to_scale)], remainder='passthrough')\n",
    "ct.fit(train)"
   ]
  },
  {
   "cell_type": "code",
   "execution_count": 11,
   "metadata": {},
   "outputs": [],
   "source": [
    "# Преобразуем значения, тип данных приводим к DataFrame\n",
    "sc_train = pd.DataFrame(ct.transform(train))\n",
    "sc_test = pd.DataFrame(ct.transform(test))\n",
    "sc_val = pd.DataFrame(ct.transform(val))"
   ]
  },
  {
   "cell_type": "code",
   "execution_count": 12,
   "metadata": {},
   "outputs": [],
   "source": [
    "# Устанавливаем названия столбцов\n",
    "column_names = columns_to_scale + ['region']\n",
    "sc_train.columns = column_names\n",
    "sc_test.columns = column_names\n",
    "sc_val.columns = column_names"
   ]
  },
  {
   "cell_type": "code",
   "execution_count": 13,
   "metadata": {},
   "outputs": [
    {
     "data": {
      "text/html": [
       "<div>\n",
       "<style scoped>\n",
       "    .dataframe tbody tr th:only-of-type {\n",
       "        vertical-align: middle;\n",
       "    }\n",
       "\n",
       "    .dataframe tbody tr th {\n",
       "        vertical-align: top;\n",
       "    }\n",
       "\n",
       "    .dataframe thead th {\n",
       "        text-align: right;\n",
       "    }\n",
       "</style>\n",
       "<table border=\"1\" class=\"dataframe\">\n",
       "  <thead>\n",
       "    <tr style=\"text-align: right;\">\n",
       "      <th></th>\n",
       "      <th>year</th>\n",
       "      <th>npg</th>\n",
       "      <th>birth_rate</th>\n",
       "      <th>death_rate</th>\n",
       "      <th>gdw</th>\n",
       "      <th>urbanization</th>\n",
       "      <th>region</th>\n",
       "    </tr>\n",
       "  </thead>\n",
       "  <tbody>\n",
       "    <tr>\n",
       "      <th>0</th>\n",
       "      <td>0.592593</td>\n",
       "      <td>0.355721</td>\n",
       "      <td>0.324895</td>\n",
       "      <td>0.571429</td>\n",
       "      <td>0.317017</td>\n",
       "      <td>0.528016</td>\n",
       "      <td>Zabaykalsky Krai</td>\n",
       "    </tr>\n",
       "    <tr>\n",
       "      <th>1</th>\n",
       "      <td>1.0</td>\n",
       "      <td>0.308458</td>\n",
       "      <td>0.198312</td>\n",
       "      <td>0.516129</td>\n",
       "      <td>0.789892</td>\n",
       "      <td>0.35267</td>\n",
       "      <td>Republic of Crimea</td>\n",
       "    </tr>\n",
       "    <tr>\n",
       "      <th>2</th>\n",
       "      <td>0.925926</td>\n",
       "      <td>0.437811</td>\n",
       "      <td>0.383966</td>\n",
       "      <td>0.479263</td>\n",
       "      <td>0.608942</td>\n",
       "      <td>0.721819</td>\n",
       "      <td>Irkutsk Oblast</td>\n",
       "    </tr>\n",
       "    <tr>\n",
       "      <th>3</th>\n",
       "      <td>0.518519</td>\n",
       "      <td>0.368159</td>\n",
       "      <td>0.206751</td>\n",
       "      <td>0.423963</td>\n",
       "      <td>0.10903</td>\n",
       "      <td>0.750824</td>\n",
       "      <td>Kamchatka Krai</td>\n",
       "    </tr>\n",
       "    <tr>\n",
       "      <th>4</th>\n",
       "      <td>0.444444</td>\n",
       "      <td>0.701493</td>\n",
       "      <td>0.43038</td>\n",
       "      <td>0.041475</td>\n",
       "      <td>0.664605</td>\n",
       "      <td>0.242848</td>\n",
       "      <td>Republic of Ingushetia</td>\n",
       "    </tr>\n",
       "    <tr>\n",
       "      <th>...</th>\n",
       "      <td>...</td>\n",
       "      <td>...</td>\n",
       "      <td>...</td>\n",
       "      <td>...</td>\n",
       "      <td>...</td>\n",
       "      <td>...</td>\n",
       "      <td>...</td>\n",
       "    </tr>\n",
       "    <tr>\n",
       "      <th>458</th>\n",
       "      <td>0.148148</td>\n",
       "      <td>0.233831</td>\n",
       "      <td>0.135021</td>\n",
       "      <td>0.585253</td>\n",
       "      <td>0.603994</td>\n",
       "      <td>0.64878</td>\n",
       "      <td>Arkhangelsk Oblast</td>\n",
       "    </tr>\n",
       "    <tr>\n",
       "      <th>459</th>\n",
       "      <td>0.185185</td>\n",
       "      <td>0.248756</td>\n",
       "      <td>0.118143</td>\n",
       "      <td>0.539171</td>\n",
       "      <td>0.666195</td>\n",
       "      <td>0.753856</td>\n",
       "      <td>Chelyabinsk Oblast</td>\n",
       "    </tr>\n",
       "    <tr>\n",
       "      <th>460</th>\n",
       "      <td>0.296296</td>\n",
       "      <td>0.380597</td>\n",
       "      <td>0.092827</td>\n",
       "      <td>0.267281</td>\n",
       "      <td>0.23096</td>\n",
       "      <td>0.894792</td>\n",
       "      <td>Murmansk Oblast</td>\n",
       "    </tr>\n",
       "    <tr>\n",
       "      <th>461</th>\n",
       "      <td>1.0</td>\n",
       "      <td>0.390547</td>\n",
       "      <td>0.261603</td>\n",
       "      <td>0.43318</td>\n",
       "      <td>0.744301</td>\n",
       "      <td>0.592617</td>\n",
       "      <td>Republic of Khakassia</td>\n",
       "    </tr>\n",
       "    <tr>\n",
       "      <th>462</th>\n",
       "      <td>0.62963</td>\n",
       "      <td>0.281095</td>\n",
       "      <td>0.189873</td>\n",
       "      <td>0.548387</td>\n",
       "      <td>0.354833</td>\n",
       "      <td>0.73764</td>\n",
       "      <td>Samara Oblast</td>\n",
       "    </tr>\n",
       "  </tbody>\n",
       "</table>\n",
       "<p>463 rows × 7 columns</p>\n",
       "</div>"
      ],
      "text/plain": [
       "         year       npg birth_rate death_rate       gdw urbanization  \\\n",
       "0    0.592593  0.355721   0.324895   0.571429  0.317017     0.528016   \n",
       "1         1.0  0.308458   0.198312   0.516129  0.789892      0.35267   \n",
       "2    0.925926  0.437811   0.383966   0.479263  0.608942     0.721819   \n",
       "3    0.518519  0.368159   0.206751   0.423963   0.10903     0.750824   \n",
       "4    0.444444  0.701493    0.43038   0.041475  0.664605     0.242848   \n",
       "..        ...       ...        ...        ...       ...          ...   \n",
       "458  0.148148  0.233831   0.135021   0.585253  0.603994      0.64878   \n",
       "459  0.185185  0.248756   0.118143   0.539171  0.666195     0.753856   \n",
       "460  0.296296  0.380597   0.092827   0.267281   0.23096     0.894792   \n",
       "461       1.0  0.390547   0.261603    0.43318  0.744301     0.592617   \n",
       "462   0.62963  0.281095   0.189873   0.548387  0.354833      0.73764   \n",
       "\n",
       "                     region  \n",
       "0          Zabaykalsky Krai  \n",
       "1        Republic of Crimea  \n",
       "2            Irkutsk Oblast  \n",
       "3            Kamchatka Krai  \n",
       "4    Republic of Ingushetia  \n",
       "..                      ...  \n",
       "458      Arkhangelsk Oblast  \n",
       "459      Chelyabinsk Oblast  \n",
       "460         Murmansk Oblast  \n",
       "461   Republic of Khakassia  \n",
       "462           Samara Oblast  \n",
       "\n",
       "[463 rows x 7 columns]"
      ]
     },
     "execution_count": 13,
     "metadata": {},
     "output_type": "execute_result"
    }
   ],
   "source": [
    "sc_val"
   ]
  },
  {
   "cell_type": "code",
   "execution_count": 14,
   "metadata": {},
   "outputs": [],
   "source": [
    "# Вспоминаем алгоритмы решения задачи регрессии\n",
    "r_models = []\n",
    "\n",
    "# Линейная регрессия\n",
    "# Для использования регуляризации, вместо LinearRegression используем Lasso, Ridge или ElasticNet\n",
    "# Параметр alpha - коэффициент регуляризации для Lasso и Ridge, по умолчанию равен 1\n",
    "# Для ElasticNet, если регуляризация иммет вид a*L1+b*L2, то\n",
    "# параметр alpha = a + b, по умолчанию равен 1\n",
    "# параметр l1_ratio = a / (a + b), по умолчанию равен 0.5\n",
    "r_models.append(LinearRegression())\n",
    "r_models.append(Lasso(alpha=1.0))\n",
    "r_models.append(Ridge(alpha=1.0))\n",
    "r_models.append(ElasticNet(alpha=1.0, l1_ratio=0.5))\n",
    "\n",
    "# K ближайших соседей\n",
    "# Параметр n_neighbors - количество соседей, по умолчания равен 5\n",
    "r_models.append(KNeighborsRegressor(n_neighbors=5))\n",
    "r_models.append(KNeighborsRegressor(n_neighbors=10))\n",
    "r_models.append(KNeighborsRegressor(n_neighbors=15))\n",
    "\n",
    "# Метод опорных векторов\n",
    "# Параметр kernel опредеяет вид ядра преобразования\n",
    "r_models.append(SVR(kernel='linear'))\n",
    "r_models.append(SVR(kernel='poly'))\n",
    "r_models.append(SVR(kernel='rbf'))\n",
    "r_models.append(SVR(kernel='sigmoid'))\n",
    "\n",
    "# Деревья решений\n",
    "# Параметр criterion - критерий качества ветвления: 'mse', 'friedman_mse', 'mae', 'poisson'\n",
    "r_models.append(DecisionTreeRegressor(criterion='squared_error'))\n",
    "r_models.append(DecisionTreeRegressor(criterion='friedman_mse'))\n",
    "r_models.append(DecisionTreeRegressor(criterion='absolute_error'))"
   ]
  },
  {
   "cell_type": "code",
   "execution_count": 15,
   "metadata": {},
   "outputs": [
    {
     "data": {
      "text/plain": [
       "[LinearRegression(),\n",
       " Lasso(),\n",
       " Ridge(),\n",
       " ElasticNet(),\n",
       " KNeighborsRegressor(),\n",
       " KNeighborsRegressor(n_neighbors=10),\n",
       " KNeighborsRegressor(n_neighbors=15),\n",
       " SVR(kernel='linear'),\n",
       " SVR(kernel='poly'),\n",
       " SVR(),\n",
       " SVR(kernel='sigmoid'),\n",
       " DecisionTreeRegressor(),\n",
       " DecisionTreeRegressor(criterion='friedman_mse'),\n",
       " DecisionTreeRegressor(criterion='absolute_error')]"
      ]
     },
     "execution_count": 15,
     "metadata": {},
     "output_type": "execute_result"
    }
   ],
   "source": [
    "r_models"
   ]
  },
  {
   "cell_type": "code",
   "execution_count": 16,
   "metadata": {},
   "outputs": [],
   "source": [
    "# Выделим предикторы и зависимую переменную\n",
    "x_labels = column_names[0:-2]\n",
    "y_labels = ['urbanization']\n",
    "\n",
    "x_train = sc_train[x_labels]\n",
    "x_test = sc_test[x_labels]\n",
    "x_val = sc_val[x_labels]\n",
    "\n",
    "y_train = np.ravel(sc_train[y_labels])\n",
    "y_test = np.ravel(sc_test[y_labels])\n",
    "y_val = np.ravel(sc_val[y_labels])"
   ]
  },
  {
   "cell_type": "code",
   "execution_count": 17,
   "metadata": {},
   "outputs": [
    {
     "data": {
      "text/plain": [
       "['year', 'npg', 'birth_rate', 'death_rate', 'gdw']"
      ]
     },
     "execution_count": 17,
     "metadata": {},
     "output_type": "execute_result"
    }
   ],
   "source": [
    "x_labels"
   ]
  },
  {
   "cell_type": "code",
   "execution_count": 18,
   "metadata": {},
   "outputs": [
    {
     "data": {
      "text/plain": [
       "['urbanization']"
      ]
     },
     "execution_count": 18,
     "metadata": {},
     "output_type": "execute_result"
    }
   ],
   "source": [
    "y_labels"
   ]
  },
  {
   "cell_type": "code",
   "execution_count": 19,
   "metadata": {},
   "outputs": [
    {
     "name": "stdout",
     "output_type": "stream",
     "text": [
      "LinearRegression()\n",
      "Lasso()\n",
      "Ridge()\n",
      "ElasticNet()\n",
      "KNeighborsRegressor()\n",
      "KNeighborsRegressor(n_neighbors=10)\n",
      "KNeighborsRegressor(n_neighbors=15)\n",
      "SVR(kernel='linear')\n",
      "SVR(kernel='poly')\n",
      "SVR()\n",
      "SVR(kernel='sigmoid')\n",
      "DecisionTreeRegressor()\n",
      "DecisionTreeRegressor(criterion='friedman_mse')\n",
      "DecisionTreeRegressor(criterion='absolute_error')\n"
     ]
    }
   ],
   "source": [
    "# Обучаем модели\n",
    "for model in r_models:\n",
    "    print(model)\n",
    "    model.fit(x_train, y_train)"
   ]
  },
  {
   "cell_type": "code",
   "execution_count": 20,
   "metadata": {
    "scrolled": true
   },
   "outputs": [
    {
     "name": "stdout",
     "output_type": "stream",
     "text": [
      "LinearRegression() \t 0.02070899447283525\n",
      "Lasso() \t 0.029875590195645473\n",
      "Ridge() \t 0.02077849722675898\n",
      "ElasticNet() \t 0.029875590195645473\n",
      "KNeighborsRegressor() \t 0.010643372888868732\n",
      "KNeighborsRegressor(n_neighbors=10) \t 0.010794644343593982\n",
      "KNeighborsRegressor(n_neighbors=15) \t 0.012364135940286201\n",
      "SVR(kernel='linear') \t 0.02090201311708424\n",
      "SVR(kernel='poly') \t 0.013593928578079657\n",
      "SVR() \t 0.01197804508027608\n",
      "SVR(kernel='sigmoid') \t 31.43500093605669\n",
      "DecisionTreeRegressor() \t 0.019456519647740252\n",
      "DecisionTreeRegressor(criterion='friedman_mse') \t 0.019297241798304145\n",
      "DecisionTreeRegressor(criterion='absolute_error') \t 0.021094256775187132\n"
     ]
    }
   ],
   "source": [
    "# Оценииваем качество работы моделей на валидационной выборке.\n",
    "mses = []\n",
    "for model in r_models:\n",
    "    val_pred = model.predict(x_val)\n",
    "    mse = mean_squared_error(y_val, val_pred)\n",
    "    mses.append(mse)\n",
    "    print(model, '\\t', mse)"
   ]
  },
  {
   "cell_type": "code",
   "execution_count": 21,
   "metadata": {},
   "outputs": [
    {
     "data": {
      "text/plain": [
       "KNeighborsRegressor()"
      ]
     },
     "execution_count": 21,
     "metadata": {},
     "output_type": "execute_result"
    }
   ],
   "source": [
    "# Выбираем лучшую модель\n",
    "i_min = mses.index(min(mses))\n",
    "best_r_model = r_models[i_min]\n",
    "best_r_model"
   ]
  },
  {
   "cell_type": "code",
   "execution_count": 22,
   "metadata": {},
   "outputs": [
    {
     "name": "stdout",
     "output_type": "stream",
     "text": [
      "0.011226003386042998\n"
     ]
    }
   ],
   "source": [
    "# Вычислим ошибку лучшей модели на тестовой выборке.\n",
    "test_pred = best_r_model.predict(x_test)\n",
    "mse = mean_squared_error(y_test, test_pred)\n",
    "print(mse)"
   ]
  },
  {
   "cell_type": "code",
   "execution_count": 23,
   "metadata": {},
   "outputs": [],
   "source": [
    "# Вспоминаем алгоритмы решения задачи классификации\n",
    "c_models = []\n",
    "\n",
    "# Логистическая регрессия\n",
    "# Параметр penalty - тип регуляризации: 'l1', 'l2', 'elasticnet', 'none'}, по умолчанию 'l2'\n",
    "# Для некоторых типов регуляризации доступны не все алгоритмы (параметр solver)\n",
    "# Для elasticnet регуляризации необходимо уазывать параметр l1_ratio (0 - l2, 1 - l1)\n",
    "c_models.append(LogisticRegression(penalty='none', solver='saga', max_iter=500))\n",
    "c_models.append(LogisticRegression(penalty='l1', solver='saga', max_iter=500))\n",
    "c_models.append(LogisticRegression(penalty='l2', solver='saga'))\n",
    "c_models.append(LogisticRegression(penalty='elasticnet', l1_ratio=0.5, solver='saga'))\n",
    "c_models.append(LogisticRegression())\n",
    "\n",
    "# Наивный байесовский классификатор\n",
    "# Параметр alpha - параметр сглаживания, по умолчанию равен 1 (сглаживание Лапласа)\n",
    "c_models.append(MultinomialNB(alpha=0.0))\n",
    "c_models.append(MultinomialNB(alpha=0.5))\n",
    "c_models.append(MultinomialNB(alpha=1.0))\n",
    "\n",
    "# K ближайших соседей\n",
    "# Параметр n_neighbors - количество соседей, по умолчания равен 5\n",
    "c_models.append(KNeighborsClassifier(n_neighbors=5))\n",
    "c_models.append(KNeighborsClassifier(n_neighbors=10))\n",
    "c_models.append(KNeighborsClassifier(n_neighbors=15))\n",
    "\n",
    "# Метод опорных векторов\n",
    "# Параметр kernel опредеяет вид ядра преобразования\n",
    "c_models.append(SVC(kernel='linear'))\n",
    "c_models.append(SVC(kernel='poly'))\n",
    "c_models.append(SVC(kernel='rbf'))\n",
    "c_models.append(SVC(kernel='sigmoid'))\n",
    "\n",
    "# Деревья решений\n",
    "# Параметр criterion - критерий качества ветвления: 'gini', 'entropy'\n",
    "# Параметр splitter - стартегия ветвления: 'best', 'random'\n",
    "c_models.append(DecisionTreeClassifier(criterion='gini', splitter='best'))\n",
    "c_models.append(DecisionTreeClassifier(criterion='gini', splitter='random'))\n",
    "c_models.append(DecisionTreeClassifier(criterion='entropy', splitter='best'))\n",
    "c_models.append(DecisionTreeClassifier(criterion='entropy', splitter='random'))"
   ]
  },
  {
   "cell_type": "code",
   "execution_count": 24,
   "metadata": {},
   "outputs": [
    {
     "data": {
      "text/plain": [
       "[LogisticRegression(max_iter=500, penalty='none', solver='saga'),\n",
       " LogisticRegression(max_iter=500, penalty='l1', solver='saga'),\n",
       " LogisticRegression(solver='saga'),\n",
       " LogisticRegression(l1_ratio=0.5, penalty='elasticnet', solver='saga'),\n",
       " LogisticRegression(),\n",
       " MultinomialNB(alpha=0.0),\n",
       " MultinomialNB(alpha=0.5),\n",
       " MultinomialNB(),\n",
       " KNeighborsClassifier(),\n",
       " KNeighborsClassifier(n_neighbors=10),\n",
       " KNeighborsClassifier(n_neighbors=15),\n",
       " SVC(kernel='linear'),\n",
       " SVC(kernel='poly'),\n",
       " SVC(),\n",
       " SVC(kernel='sigmoid'),\n",
       " DecisionTreeClassifier(),\n",
       " DecisionTreeClassifier(splitter='random'),\n",
       " DecisionTreeClassifier(criterion='entropy'),\n",
       " DecisionTreeClassifier(criterion='entropy', splitter='random')]"
      ]
     },
     "execution_count": 24,
     "metadata": {},
     "output_type": "execute_result"
    }
   ],
   "source": [
    "c_models"
   ]
  },
  {
   "cell_type": "code",
   "execution_count": 25,
   "metadata": {},
   "outputs": [],
   "source": [
    "# Выделим предикторы и метки классов\n",
    "x_labels = column_names[0:-1]\n",
    "y_labels = ['region']\n",
    "\n",
    "x_train = sc_train[x_labels]\n",
    "x_test = sc_test[x_labels]\n",
    "x_val = sc_val[x_labels]\n",
    "\n",
    "y_train = np.ravel(sc_train[y_labels])\n",
    "y_test = np.ravel(sc_test[y_labels])\n",
    "y_val = np.ravel(sc_val[y_labels])"
   ]
  },
  {
   "cell_type": "code",
   "execution_count": 26,
   "metadata": {},
   "outputs": [
    {
     "data": {
      "text/html": [
       "<div>\n",
       "<style scoped>\n",
       "    .dataframe tbody tr th:only-of-type {\n",
       "        vertical-align: middle;\n",
       "    }\n",
       "\n",
       "    .dataframe tbody tr th {\n",
       "        vertical-align: top;\n",
       "    }\n",
       "\n",
       "    .dataframe thead th {\n",
       "        text-align: right;\n",
       "    }\n",
       "</style>\n",
       "<table border=\"1\" class=\"dataframe\">\n",
       "  <thead>\n",
       "    <tr style=\"text-align: right;\">\n",
       "      <th></th>\n",
       "      <th>year</th>\n",
       "      <th>npg</th>\n",
       "      <th>birth_rate</th>\n",
       "      <th>death_rate</th>\n",
       "      <th>gdw</th>\n",
       "      <th>urbanization</th>\n",
       "    </tr>\n",
       "  </thead>\n",
       "  <tbody>\n",
       "    <tr>\n",
       "      <th>0</th>\n",
       "      <td>0.407407</td>\n",
       "      <td>0.169154</td>\n",
       "      <td>0.075949</td>\n",
       "      <td>0.640553</td>\n",
       "      <td>0.594098</td>\n",
       "      <td>0.526566</td>\n",
       "    </tr>\n",
       "    <tr>\n",
       "      <th>1</th>\n",
       "      <td>0.851852</td>\n",
       "      <td>0.41791</td>\n",
       "      <td>0.362869</td>\n",
       "      <td>0.493088</td>\n",
       "      <td>0.526065</td>\n",
       "      <td>0.468688</td>\n",
       "    </tr>\n",
       "    <tr>\n",
       "      <th>2</th>\n",
       "      <td>0.0</td>\n",
       "      <td>0.716418</td>\n",
       "      <td>0.459916</td>\n",
       "      <td>0.046083</td>\n",
       "      <td>0.362608</td>\n",
       "      <td>0.890046</td>\n",
       "    </tr>\n",
       "    <tr>\n",
       "      <th>3</th>\n",
       "      <td>0.185185</td>\n",
       "      <td>0.151741</td>\n",
       "      <td>0.059072</td>\n",
       "      <td>0.654378</td>\n",
       "      <td>0.69977</td>\n",
       "      <td>0.744496</td>\n",
       "    </tr>\n",
       "    <tr>\n",
       "      <th>4</th>\n",
       "      <td>0.111111</td>\n",
       "      <td>0.38806</td>\n",
       "      <td>0.270042</td>\n",
       "      <td>0.447005</td>\n",
       "      <td>0.701714</td>\n",
       "      <td>0.520633</td>\n",
       "    </tr>\n",
       "    <tr>\n",
       "      <th>...</th>\n",
       "      <td>...</td>\n",
       "      <td>...</td>\n",
       "      <td>...</td>\n",
       "      <td>...</td>\n",
       "      <td>...</td>\n",
       "      <td>...</td>\n",
       "    </tr>\n",
       "    <tr>\n",
       "      <th>1384</th>\n",
       "      <td>0.814815</td>\n",
       "      <td>0.728856</td>\n",
       "      <td>0.544304</td>\n",
       "      <td>0.115207</td>\n",
       "      <td>0.393179</td>\n",
       "      <td>0.276203</td>\n",
       "    </tr>\n",
       "    <tr>\n",
       "      <th>1385</th>\n",
       "      <td>0.185185</td>\n",
       "      <td>0.226368</td>\n",
       "      <td>0.088608</td>\n",
       "      <td>0.548387</td>\n",
       "      <td>0.708429</td>\n",
       "      <td>0.522874</td>\n",
       "    </tr>\n",
       "    <tr>\n",
       "      <th>1386</th>\n",
       "      <td>0.037037</td>\n",
       "      <td>0.587065</td>\n",
       "      <td>0.506329</td>\n",
       "      <td>0.336406</td>\n",
       "      <td>0.910408</td>\n",
       "      <td>0.038497</td>\n",
       "    </tr>\n",
       "    <tr>\n",
       "      <th>1387</th>\n",
       "      <td>0.333333</td>\n",
       "      <td>0.19403</td>\n",
       "      <td>0.075949</td>\n",
       "      <td>0.59447</td>\n",
       "      <td>0.620604</td>\n",
       "      <td>0.591299</td>\n",
       "    </tr>\n",
       "    <tr>\n",
       "      <th>1388</th>\n",
       "      <td>0.62963</td>\n",
       "      <td>0.161692</td>\n",
       "      <td>0.189873</td>\n",
       "      <td>0.778802</td>\n",
       "      <td>0.449726</td>\n",
       "      <td>0.620303</td>\n",
       "    </tr>\n",
       "  </tbody>\n",
       "</table>\n",
       "<p>1389 rows × 6 columns</p>\n",
       "</div>"
      ],
      "text/plain": [
       "          year       npg birth_rate death_rate       gdw urbanization\n",
       "0     0.407407  0.169154   0.075949   0.640553  0.594098     0.526566\n",
       "1     0.851852   0.41791   0.362869   0.493088  0.526065     0.468688\n",
       "2          0.0  0.716418   0.459916   0.046083  0.362608     0.890046\n",
       "3     0.185185  0.151741   0.059072   0.654378   0.69977     0.744496\n",
       "4     0.111111   0.38806   0.270042   0.447005  0.701714     0.520633\n",
       "...        ...       ...        ...        ...       ...          ...\n",
       "1384  0.814815  0.728856   0.544304   0.115207  0.393179     0.276203\n",
       "1385  0.185185  0.226368   0.088608   0.548387  0.708429     0.522874\n",
       "1386  0.037037  0.587065   0.506329   0.336406  0.910408     0.038497\n",
       "1387  0.333333   0.19403   0.075949    0.59447  0.620604     0.591299\n",
       "1388   0.62963  0.161692   0.189873   0.778802  0.449726     0.620303\n",
       "\n",
       "[1389 rows x 6 columns]"
      ]
     },
     "execution_count": 26,
     "metadata": {},
     "output_type": "execute_result"
    }
   ],
   "source": [
    "x_train"
   ]
  },
  {
   "cell_type": "code",
   "execution_count": 27,
   "metadata": {},
   "outputs": [
    {
     "name": "stdout",
     "output_type": "stream",
     "text": [
      "LogisticRegression(max_iter=500, penalty='none', solver='saga')\n"
     ]
    },
    {
     "name": "stderr",
     "output_type": "stream",
     "text": [
      "/srv/conda/envs/notebook/lib/python3.7/site-packages/sklearn/linear_model/_sag.py:354: ConvergenceWarning: The max_iter was reached which means the coef_ did not converge\n",
      "  ConvergenceWarning,\n"
     ]
    },
    {
     "name": "stdout",
     "output_type": "stream",
     "text": [
      "LogisticRegression(max_iter=500, penalty='l1', solver='saga')\n"
     ]
    },
    {
     "name": "stderr",
     "output_type": "stream",
     "text": [
      "/srv/conda/envs/notebook/lib/python3.7/site-packages/sklearn/linear_model/_sag.py:354: ConvergenceWarning: The max_iter was reached which means the coef_ did not converge\n",
      "  ConvergenceWarning,\n"
     ]
    },
    {
     "name": "stdout",
     "output_type": "stream",
     "text": [
      "LogisticRegression(solver='saga')\n",
      "LogisticRegression(l1_ratio=0.5, penalty='elasticnet', solver='saga')\n",
      "LogisticRegression()\n",
      "MultinomialNB(alpha=0.0)\n",
      "MultinomialNB(alpha=0.5)\n",
      "MultinomialNB()\n"
     ]
    },
    {
     "name": "stderr",
     "output_type": "stream",
     "text": [
      "/srv/conda/envs/notebook/lib/python3.7/site-packages/sklearn/naive_bayes.py:557: UserWarning: alpha too small will result in numeric errors, setting alpha = 1.0e-10\n",
      "  % _ALPHA_MIN\n"
     ]
    },
    {
     "name": "stdout",
     "output_type": "stream",
     "text": [
      "KNeighborsClassifier()\n",
      "KNeighborsClassifier(n_neighbors=10)\n",
      "KNeighborsClassifier(n_neighbors=15)\n",
      "SVC(kernel='linear')\n",
      "SVC(kernel='poly')\n",
      "SVC()\n",
      "SVC(kernel='sigmoid')\n",
      "DecisionTreeClassifier()\n",
      "DecisionTreeClassifier(splitter='random')\n",
      "DecisionTreeClassifier(criterion='entropy')\n",
      "DecisionTreeClassifier(criterion='entropy', splitter='random')\n"
     ]
    }
   ],
   "source": [
    "# Обучаем модели\n",
    "for model in c_models:\n",
    "    print(model)\n",
    "    model.fit(x_train, y_train)"
   ]
  },
  {
   "cell_type": "code",
   "execution_count": 28,
   "metadata": {},
   "outputs": [
    {
     "name": "stdout",
     "output_type": "stream",
     "text": [
      "LogisticRegression(max_iter=500, penalty='none', solver='saga') \t 0.38740604497553727\n",
      "LogisticRegression(max_iter=500, penalty='l1', solver='saga') \t 0.13042062569822593\n",
      "LogisticRegression(solver='saga') \t 0.04364613532275361\n",
      "LogisticRegression(l1_ratio=0.5, penalty='elasticnet', solver='saga') \t 0.051331459873476204\n",
      "LogisticRegression() \t 0.043444046226723404\n",
      "MultinomialNB(alpha=0.0) \t 0.019040817594235645\n",
      "MultinomialNB(alpha=0.5) \t 0.01865448761690914\n",
      "MultinomialNB() \t 0.018605044746135044\n",
      "KNeighborsClassifier() \t 0.41024481736589474\n",
      "KNeighborsClassifier(n_neighbors=10) \t 0.2808886561094518\n",
      "KNeighborsClassifier(n_neighbors=15) \t 0.23288234540393565\n",
      "SVC(kernel='linear') \t 0.06202549510793355\n",
      "SVC(kernel='poly') \t 0.6781433059811719\n",
      "SVC() \t 0.19676147822109555\n",
      "SVC(kernel='sigmoid') \t 9.309600059581442e-06\n",
      "DecisionTreeClassifier() \t 0.6364846154179417\n",
      "DecisionTreeClassifier(splitter='random') \t 0.5858321157178054\n",
      "DecisionTreeClassifier(criterion='entropy') \t 0.6205607941092633\n",
      "DecisionTreeClassifier(criterion='entropy', splitter='random') \t 0.570376875344478\n"
     ]
    }
   ],
   "source": [
    "# Оценииваем качество работы моделей на валидационной выборке.\n",
    "f1s = []\n",
    "for model in c_models:\n",
    "    val_pred = model.predict(x_val)\n",
    "    f1 = f1_score(y_val, val_pred, average='weighted')\n",
    "    f1s.append(f1)\n",
    "    print(model, '\\t', f1)"
   ]
  },
  {
   "cell_type": "code",
   "execution_count": 29,
   "metadata": {},
   "outputs": [
    {
     "data": {
      "text/plain": [
       "SVC(kernel='poly')"
      ]
     },
     "execution_count": 29,
     "metadata": {},
     "output_type": "execute_result"
    }
   ],
   "source": [
    "# Выбираем лучшую модель\n",
    "i_max = f1s.index(max(f1s))\n",
    "best_c_model = c_models[i_max]\n",
    "best_c_model"
   ]
  },
  {
   "cell_type": "code",
   "execution_count": 30,
   "metadata": {},
   "outputs": [
    {
     "name": "stdout",
     "output_type": "stream",
     "text": [
      "0.7097044406630229\n"
     ]
    }
   ],
   "source": [
    "# Вычислим ошибку лучшей модели на тестовой выборке.\n",
    "test_pred = best_c_model.predict(x_test)\n",
    "f1 = f1_score(y_test, test_pred, average='weighted')\n",
    "print(f1)"
   ]
  },
  {
   "cell_type": "code",
   "execution_count": 31,
   "metadata": {},
   "outputs": [],
   "source": [
    "# Вспоминаем алгоритм решения задачи кластеризации - метод k-средних\n",
    "# Параметр n_clusters - количество кластеров, по умолчанию равен 8\n",
    "k_models = []\n",
    "k_models.append(KMeans(n_clusters=5))\n",
    "k_models.append(KMeans(n_clusters=8))\n",
    "k_models.append(KMeans(n_clusters=20))\n",
    "k_models.append(KMeans(n_clusters=50))"
   ]
  },
  {
   "cell_type": "code",
   "execution_count": 32,
   "metadata": {},
   "outputs": [
    {
     "data": {
      "text/html": [
       "<div>\n",
       "<style scoped>\n",
       "    .dataframe tbody tr th:only-of-type {\n",
       "        vertical-align: middle;\n",
       "    }\n",
       "\n",
       "    .dataframe tbody tr th {\n",
       "        vertical-align: top;\n",
       "    }\n",
       "\n",
       "    .dataframe thead th {\n",
       "        text-align: right;\n",
       "    }\n",
       "</style>\n",
       "<table border=\"1\" class=\"dataframe\">\n",
       "  <thead>\n",
       "    <tr style=\"text-align: right;\">\n",
       "      <th></th>\n",
       "      <th>year</th>\n",
       "      <th>npg</th>\n",
       "      <th>birth_rate</th>\n",
       "      <th>death_rate</th>\n",
       "      <th>gdw</th>\n",
       "      <th>urbanization</th>\n",
       "    </tr>\n",
       "  </thead>\n",
       "  <tbody>\n",
       "    <tr>\n",
       "      <th>0</th>\n",
       "      <td>0.407407</td>\n",
       "      <td>0.169154</td>\n",
       "      <td>0.075949</td>\n",
       "      <td>0.640553</td>\n",
       "      <td>0.594098</td>\n",
       "      <td>0.526566</td>\n",
       "    </tr>\n",
       "    <tr>\n",
       "      <th>1</th>\n",
       "      <td>0.851852</td>\n",
       "      <td>0.41791</td>\n",
       "      <td>0.362869</td>\n",
       "      <td>0.493088</td>\n",
       "      <td>0.526065</td>\n",
       "      <td>0.468688</td>\n",
       "    </tr>\n",
       "    <tr>\n",
       "      <th>2</th>\n",
       "      <td>0.0</td>\n",
       "      <td>0.716418</td>\n",
       "      <td>0.459916</td>\n",
       "      <td>0.046083</td>\n",
       "      <td>0.362608</td>\n",
       "      <td>0.890046</td>\n",
       "    </tr>\n",
       "    <tr>\n",
       "      <th>3</th>\n",
       "      <td>0.185185</td>\n",
       "      <td>0.151741</td>\n",
       "      <td>0.059072</td>\n",
       "      <td>0.654378</td>\n",
       "      <td>0.69977</td>\n",
       "      <td>0.744496</td>\n",
       "    </tr>\n",
       "    <tr>\n",
       "      <th>4</th>\n",
       "      <td>0.111111</td>\n",
       "      <td>0.38806</td>\n",
       "      <td>0.270042</td>\n",
       "      <td>0.447005</td>\n",
       "      <td>0.701714</td>\n",
       "      <td>0.520633</td>\n",
       "    </tr>\n",
       "    <tr>\n",
       "      <th>...</th>\n",
       "      <td>...</td>\n",
       "      <td>...</td>\n",
       "      <td>...</td>\n",
       "      <td>...</td>\n",
       "      <td>...</td>\n",
       "      <td>...</td>\n",
       "    </tr>\n",
       "    <tr>\n",
       "      <th>458</th>\n",
       "      <td>0.37037</td>\n",
       "      <td>0.159204</td>\n",
       "      <td>0.054852</td>\n",
       "      <td>0.635945</td>\n",
       "      <td>0.598869</td>\n",
       "      <td>0.533289</td>\n",
       "    </tr>\n",
       "    <tr>\n",
       "      <th>459</th>\n",
       "      <td>0.037037</td>\n",
       "      <td>0.753731</td>\n",
       "      <td>0.746835</td>\n",
       "      <td>0.290323</td>\n",
       "      <td>0.802085</td>\n",
       "      <td>0.306262</td>\n",
       "    </tr>\n",
       "    <tr>\n",
       "      <th>460</th>\n",
       "      <td>0.481481</td>\n",
       "      <td>0.671642</td>\n",
       "      <td>0.367089</td>\n",
       "      <td>0.032258</td>\n",
       "      <td>0.699063</td>\n",
       "      <td>0.241266</td>\n",
       "    </tr>\n",
       "    <tr>\n",
       "      <th>461</th>\n",
       "      <td>0.851852</td>\n",
       "      <td>0.343284</td>\n",
       "      <td>0.329114</td>\n",
       "      <td>0.59447</td>\n",
       "      <td>0.68581</td>\n",
       "      <td>0.481872</td>\n",
       "    </tr>\n",
       "    <tr>\n",
       "      <th>462</th>\n",
       "      <td>0.888889</td>\n",
       "      <td>0.370647</td>\n",
       "      <td>0.295359</td>\n",
       "      <td>0.506912</td>\n",
       "      <td>0.630854</td>\n",
       "      <td>0.417271</td>\n",
       "    </tr>\n",
       "  </tbody>\n",
       "</table>\n",
       "<p>2315 rows × 6 columns</p>\n",
       "</div>"
      ],
      "text/plain": [
       "         year       npg birth_rate death_rate       gdw urbanization\n",
       "0    0.407407  0.169154   0.075949   0.640553  0.594098     0.526566\n",
       "1    0.851852   0.41791   0.362869   0.493088  0.526065     0.468688\n",
       "2         0.0  0.716418   0.459916   0.046083  0.362608     0.890046\n",
       "3    0.185185  0.151741   0.059072   0.654378   0.69977     0.744496\n",
       "4    0.111111   0.38806   0.270042   0.447005  0.701714     0.520633\n",
       "..        ...       ...        ...        ...       ...          ...\n",
       "458   0.37037  0.159204   0.054852   0.635945  0.598869     0.533289\n",
       "459  0.037037  0.753731   0.746835   0.290323  0.802085     0.306262\n",
       "460  0.481481  0.671642   0.367089   0.032258  0.699063     0.241266\n",
       "461  0.851852  0.343284   0.329114    0.59447   0.68581     0.481872\n",
       "462  0.888889  0.370647   0.295359   0.506912  0.630854     0.417271\n",
       "\n",
       "[2315 rows x 6 columns]"
      ]
     },
     "execution_count": 32,
     "metadata": {},
     "output_type": "execute_result"
    }
   ],
   "source": [
    "# Выделим используемые параметры\n",
    "x_labels = column_names[0:-1]\n",
    "x = pd.concat([sc_train[x_labels], sc_val[x_labels], sc_test[x_labels]])\n",
    "x"
   ]
  },
  {
   "cell_type": "code",
   "execution_count": 33,
   "metadata": {},
   "outputs": [],
   "source": [
    "# Произведем кластеризацию\n",
    "for model in k_models:\n",
    "    model.fit(x)"
   ]
  },
  {
   "cell_type": "code",
   "execution_count": 34,
   "metadata": {},
   "outputs": [
    {
     "name": "stdout",
     "output_type": "stream",
     "text": [
      "0.2949493631783446\n",
      "0.2559068751600014\n",
      "0.23881848944858072\n",
      "0.2299147338600946\n"
     ]
    }
   ],
   "source": [
    "# Оценим качество результата\n",
    "sils = []\n",
    "for model in k_models:\n",
    "    cluster_labels = model.predict(x)\n",
    "    s = silhouette_score(x, cluster_labels)\n",
    "    sils.append(s)\n",
    "    print(s)"
   ]
  },
  {
   "cell_type": "code",
   "execution_count": 35,
   "metadata": {},
   "outputs": [
    {
     "name": "stdout",
     "output_type": "stream",
     "text": [
      "KMeans(n_clusters=5)\n",
      "0.2949493631783446\n"
     ]
    }
   ],
   "source": [
    "# Выбираем лучшую модель\n",
    "i_max = sils.index(max(sils))\n",
    "best_k_model = k_models[i_max]\n",
    "print(best_k_model)\n",
    "print(sils[i_max])"
   ]
  },
  {
   "cell_type": "code",
   "execution_count": 36,
   "metadata": {},
   "outputs": [],
   "source": [
    "# Задание №1 - анализ моделей для задачи регрессии\n",
    "# Общий список моделей\n",
    "r_models = [\n",
    "    LinearRegression(),\n",
    "    Lasso(alpha=1.0),\n",
    "    Lasso(alpha=0.5),\n",
    "    Ridge(alpha=1.0),\n",
    "    Ridge(alpha=0.5),\n",
    "    ElasticNet(alpha=1.0, l1_ratio=0.5),\n",
    "    ElasticNet(alpha=1.0, l1_ratio=0.25),\n",
    "    ElasticNet(alpha=1.0, l1_ratio=0.75),\n",
    "    ElasticNet(alpha=0.5, l1_ratio=0.5),\n",
    "    ElasticNet(alpha=0.5, l1_ratio=0.25),\n",
    "    ElasticNet(alpha=0.5, l1_ratio=0.75),\n",
    "    KNeighborsRegressor(n_neighbors=5),\n",
    "    KNeighborsRegressor(n_neighbors=10),\n",
    "    KNeighborsRegressor(n_neighbors=15),\n",
    "    KNeighborsRegressor(n_neighbors=20),\n",
    "    KNeighborsRegressor(n_neighbors=25),\n",
    "    SVR(kernel='linear'),\n",
    "    SVR(kernel='poly'),\n",
    "    SVR(kernel='rbf'),\n",
    "    SVR(kernel='sigmoid'),\n",
    "    DecisionTreeRegressor(criterion='squared_error'),\n",
    "    DecisionTreeRegressor(criterion='friedman_mse'),\n",
    "    DecisionTreeRegressor(criterion='absolute_error')\n",
    "]"
   ]
  },
  {
   "cell_type": "code",
   "execution_count": 37,
   "metadata": {},
   "outputs": [
    {
     "name": "stdout",
     "output_type": "stream",
     "text": [
      "[KNeighborsRegressor(n_neighbors=25), SVR(), ElasticNet(l1_ratio=0.75), ElasticNet(alpha=0.5, l1_ratio=0.75)]\n"
     ]
    }
   ],
   "source": [
    "# Выбор моделей для задания\n",
    "n = 4\n",
    "random.seed(my_seed)\n",
    "my_models1 = random.sample(r_models, n)\n",
    "print(my_models1)"
   ]
  },
  {
   "cell_type": "code",
   "execution_count": 38,
   "metadata": {
    "scrolled": true
   },
   "outputs": [
    {
     "ename": "FileNotFoundError",
     "evalue": "[Errno 2] No such file or directory: 'datasets/weather.csv'",
     "output_type": "error",
     "traceback": [
      "\u001b[0;31m---------------------------------------------------------------------------\u001b[0m",
      "\u001b[0;31mFileNotFoundError\u001b[0m                         Traceback (most recent call last)",
      "\u001b[0;32m/tmp/ipykernel_107/2152449306.py\u001b[0m in \u001b[0;36m<module>\u001b[0;34m\u001b[0m\n\u001b[1;32m      1\u001b[0m \u001b[0;31m# Загрузим данные для задачи регрессии\u001b[0m\u001b[0;34m\u001b[0m\u001b[0;34m\u001b[0m\u001b[0;34m\u001b[0m\u001b[0m\n\u001b[0;32m----> 2\u001b[0;31m \u001b[0mdata\u001b[0m \u001b[0;34m=\u001b[0m \u001b[0mpd\u001b[0m\u001b[0;34m.\u001b[0m\u001b[0mread_csv\u001b[0m\u001b[0;34m(\u001b[0m\u001b[0;34m\"datasets/weather.csv\"\u001b[0m\u001b[0;34m,\u001b[0m \u001b[0mdecimal\u001b[0m\u001b[0;34m=\u001b[0m\u001b[0;34m','\u001b[0m\u001b[0;34m)\u001b[0m\u001b[0;34m\u001b[0m\u001b[0;34m\u001b[0m\u001b[0m\n\u001b[0m\u001b[1;32m      3\u001b[0m \u001b[0mdata\u001b[0m\u001b[0;34m\u001b[0m\u001b[0;34m\u001b[0m\u001b[0m\n",
      "\u001b[0;32m/srv/conda/envs/notebook/lib/python3.7/site-packages/pandas/util/_decorators.py\u001b[0m in \u001b[0;36mwrapper\u001b[0;34m(*args, **kwargs)\u001b[0m\n\u001b[1;32m    309\u001b[0m                     \u001b[0mstacklevel\u001b[0m\u001b[0;34m=\u001b[0m\u001b[0mstacklevel\u001b[0m\u001b[0;34m,\u001b[0m\u001b[0;34m\u001b[0m\u001b[0;34m\u001b[0m\u001b[0m\n\u001b[1;32m    310\u001b[0m                 )\n\u001b[0;32m--> 311\u001b[0;31m             \u001b[0;32mreturn\u001b[0m \u001b[0mfunc\u001b[0m\u001b[0;34m(\u001b[0m\u001b[0;34m*\u001b[0m\u001b[0margs\u001b[0m\u001b[0;34m,\u001b[0m \u001b[0;34m**\u001b[0m\u001b[0mkwargs\u001b[0m\u001b[0;34m)\u001b[0m\u001b[0;34m\u001b[0m\u001b[0;34m\u001b[0m\u001b[0m\n\u001b[0m\u001b[1;32m    312\u001b[0m \u001b[0;34m\u001b[0m\u001b[0m\n\u001b[1;32m    313\u001b[0m         \u001b[0;32mreturn\u001b[0m \u001b[0mwrapper\u001b[0m\u001b[0;34m\u001b[0m\u001b[0;34m\u001b[0m\u001b[0m\n",
      "\u001b[0;32m/srv/conda/envs/notebook/lib/python3.7/site-packages/pandas/io/parsers/readers.py\u001b[0m in \u001b[0;36mread_csv\u001b[0;34m(filepath_or_buffer, sep, delimiter, header, names, index_col, usecols, squeeze, prefix, mangle_dupe_cols, dtype, engine, converters, true_values, false_values, skipinitialspace, skiprows, skipfooter, nrows, na_values, keep_default_na, na_filter, verbose, skip_blank_lines, parse_dates, infer_datetime_format, keep_date_col, date_parser, dayfirst, cache_dates, iterator, chunksize, compression, thousands, decimal, lineterminator, quotechar, quoting, doublequote, escapechar, comment, encoding, encoding_errors, dialect, error_bad_lines, warn_bad_lines, on_bad_lines, delim_whitespace, low_memory, memory_map, float_precision, storage_options)\u001b[0m\n\u001b[1;32m    584\u001b[0m     \u001b[0mkwds\u001b[0m\u001b[0;34m.\u001b[0m\u001b[0mupdate\u001b[0m\u001b[0;34m(\u001b[0m\u001b[0mkwds_defaults\u001b[0m\u001b[0;34m)\u001b[0m\u001b[0;34m\u001b[0m\u001b[0;34m\u001b[0m\u001b[0m\n\u001b[1;32m    585\u001b[0m \u001b[0;34m\u001b[0m\u001b[0m\n\u001b[0;32m--> 586\u001b[0;31m     \u001b[0;32mreturn\u001b[0m \u001b[0m_read\u001b[0m\u001b[0;34m(\u001b[0m\u001b[0mfilepath_or_buffer\u001b[0m\u001b[0;34m,\u001b[0m \u001b[0mkwds\u001b[0m\u001b[0;34m)\u001b[0m\u001b[0;34m\u001b[0m\u001b[0;34m\u001b[0m\u001b[0m\n\u001b[0m\u001b[1;32m    587\u001b[0m \u001b[0;34m\u001b[0m\u001b[0m\n\u001b[1;32m    588\u001b[0m \u001b[0;34m\u001b[0m\u001b[0m\n",
      "\u001b[0;32m/srv/conda/envs/notebook/lib/python3.7/site-packages/pandas/io/parsers/readers.py\u001b[0m in \u001b[0;36m_read\u001b[0;34m(filepath_or_buffer, kwds)\u001b[0m\n\u001b[1;32m    480\u001b[0m \u001b[0;34m\u001b[0m\u001b[0m\n\u001b[1;32m    481\u001b[0m     \u001b[0;31m# Create the parser.\u001b[0m\u001b[0;34m\u001b[0m\u001b[0;34m\u001b[0m\u001b[0;34m\u001b[0m\u001b[0m\n\u001b[0;32m--> 482\u001b[0;31m     \u001b[0mparser\u001b[0m \u001b[0;34m=\u001b[0m \u001b[0mTextFileReader\u001b[0m\u001b[0;34m(\u001b[0m\u001b[0mfilepath_or_buffer\u001b[0m\u001b[0;34m,\u001b[0m \u001b[0;34m**\u001b[0m\u001b[0mkwds\u001b[0m\u001b[0;34m)\u001b[0m\u001b[0;34m\u001b[0m\u001b[0;34m\u001b[0m\u001b[0m\n\u001b[0m\u001b[1;32m    483\u001b[0m \u001b[0;34m\u001b[0m\u001b[0m\n\u001b[1;32m    484\u001b[0m     \u001b[0;32mif\u001b[0m \u001b[0mchunksize\u001b[0m \u001b[0;32mor\u001b[0m \u001b[0miterator\u001b[0m\u001b[0;34m:\u001b[0m\u001b[0;34m\u001b[0m\u001b[0;34m\u001b[0m\u001b[0m\n",
      "\u001b[0;32m/srv/conda/envs/notebook/lib/python3.7/site-packages/pandas/io/parsers/readers.py\u001b[0m in \u001b[0;36m__init__\u001b[0;34m(self, f, engine, **kwds)\u001b[0m\n\u001b[1;32m    809\u001b[0m             \u001b[0mself\u001b[0m\u001b[0;34m.\u001b[0m\u001b[0moptions\u001b[0m\u001b[0;34m[\u001b[0m\u001b[0;34m\"has_index_names\"\u001b[0m\u001b[0;34m]\u001b[0m \u001b[0;34m=\u001b[0m \u001b[0mkwds\u001b[0m\u001b[0;34m[\u001b[0m\u001b[0;34m\"has_index_names\"\u001b[0m\u001b[0;34m]\u001b[0m\u001b[0;34m\u001b[0m\u001b[0;34m\u001b[0m\u001b[0m\n\u001b[1;32m    810\u001b[0m \u001b[0;34m\u001b[0m\u001b[0m\n\u001b[0;32m--> 811\u001b[0;31m         \u001b[0mself\u001b[0m\u001b[0;34m.\u001b[0m\u001b[0m_engine\u001b[0m \u001b[0;34m=\u001b[0m \u001b[0mself\u001b[0m\u001b[0;34m.\u001b[0m\u001b[0m_make_engine\u001b[0m\u001b[0;34m(\u001b[0m\u001b[0mself\u001b[0m\u001b[0;34m.\u001b[0m\u001b[0mengine\u001b[0m\u001b[0;34m)\u001b[0m\u001b[0;34m\u001b[0m\u001b[0;34m\u001b[0m\u001b[0m\n\u001b[0m\u001b[1;32m    812\u001b[0m \u001b[0;34m\u001b[0m\u001b[0m\n\u001b[1;32m    813\u001b[0m     \u001b[0;32mdef\u001b[0m \u001b[0mclose\u001b[0m\u001b[0;34m(\u001b[0m\u001b[0mself\u001b[0m\u001b[0;34m)\u001b[0m\u001b[0;34m:\u001b[0m\u001b[0;34m\u001b[0m\u001b[0;34m\u001b[0m\u001b[0m\n",
      "\u001b[0;32m/srv/conda/envs/notebook/lib/python3.7/site-packages/pandas/io/parsers/readers.py\u001b[0m in \u001b[0;36m_make_engine\u001b[0;34m(self, engine)\u001b[0m\n\u001b[1;32m   1038\u001b[0m             )\n\u001b[1;32m   1039\u001b[0m         \u001b[0;31m# error: Too many arguments for \"ParserBase\"\u001b[0m\u001b[0;34m\u001b[0m\u001b[0;34m\u001b[0m\u001b[0;34m\u001b[0m\u001b[0m\n\u001b[0;32m-> 1040\u001b[0;31m         \u001b[0;32mreturn\u001b[0m \u001b[0mmapping\u001b[0m\u001b[0;34m[\u001b[0m\u001b[0mengine\u001b[0m\u001b[0;34m]\u001b[0m\u001b[0;34m(\u001b[0m\u001b[0mself\u001b[0m\u001b[0;34m.\u001b[0m\u001b[0mf\u001b[0m\u001b[0;34m,\u001b[0m \u001b[0;34m**\u001b[0m\u001b[0mself\u001b[0m\u001b[0;34m.\u001b[0m\u001b[0moptions\u001b[0m\u001b[0;34m)\u001b[0m  \u001b[0;31m# type: ignore[call-arg]\u001b[0m\u001b[0;34m\u001b[0m\u001b[0;34m\u001b[0m\u001b[0m\n\u001b[0m\u001b[1;32m   1041\u001b[0m \u001b[0;34m\u001b[0m\u001b[0m\n\u001b[1;32m   1042\u001b[0m     \u001b[0;32mdef\u001b[0m \u001b[0m_failover_to_python\u001b[0m\u001b[0;34m(\u001b[0m\u001b[0mself\u001b[0m\u001b[0;34m)\u001b[0m\u001b[0;34m:\u001b[0m\u001b[0;34m\u001b[0m\u001b[0;34m\u001b[0m\u001b[0m\n",
      "\u001b[0;32m/srv/conda/envs/notebook/lib/python3.7/site-packages/pandas/io/parsers/c_parser_wrapper.py\u001b[0m in \u001b[0;36m__init__\u001b[0;34m(self, src, **kwds)\u001b[0m\n\u001b[1;32m     49\u001b[0m \u001b[0;34m\u001b[0m\u001b[0m\n\u001b[1;32m     50\u001b[0m         \u001b[0;31m# open handles\u001b[0m\u001b[0;34m\u001b[0m\u001b[0;34m\u001b[0m\u001b[0;34m\u001b[0m\u001b[0m\n\u001b[0;32m---> 51\u001b[0;31m         \u001b[0mself\u001b[0m\u001b[0;34m.\u001b[0m\u001b[0m_open_handles\u001b[0m\u001b[0;34m(\u001b[0m\u001b[0msrc\u001b[0m\u001b[0;34m,\u001b[0m \u001b[0mkwds\u001b[0m\u001b[0;34m)\u001b[0m\u001b[0;34m\u001b[0m\u001b[0;34m\u001b[0m\u001b[0m\n\u001b[0m\u001b[1;32m     52\u001b[0m         \u001b[0;32massert\u001b[0m \u001b[0mself\u001b[0m\u001b[0;34m.\u001b[0m\u001b[0mhandles\u001b[0m \u001b[0;32mis\u001b[0m \u001b[0;32mnot\u001b[0m \u001b[0;32mNone\u001b[0m\u001b[0;34m\u001b[0m\u001b[0;34m\u001b[0m\u001b[0m\n\u001b[1;32m     53\u001b[0m \u001b[0;34m\u001b[0m\u001b[0m\n",
      "\u001b[0;32m/srv/conda/envs/notebook/lib/python3.7/site-packages/pandas/io/parsers/base_parser.py\u001b[0m in \u001b[0;36m_open_handles\u001b[0;34m(self, src, kwds)\u001b[0m\n\u001b[1;32m    227\u001b[0m             \u001b[0mmemory_map\u001b[0m\u001b[0;34m=\u001b[0m\u001b[0mkwds\u001b[0m\u001b[0;34m.\u001b[0m\u001b[0mget\u001b[0m\u001b[0;34m(\u001b[0m\u001b[0;34m\"memory_map\"\u001b[0m\u001b[0;34m,\u001b[0m \u001b[0;32mFalse\u001b[0m\u001b[0;34m)\u001b[0m\u001b[0;34m,\u001b[0m\u001b[0;34m\u001b[0m\u001b[0;34m\u001b[0m\u001b[0m\n\u001b[1;32m    228\u001b[0m             \u001b[0mstorage_options\u001b[0m\u001b[0;34m=\u001b[0m\u001b[0mkwds\u001b[0m\u001b[0;34m.\u001b[0m\u001b[0mget\u001b[0m\u001b[0;34m(\u001b[0m\u001b[0;34m\"storage_options\"\u001b[0m\u001b[0;34m,\u001b[0m \u001b[0;32mNone\u001b[0m\u001b[0;34m)\u001b[0m\u001b[0;34m,\u001b[0m\u001b[0;34m\u001b[0m\u001b[0;34m\u001b[0m\u001b[0m\n\u001b[0;32m--> 229\u001b[0;31m             \u001b[0merrors\u001b[0m\u001b[0;34m=\u001b[0m\u001b[0mkwds\u001b[0m\u001b[0;34m.\u001b[0m\u001b[0mget\u001b[0m\u001b[0;34m(\u001b[0m\u001b[0;34m\"encoding_errors\"\u001b[0m\u001b[0;34m,\u001b[0m \u001b[0;34m\"strict\"\u001b[0m\u001b[0;34m)\u001b[0m\u001b[0;34m,\u001b[0m\u001b[0;34m\u001b[0m\u001b[0;34m\u001b[0m\u001b[0m\n\u001b[0m\u001b[1;32m    230\u001b[0m         )\n\u001b[1;32m    231\u001b[0m \u001b[0;34m\u001b[0m\u001b[0m\n",
      "\u001b[0;32m/srv/conda/envs/notebook/lib/python3.7/site-packages/pandas/io/common.py\u001b[0m in \u001b[0;36mget_handle\u001b[0;34m(path_or_buf, mode, encoding, compression, memory_map, is_text, errors, storage_options)\u001b[0m\n\u001b[1;32m    705\u001b[0m                 \u001b[0mencoding\u001b[0m\u001b[0;34m=\u001b[0m\u001b[0mioargs\u001b[0m\u001b[0;34m.\u001b[0m\u001b[0mencoding\u001b[0m\u001b[0;34m,\u001b[0m\u001b[0;34m\u001b[0m\u001b[0;34m\u001b[0m\u001b[0m\n\u001b[1;32m    706\u001b[0m                 \u001b[0merrors\u001b[0m\u001b[0;34m=\u001b[0m\u001b[0merrors\u001b[0m\u001b[0;34m,\u001b[0m\u001b[0;34m\u001b[0m\u001b[0;34m\u001b[0m\u001b[0m\n\u001b[0;32m--> 707\u001b[0;31m                 \u001b[0mnewline\u001b[0m\u001b[0;34m=\u001b[0m\u001b[0;34m\"\"\u001b[0m\u001b[0;34m,\u001b[0m\u001b[0;34m\u001b[0m\u001b[0;34m\u001b[0m\u001b[0m\n\u001b[0m\u001b[1;32m    708\u001b[0m             )\n\u001b[1;32m    709\u001b[0m         \u001b[0;32melse\u001b[0m\u001b[0;34m:\u001b[0m\u001b[0;34m\u001b[0m\u001b[0;34m\u001b[0m\u001b[0m\n",
      "\u001b[0;31mFileNotFoundError\u001b[0m: [Errno 2] No such file or directory: 'datasets/weather.csv'"
     ]
    }
   ],
   "source": [
    "# Загрузим данные для задачи регрессии\n",
    "data = pd.read_csv(\"datasets/weather.csv\", decimal=',')\n",
    "data"
   ]
  },
  {
   "cell_type": "code",
   "execution_count": null,
   "metadata": {},
   "outputs": [],
   "source": [
    "# Зависимая переменная для всех одна и та же. Предикторы выбираем случайнм образом.\n",
    "columns = list(data.columns)\n",
    "n_x = 5\n",
    "\n",
    "y_label = 'water_level'\n",
    "x_labels = random.sample(columns[1:], n_x)\n",
    "\n",
    "print(x_labels)"
   ]
  },
  {
   "cell_type": "code",
   "execution_count": null,
   "metadata": {},
   "outputs": [],
   "source": [
    "# Преобразуйте значения всех необходимых параметров к отрезку [0,1].\n",
    "# Решите получившуюся задачу регрессии с помощью выбранных моделей и сравните их эффективность.\n",
    "# Укажите, какая модель решает задачу лучше других.\n",
    "\n",
    "data = data.drop(['temperature', 'weather', 'pressure', 'fire', 'temp_change', 'pressure_change'],axis=1)"
   ]
  },
  {
   "cell_type": "code",
   "execution_count": null,
   "metadata": {},
   "outputs": [],
   "source": [
    "data"
   ]
  },
  {
   "cell_type": "code",
   "execution_count": null,
   "metadata": {},
   "outputs": [],
   "source": [
    "data.shape\n",
    "val_test_size = round(0.2*len(data))\n",
    "print(val_test_size)"
   ]
  },
  {
   "cell_type": "code",
   "execution_count": null,
   "metadata": {},
   "outputs": [],
   "source": [
    "random_state = my_seed\n",
    "train_val, test = train_test_split(data, test_size=val_test_size, random_state=random_state)\n",
    "train, val = train_test_split(train_val, test_size=val_test_size, random_state=random_state)\n",
    "print(len(train), len(val), len(test))"
   ]
  },
  {
   "cell_type": "code",
   "execution_count": null,
   "metadata": {},
   "outputs": [],
   "source": [
    "train.head()"
   ]
  },
  {
   "cell_type": "code",
   "execution_count": null,
   "metadata": {},
   "outputs": [],
   "source": [
    "columns_to_scale = ['water_level', 'precipitation', 'wl_change', 'humidity', 'visibility', 'wind']\n",
    "\n",
    "ct = ColumnTransformer(transformers=[('numerical', MinMaxScaler(), columns_to_scale)], remainder='passthrough')\n",
    "ct.fit(train)"
   ]
  },
  {
   "cell_type": "code",
   "execution_count": null,
   "metadata": {},
   "outputs": [],
   "source": [
    "sc_train = pd.DataFrame(ct.transform(train))\n",
    "sc_test = pd.DataFrame(ct.transform(test))\n",
    "sc_val = pd.DataFrame(ct.transform(val))"
   ]
  },
  {
   "cell_type": "code",
   "execution_count": null,
   "metadata": {},
   "outputs": [],
   "source": [
    "column_names = columns_to_scale \n",
    "sc_train.columns = column_names\n",
    "sc_test.columns = column_names\n",
    "sc_val.columns = column_names"
   ]
  },
  {
   "cell_type": "code",
   "execution_count": null,
   "metadata": {},
   "outputs": [],
   "source": [
    "sc_val"
   ]
  },
  {
   "cell_type": "code",
   "execution_count": null,
   "metadata": {},
   "outputs": [],
   "source": [
    "r_models = []\n",
    "\n",
    "r_models.append(ElasticNet(alpha=0.5))\n",
    "r_models.append(ElasticNet(alpha=0.5, l1_ratio=0.75))\n",
    "\n",
    "r_models.append(SVR())\n",
    "\n",
    "r_models.append(Ridge())\n",
    "r_models"
   ]
  },
  {
   "cell_type": "code",
   "execution_count": null,
   "metadata": {},
   "outputs": [],
   "source": [
    "x_labels = column_names[0:-1]\n",
    "y_labels = ['water_level']\n",
    "\n",
    "x_train = sc_train[x_labels]\n",
    "x_test = sc_test[x_labels]\n",
    "x_val = sc_val[x_labels]\n",
    "\n",
    "y_train = np.ravel(sc_train[y_labels])\n",
    "y_test = np.ravel(sc_test[y_labels])\n",
    "y_val = np.ravel(sc_val[y_labels])"
   ]
  },
  {
   "cell_type": "code",
   "execution_count": null,
   "metadata": {},
   "outputs": [],
   "source": [
    "for model in r_models:\n",
    "    print(model)\n",
    "    model.fit(x_train, y_train)"
   ]
  },
  {
   "cell_type": "code",
   "execution_count": null,
   "metadata": {},
   "outputs": [],
   "source": [
    "mses = []\n",
    "for model in r_models:\n",
    "    val_pred = model.predict(x_val)\n",
    "    mse = mean_squared_error(y_val, val_pred)\n",
    "    mses.append(mse)\n",
    "    print(model, '\\t', mse)"
   ]
  },
  {
   "cell_type": "code",
   "execution_count": null,
   "metadata": {},
   "outputs": [],
   "source": [
    "i_min = mses.index(min(mses))\n",
    "best_r_model = r_models[i_min]\n",
    "best_r_model"
   ]
  },
  {
   "cell_type": "code",
   "execution_count": null,
   "metadata": {},
   "outputs": [],
   "source": [
    "test_pred = best_r_model.predict(x_test)\n",
    "mse = mean_squared_error(y_test, test_pred)\n",
    "print(mse)"
   ]
  },
  {
   "cell_type": "code",
   "execution_count": null,
   "metadata": {},
   "outputs": [],
   "source": [
    "# Задание №2 - анализ моделей для задачи классификации\n",
    "# Общий список моделей\n",
    "c_models = [\n",
    "    LogisticRegression(penalty='none', solver='saga'),\n",
    "    LogisticRegression(penalty='l1', solver='saga'),\n",
    "    LogisticRegression(penalty='l2', solver='saga'),\n",
    "    LogisticRegression(penalty='elasticnet', l1_ratio=0.25, solver='saga'),\n",
    "    LogisticRegression(penalty='elasticnet', l1_ratio=0.5, solver='saga'),\n",
    "    LogisticRegression(penalty='elasticnet', l1_ratio=0.75, solver='saga'),\n",
    "    LogisticRegression(),\n",
    "    MultinomialNB(alpha=0.0),\n",
    "    MultinomialNB(alpha=0.25),\n",
    "    MultinomialNB(alpha=0.5),\n",
    "    MultinomialNB(alpha=0.75),\n",
    "    MultinomialNB(alpha=1.0),\n",
    "    KNeighborsClassifier(n_neighbors=5),\n",
    "    KNeighborsClassifier(n_neighbors=10),\n",
    "    KNeighborsClassifier(n_neighbors=15),\n",
    "    KNeighborsClassifier(n_neighbors=20),\n",
    "    KNeighborsClassifier(n_neighbors=25),\n",
    "    SVC(kernel='linear'),\n",
    "    SVC(kernel='poly'),\n",
    "    SVC(kernel='rbf'),\n",
    "    SVC(kernel='sigmoid'),\n",
    "    DecisionTreeClassifier(criterion='gini', splitter='best'),\n",
    "    DecisionTreeClassifier(criterion='gini', splitter='random'),\n",
    "    DecisionTreeClassifier(criterion='entropy', splitter='best'),\n",
    "    DecisionTreeClassifier(criterion='entropy', splitter='random')\n",
    "]"
   ]
  },
  {
   "cell_type": "code",
   "execution_count": null,
   "metadata": {},
   "outputs": [],
   "source": [
    "# Выбор моделей для задания\n",
    "n = 5\n",
    "my_models2 = random.sample(c_models, n)\n",
    "print(my_models2)"
   ]
  },
  {
   "cell_type": "code",
   "execution_count": null,
   "metadata": {
    "scrolled": true
   },
   "outputs": [],
   "source": [
    "# Загрузим данные для задачи классификации\n",
    "newdata = pd.read_csv(\"datasets/zoo2.csv\")\n",
    "newdata"
   ]
  },
  {
   "cell_type": "code",
   "execution_count": null,
   "metadata": {},
   "outputs": [],
   "source": [
    "# Метка класса для всех одна и та же. Параметры выбираем случайнм образом.\n",
    "columns = list(newdata.columns)\n",
    "n_x = 8\n",
    "\n",
    "y_newlabel = 'class_type'\n",
    "x_newlabels = random.sample(columns[1:-1], n_x)\n",
    "\n",
    "print(x_newlabels)"
   ]
  },
  {
   "cell_type": "code",
   "execution_count": null,
   "metadata": {
    "scrolled": true
   },
   "outputs": [],
   "source": [
    "labels = x_newlabels.copy()\n",
    "labels.append(y_newlabel)\n",
    "temp_data = newdata[labels]\n",
    "sec_data = temp_data"
   ]
  },
  {
   "cell_type": "code",
   "execution_count": null,
   "metadata": {},
   "outputs": [],
   "source": [
    "sec_data"
   ]
  },
  {
   "cell_type": "code",
   "execution_count": null,
   "metadata": {},
   "outputs": [],
   "source": [
    "# Преобразуйте значения всех необходимых параметров к отрезку [0,1].\n",
    "# Решите получившуюся задачу классификации с помощью выбранных моделей и сравните их эффективность.\n",
    "# Укажите, какая модель решает задачу лучше других.\n",
    "\n",
    "sec_data.shape"
   ]
  },
  {
   "cell_type": "code",
   "execution_count": null,
   "metadata": {},
   "outputs": [],
   "source": [
    "val_test_size2 = round(0.2*len(sec_data))\n",
    "print(val_test_size2)"
   ]
  },
  {
   "cell_type": "code",
   "execution_count": null,
   "metadata": {},
   "outputs": [],
   "source": [
    "random_state = my_seed\n",
    "train_val2, test2 = train_test_split(sec_data, test_size=val_test_size2, random_state=random_state)\n",
    "sec_train, val2 = train_test_split(train_val2, test_size=val_test_size2, random_state=random_state)\n",
    "print(len(sec_train), len(val2), len(test2))"
   ]
  },
  {
   "cell_type": "code",
   "execution_count": null,
   "metadata": {},
   "outputs": [],
   "source": [
    "sec_train.head()"
   ]
  },
  {
   "cell_type": "code",
   "execution_count": null,
   "metadata": {},
   "outputs": [],
   "source": [
    "columns_to_scale2 = x_newlabels\n",
    "\n",
    "ct2 = ColumnTransformer(transformers=[('numerical', MinMaxScaler(), columns_to_scale2)], remainder='passthrough')\n",
    "ct2.fit(sec_train)"
   ]
  },
  {
   "cell_type": "code",
   "execution_count": null,
   "metadata": {},
   "outputs": [],
   "source": [
    "sc_train2 = pd.DataFrame(ct2.transform(sec_train))\n",
    "sc_test2 = pd.DataFrame(ct2.transform(test2))\n",
    "sc_val2 = pd.DataFrame(ct2.transform(val2))\n",
    "column_names2 = columns_to_scale2 + ['class_type']\n",
    "sc_train2.columns = column_names2\n",
    "sc_test2.columns = column_names2\n",
    "sc_val2.columns = column_names2\n",
    "sc_val2"
   ]
  },
  {
   "cell_type": "code",
   "execution_count": null,
   "metadata": {},
   "outputs": [],
   "source": [
    "# Вспоминаем алгоритмы решения задачи классификации\n",
    "c_models = []\n",
    "\n",
    "# Логистическая регрессия\n",
    "# Параметр penalty - тип регуляризации: 'l1', 'l2', 'elasticnet', 'none'}, по умолчанию 'l2'\n",
    "# Для некоторых типов регуляризации доступны не все алгоритмы (параметр solver)\n",
    "# Для elasticnet регуляризации необходимо уазывать параметр l1_ratio (0 - l2, 1 - l1)\n",
    "c_models.append(LogisticRegression(penalty='l1', solver='saga'))\n",
    "\n",
    "\n",
    "# K ближайших соседей\n",
    "# Параметр n_neighbors - количество соседей, по умолчания равен 5\n",
    "c_models.append(KNeighborsClassifier(n_neighbors=5))\n",
    "\n",
    "# Метод опорных векторов\n",
    "# Параметр kernel опредеяет вид ядра преобразования\n",
    "c_models.append(SVC(kernel='sigmoid'))\n",
    "\n",
    "# Деревья решений\n",
    "# Параметр criterion - критерий качества ветвления: 'gini', 'entropy'\n",
    "# Параметр splitter - стартегия ветвления: 'best', 'random'\n",
    "c_models.append(DecisionTreeClassifier())\n",
    "c_models.append(DecisionTreeClassifier(splitter='random'))\n",
    "c_models\n",
    "[LogisticRegression(penalty='l1', solver='saga'),\n",
    " KNeighborsClassifier(),\n",
    " SVC(kernel='sigmoid'),\n",
    " DecisionTreeClassifier(),\n",
    " DecisionTreeClassifier(splitter='random')]\n",
    "x_labels2 = column_names2[0:-1]\n",
    "y_labels2 = ['class_type']\n",
    "\n",
    "x_train2 = sc_train2[x_labels2]\n",
    "x_test2 = sc_test2[x_labels2]\n",
    "x_val2 = sc_val2[x_labels2]\n",
    "\n",
    "y_train2 = np.ravel(sc_train2[y_labels2])\n",
    "y_test2 = np.ravel(sc_test2[y_labels2])\n",
    "y_val2 = np.ravel(sc_val2[y_labels2])\n",
    "x_train2"
   ]
  },
  {
   "cell_type": "code",
   "execution_count": null,
   "metadata": {},
   "outputs": [],
   "source": [
    "# Обучаем модели\n",
    "for model2 in c_models:\n",
    "    print(model2)\n",
    "    model2.fit(x_train2, y_train2)"
   ]
  },
  {
   "cell_type": "code",
   "execution_count": null,
   "metadata": {},
   "outputs": [],
   "source": [
    "# Оценииваем качество работы моделей на валидационной выборке.\n",
    "f1s = []\n",
    "for model2 in c_models:\n",
    "    val_pred2 = model2.predict(x_val2)\n",
    "    f1 = f1_score(y_val2, val_pred2, average='weighted')\n",
    "    f1s.append(f1)\n",
    "    print(model2, '\\t', f1)"
   ]
  },
  {
   "cell_type": "code",
   "execution_count": null,
   "metadata": {},
   "outputs": [],
   "source": [
    "# Выбираем лучшую модель\n",
    "i_max = f1s.index(max(f1s))\n",
    "best_c_model = c_models[i_max]\n",
    "best_c_model"
   ]
  },
  {
   "cell_type": "code",
   "execution_count": null,
   "metadata": {},
   "outputs": [],
   "source": [
    "# Вычислим ошибку лучшей модели на тестовой выборке.\n",
    "test_pred2 = best_c_model.predict(x_test2)\n",
    "f1 = f1_score(y_test2, test_pred2, average='weighted')\n",
    "print(f1)"
   ]
  },
  {
   "cell_type": "code",
   "execution_count": null,
   "metadata": {},
   "outputs": [],
   "source": [
    "# Вспоминаем алгоритм решения задачи кластеризации - метод k-средних\n",
    "# Параметр n_clusters - количество кластеров, по умолчанию равен 8\n",
    "k_models = []\n",
    "k_models.append(KMeans(n_clusters=5))\n",
    "k_models.append(KMeans(n_clusters=8))\n",
    "k_models.append(KMeans(n_clusters=20))\n",
    "k_models.append(KMeans(n_clusters=40))"
   ]
  },
  {
   "cell_type": "code",
   "execution_count": null,
   "metadata": {},
   "outputs": [],
   "source": [
    "# Выделим используемые параметры\n",
    "x_labels2 = column_names2[0:-1]\n",
    "x = pd.concat([sc_train2[x_labels2], sc_val2[x_labels2], sc_test2[x_labels2]])\n",
    "x"
   ]
  },
  {
   "cell_type": "code",
   "execution_count": null,
   "metadata": {},
   "outputs": [],
   "source": [
    "# Произведем кластеризацию\n",
    "for model in k_models:\n",
    "    model.fit(x)"
   ]
  },
  {
   "cell_type": "code",
   "execution_count": null,
   "metadata": {},
   "outputs": [],
   "source": [
    "# Оценим качество результата\n",
    "sils = []\n",
    "for model2 in k_models:\n",
    "    cluster_labels = model2.predict(x)\n",
    "    s = silhouette_score(x, cluster_labels)\n",
    "    sils.append(s)\n",
    "    print(s)"
   ]
  },
  {
   "cell_type": "code",
   "execution_count": null,
   "metadata": {},
   "outputs": [],
   "source": [
    "# Выбираем лучшую модель\n",
    "i_max = sils.index(max(sils))\n",
    "best_k_model = k_models[i_max]\n",
    "print(best_k_model)\n",
    "print(sils[i_max])"
   ]
  },
  {
   "cell_type": "code",
   "execution_count": null,
   "metadata": {},
   "outputs": [],
   "source": []
  }
 ],
 "metadata": {
  "kernelspec": {
   "display_name": "Python 3 (ipykernel)",
   "language": "python",
   "name": "python3"
  },
  "language_info": {
   "codemirror_mode": {
    "name": "ipython",
    "version": 3
   },
   "file_extension": ".py",
   "mimetype": "text/x-python",
   "name": "python",
   "nbconvert_exporter": "python",
   "pygments_lexer": "ipython3",
   "version": "3.7.12"
  }
 },
 "nbformat": 4,
 "nbformat_minor": 4
}
