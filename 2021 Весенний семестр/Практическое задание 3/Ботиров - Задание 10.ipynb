{
 "cells": [
  {
   "cell_type": "code",
   "execution_count": 43,
   "metadata": {},
   "outputs": [],
   "source": [
    "# Зависимости\n",
    "import pandas as pd\n",
    "import numpy as np\n",
    "import matplotlib.pyplot as plt\n",
    "import random\n",
    "\n",
    "from sklearn.model_selection import train_test_split\n",
    "from sklearn.preprocessing import MinMaxScaler\n",
    "from sklearn.compose import ColumnTransformer\n",
    "\n",
    "from sklearn.tree import DecisionTreeRegressor, DecisionTreeClassifier, plot_tree\n",
    "\n",
    "from sklearn.metrics import mean_squared_error, f1_score"
   ]
  },
  {
   "cell_type": "code",
   "execution_count": 44,
   "metadata": {},
   "outputs": [],
   "source": [
    "# Генерируем уникальный seed\n",
    "my_code = \"Ботиров\"\n",
    "seed_limit = 2 ** 32\n",
    "my_seed = int.from_bytes(my_code.encode(), \"little\") % seed_limit"
   ]
  },
  {
   "cell_type": "code",
   "execution_count": 45,
   "metadata": {},
   "outputs": [],
   "source": [
    "# Читаем данные из файла\n",
    "example_data = pd.read_csv(\"datasets/Fish.csv\")"
   ]
  },
  {
   "cell_type": "code",
   "execution_count": 46,
   "metadata": {
    "scrolled": false
   },
   "outputs": [
    {
     "data": {
      "text/html": [
       "<div>\n",
       "<style scoped>\n",
       "    .dataframe tbody tr th:only-of-type {\n",
       "        vertical-align: middle;\n",
       "    }\n",
       "\n",
       "    .dataframe tbody tr th {\n",
       "        vertical-align: top;\n",
       "    }\n",
       "\n",
       "    .dataframe thead th {\n",
       "        text-align: right;\n",
       "    }\n",
       "</style>\n",
       "<table border=\"1\" class=\"dataframe\">\n",
       "  <thead>\n",
       "    <tr style=\"text-align: right;\">\n",
       "      <th></th>\n",
       "      <th>Species</th>\n",
       "      <th>Weight</th>\n",
       "      <th>Length1</th>\n",
       "      <th>Length2</th>\n",
       "      <th>Length3</th>\n",
       "      <th>Height</th>\n",
       "      <th>Width</th>\n",
       "    </tr>\n",
       "  </thead>\n",
       "  <tbody>\n",
       "    <tr>\n",
       "      <th>0</th>\n",
       "      <td>Bream</td>\n",
       "      <td>242.0</td>\n",
       "      <td>23.2</td>\n",
       "      <td>25.4</td>\n",
       "      <td>30.0</td>\n",
       "      <td>11.5200</td>\n",
       "      <td>4.0200</td>\n",
       "    </tr>\n",
       "    <tr>\n",
       "      <th>1</th>\n",
       "      <td>Bream</td>\n",
       "      <td>290.0</td>\n",
       "      <td>24.0</td>\n",
       "      <td>26.3</td>\n",
       "      <td>31.2</td>\n",
       "      <td>12.4800</td>\n",
       "      <td>4.3056</td>\n",
       "    </tr>\n",
       "    <tr>\n",
       "      <th>2</th>\n",
       "      <td>Bream</td>\n",
       "      <td>340.0</td>\n",
       "      <td>23.9</td>\n",
       "      <td>26.5</td>\n",
       "      <td>31.1</td>\n",
       "      <td>12.3778</td>\n",
       "      <td>4.6961</td>\n",
       "    </tr>\n",
       "    <tr>\n",
       "      <th>3</th>\n",
       "      <td>Bream</td>\n",
       "      <td>363.0</td>\n",
       "      <td>26.3</td>\n",
       "      <td>29.0</td>\n",
       "      <td>33.5</td>\n",
       "      <td>12.7300</td>\n",
       "      <td>4.4555</td>\n",
       "    </tr>\n",
       "    <tr>\n",
       "      <th>4</th>\n",
       "      <td>Bream</td>\n",
       "      <td>430.0</td>\n",
       "      <td>26.5</td>\n",
       "      <td>29.0</td>\n",
       "      <td>34.0</td>\n",
       "      <td>12.4440</td>\n",
       "      <td>5.1340</td>\n",
       "    </tr>\n",
       "  </tbody>\n",
       "</table>\n",
       "</div>"
      ],
      "text/plain": [
       "  Species  Weight  Length1  Length2  Length3   Height   Width\n",
       "0   Bream   242.0     23.2     25.4     30.0  11.5200  4.0200\n",
       "1   Bream   290.0     24.0     26.3     31.2  12.4800  4.3056\n",
       "2   Bream   340.0     23.9     26.5     31.1  12.3778  4.6961\n",
       "3   Bream   363.0     26.3     29.0     33.5  12.7300  4.4555\n",
       "4   Bream   430.0     26.5     29.0     34.0  12.4440  5.1340"
      ]
     },
     "execution_count": 46,
     "metadata": {},
     "output_type": "execute_result"
    }
   ],
   "source": [
    "example_data.head()"
   ]
  },
  {
   "cell_type": "code",
   "execution_count": 47,
   "metadata": {},
   "outputs": [
    {
     "name": "stdout",
     "output_type": "stream",
     "text": [
      "32\n"
     ]
    }
   ],
   "source": [
    "# Определим размер валидационной и тестовой выборок\n",
    "val_test_size = round(0.2*len(example_data))\n",
    "print(val_test_size)"
   ]
  },
  {
   "cell_type": "code",
   "execution_count": 48,
   "metadata": {},
   "outputs": [
    {
     "name": "stdout",
     "output_type": "stream",
     "text": [
      "95 32 32\n"
     ]
    }
   ],
   "source": [
    "# Создадим обучающую, валидационную и тестовую выборки\n",
    "random_state = my_seed\n",
    "train_val, test = train_test_split(example_data, test_size=val_test_size, random_state=random_state)\n",
    "train, val = train_test_split(train_val, test_size=val_test_size, random_state=random_state)\n",
    "print(len(train), len(val), len(test))"
   ]
  },
  {
   "cell_type": "code",
   "execution_count": 49,
   "metadata": {},
   "outputs": [
    {
     "data": {
      "text/plain": [
       "ColumnTransformer(remainder='passthrough',\n",
       "                  transformers=[('numerical', MinMaxScaler(),\n",
       "                                 ['Weight', 'Length1', 'Length2', 'Length3',\n",
       "                                  'Height', 'Width'])])"
      ]
     },
     "execution_count": 49,
     "metadata": {},
     "output_type": "execute_result"
    }
   ],
   "source": [
    "# Значения в числовых столбцах преобразуем к отрезку [0,1].\n",
    "# Для настройки скалировщика используем только обучающую выборку.\n",
    "num_columns = ['Weight', 'Length1', 'Length2', 'Length3', 'Height', 'Width']\n",
    "\n",
    "ct = ColumnTransformer(transformers=[('numerical', MinMaxScaler(), num_columns)], remainder='passthrough')\n",
    "ct.fit(train)"
   ]
  },
  {
   "cell_type": "code",
   "execution_count": 50,
   "metadata": {},
   "outputs": [],
   "source": [
    "# Преобразуем значения, тип данных приводим к DataFrame\n",
    "sc_train = pd.DataFrame(ct.transform(train))\n",
    "sc_test = pd.DataFrame(ct.transform(test))\n",
    "sc_val = pd.DataFrame(ct.transform(val))"
   ]
  },
  {
   "cell_type": "code",
   "execution_count": 51,
   "metadata": {},
   "outputs": [],
   "source": [
    "# Устанавливаем названия столбцов\n",
    "column_names = num_columns + ['Species']\n",
    "sc_train.columns = column_names\n",
    "sc_test.columns = column_names\n",
    "sc_val.columns = column_names"
   ]
  },
  {
   "cell_type": "code",
   "execution_count": 52,
   "metadata": {},
   "outputs": [
    {
     "data": {
      "text/html": [
       "<div>\n",
       "<style scoped>\n",
       "    .dataframe tbody tr th:only-of-type {\n",
       "        vertical-align: middle;\n",
       "    }\n",
       "\n",
       "    .dataframe tbody tr th {\n",
       "        vertical-align: top;\n",
       "    }\n",
       "\n",
       "    .dataframe thead th {\n",
       "        text-align: right;\n",
       "    }\n",
       "</style>\n",
       "<table border=\"1\" class=\"dataframe\">\n",
       "  <thead>\n",
       "    <tr style=\"text-align: right;\">\n",
       "      <th></th>\n",
       "      <th>Weight</th>\n",
       "      <th>Length1</th>\n",
       "      <th>Length2</th>\n",
       "      <th>Length3</th>\n",
       "      <th>Height</th>\n",
       "      <th>Width</th>\n",
       "      <th>Species</th>\n",
       "    </tr>\n",
       "  </thead>\n",
       "  <tbody>\n",
       "    <tr>\n",
       "      <th>0</th>\n",
       "      <td>0.006</td>\n",
       "      <td>0.073786</td>\n",
       "      <td>0.061818</td>\n",
       "      <td>0.072635</td>\n",
       "      <td>0.027593</td>\n",
       "      <td>0.017531</td>\n",
       "      <td>Smelt</td>\n",
       "    </tr>\n",
       "    <tr>\n",
       "      <th>1</th>\n",
       "      <td>0.165455</td>\n",
       "      <td>0.300971</td>\n",
       "      <td>0.301818</td>\n",
       "      <td>0.324324</td>\n",
       "      <td>0.542984</td>\n",
       "      <td>0.458855</td>\n",
       "      <td>Parkki</td>\n",
       "    </tr>\n",
       "    <tr>\n",
       "      <th>2</th>\n",
       "      <td>0.175758</td>\n",
       "      <td>0.320388</td>\n",
       "      <td>0.325455</td>\n",
       "      <td>0.378378</td>\n",
       "      <td>0.623828</td>\n",
       "      <td>0.482803</td>\n",
       "      <td>Bream</td>\n",
       "    </tr>\n",
       "    <tr>\n",
       "      <th>3</th>\n",
       "      <td>0.164848</td>\n",
       "      <td>0.339806</td>\n",
       "      <td>0.338182</td>\n",
       "      <td>0.368243</td>\n",
       "      <td>0.396627</td>\n",
       "      <td>0.552155</td>\n",
       "      <td>Roach</td>\n",
       "    </tr>\n",
       "    <tr>\n",
       "      <th>4</th>\n",
       "      <td>0.066667</td>\n",
       "      <td>0.223301</td>\n",
       "      <td>0.229091</td>\n",
       "      <td>0.231419</td>\n",
       "      <td>0.229623</td>\n",
       "      <td>0.371571</td>\n",
       "      <td>Perch</td>\n",
       "    </tr>\n",
       "    <tr>\n",
       "      <th>...</th>\n",
       "      <td>...</td>\n",
       "      <td>...</td>\n",
       "      <td>...</td>\n",
       "      <td>...</td>\n",
       "      <td>...</td>\n",
       "      <td>...</td>\n",
       "      <td>...</td>\n",
       "    </tr>\n",
       "    <tr>\n",
       "      <th>90</th>\n",
       "      <td>0.363636</td>\n",
       "      <td>0.425243</td>\n",
       "      <td>0.429091</td>\n",
       "      <td>0.47973</td>\n",
       "      <td>0.795623</td>\n",
       "      <td>0.671656</td>\n",
       "      <td>Bream</td>\n",
       "    </tr>\n",
       "    <tr>\n",
       "      <th>91</th>\n",
       "      <td>0.181818</td>\n",
       "      <td>0.48932</td>\n",
       "      <td>0.483636</td>\n",
       "      <td>0.506757</td>\n",
       "      <td>0.243789</td>\n",
       "      <td>0.49448</td>\n",
       "      <td>Pike</td>\n",
       "    </tr>\n",
       "    <tr>\n",
       "      <th>92</th>\n",
       "      <td>1.0</td>\n",
       "      <td>1.0</td>\n",
       "      <td>1.0</td>\n",
       "      <td>1.0</td>\n",
       "      <td>0.526954</td>\n",
       "      <td>0.953216</td>\n",
       "      <td>Pike</td>\n",
       "    </tr>\n",
       "    <tr>\n",
       "      <th>93</th>\n",
       "      <td>0.146667</td>\n",
       "      <td>0.304854</td>\n",
       "      <td>0.309091</td>\n",
       "      <td>0.358108</td>\n",
       "      <td>0.568073</td>\n",
       "      <td>0.44048</td>\n",
       "      <td>Bream</td>\n",
       "    </tr>\n",
       "    <tr>\n",
       "      <th>94</th>\n",
       "      <td>0.09697</td>\n",
       "      <td>0.252427</td>\n",
       "      <td>0.256364</td>\n",
       "      <td>0.278716</td>\n",
       "      <td>0.3075</td>\n",
       "      <td>0.410886</td>\n",
       "      <td>Roach</td>\n",
       "    </tr>\n",
       "  </tbody>\n",
       "</table>\n",
       "<p>95 rows × 7 columns</p>\n",
       "</div>"
      ],
      "text/plain": [
       "      Weight   Length1   Length2   Length3    Height     Width Species\n",
       "0      0.006  0.073786  0.061818  0.072635  0.027593  0.017531   Smelt\n",
       "1   0.165455  0.300971  0.301818  0.324324  0.542984  0.458855  Parkki\n",
       "2   0.175758  0.320388  0.325455  0.378378  0.623828  0.482803   Bream\n",
       "3   0.164848  0.339806  0.338182  0.368243  0.396627  0.552155   Roach\n",
       "4   0.066667  0.223301  0.229091  0.231419  0.229623  0.371571   Perch\n",
       "..       ...       ...       ...       ...       ...       ...     ...\n",
       "90  0.363636  0.425243  0.429091   0.47973  0.795623  0.671656   Bream\n",
       "91  0.181818   0.48932  0.483636  0.506757  0.243789   0.49448    Pike\n",
       "92       1.0       1.0       1.0       1.0  0.526954  0.953216    Pike\n",
       "93  0.146667  0.304854  0.309091  0.358108  0.568073   0.44048   Bream\n",
       "94   0.09697  0.252427  0.256364  0.278716    0.3075  0.410886   Roach\n",
       "\n",
       "[95 rows x 7 columns]"
      ]
     },
     "execution_count": 52,
     "metadata": {},
     "output_type": "execute_result"
    }
   ],
   "source": [
    "sc_train"
   ]
  },
  {
   "cell_type": "code",
   "execution_count": 53,
   "metadata": {},
   "outputs": [],
   "source": [
    "# Задание №1 - анализ деревьев принятия решений в задаче регрессии\n",
    "# https://scikit-learn.org/stable/modules/generated/sklearn.tree.DecisionTreeRegressor.html\n",
    "# criterion : {“mse”, “friedman_mse”, “mae”, “poisson”}, default=”mse”\n",
    "# splitter : {“best”, “random”}, default=”best”\n",
    "# max_depth : int, default=None\n",
    "# min_samples_split : int or float, default=2\n",
    "# min_samples_leaf : int or float, default=1"
   ]
  },
  {
   "cell_type": "code",
   "execution_count": 54,
   "metadata": {
    "scrolled": true
   },
   "outputs": [
    {
     "name": "stdout",
     "output_type": "stream",
     "text": [
      "['Width', 'Weight', 'Length1']\n",
      "Length2\n"
     ]
    }
   ],
   "source": [
    "# Выбираем 4 числовых переменных, три их них будут предикторами, одна - зависимой переменной\n",
    "n = 4\n",
    "labels = random.sample(num_columns, n)\n",
    "\n",
    "y_label = labels[0]\n",
    "x_labels = labels[1:]\n",
    "\n",
    "print(x_labels)\n",
    "print(y_label)"
   ]
  },
  {
   "cell_type": "code",
   "execution_count": 55,
   "metadata": {},
   "outputs": [],
   "source": [
    "# Отберем необходимые параметры\n",
    "x_train = sc_train[x_labels]\n",
    "x_test = sc_test[x_labels]\n",
    "x_val = sc_val[x_labels]\n",
    "\n",
    "y_train = sc_train[y_label]\n",
    "y_test = sc_test[y_label]\n",
    "y_val = sc_val[y_label]"
   ]
  },
  {
   "cell_type": "code",
   "execution_count": 56,
   "metadata": {},
   "outputs": [
    {
     "data": {
      "text/html": [
       "<div>\n",
       "<style scoped>\n",
       "    .dataframe tbody tr th:only-of-type {\n",
       "        vertical-align: middle;\n",
       "    }\n",
       "\n",
       "    .dataframe tbody tr th {\n",
       "        vertical-align: top;\n",
       "    }\n",
       "\n",
       "    .dataframe thead th {\n",
       "        text-align: right;\n",
       "    }\n",
       "</style>\n",
       "<table border=\"1\" class=\"dataframe\">\n",
       "  <thead>\n",
       "    <tr style=\"text-align: right;\">\n",
       "      <th></th>\n",
       "      <th>Width</th>\n",
       "      <th>Weight</th>\n",
       "      <th>Length1</th>\n",
       "    </tr>\n",
       "  </thead>\n",
       "  <tbody>\n",
       "    <tr>\n",
       "      <th>0</th>\n",
       "      <td>0.017531</td>\n",
       "      <td>0.006</td>\n",
       "      <td>0.073786</td>\n",
       "    </tr>\n",
       "    <tr>\n",
       "      <th>1</th>\n",
       "      <td>0.458855</td>\n",
       "      <td>0.165455</td>\n",
       "      <td>0.300971</td>\n",
       "    </tr>\n",
       "    <tr>\n",
       "      <th>2</th>\n",
       "      <td>0.482803</td>\n",
       "      <td>0.175758</td>\n",
       "      <td>0.320388</td>\n",
       "    </tr>\n",
       "    <tr>\n",
       "      <th>3</th>\n",
       "      <td>0.552155</td>\n",
       "      <td>0.164848</td>\n",
       "      <td>0.339806</td>\n",
       "    </tr>\n",
       "    <tr>\n",
       "      <th>4</th>\n",
       "      <td>0.371571</td>\n",
       "      <td>0.066667</td>\n",
       "      <td>0.223301</td>\n",
       "    </tr>\n",
       "    <tr>\n",
       "      <th>...</th>\n",
       "      <td>...</td>\n",
       "      <td>...</td>\n",
       "      <td>...</td>\n",
       "    </tr>\n",
       "    <tr>\n",
       "      <th>90</th>\n",
       "      <td>0.671656</td>\n",
       "      <td>0.363636</td>\n",
       "      <td>0.425243</td>\n",
       "    </tr>\n",
       "    <tr>\n",
       "      <th>91</th>\n",
       "      <td>0.49448</td>\n",
       "      <td>0.181818</td>\n",
       "      <td>0.48932</td>\n",
       "    </tr>\n",
       "    <tr>\n",
       "      <th>92</th>\n",
       "      <td>0.953216</td>\n",
       "      <td>1.0</td>\n",
       "      <td>1.0</td>\n",
       "    </tr>\n",
       "    <tr>\n",
       "      <th>93</th>\n",
       "      <td>0.44048</td>\n",
       "      <td>0.146667</td>\n",
       "      <td>0.304854</td>\n",
       "    </tr>\n",
       "    <tr>\n",
       "      <th>94</th>\n",
       "      <td>0.410886</td>\n",
       "      <td>0.09697</td>\n",
       "      <td>0.252427</td>\n",
       "    </tr>\n",
       "  </tbody>\n",
       "</table>\n",
       "<p>95 rows × 3 columns</p>\n",
       "</div>"
      ],
      "text/plain": [
       "       Width    Weight   Length1\n",
       "0   0.017531     0.006  0.073786\n",
       "1   0.458855  0.165455  0.300971\n",
       "2   0.482803  0.175758  0.320388\n",
       "3   0.552155  0.164848  0.339806\n",
       "4   0.371571  0.066667  0.223301\n",
       "..       ...       ...       ...\n",
       "90  0.671656  0.363636  0.425243\n",
       "91   0.49448  0.181818   0.48932\n",
       "92  0.953216       1.0       1.0\n",
       "93   0.44048  0.146667  0.304854\n",
       "94  0.410886   0.09697  0.252427\n",
       "\n",
       "[95 rows x 3 columns]"
      ]
     },
     "execution_count": 56,
     "metadata": {},
     "output_type": "execute_result"
    }
   ],
   "source": [
    "x_train"
   ]
  },
  {
   "cell_type": "code",
   "execution_count": 57,
   "metadata": {},
   "outputs": [
    {
     "name": "stdout",
     "output_type": "stream",
     "text": [
      "0 0.9837376161740669\n",
      "1 0.98477009805401\n",
      "2 0.9807990139003829\n",
      "3 0.9452276304858542\n"
     ]
    }
   ],
   "source": [
    "# Создайте 4 модели с различными критериями ветвления criterion: 'mse', 'friedman_mse', 'mae', 'poisson'.\n",
    "# Решите получившуюся задачу регрессии с помощью созданных моделей и сравните их эффективность.\n",
    "# При необходимости применяйте параметры splitter, max_depth, min_samples_split, min_samples_leaf\n",
    "# Укажите, какая модель решает задачу лучше других.\n",
    "criterion_list = ['mse', 'friedman_mse', 'mae', 'poisson']\n",
    "r_model_list = []\n",
    "for i in range(len(criterion_list)):\n",
    "    r_model_list.append(DecisionTreeRegressor(criterion=criterion_list[i], random_state=random_state))\n",
    "    r_model_list[i].fit(x_train, y_train)\n",
    "    print(i, r_model_list[i].score(x_val, y_val))"
   ]
  },
  {
   "cell_type": "code",
   "execution_count": 58,
   "metadata": {},
   "outputs": [
    {
     "name": "stdout",
     "output_type": "stream",
     "text": [
      "0.001570454545454545\n",
      "DecisionTreeRegressor(criterion='friedman_mse', random_state=3201339856)\n"
     ]
    }
   ],
   "source": [
    "test_pred = r_model_list[1].predict(x_test)\n",
    "print(mean_squared_error(y_test, test_pred), r_model_list[1], sep='\\n')"
   ]
  },
  {
   "cell_type": "code",
   "execution_count": 59,
   "metadata": {},
   "outputs": [],
   "source": [
    "# Задание №2 - анализ деревьев принятия решений в задаче классификации\n",
    "# https://scikit-learn.org/stable/modules/generated/sklearn.tree.DecisionTreeClassifier.html\n",
    "# criterion : {“gini”, “entropy”}, default=”gini”\n",
    "# splitter : {“best”, “random”}, default=”best”\n",
    "# max_depth : int, default=None\n",
    "# min_samples_split : int or float, default=2\n",
    "# min_samples_leaf : int or float, default=1"
   ]
  },
  {
   "cell_type": "code",
   "execution_count": 60,
   "metadata": {},
   "outputs": [
    {
     "name": "stdout",
     "output_type": "stream",
     "text": [
      "['Weight', 'Length3']\n",
      "Species\n"
     ]
    }
   ],
   "source": [
    "# Выбираем 2 числовых переменных, которые будут параметрами элементов набора данных\n",
    "# Метка класса всегда 'Species'\n",
    "n = 2\n",
    "x_labels = random.sample(num_columns, n)\n",
    "y_label = 'Species'\n",
    "\n",
    "print(x_labels)\n",
    "print(y_label)"
   ]
  },
  {
   "cell_type": "code",
   "execution_count": 61,
   "metadata": {
    "scrolled": true
   },
   "outputs": [],
   "source": [
    "# Отберем необходимые параметры\n",
    "x_train = sc_train[x_labels]\n",
    "x_test = sc_test[x_labels]\n",
    "x_val = sc_val[x_labels]\n",
    "\n",
    "y_train = sc_train[y_label]\n",
    "y_test = sc_test[y_label]\n",
    "y_val = sc_val[y_label]"
   ]
  },
  {
   "cell_type": "code",
   "execution_count": 62,
   "metadata": {},
   "outputs": [
    {
     "data": {
      "text/html": [
       "<div>\n",
       "<style scoped>\n",
       "    .dataframe tbody tr th:only-of-type {\n",
       "        vertical-align: middle;\n",
       "    }\n",
       "\n",
       "    .dataframe tbody tr th {\n",
       "        vertical-align: top;\n",
       "    }\n",
       "\n",
       "    .dataframe thead th {\n",
       "        text-align: right;\n",
       "    }\n",
       "</style>\n",
       "<table border=\"1\" class=\"dataframe\">\n",
       "  <thead>\n",
       "    <tr style=\"text-align: right;\">\n",
       "      <th></th>\n",
       "      <th>Weight</th>\n",
       "      <th>Length3</th>\n",
       "    </tr>\n",
       "  </thead>\n",
       "  <tbody>\n",
       "    <tr>\n",
       "      <th>0</th>\n",
       "      <td>0.006</td>\n",
       "      <td>0.072635</td>\n",
       "    </tr>\n",
       "    <tr>\n",
       "      <th>1</th>\n",
       "      <td>0.165455</td>\n",
       "      <td>0.324324</td>\n",
       "    </tr>\n",
       "    <tr>\n",
       "      <th>2</th>\n",
       "      <td>0.175758</td>\n",
       "      <td>0.378378</td>\n",
       "    </tr>\n",
       "    <tr>\n",
       "      <th>3</th>\n",
       "      <td>0.164848</td>\n",
       "      <td>0.368243</td>\n",
       "    </tr>\n",
       "    <tr>\n",
       "      <th>4</th>\n",
       "      <td>0.066667</td>\n",
       "      <td>0.231419</td>\n",
       "    </tr>\n",
       "    <tr>\n",
       "      <th>...</th>\n",
       "      <td>...</td>\n",
       "      <td>...</td>\n",
       "    </tr>\n",
       "    <tr>\n",
       "      <th>90</th>\n",
       "      <td>0.363636</td>\n",
       "      <td>0.47973</td>\n",
       "    </tr>\n",
       "    <tr>\n",
       "      <th>91</th>\n",
       "      <td>0.181818</td>\n",
       "      <td>0.506757</td>\n",
       "    </tr>\n",
       "    <tr>\n",
       "      <th>92</th>\n",
       "      <td>1.0</td>\n",
       "      <td>1.0</td>\n",
       "    </tr>\n",
       "    <tr>\n",
       "      <th>93</th>\n",
       "      <td>0.146667</td>\n",
       "      <td>0.358108</td>\n",
       "    </tr>\n",
       "    <tr>\n",
       "      <th>94</th>\n",
       "      <td>0.09697</td>\n",
       "      <td>0.278716</td>\n",
       "    </tr>\n",
       "  </tbody>\n",
       "</table>\n",
       "<p>95 rows × 2 columns</p>\n",
       "</div>"
      ],
      "text/plain": [
       "      Weight   Length3\n",
       "0      0.006  0.072635\n",
       "1   0.165455  0.324324\n",
       "2   0.175758  0.378378\n",
       "3   0.164848  0.368243\n",
       "4   0.066667  0.231419\n",
       "..       ...       ...\n",
       "90  0.363636   0.47973\n",
       "91  0.181818  0.506757\n",
       "92       1.0       1.0\n",
       "93  0.146667  0.358108\n",
       "94   0.09697  0.278716\n",
       "\n",
       "[95 rows x 2 columns]"
      ]
     },
     "execution_count": 62,
     "metadata": {},
     "output_type": "execute_result"
    }
   ],
   "source": [
    "x_train"
   ]
  },
  {
   "cell_type": "code",
   "execution_count": 63,
   "metadata": {},
   "outputs": [
    {
     "name": "stdout",
     "output_type": "stream",
     "text": [
      "0 0.4375\n",
      "1 0.40625\n",
      "2 0.5\n",
      "3 0.375\n"
     ]
    },
    {
     "name": "stderr",
     "output_type": "stream",
     "text": [
      "/srv/conda/envs/notebook/lib/python3.7/site-packages/sklearn/utils/validation.py:72: FutureWarning: Pass criterion=gini, splitter=best as keyword args. From version 1.0 (renaming of 0.25) passing these as positional arguments will result in an error\n",
      "  \"will result in an error\", FutureWarning)\n",
      "/srv/conda/envs/notebook/lib/python3.7/site-packages/sklearn/utils/validation.py:72: FutureWarning: Pass criterion=gini, splitter=random as keyword args. From version 1.0 (renaming of 0.25) passing these as positional arguments will result in an error\n",
      "  \"will result in an error\", FutureWarning)\n",
      "/srv/conda/envs/notebook/lib/python3.7/site-packages/sklearn/utils/validation.py:72: FutureWarning: Pass criterion=entropy, splitter=best as keyword args. From version 1.0 (renaming of 0.25) passing these as positional arguments will result in an error\n",
      "  \"will result in an error\", FutureWarning)\n",
      "/srv/conda/envs/notebook/lib/python3.7/site-packages/sklearn/utils/validation.py:72: FutureWarning: Pass criterion=entropy, splitter=random as keyword args. From version 1.0 (renaming of 0.25) passing these as positional arguments will result in an error\n",
      "  \"will result in an error\", FutureWarning)\n"
     ]
    }
   ],
   "source": [
    "# Создайте 4 модели с различными критериями ветвления criterion : 'gini', 'entropy' и splitter : 'best', 'random'.\n",
    "# Решите получившуюся задачу классификации с помощью созданных моделей и сравните их эффективность.\n",
    "# При необходимости применяйте параметры max_depth, min_samples_split, min_samples_leaf\n",
    "# Укажите, какая модель решает задачу лучше других.\n",
    "import itertools\n",
    "criterion = list(itertools.product(['gini', 'entropy'], ['best', 'random']))\n",
    "c_model_list = []\n",
    "for i in range(0,len(criterion)):\n",
    "    c_model_list.append(DecisionTreeClassifier(criterion[i][0], criterion[i][1], random_state=random_state))\n",
    "    c_model_list[i].fit(x_train, y_train)\n",
    "    print(i, c_model_list[i].score(x_val, y_val))"
   ]
  },
  {
   "cell_type": "code",
   "execution_count": 64,
   "metadata": {},
   "outputs": [
    {
     "name": "stdout",
     "output_type": "stream",
     "text": [
      "0.4225275383141763\n",
      "DecisionTreeClassifier(random_state=3201339856, splitter='random')\n"
     ]
    }
   ],
   "source": [
    "test_pred = c_model_list[1].predict(x_test)\n",
    "f1 = f1_score(y_test, test_pred, average='weighted')\n",
    "print(f1,  c_model_list[1], sep='\\n')"
   ]
  }
 ],
 "metadata": {
  "kernelspec": {
   "display_name": "Python 3",
   "language": "python",
   "name": "python3"
  },
  "language_info": {
   "codemirror_mode": {
    "name": "ipython",
    "version": 3
   },
   "file_extension": ".py",
   "mimetype": "text/x-python",
   "name": "python",
   "nbconvert_exporter": "python",
   "pygments_lexer": "ipython3",
   "version": "3.7.10"
  }
 },
 "nbformat": 4,
 "nbformat_minor": 2
}
