{
  "cells":[
    {
      "cell_type":"code",
      "source":[
        "# Задание на повторение материала предыдущего семестра"
      ],
      "execution_count":1,
      "outputs":[
        
      ],
      "metadata":{
        
      }
    },
    {
      "cell_type":"code",
      "source":[
        "# Зависимости\n",
        "import pandas as pd\n",
        "import numpy as np\n",
        "import matplotlib.pyplot as plt\n",
        "import random\n",
        "\n",
        "from sklearn.model_selection import train_test_split\n",
        "from sklearn.preprocessing import MinMaxScaler\n",
        "from sklearn.compose import ColumnTransformer\n",
        "\n",
        "from sklearn.linear_model import LinearRegression, Lasso, Ridge, ElasticNet, LogisticRegression\n",
        "from sklearn.neighbors import KNeighborsRegressor, KNeighborsClassifier\n",
        "from sklearn.naive_bayes import MultinomialNB\n",
        "from sklearn.cluster import KMeans\n",
        "\n",
        "from sklearn.metrics import mean_squared_error, f1_score, silhouette_score"
      ],
      "execution_count":2,
      "outputs":[
        {
          "name":"stderr",
          "text":[
            "Matplotlib is building the font cache; this may take a moment.\n"
          ],
          "output_type":"stream"
        }
      ],
      "metadata":{
        
      }
    },
    {
      "cell_type":"code",
      "source":[
        "# Генерируем уникальный seed\n",
        "my_code = \"Рахматуллаев_Тимуров\"\n",
        "seed_limit = 2 ** 32\n",
        "my_seed = int.from_bytes(my_code.encode(), \"little\") % seed_limit"
      ],
      "execution_count":3,
      "outputs":[
        
      ],
      "metadata":{
        
      }
    },
    {
      "cell_type":"code",
      "source":[
        "# Данные загружены отсюда: https:\/\/www.kaggle.com\/dwdkills\/russian-demography\n",
        "# Читаем данные из файла\n",
        "example_data = pd.read_csv(\"datasets\/russian_demography.csv\")"
      ],
      "execution_count":4,
      "outputs":[
        
      ],
      "metadata":{
        
      }
    },
    {
      "cell_type":"code",
      "source":[
        "# \"year\" - год (1990-2017)\n",
        "# \"region\" - название региона\n",
        "# \"npg\" - естественный прирост населения на 1000 человек\n",
        "# \"birth_rate\" - количество рождений на 1000 человек\n",
        "# \"death_rate\" - количество смертей на 1000 человек\n",
        "# \"gdw\" - коэффициент демографической нагрузки на 100 человек (Отношение числа нетрудоспособных к числу трудоспособных).\n",
        "# \"urbanization\" - процент городского населения\n",
        "\n",
        "example_data.head()"
      ],
      "execution_count":5,
      "outputs":[
        {
          "data":{
            "text\/html":[
              "<div>\n",
              "<style scoped>\n",
              "    .dataframe tbody tr th:only-of-type {\n",
              "        vertical-align: middle;\n",
              "    }\n",
              "\n",
              "    .dataframe tbody tr th {\n",
              "        vertical-align: top;\n",
              "    }\n",
              "\n",
              "    .dataframe thead th {\n",
              "        text-align: right;\n",
              "    }\n",
              "<\/style>\n",
              "<table border=\"1\" class=\"dataframe\">\n",
              "  <thead>\n",
              "    <tr style=\"text-align: right;\">\n",
              "      <th><\/th>\n",
              "      <th>year<\/th>\n",
              "      <th>region<\/th>\n",
              "      <th>npg<\/th>\n",
              "      <th>birth_rate<\/th>\n",
              "      <th>death_rate<\/th>\n",
              "      <th>gdw<\/th>\n",
              "      <th>urbanization<\/th>\n",
              "    <\/tr>\n",
              "  <\/thead>\n",
              "  <tbody>\n",
              "    <tr>\n",
              "      <th>0<\/th>\n",
              "      <td>1990<\/td>\n",
              "      <td>Republic of Adygea<\/td>\n",
              "      <td>1.9<\/td>\n",
              "      <td>14.2<\/td>\n",
              "      <td>12.3<\/td>\n",
              "      <td>84.66<\/td>\n",
              "      <td>52.42<\/td>\n",
              "    <\/tr>\n",
              "    <tr>\n",
              "      <th>1<\/th>\n",
              "      <td>1990<\/td>\n",
              "      <td>Altai Krai<\/td>\n",
              "      <td>1.8<\/td>\n",
              "      <td>12.9<\/td>\n",
              "      <td>11.1<\/td>\n",
              "      <td>80.24<\/td>\n",
              "      <td>58.07<\/td>\n",
              "    <\/tr>\n",
              "    <tr>\n",
              "      <th>2<\/th>\n",
              "      <td>1990<\/td>\n",
              "      <td>Amur Oblast<\/td>\n",
              "      <td>7.6<\/td>\n",
              "      <td>16.2<\/td>\n",
              "      <td>8.6<\/td>\n",
              "      <td>69.55<\/td>\n",
              "      <td>68.37<\/td>\n",
              "    <\/tr>\n",
              "    <tr>\n",
              "      <th>3<\/th>\n",
              "      <td>1990<\/td>\n",
              "      <td>Arkhangelsk Oblast<\/td>\n",
              "      <td>3.7<\/td>\n",
              "      <td>13.5<\/td>\n",
              "      <td>9.8<\/td>\n",
              "      <td>73.26<\/td>\n",
              "      <td>73.63<\/td>\n",
              "    <\/tr>\n",
              "    <tr>\n",
              "      <th>4<\/th>\n",
              "      <td>1990<\/td>\n",
              "      <td>Astrakhan Oblast<\/td>\n",
              "      <td>4.7<\/td>\n",
              "      <td>15.1<\/td>\n",
              "      <td>10.4<\/td>\n",
              "      <td>77.05<\/td>\n",
              "      <td>68.01<\/td>\n",
              "    <\/tr>\n",
              "  <\/tbody>\n",
              "<\/table>\n",
              "<\/div>"
            ]
          },
          "metadata":{
            
          },
          "output_type":"display_data"
        }
      ],
      "metadata":{
        
      }
    },
    {
      "cell_type":"code",
      "source":[
        "# Так как список регионов меняется от года к году, в данных есть строки без значений. Удалим их\n",
        "example_data.dropna(inplace=True)"
      ],
      "execution_count":6,
      "outputs":[
        
      ],
      "metadata":{
        
      }
    },
    {
      "cell_type":"code",
      "source":[
        "# Определим размер валидационной и тестовой выборок\n",
        "val_test_size = round(0.2*len(example_data))\n",
        "print(val_test_size)"
      ],
      "execution_count":7,
      "outputs":[
        {
          "name":"stdout",
          "text":[
            "463\n"
          ],
          "output_type":"stream"
        }
      ],
      "metadata":{
        
      }
    },
    {
      "cell_type":"code",
      "source":[
        "# Создадим обучающую, валидационную и тестовую выборки\n",
        "random_state = my_seed\n",
        "train_val, test = train_test_split(example_data, test_size=val_test_size, random_state=random_state)\n",
        "train, val = train_test_split(train_val, test_size=val_test_size, random_state=random_state)\n",
        "print(len(train), len(val), len(test))"
      ],
      "execution_count":8,
      "outputs":[
        {
          "name":"stdout",
          "text":[
            "1389 463 463\n"
          ],
          "output_type":"stream"
        }
      ],
      "metadata":{
        
      }
    },
    {
      "cell_type":"code",
      "source":[
        "# Значения в числовых столбцах преобразуем к отрезку [0,1].\n",
        "# Для настройки скалировщика используем только обучающую выборку.\n",
        "columns_to_scale = ['year', 'npg', 'birth_rate', 'death_rate', 'gdw', 'urbanization']\n",
        "\n",
        "ct = ColumnTransformer(transformers=[('numerical', MinMaxScaler(), columns_to_scale)], remainder='passthrough')\n",
        "ct.fit(train)"
      ],
      "execution_count":9,
      "outputs":[
        {
          "data":{
            "text\/plain":[
              "ColumnTransformer(remainder='passthrough',\n",
              "                  transformers=[('numerical', MinMaxScaler(),\n",
              "                                 ['year', 'npg', 'birth_rate', 'death_rate',\n",
              "                                  'gdw', 'urbanization'])])"
            ]
          },
          "metadata":{
            
          },
          "output_type":"display_data"
        }
      ],
      "metadata":{
        
      }
    },
    {
      "cell_type":"code",
      "source":[
        "# Преобразуем значения, тип данных приводим к DataFrame\n",
        "sc_train = pd.DataFrame(ct.transform(train))\n",
        "sc_test = pd.DataFrame(ct.transform(test))\n",
        "sc_val = pd.DataFrame(ct.transform(val))"
      ],
      "execution_count":10,
      "outputs":[
        
      ],
      "metadata":{
        
      }
    },
    {
      "cell_type":"code",
      "source":[
        "# Устанавливаем названия столбцов\n",
        "column_names = columns_to_scale + ['region']\n",
        "sc_train.columns = column_names\n",
        "sc_test.columns = column_names\n",
        "sc_val.columns = column_names"
      ],
      "execution_count":11,
      "outputs":[
        
      ],
      "metadata":{
        
      }
    },
    {
      "cell_type":"code",
      "source":[
        "sc_train"
      ],
      "execution_count":12,
      "outputs":[
        {
          "data":{
            "text\/html":[
              "<div>\n",
              "<style scoped>\n",
              "    .dataframe tbody tr th:only-of-type {\n",
              "        vertical-align: middle;\n",
              "    }\n",
              "\n",
              "    .dataframe tbody tr th {\n",
              "        vertical-align: top;\n",
              "    }\n",
              "\n",
              "    .dataframe thead th {\n",
              "        text-align: right;\n",
              "    }\n",
              "<\/style>\n",
              "<table border=\"1\" class=\"dataframe\">\n",
              "  <thead>\n",
              "    <tr style=\"text-align: right;\">\n",
              "      <th><\/th>\n",
              "      <th>year<\/th>\n",
              "      <th>npg<\/th>\n",
              "      <th>birth_rate<\/th>\n",
              "      <th>death_rate<\/th>\n",
              "      <th>gdw<\/th>\n",
              "      <th>urbanization<\/th>\n",
              "      <th>region<\/th>\n",
              "    <\/tr>\n",
              "  <\/thead>\n",
              "  <tbody>\n",
              "    <tr>\n",
              "      <th>0<\/th>\n",
              "      <td>0.037037<\/td>\n",
              "      <td>0.552239<\/td>\n",
              "      <td>0.417021<\/td>\n",
              "      <td>0.308756<\/td>\n",
              "      <td>0.747552<\/td>\n",
              "      <td>0.595915<\/td>\n",
              "      <td>Republic of North Ossetia-Alania<\/td>\n",
              "    <\/tr>\n",
              "    <tr>\n",
              "      <th>1<\/th>\n",
              "      <td>0.962963<\/td>\n",
              "      <td>0.248756<\/td>\n",
              "      <td>0.165957<\/td>\n",
              "      <td>0.599078<\/td>\n",
              "      <td>0.63951<\/td>\n",
              "      <td>0.633364<\/td>\n",
              "      <td>Smolensk Oblast<\/td>\n",
              "    <\/tr>\n",
              "    <tr>\n",
              "      <th>2<\/th>\n",
              "      <td>0.740741<\/td>\n",
              "      <td>0.333333<\/td>\n",
              "      <td>0.268085<\/td>\n",
              "      <td>0.552995<\/td>\n",
              "      <td>0.345629<\/td>\n",
              "      <td>0.515517<\/td>\n",
              "      <td>Mari El Republic<\/td>\n",
              "    <\/tr>\n",
              "    <tr>\n",
              "      <th>3<\/th>\n",
              "      <td>0.148148<\/td>\n",
              "      <td>0.248756<\/td>\n",
              "      <td>0.119149<\/td>\n",
              "      <td>0.548387<\/td>\n",
              "      <td>0.705594<\/td>\n",
              "      <td>0.372267<\/td>\n",
              "      <td>Altai Krai<\/td>\n",
              "    <\/tr>\n",
              "    <tr>\n",
              "      <th>4<\/th>\n",
              "      <td>0.259259<\/td>\n",
              "      <td>0.318408<\/td>\n",
              "      <td>0.119149<\/td>\n",
              "      <td>0.419355<\/td>\n",
              "      <td>0.649301<\/td>\n",
              "      <td>0.578892<\/td>\n",
              "      <td>Omsk Oblast<\/td>\n",
              "    <\/tr>\n",
              "    <tr>\n",
              "      <th>...<\/th>\n",
              "      <td>...<\/td>\n",
              "      <td>...<\/td>\n",
              "      <td>...<\/td>\n",
              "      <td>...<\/td>\n",
              "      <td>...<\/td>\n",
              "      <td>...<\/td>\n",
              "      <td>...<\/td>\n",
              "    <\/tr>\n",
              "    <tr>\n",
              "      <th>1384<\/th>\n",
              "      <td>0.037037<\/td>\n",
              "      <td>0.425373<\/td>\n",
              "      <td>0.242553<\/td>\n",
              "      <td>0.354839<\/td>\n",
              "      <td>0.664685<\/td>\n",
              "      <td>0.667147<\/td>\n",
              "      <td>Novosibirsk Oblast<\/td>\n",
              "    <\/tr>\n",
              "    <tr>\n",
              "      <th>1385<\/th>\n",
              "      <td>0.592593<\/td>\n",
              "      <td>0.283582<\/td>\n",
              "      <td>0.170213<\/td>\n",
              "      <td>0.543779<\/td>\n",
              "      <td>0.283042<\/td>\n",
              "      <td>0.681812<\/td>\n",
              "      <td>Primorsky Krai<\/td>\n",
              "    <\/tr>\n",
              "    <tr>\n",
              "      <th>1386<\/th>\n",
              "      <td>0.0740741<\/td>\n",
              "      <td>0.4801<\/td>\n",
              "      <td>0.293617<\/td>\n",
              "      <td>0.308756<\/td>\n",
              "      <td>0.731294<\/td>\n",
              "      <td>0.473222<\/td>\n",
              "      <td>Republic of Buryatia<\/td>\n",
              "    <\/tr>\n",
              "    <tr>\n",
              "      <th>1387<\/th>\n",
              "      <td>0.37037<\/td>\n",
              "      <td>0.0945274<\/td>\n",
              "      <td>0.012766<\/td>\n",
              "      <td>0.718894<\/td>\n",
              "      <td>0.605594<\/td>\n",
              "      <td>0.558858<\/td>\n",
              "      <td>Leningrad Oblast<\/td>\n",
              "    <\/tr>\n",
              "    <tr>\n",
              "      <th>1388<\/th>\n",
              "      <td>0.296296<\/td>\n",
              "      <td>0.378109<\/td>\n",
              "      <td>0.148936<\/td>\n",
              "      <td>0.341014<\/td>\n",
              "      <td>0.377098<\/td>\n",
              "      <td>0.677098<\/td>\n",
              "      <td>Komi Republic<\/td>\n",
              "    <\/tr>\n",
              "  <\/tbody>\n",
              "<\/table>\n",
              "<p>1389 rows × 7 columns<\/p>\n",
              "<\/div>"
            ]
          },
          "metadata":{
            
          },
          "output_type":"display_data"
        }
      ],
      "metadata":{
        
      }
    },
    {
      "cell_type":"code",
      "source":[
        "# Вспоминаем алгоритмы решения задачи регрессии: линейную регрессию и метод k ближайших соседей\n",
        "r_models = []\n",
        "\n",
        "# Линейная регрессия\n",
        "# Для использования регуляризации, вместо LinearRegression используем Lasso, Ridge или ElasticNet\n",
        "# Параметр alpha - коэффициент регуляризации для Lasso и Ridge, по умолчанию равен 1\n",
        "# Для ElasticNet, если регуляризация иммет вид a*L1+b*L2, то\n",
        "# параметр alpha = a + b, по умолчанию равен 1\n",
        "# параметр l1_ratio = a \/ (a + b), по умолчанию равен 0.5\n",
        "r_models.append(LinearRegression())\n",
        "r_models.append(Lasso(alpha=1.0))\n",
        "r_models.append(Ridge(alpha=1.0))\n",
        "r_models.append(ElasticNet(alpha=1.0, l1_ratio=0.5))\n",
        "\n",
        "# K ближайших соседей\n",
        "# Параметр n_neighbors - количество соседей, по умолчания равен 5\n",
        "r_models.append(KNeighborsRegressor(n_neighbors=5))\n",
        "r_models.append(KNeighborsRegressor(n_neighbors=10))\n",
        "r_models.append(KNeighborsRegressor(n_neighbors=15))"
      ],
      "execution_count":13,
      "outputs":[
        
      ],
      "metadata":{
        
      }
    },
    {
      "cell_type":"code",
      "source":[
        "# Выделим предикторы и зависимую переменную\n",
        "x_labels = column_names[0:-2]\n",
        "y_labels = ['urbanization']\n",
        "\n",
        "x_train = sc_train[x_labels]\n",
        "x_test = sc_test[x_labels]\n",
        "x_val = sc_val[x_labels]\n",
        "\n",
        "y_train = sc_train[y_labels]\n",
        "y_test = sc_test[y_labels]\n",
        "y_val = sc_val[y_labels]"
      ],
      "execution_count":14,
      "outputs":[
        
      ],
      "metadata":{
        
      }
    },
    {
      "cell_type":"code",
      "source":[
        "# Обучаем модели\n",
        "for model in r_models:\n",
        "    model.fit(x_train, y_train)"
      ],
      "execution_count":15,
      "outputs":[
        
      ],
      "metadata":{
        
      }
    },
    {
      "cell_type":"code",
      "source":[
        "# Оценииваем качество работы моделей на валидационной выборке.\n",
        "mses = []\n",
        "for model in r_models:\n",
        "    val_pred = model.predict(x_val)\n",
        "    mse = mean_squared_error(y_val, val_pred)\n",
        "    mses.append(mse)\n",
        "    print(mse)"
      ],
      "execution_count":16,
      "outputs":[
        {
          "name":"stdout",
          "text":[
            "0.018780237879948307\n",
            "0.030052229649906996\n",
            "0.018861519564791717\n",
            "0.030052229649906996\n",
            "0.010217572147427348\n",
            "0.011705861870711825\n",
            "0.012089019323383637\n"
          ],
          "output_type":"stream"
        }
      ],
      "metadata":{
        
      }
    },
    {
      "cell_type":"code",
      "source":[
        "# Выбираем лучшую модель\n",
        "i_min = mses.index(min(mses))\n",
        "best_r_model = r_models[i_min]\n",
        "best_r_model"
      ],
      "execution_count":17,
      "outputs":[
        {
          "data":{
            "text\/plain":[
              "KNeighborsRegressor()"
            ]
          },
          "metadata":{
            
          },
          "output_type":"display_data"
        }
      ],
      "metadata":{
        
      }
    },
    {
      "cell_type":"code",
      "source":[
        "# Вычислим ошибку лучшей модели на тестовой выборке.\n",
        "test_pred = best_r_model.predict(x_test)\n",
        "mse = mean_squared_error(y_test, test_pred)\n",
        "print(mse)"
      ],
      "execution_count":18,
      "outputs":[
        {
          "name":"stdout",
          "text":[
            "0.011483687218580672\n"
          ],
          "output_type":"stream"
        }
      ],
      "metadata":{
        
      }
    },
    {
      "cell_type":"code",
      "source":[
        "# Вспоминаем алгоритмы решения задачи классификации:\n",
        "# логистическую регрессию, наивный байесовский классификатор и (снова) метод k ближайших соседей\n",
        "c_models = []\n",
        "\n",
        "# Логистическая регрессия\n",
        "# Параметр penalty - тип регуляризации: 'l1', 'l2', 'elasticnet', 'none'}, по умолчанию 'l2'\n",
        "# Для некоторых типов регуляризации доступны не все алгоритмы (параметр solver)\n",
        "# Для elasticnet регуляризации необходимо уазывать параметр l1_ratio (0 - l2, 1 - l1)\n",
        "c_models.append(LogisticRegression(penalty='none', solver='saga'))\n",
        "c_models.append(LogisticRegression(penalty='l1', solver='saga'))\n",
        "c_models.append(LogisticRegression(penalty='l2', solver='saga'))\n",
        "c_models.append(LogisticRegression(penalty='elasticnet', l1_ratio=0.5, solver='saga'))\n",
        "c_models.append(LogisticRegression())\n",
        "\n",
        "# Наивный байесовский классификатор\n",
        "# Параметр alpha - параметр сглаживания, по умолчанию равен 1 (сглаживание Лапласа)\n",
        "c_models.append(MultinomialNB(alpha=0.0))\n",
        "c_models.append(MultinomialNB(alpha=0.5))\n",
        "c_models.append(MultinomialNB(alpha=1.0))\n",
        "\n",
        "# K ближайших соседей\n",
        "# Параметр n_neighbors - количество соседей, по умолчания равен 5\n",
        "c_models.append(KNeighborsClassifier(n_neighbors=5))\n",
        "c_models.append(KNeighborsClassifier(n_neighbors=10))\n",
        "c_models.append(KNeighborsClassifier(n_neighbors=15))"
      ],
      "execution_count":19,
      "outputs":[
        
      ],
      "metadata":{
        
      }
    },
    {
      "cell_type":"code",
      "source":[
        "# Выделим предикторы и метки классов\n",
        "x_labels = column_names[0:-1]\n",
        "y_labels = ['region']\n",
        "\n",
        "x_train = sc_train[x_labels]\n",
        "x_test = sc_test[x_labels]\n",
        "x_val = sc_val[x_labels]\n",
        "\n",
        "y_train = np.ravel(sc_train[y_labels])\n",
        "y_test = np.ravel(sc_test[y_labels])\n",
        "y_val = np.ravel(sc_val[y_labels])"
      ],
      "execution_count":20,
      "outputs":[
        
      ],
      "metadata":{
        
      }
    },
    {
      "cell_type":"code",
      "source":[
        "# Обучаем модели\n",
        "for model in c_models:\n",
        "    model.fit(x_train, y_train)"
      ],
      "execution_count":21,
      "outputs":[
        {
          "name":"stderr",
          "text":[
            "\/opt\/anaconda3\/envs\/datalore-user\/lib\/python3.7\/site-packages\/sklearn\/linear_model\/_sag.py:330: ConvergenceWarning: The max_iter was reached which means the coef_ did not converge\n",
            "  \"the coef_ did not converge\", ConvergenceWarning)\n",
            "\/opt\/anaconda3\/envs\/datalore-user\/lib\/python3.7\/site-packages\/sklearn\/linear_model\/_sag.py:330: ConvergenceWarning: The max_iter was reached which means the coef_ did not converge\n",
            "  \"the coef_ did not converge\", ConvergenceWarning)\n",
            "\/opt\/anaconda3\/envs\/datalore-user\/lib\/python3.7\/site-packages\/sklearn\/naive_bayes.py:512: UserWarning: alpha too small will result in numeric errors, setting alpha = 1.0e-10\n",
            "  'setting alpha = %.1e' % _ALPHA_MIN)\n"
          ],
          "output_type":"stream"
        }
      ],
      "metadata":{
        
      }
    },
    {
      "cell_type":"code",
      "source":[
        "# Оценииваем качество работы моделей на валидационной выборке.\n",
        "f1s = []\n",
        "for model in c_models:\n",
        "    val_pred = model.predict(x_val)\n",
        "    f1 = f1_score(y_val, val_pred, average='weighted')\n",
        "    f1s.append(f1)\n",
        "    print(f1)"
      ],
      "execution_count":22,
      "outputs":[
        {
          "name":"stdout",
          "text":[
            "0.28265530738934097\n",
            "0.12302893856706784\n",
            "0.030423659400429258\n",
            "0.04785730179839254\n",
            "0.030423659400429258\n",
            "0.021383927864938198\n",
            "0.022194881824310488\n",
            "0.023945189665548157\n",
            "0.37734306698038816\n",
            "0.2848044489989605\n",
            "0.23190297329542664\n"
          ],
          "output_type":"stream"
        }
      ],
      "metadata":{
        
      }
    },
    {
      "cell_type":"code",
      "source":[
        "# Выбираем лучшую модель\n",
        "i_min = f1s.index(min(f1s))\n",
        "best_c_model = c_models[i_min]\n",
        "best_c_model"
      ],
      "execution_count":23,
      "outputs":[
        {
          "data":{
            "text\/plain":[
              "MultinomialNB(alpha=0.0)"
            ]
          },
          "metadata":{
            
          },
          "output_type":"display_data"
        }
      ],
      "metadata":{
        
      }
    },
    {
      "cell_type":"code",
      "source":[
        "# Вычислим ошибку лучшей модели на тестовой выборке.\n",
        "test_pred = best_c_model.predict(x_test)\n",
        "f1 = f1_score(y_test, test_pred, average='weighted')\n",
        "print(f1)"
      ],
      "execution_count":24,
      "outputs":[
        {
          "name":"stdout",
          "text":[
            "0.019366427148724476\n"
          ],
          "output_type":"stream"
        }
      ],
      "metadata":{
        
      }
    },
    {
      "cell_type":"code",
      "source":[
        "# Вспоминаем алгоритм решения задачи кластеризации - метод k-средних\n",
        "# Параметр n_clusters - количество кластеров, по умолчанию равен 8\n",
        "k_models = []\n",
        "k_models.append(KMeans(n_clusters=5))\n",
        "k_models.append(KMeans(n_clusters=8))\n",
        "k_models.append(KMeans(n_clusters=20))\n",
        "k_models.append(KMeans(n_clusters=50))"
      ],
      "execution_count":25,
      "outputs":[
        
      ],
      "metadata":{
        
      }
    },
    {
      "cell_type":"code",
      "source":[
        "# Выделим используемые параметры\n",
        "x_labels = column_names[0:-1]\n",
        "x = pd.concat([sc_train[x_labels], sc_val[x_labels], sc_test[x_labels]])\n",
        "x"
      ],
      "execution_count":26,
      "outputs":[
        {
          "data":{
            "text\/html":[
              "<div>\n",
              "<style scoped>\n",
              "    .dataframe tbody tr th:only-of-type {\n",
              "        vertical-align: middle;\n",
              "    }\n",
              "\n",
              "    .dataframe tbody tr th {\n",
              "        vertical-align: top;\n",
              "    }\n",
              "\n",
              "    .dataframe thead th {\n",
              "        text-align: right;\n",
              "    }\n",
              "<\/style>\n",
              "<table border=\"1\" class=\"dataframe\">\n",
              "  <thead>\n",
              "    <tr style=\"text-align: right;\">\n",
              "      <th><\/th>\n",
              "      <th>year<\/th>\n",
              "      <th>npg<\/th>\n",
              "      <th>birth_rate<\/th>\n",
              "      <th>death_rate<\/th>\n",
              "      <th>gdw<\/th>\n",
              "      <th>urbanization<\/th>\n",
              "    <\/tr>\n",
              "  <\/thead>\n",
              "  <tbody>\n",
              "    <tr>\n",
              "      <th>0<\/th>\n",
              "      <td>0.037037<\/td>\n",
              "      <td>0.552239<\/td>\n",
              "      <td>0.417021<\/td>\n",
              "      <td>0.308756<\/td>\n",
              "      <td>0.747552<\/td>\n",
              "      <td>0.595915<\/td>\n",
              "    <\/tr>\n",
              "    <tr>\n",
              "      <th>1<\/th>\n",
              "      <td>0.962963<\/td>\n",
              "      <td>0.248756<\/td>\n",
              "      <td>0.165957<\/td>\n",
              "      <td>0.599078<\/td>\n",
              "      <td>0.63951<\/td>\n",
              "      <td>0.633364<\/td>\n",
              "    <\/tr>\n",
              "    <tr>\n",
              "      <th>2<\/th>\n",
              "      <td>0.740741<\/td>\n",
              "      <td>0.333333<\/td>\n",
              "      <td>0.268085<\/td>\n",
              "      <td>0.552995<\/td>\n",
              "      <td>0.345629<\/td>\n",
              "      <td>0.515517<\/td>\n",
              "    <\/tr>\n",
              "    <tr>\n",
              "      <th>3<\/th>\n",
              "      <td>0.148148<\/td>\n",
              "      <td>0.248756<\/td>\n",
              "      <td>0.119149<\/td>\n",
              "      <td>0.548387<\/td>\n",
              "      <td>0.705594<\/td>\n",
              "      <td>0.372267<\/td>\n",
              "    <\/tr>\n",
              "    <tr>\n",
              "      <th>4<\/th>\n",
              "      <td>0.259259<\/td>\n",
              "      <td>0.318408<\/td>\n",
              "      <td>0.119149<\/td>\n",
              "      <td>0.419355<\/td>\n",
              "      <td>0.649301<\/td>\n",
              "      <td>0.578892<\/td>\n",
              "    <\/tr>\n",
              "    <tr>\n",
              "      <th>...<\/th>\n",
              "      <td>...<\/td>\n",
              "      <td>...<\/td>\n",
              "      <td>...<\/td>\n",
              "      <td>...<\/td>\n",
              "      <td>...<\/td>\n",
              "      <td>...<\/td>\n",
              "    <\/tr>\n",
              "    <tr>\n",
              "      <th>458<\/th>\n",
              "      <td>0.62963<\/td>\n",
              "      <td>0.375622<\/td>\n",
              "      <td>0.238298<\/td>\n",
              "      <td>0.447005<\/td>\n",
              "      <td>0.268182<\/td>\n",
              "      <td>0.594081<\/td>\n",
              "    <\/tr>\n",
              "    <tr>\n",
              "      <th>459<\/th>\n",
              "      <td>0.555556<\/td>\n",
              "      <td>0.119403<\/td>\n",
              "      <td>0.119149<\/td>\n",
              "      <td>0.78341<\/td>\n",
              "      <td>0.456119<\/td>\n",
              "      <td>0.715857<\/td>\n",
              "    <\/tr>\n",
              "    <tr>\n",
              "      <th>460<\/th>\n",
              "      <td>0.925926<\/td>\n",
              "      <td>0.216418<\/td>\n",
              "      <td>0.195745<\/td>\n",
              "      <td>0.691244<\/td>\n",
              "      <td>0.718007<\/td>\n",
              "      <td>0.612413<\/td>\n",
              "    <\/tr>\n",
              "    <tr>\n",
              "      <th>461<\/th>\n",
              "      <td>0.407407<\/td>\n",
              "      <td>0.0248756<\/td>\n",
              "      <td>0.0680851<\/td>\n",
              "      <td>0.907834<\/td>\n",
              "      <td>0.66521<\/td>\n",
              "      <td>0.643184<\/td>\n",
              "    <\/tr>\n",
              "    <tr>\n",
              "      <th>462<\/th>\n",
              "      <td>0.444444<\/td>\n",
              "      <td>0.251244<\/td>\n",
              "      <td>0.148936<\/td>\n",
              "      <td>0.576037<\/td>\n",
              "      <td>0.573601<\/td>\n",
              "      <td>0.391384<\/td>\n",
              "    <\/tr>\n",
              "  <\/tbody>\n",
              "<\/table>\n",
              "<p>2315 rows × 6 columns<\/p>\n",
              "<\/div>"
            ]
          },
          "metadata":{
            
          },
          "output_type":"display_data"
        }
      ],
      "metadata":{
        
      }
    },
    {
      "cell_type":"code",
      "source":[
        "# Произведем кластеризацию\n",
        "for model in k_models:\n",
        "    model.fit(x)"
      ],
      "execution_count":27,
      "outputs":[
        
      ],
      "metadata":{
        
      }
    },
    {
      "cell_type":"code",
      "source":[
        "# Оценим качество результата\n",
        "sils = []\n",
        "for model in k_models:\n",
        "    cluster_labels = model.predict(x)\n",
        "    s = silhouette_score(x, cluster_labels)\n",
        "    sils.append(s)\n",
        "    print(s)"
      ],
      "execution_count":28,
      "outputs":[
        {
          "name":"stdout",
          "text":[
            "0.29522771266267867\n",
            "0.24252188538199196\n",
            "0.23778107980474636\n",
            "0.23243226058544408\n"
          ],
          "output_type":"stream"
        }
      ],
      "metadata":{
        
      }
    },
    {
      "cell_type":"code",
      "source":[
        
      ],
      "execution_count":28,
      "outputs":[
        
      ],
      "metadata":{
        
      }
    },
    {
      "cell_type":"code",
      "source":[
        "# Выбираем лучшую модель\n",
        "i_min = sils.index(min(sils))\n",
        "best_k_model = k_models[i_min]\n",
        "print(best_k_model)\n",
        "print(sils[i_min])"
      ],
      "execution_count":29,
      "outputs":[
        {
          "name":"stdout",
          "text":[
            "KMeans(n_clusters=50)\n",
            "0.23243226058544408\n"
          ],
          "output_type":"stream"
        }
      ],
      "metadata":{
        
      }
    },
    {
      "cell_type":"code",
      "source":[
        "# Задание №1 - анализ моделей для задачи регрессии\n",
        "# Общий список моделей\n",
        "r_models = [\n",
        "    LinearRegression(),\n",
        "    Lasso(alpha=1.0),\n",
        "    Lasso(alpha=0.5),\n",
        "    Ridge(alpha=1.0),\n",
        "    Ridge(alpha=0.5),\n",
        "    ElasticNet(alpha=1.0, l1_ratio=0.5),\n",
        "    ElasticNet(alpha=1.0, l1_ratio=0.25),\n",
        "    ElasticNet(alpha=1.0, l1_ratio=0.75),\n",
        "    ElasticNet(alpha=0.5, l1_ratio=0.5),\n",
        "    ElasticNet(alpha=0.5, l1_ratio=0.25),\n",
        "    ElasticNet(alpha=0.5, l1_ratio=0.75),\n",
        "    KNeighborsRegressor(n_neighbors=5),\n",
        "    KNeighborsRegressor(n_neighbors=10),\n",
        "    KNeighborsRegressor(n_neighbors=15),\n",
        "    KNeighborsRegressor(n_neighbors=20),\n",
        "    KNeighborsRegressor(n_neighbors=25)\n",
        "]"
      ],
      "execution_count":30,
      "outputs":[
        
      ],
      "metadata":{
        
      }
    },
    {
      "cell_type":"code",
      "source":[
        "# Выбор моделей для задания\n",
        "n = 4\n",
        "random.seed(my_seed)\n",
        "Works1 = random.sample(r_models, n)\n",
        "print(Works1)"
      ],
      "execution_count":31,
      "outputs":[
        {
          "name":"stdout",
          "text":[
            "[Lasso(), Ridge(alpha=0.5), ElasticNet(alpha=0.5, l1_ratio=0.25), LinearRegression()]\n"
          ],
          "output_type":"stream"
        }
      ],
      "metadata":{
        
      }
    },
    {
      "cell_type":"code",
      "source":[
        "# Загрузим данные для задачи регрессии\n",
        "data = pd.read_csv(\"datasets\/weather.csv\")\n",
        "data"
      ],
      "execution_count":32,
      "outputs":[
        {
          "data":{
            "text\/html":[
              "<div>\n",
              "<style scoped>\n",
              "    .dataframe tbody tr th:only-of-type {\n",
              "        vertical-align: middle;\n",
              "    }\n",
              "\n",
              "    .dataframe tbody tr th {\n",
              "        vertical-align: top;\n",
              "    }\n",
              "\n",
              "    .dataframe thead th {\n",
              "        text-align: right;\n",
              "    }\n",
              "<\/style>\n",
              "<table border=\"1\" class=\"dataframe\">\n",
              "  <thead>\n",
              "    <tr style=\"text-align: right;\">\n",
              "      <th><\/th>\n",
              "      <th>water_level<\/th>\n",
              "      <th>precipitation<\/th>\n",
              "      <th>temperature<\/th>\n",
              "      <th>humidity<\/th>\n",
              "      <th>visibility<\/th>\n",
              "      <th>wind<\/th>\n",
              "      <th>weather<\/th>\n",
              "      <th>pressure<\/th>\n",
              "      <th>fire<\/th>\n",
              "      <th>wl_change<\/th>\n",
              "      <th>temp_change<\/th>\n",
              "      <th>pressure_change<\/th>\n",
              "    <\/tr>\n",
              "  <\/thead>\n",
              "  <tbody>\n",
              "    <tr>\n",
              "      <th>0<\/th>\n",
              "      <td>468,0<\/td>\n",
              "      <td>0,0<\/td>\n",
              "      <td>24,9<\/td>\n",
              "      <td>31,0<\/td>\n",
              "      <td>100,0<\/td>\n",
              "      <td>4,0<\/td>\n",
              "      <td>0,0<\/td>\n",
              "      <td>993,8<\/td>\n",
              "      <td>4,0<\/td>\n",
              "      <td>-3,0<\/td>\n",
              "      <td>-0,3<\/td>\n",
              "      <td>-0,4<\/td>\n",
              "    <\/tr>\n",
              "    <tr>\n",
              "      <th>1<\/th>\n",
              "      <td>140,0<\/td>\n",
              "      <td>0,0<\/td>\n",
              "      <td>27,9<\/td>\n",
              "      <td>22,0<\/td>\n",
              "      <td>20,0<\/td>\n",
              "      <td>1,0<\/td>\n",
              "      <td>0,0<\/td>\n",
              "      <td>1004,1<\/td>\n",
              "      <td>4,0<\/td>\n",
              "      <td>-2,0<\/td>\n",
              "      <td>0,6<\/td>\n",
              "      <td>-1,0<\/td>\n",
              "    <\/tr>\n",
              "    <tr>\n",
              "      <th>2<\/th>\n",
              "      <td>464,0<\/td>\n",
              "      <td>0,0<\/td>\n",
              "      <td>25,6<\/td>\n",
              "      <td>28,0<\/td>\n",
              "      <td>20,0<\/td>\n",
              "      <td>2,0<\/td>\n",
              "      <td>1,0<\/td>\n",
              "      <td>1001,2<\/td>\n",
              "      <td>4,0<\/td>\n",
              "      <td>-7,0<\/td>\n",
              "      <td>-1,8<\/td>\n",
              "      <td>-0,3<\/td>\n",
              "    <\/tr>\n",
              "    <tr>\n",
              "      <th>3<\/th>\n",
              "      <td>467,0<\/td>\n",
              "      <td>0,0<\/td>\n",
              "      <td>26,7<\/td>\n",
              "      <td>26,0<\/td>\n",
              "      <td>100,0<\/td>\n",
              "      <td>3,0<\/td>\n",
              "      <td>0,0<\/td>\n",
              "      <td>992,3<\/td>\n",
              "      <td>4,0<\/td>\n",
              "      <td>-1,0<\/td>\n",
              "      <td>1,2<\/td>\n",
              "      <td>-1,3<\/td>\n",
              "    <\/tr>\n",
              "    <tr>\n",
              "      <th>4<\/th>\n",
              "      <td>138,0<\/td>\n",
              "      <td>0,0<\/td>\n",
              "      <td>29,1<\/td>\n",
              "      <td>22,0<\/td>\n",
              "      <td>20,0<\/td>\n",
              "      <td>1,0<\/td>\n",
              "      <td>0,0<\/td>\n",
              "      <td>1001,3<\/td>\n",
              "      <td>4,0<\/td>\n",
              "      <td>-2,0<\/td>\n",
              "      <td>2,5<\/td>\n",
              "      <td>-1,3<\/td>\n",
              "    <\/tr>\n",
              "    <tr>\n",
              "      <th>...<\/th>\n",
              "      <td>...<\/td>\n",
              "      <td>...<\/td>\n",
              "      <td>...<\/td>\n",
              "      <td>...<\/td>\n",
              "      <td>...<\/td>\n",
              "      <td>...<\/td>\n",
              "      <td>...<\/td>\n",
              "      <td>...<\/td>\n",
              "      <td>...<\/td>\n",
              "      <td>...<\/td>\n",
              "      <td>...<\/td>\n",
              "      <td>...<\/td>\n",
              "    <\/tr>\n",
              "    <tr>\n",
              "      <th>1434<\/th>\n",
              "      <td>474,0<\/td>\n",
              "      <td>0,1<\/td>\n",
              "      <td>6,4<\/td>\n",
              "      <td>95,0<\/td>\n",
              "      <td>4,0<\/td>\n",
              "      <td>1,0<\/td>\n",
              "      <td>3,0<\/td>\n",
              "      <td>999,9<\/td>\n",
              "      <td>4,0<\/td>\n",
              "      <td>-1,0<\/td>\n",
              "      <td>5,9<\/td>\n",
              "      <td>1,5<\/td>\n",
              "    <\/tr>\n",
              "    <tr>\n",
              "      <th>1435<\/th>\n",
              "      <td>65,0<\/td>\n",
              "      <td>0,0<\/td>\n",
              "      <td>6,4<\/td>\n",
              "      <td>93,0<\/td>\n",
              "      <td>10,0<\/td>\n",
              "      <td>4,0<\/td>\n",
              "      <td>3,0<\/td>\n",
              "      <td>983,9<\/td>\n",
              "      <td>4,0<\/td>\n",
              "      <td>-1,0<\/td>\n",
              "      <td>5,2<\/td>\n",
              "      <td>3,1<\/td>\n",
              "    <\/tr>\n",
              "    <tr>\n",
              "      <th>1436<\/th>\n",
              "      <td>159,0<\/td>\n",
              "      <td>0,1<\/td>\n",
              "      <td>8,5<\/td>\n",
              "      <td>83,0<\/td>\n",
              "      <td>10,0<\/td>\n",
              "      <td>2,0<\/td>\n",
              "      <td>1,0<\/td>\n",
              "      <td>969,7<\/td>\n",
              "      <td>4,0<\/td>\n",
              "      <td>1,0<\/td>\n",
              "      <td>1,4<\/td>\n",
              "      <td>1,9<\/td>\n",
              "    <\/tr>\n",
              "    <tr>\n",
              "      <th>1437<\/th>\n",
              "      <td>99,0<\/td>\n",
              "      <td>0,1<\/td>\n",
              "      <td>7,5<\/td>\n",
              "      <td>91,0<\/td>\n",
              "      <td>10,0<\/td>\n",
              "      <td>3,0<\/td>\n",
              "      <td>3,0<\/td>\n",
              "      <td>995,4<\/td>\n",
              "      <td>4,0<\/td>\n",
              "      <td>-4,0<\/td>\n",
              "      <td>2,7<\/td>\n",
              "      <td>1,7<\/td>\n",
              "    <\/tr>\n",
              "    <tr>\n",
              "      <th>1438<\/th>\n",
              "      <td>227,0<\/td>\n",
              "      <td>0,3<\/td>\n",
              "      <td>6,9<\/td>\n",
              "      <td>79,0<\/td>\n",
              "      <td>10,0<\/td>\n",
              "      <td>7,0<\/td>\n",
              "      <td>4,0<\/td>\n",
              "      <td>990,4<\/td>\n",
              "      <td>4,0<\/td>\n",
              "      <td>-1,0<\/td>\n",
              "      <td>1,3<\/td>\n",
              "      <td>1,7<\/td>\n",
              "    <\/tr>\n",
              "  <\/tbody>\n",
              "<\/table>\n",
              "<p>1439 rows × 12 columns<\/p>\n",
              "<\/div>"
            ]
          },
          "metadata":{
            
          },
          "output_type":"display_data"
        }
      ],
      "metadata":{
        
      }
    },
    {
      "cell_type":"code",
      "source":[
        "# Зависимая переменная для всех одна и та же. Предикторы выбираем случайнм образом.\n",
        "columns = list(data.columns)\n",
        "n_x = 5\n",
        "\n",
        "y_label = 'water_level'\n",
        "x_labels = random.sample(columns[1:], n_x)\n",
        "\n",
        "print(x_labels)"
      ],
      "execution_count":33,
      "outputs":[
        {
          "name":"stdout",
          "text":[
            "['temperature', 'wind', 'humidity', 'precipitation', 'fire']\n"
          ],
          "output_type":"stream"
        }
      ],
      "metadata":{
        
      }
    },
    {
      "cell_type":"code",
      "source":[
        "# Преобразуйте значения всех необходимых параметров к отрезку [0,1].\n",
        "# Решите получившуюся задачу регрессии с помощью выбранных моделей и сравните их эффективность.\n",
        "# Укажите, какая модель решает задачу лучше других."
      ],
      "execution_count":34,
      "outputs":[
        
      ],
      "metadata":{
        
      }
    },
    {
      "cell_type":"code",
      "source":[
        "# Определим размер валидационной и тестовой выборок\n",
        "val_test_size = round(0.2*len(data))\n",
        "print(val_test_size)"
      ],
      "execution_count":35,
      "outputs":[
        {
          "name":"stdout",
          "text":[
            "288\n"
          ],
          "output_type":"stream"
        }
      ],
      "metadata":{
        
      }
    },
    {
      "cell_type":"code",
      "source":[
        "my_data = data[['visibility', 'humidity', 'temp_change', 'pressure', 'temperature', 'water_level']]"
      ],
      "execution_count":36,
      "outputs":[
        
      ],
      "metadata":{
        
      }
    },
    {
      "cell_type":"code",
      "source":[
        "my_data = my_data.apply(lambda x: x.str.replace(',','.'))"
      ],
      "execution_count":37,
      "outputs":[
        
      ],
      "metadata":{
        
      }
    },
    {
      "cell_type":"code",
      "source":[
        "# Создадим обучающую, валидационную и тестовую выборки\n",
        "random_state = my_seed\n",
        "train_val, test = train_test_split(my_data, test_size=val_test_size, random_state=random_state)\n",
        "train, val = train_test_split(train_val, test_size=val_test_size, random_state=random_state)\n",
        "print(len(train), len(val), len(test))"
      ],
      "execution_count":38,
      "outputs":[
        {
          "name":"stdout",
          "text":[
            "863 288 288\n"
          ],
          "output_type":"stream"
        }
      ],
      "metadata":{
        
      }
    },
    {
      "cell_type":"code",
      "source":[
        "columns_to_scale = ['visibility', 'humidity', 'temp_change', 'pressure', 'temperature', 'water_level']\n",
        "\n",
        "ct = ColumnTransformer(transformers=[('numerical', MinMaxScaler(), columns_to_scale)], remainder='passthrough')\n",
        "ct.fit(train)"
      ],
      "execution_count":39,
      "outputs":[
        {
          "data":{
            "text\/plain":[
              "ColumnTransformer(remainder='passthrough',\n",
              "                  transformers=[('numerical', MinMaxScaler(),\n",
              "                                 ['visibility', 'humidity', 'temp_change',\n",
              "                                  'pressure', 'temperature', 'water_level'])])"
            ]
          },
          "metadata":{
            
          },
          "output_type":"display_data"
        }
      ],
      "metadata":{
        
      }
    },
    {
      "cell_type":"code",
      "source":[
        "# Преобразуем значения, тип данных приводим к DataFrame\n",
        "sc_train = pd.DataFrame(ct.transform(train))\n",
        "sc_test = pd.DataFrame(ct.transform(test))\n",
        "sc_val = pd.DataFrame(ct.transform(val))"
      ],
      "execution_count":40,
      "outputs":[
        
      ],
      "metadata":{
        
      }
    },
    {
      "cell_type":"code",
      "source":[
        "column_names = ['visibility', 'humidity', 'temp_change', 'pressure', 'temperature', 'water_level']\n",
        "sc_train.columns = column_names\n",
        "sc_test.columns = column_names\n",
        "sc_val.columns = column_names"
      ],
      "execution_count":41,
      "outputs":[
        
      ],
      "metadata":{
        
      }
    },
    {
      "cell_type":"code",
      "source":[
        "# Выделим предикторы и метки классов\n",
        "x_labels = column_names[0:-1]\n",
        "y_labels = ['water_level']\n",
        "\n",
        "x_train = sc_train[x_labels]\n",
        "x_test = sc_test[x_labels]\n",
        "x_val = sc_val[x_labels]\n",
        "\n",
        "y_train = np.ravel(sc_train[y_labels])\n",
        "y_test = np.ravel(sc_test[y_labels])\n",
        "y_val = np.ravel(sc_val[y_labels])"
      ],
      "execution_count":42,
      "outputs":[
        
      ],
      "metadata":{
        
      }
    },
    {
      "cell_type":"code",
      "source":[
        "# Обучаем модели\n",
        "for model in Works1:\n",
        "    model.fit(x_train, y_train)"
      ],
      "execution_count":43,
      "outputs":[
        
      ],
      "metadata":{
        
      }
    },
    {
      "cell_type":"code",
      "source":[
        "# Оценииваем качество работы моделей на валидационной выборке.\n",
        "mses = []\n",
        "for model in Works1:\n",
        "    val_pred = model.predict(x_val)\n",
        "    mse = mean_squared_error(y_val, val_pred)\n",
        "    mses.append(mse)\n",
        "    print(mse)"
      ],
      "execution_count":44,
      "outputs":[
        {
          "name":"stdout",
          "text":[
            "0.03221911396234492\n",
            "0.02951276089303139\n",
            "0.03221911396234492\n",
            "0.029497616849599173\n"
          ],
          "output_type":"stream"
        }
      ],
      "metadata":{
        
      }
    },
    {
      "cell_type":"code",
      "source":[
        "# Выбираем лучшую модель\n",
        "i_min = mses.index(min(mses))\n",
        "best_c_model = Works1[i_min]\n",
        "best_c_model"
      ],
      "execution_count":45,
      "outputs":[
        {
          "data":{
            "text\/plain":[
              "LinearRegression()"
            ]
          },
          "metadata":{
            
          },
          "output_type":"display_data"
        }
      ],
      "metadata":{
        
      }
    },
    {
      "cell_type":"code",
      "source":[
        "# Вычислим ошибку лучшей модели на тестовой выборке.\n",
        "test_pred = best_c_model.predict(x_test)\n",
        "f1 = mean_squared_error(y_test, test_pred)\n",
        "print(f1)"
      ],
      "execution_count":46,
      "outputs":[
        {
          "name":"stdout",
          "text":[
            "0.030618648412148244\n"
          ],
          "output_type":"stream"
        }
      ],
      "metadata":{
        
      }
    },
    {
      "cell_type":"code",
      "source":[
        "# Задание №2 - анализ моделей для задачи классификации\n",
        "# Общий список моделей\n",
        "c_models = [\n",
        "    LogisticRegression(penalty='none', solver='saga'),\n",
        "    LogisticRegression(penalty='l1', solver='saga'),\n",
        "    LogisticRegression(penalty='l2', solver='saga'),\n",
        "    LogisticRegression(penalty='elasticnet', l1_ratio=0.25, solver='saga'),\n",
        "    LogisticRegression(penalty='elasticnet', l1_ratio=0.5, solver='saga'),\n",
        "    LogisticRegression(penalty='elasticnet', l1_ratio=0.75, solver='saga'),\n",
        "    LogisticRegression(),\n",
        "    MultinomialNB(alpha=0.0),\n",
        "    MultinomialNB(alpha=0.25),\n",
        "    MultinomialNB(alpha=0.5),\n",
        "    MultinomialNB(alpha=0.75),\n",
        "    MultinomialNB(alpha=1.0),\n",
        "    KNeighborsClassifier(n_neighbors=5),\n",
        "    KNeighborsClassifier(n_neighbors=10),\n",
        "    KNeighborsClassifier(n_neighbors=15),\n",
        "    KNeighborsClassifier(n_neighbors=20),\n",
        "    KNeighborsClassifier(n_neighbors=25)\n",
        "]"
      ],
      "execution_count":47,
      "outputs":[
        
      ],
      "metadata":{
        
      }
    },
    {
      "cell_type":"code",
      "source":[
        "# Выбор моделей для задания\n",
        "n = 5\n",
        "Works2 = random.sample(c_models, n)\n",
        "print(Works2)"
      ],
      "execution_count":48,
      "outputs":[
        {
          "name":"stdout",
          "text":[
            "[LogisticRegression(penalty='l1', solver='saga'), KNeighborsClassifier(), LogisticRegression(solver='saga'), MultinomialNB(), MultinomialNB(alpha=0.75)]\n"
          ],
          "output_type":"stream"
        }
      ],
      "metadata":{
        
      }
    },
    {
      "cell_type":"code",
      "source":[
        "# Загрузим данные для задачи классификации\n",
        "data = pd.read_csv(\"datasets\/zoo2.csv\")"
      ],
      "execution_count":49,
      "outputs":[
        
      ],
      "metadata":{
        
      }
    },
    {
      "cell_type":"code",
      "source":[
        "# Метка класса для всех одна и та же. Параметры выбираем случайнм образом.\n",
        "columns = list(data.columns)\n",
        "n_x = 8\n",
        "\n",
        "y_label = 'class_type'\n",
        "x_labels = random.sample(columns[1:-1], n_x)\n",
        "\n",
        "print(x_labels)"
      ],
      "execution_count":50,
      "outputs":[
        {
          "name":"stdout",
          "text":[
            "['fins', 'legs', 'catsize', 'feathers', 'predator', 'aquatic', 'backbone', 'tail']\n"
          ],
          "output_type":"stream"
        }
      ],
      "metadata":{
        
      }
    },
    {
      "cell_type":"code",
      "source":[
        "# Определим размер валидационной и тестовой выборок\n",
        "val_test_size = round(0.2*len(data))\n",
        "print(val_test_size)"
      ],
      "execution_count":51,
      "outputs":[
        {
          "name":"stdout",
          "text":[
            "9\n"
          ],
          "output_type":"stream"
        }
      ],
      "metadata":{
        
      }
    },
    {
      "cell_type":"code",
      "source":[
        "data = pd.read_csv(\"datasets\/zoo2.csv\", usecols = ['feathers', 'domestic', 'milk', 'fins', 'venomous', 'aquatic', 'backbone', 'predator', 'class_type'])"
      ],
      "execution_count":52,
      "outputs":[
        
      ],
      "metadata":{
        
      }
    },
    {
      "cell_type":"code",
      "source":[
        "# Создадим обучающую, валидационную и тестовую выборки\n",
        "random_state = my_seed\n",
        "train_val, test = train_test_split(data, test_size=val_test_size, random_state=random_state)\n",
        "train, val = train_test_split(train_val, test_size=val_test_size, random_state=random_state)\n",
        "print(len(train), len(val), len(test))"
      ],
      "execution_count":53,
      "outputs":[
        {
          "name":"stdout",
          "text":[
            "25 9 9\n"
          ],
          "output_type":"stream"
        }
      ],
      "metadata":{
        
      }
    },
    {
      "cell_type":"code",
      "source":[
        "# Значения в числовых столбцах преобразуем к отрезку [0,1].\n",
        "# Для настройки скалировщика используем только обучающую выборку.\n",
        "columns_to_scale = ['feathers', 'domestic', 'milk', 'fins', 'venomous', 'aquatic', 'backbone', 'predator']\n",
        "\n",
        "ct = ColumnTransformer(transformers=[('numerical', MinMaxScaler(), columns_to_scale)], remainder='passthrough')\n",
        "ct.fit(train)\n",
        "\n",
        "# Решите получившуюся задачу классификации с помощью выбранных моделей и сравните их эффективность.\n",
        "# Укажите, какая модель решает задачу лучше других."
      ],
      "execution_count":54,
      "outputs":[
        {
          "data":{
            "text\/plain":[
              "ColumnTransformer(remainder='passthrough',\n",
              "                  transformers=[('numerical', MinMaxScaler(),\n",
              "                                 ['feathers', 'domestic', 'milk', 'fins',\n",
              "                                  'venomous', 'aquatic', 'backbone',\n",
              "                                  'predator'])])"
            ]
          },
          "metadata":{
            
          },
          "output_type":"display_data"
        }
      ],
      "metadata":{
        
      }
    },
    {
      "cell_type":"code",
      "source":[
        "# Преобразуем значения, тип данных приводим к DataFrame\n",
        "sc_train = pd.DataFrame(ct.transform(train))\n",
        "sc_test = pd.DataFrame(ct.transform(test))\n",
        "sc_val = pd.DataFrame(ct.transform(val))"
      ],
      "execution_count":55,
      "outputs":[
        
      ],
      "metadata":{
        
      }
    },
    {
      "cell_type":"code",
      "source":[
        "column_names = ['feathers', 'domestic', 'milk', 'fins', 'venomous', 'aquatic', 'backbone', 'predator', 'class_type']\n",
        "sc_train.columns = column_names\n",
        "sc_test.columns = column_names\n",
        "sc_val.columns = column_names"
      ],
      "execution_count":56,
      "outputs":[
        
      ],
      "metadata":{
        
      }
    },
    {
      "cell_type":"code",
      "source":[
        "# Выделим предикторы и метки классов\n",
        "x_labels = column_names[0:-1]\n",
        "y_labels = ['class_type']\n",
        "\n",
        "x_train = sc_train[x_labels]\n",
        "x_test = sc_test[x_labels]\n",
        "x_val = sc_val[x_labels]\n",
        "\n",
        "y_train = np.ravel(sc_train[y_labels])\n",
        "y_test = np.ravel(sc_test[y_labels])\n",
        "y_val = np.ravel(sc_val[y_labels])"
      ],
      "execution_count":57,
      "outputs":[
        
      ],
      "metadata":{
        
      }
    },
    {
      "cell_type":"code",
      "source":[
        "# Обучаем модели\n",
        "for model in Works2:\n",
        "    model.fit(x_train, y_train)"
      ],
      "execution_count":58,
      "outputs":[
        
      ],
      "metadata":{
        
      }
    },
    {
      "cell_type":"code",
      "source":[
        "# Оценииваем качество работы моделей на валидационной выборке.\n",
        "f1s = []\n",
        "for model in Works2:\n",
        "    val_pred = model.predict(x_val)\n",
        "    f1 = f1_score(y_val, val_pred, average='weighted')\n",
        "    f1s.append(f1)\n",
        "    print(f1)"
      ],
      "execution_count":59,
      "outputs":[
        {
          "name":"stdout",
          "text":[
            "0.6666666666666666\n",
            "0.4338624338624338\n",
            "0.6666666666666666\n",
            "0.2222222222222222\n",
            "0.2222222222222222\n"
          ],
          "output_type":"stream"
        }
      ],
      "metadata":{
        
      }
    },
    {
      "cell_type":"code",
      "source":[
        "# Выбираем лучшую модель\n",
        "i_min = f1s.index(min(f1s))\n",
        "best_c_model = Works2[i_min]\n",
        "best_c_model"
      ],
      "execution_count":60,
      "outputs":[
        {
          "data":{
            "text\/plain":[
              "MultinomialNB()"
            ]
          },
          "metadata":{
            
          },
          "output_type":"display_data"
        }
      ],
      "metadata":{
        
      }
    },
    {
      "cell_type":"code",
      "source":[
        "# Вычислим ошибку лучшей модели на тестовой выборке.\n",
        "test_pred = best_c_model.predict(x_test)\n",
        "f1 = f1_score(y_test, test_pred, average='weighted')\n",
        "print(f1)"
      ],
      "execution_count":61,
      "outputs":[
        {
          "name":"stdout",
          "text":[
            "0.23703703703703705\n"
          ],
          "output_type":"stream"
        }
      ],
      "metadata":{
        
      }
    },
    {
      "cell_type":"code",
      "source":[
        "Works2"
      ],
      "execution_count":62,
      "outputs":[
        {
          "data":{
            "text\/plain":[
              "[LogisticRegression(penalty='l1', solver='saga'),\n",
              " KNeighborsClassifier(),\n",
              " LogisticRegression(solver='saga'),\n",
              " MultinomialNB(),\n",
              " MultinomialNB(alpha=0.75)]"
            ]
          },
          "metadata":{
            
          },
          "output_type":"display_data"
        }
      ],
      "metadata":{
        
      }
    }
  ],
  "metadata":{
    
  },
  "nbformat":4,
  "nbformat_minor":0
}