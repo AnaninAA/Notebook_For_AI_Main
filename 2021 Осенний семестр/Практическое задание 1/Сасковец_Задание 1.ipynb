x = 'Danila'
y = 'Saskovets'
z = x + y
z = 'Danila Saskovets'
print(z)
print(len(z))
