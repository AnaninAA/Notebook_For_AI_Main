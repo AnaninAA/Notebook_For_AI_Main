{
  "nbformat": 4,
  "nbformat_minor": 0,
  "metadata": {
    "colab": {
      "name": "task2.ipynb",
      "provenance": []
    },
    "kernelspec": {
      "display_name": "Python 3",
      "language": "python",
      "name": "python3"
    },
    "language_info": {
      "codemirror_mode": {
        "name": "ipython",
        "version": 3
      },
      "file_extension": ".py",
      "mimetype": "text/x-python",
      "name": "python",
      "nbconvert_exporter": "python",
      "pygments_lexer": "ipython3",
      "version": "3.7.8"
    }
  },
  "cells": [
    {
      "cell_type": "code",
      "metadata": {
        "id": "jCIIG4eCyMrP"
      },
      "source": [
        "import numpy as np\n",
        "import pandas as pd\n",
        "import matplotlib.pyplot as plt\n",
        "import sklearn as sk"
      ],
      "execution_count": 3,
      "outputs": []
    },
    {
      "cell_type": "code",
      "metadata": {
        "id": "0NkLKSbfyMrX"
      },
      "source": [
        "# Генерируем уникальный seed\n",
        "my_code = \"Marleena\"\n",
        "seed_limit = 2 ** 32\n",
        "my_seed = int.from_bytes(my_code.encode(), \"little\") % seed_limit\n",
        "\n",
        "np.random.seed(my_seed)"
      ],
      "execution_count": 67,
      "outputs": []
    },
    {
      "cell_type": "code",
      "metadata": {
        "colab": {
          "base_uri": "https://localhost:8080/",
          "height": 266
        },
        "id": "VAABYAScyMrc",
        "scrolled": false,
        "outputId": "67fef2d6-644a-46b9-eb01-98f0be67896c"
      },
      "source": [
        "# Формируем случайную нормально распределенную выборку sample\n",
        "N = 10000\n",
        "sample = np.random.normal(0, 1, N)\n",
        "\n",
        "plt.hist(sample, bins=100)\n",
        "plt.show()"
      ],
      "execution_count": 68,
      "outputs": [
        {
          "output_type": "display_data",
          "data": {
            "image/png": "[encoded data removed]",
            "text/plain": [
              "<Figure size 432x288 with 1 Axes>"
            ]
          },
          "metadata": {
            "needs_background": "light"
          }
        }
      ]
    },
    {
      "cell_type": "code",
      "metadata": {
        "scrolled": true,
        "colab": {
          "base_uri": "https://localhost:8080/",
          "height": 282
        },
        "id": "uqhlfk45ie6-",
        "outputId": "6561f427-5097-44c6-e1ac-7f47a161b5b2"
      },
      "source": [
        "# Формируем массив целевых метока классов: 0 - если значение в sample меньше t и 1 - если больше\n",
        "t = 0\n",
        "target_labels = np.array([0 if i < t else 1 for i in sample])\n",
        "plt.hist(target_labels, bins=100)\n",
        "plt.show()\n",
        "target_labels"
      ],
      "execution_count": 96,
      "outputs": [
        {
          "output_type": "display_data",
          "data": {
            "image/png": "[encoded data removed]",
            "text/plain": [
              "<Figure size 432x288 with 1 Axes>"
            ]
          },
          "metadata": {
            "needs_background": "light"
          }
        },
        {
          "output_type": "execute_result",
          "data": {
            "text/plain": [
              "array([1, 0, 1, ..., 1, 0, 0])"
            ]
          },
          "metadata": {},
          "execution_count": 96
        }
      ]
    },
    {
      "cell_type": "code",
      "metadata": {
        "colab": {
          "base_uri": "https://localhost:8080/"
        },
        "id": "lpiBPPw1yMr_",
        "outputId": "fc1d45e5-e15b-4927-b4dc-b832cd3b8439"
      },
      "source": [
        "# Используя данные заготовки (или, при желании, не используя), \n",
        "# реализуйте функции для рассчета accuracy, precision, recall и F1\n",
        "\n",
        "def confusion_matrix(target_labels, model_labels) :\n",
        "    tp = 0\n",
        "    tn = 0\n",
        "    fp = 0\n",
        "    fn = 0\n",
        "    for i in range(len(target_labels)) :\n",
        "        if target_labels[i] == 1 and model_labels[i] == 1 :\n",
        "            tp += 1\n",
        "        if target_labels[i] == 0 and model_labels[i] == 0 :\n",
        "            tn += 1\n",
        "        if target_labels[i] == 0 and model_labels[i] == 1 :\n",
        "            fp += 1\n",
        "        if target_labels[i] == 1 and model_labels[i] == 0 :\n",
        "            fn += 1\n",
        "    return tp, tn, fp, fn\n",
        "\n",
        "def accuracy (target_labels, model_labels) :\n",
        "    tp, tn, fp, fn = confusion_matrix(target_labels, model_labels)\n",
        "    return (tp+tn)/(tp+fp+tn+fn)\n",
        "\n",
        "def precision (target_labels, model_labels) :\n",
        "    tp, tn, fp, fn = confusion_matrix(target_labels, model_labels)\n",
        "    return tp/(tp+fp)\n",
        "\n",
        "def recall (target_labels, model_labels) :\n",
        "    tp, tn, fp, fn = confusion_matrix(target_labels, model_labels)\n",
        "    return tp/(tp+fn)\n",
        "\n",
        "def F1 (target_labels, model_labels) :\n",
        "    tp, tn, fp, fn = confusion_matrix(target_labels, model_labels)\n",
        "    return 2*(precision (target_labels, model_labels)*recall (target_labels, model_labels))/(precision (target_labels, model_labels)/recall (target_labels, model_labels))\n",
        "    \n",
        "print(accuracy (target_labels, model_labels))\n",
        "print(precision (target_labels, model_labels))\n",
        "print(recall (target_labels, model_labels))\n",
        "print(F1 (target_labels, model_labels))"
      ],
      "execution_count": 205,
      "outputs": [
        {
          "output_type": "stream",
          "name": "stdout",
          "text": [
            "0.5074\n",
            "0.5020945541591861\n",
            "0.5087932080048514\n",
            "0.5177410570237359\n"
          ]
        }
      ]
    },
    {
      "cell_type": "code",
      "metadata": {
        "scrolled": true,
        "colab": {
          "base_uri": "https://localhost:8080/"
        },
        "id": "RWWUamAHie6_",
        "outputId": "78696d69-669a-49af-80b0-7666204c152a"
      },
      "source": [
        "# Первый эксперимент: t = 0, модель с вероятностью 50% возвращает 0 и 1\n",
        "t = 0\n",
        "target_labels = np.array([0 if i < t else 1 for i in sample])\n",
        "\n",
        "model_labels = np.random.randint(2, size=N)\n",
        "print(accuracy (target_labels, model_labels))\n",
        "print(precision (target_labels, model_labels))\n",
        "print(recall (target_labels, model_labels))\n",
        "print(F1 (target_labels, model_labels))\n",
        "# Рассчитайте и выведите значения метрик accuracy, precision, recall и F1."
      ],
      "execution_count": 217,
      "outputs": [
        {
          "output_type": "stream",
          "name": "stdout",
          "text": [
            "0.4896\n",
            "0.4844153265832837\n",
            "0.49322821912270065\n",
            "0.4865481522779016\n"
          ]
        }
      ]
    },
    {
      "cell_type": "code",
      "metadata": {
        "colab": {
          "base_uri": "https://localhost:8080/"
        },
        "id": "EBBFbecYie7A",
        "outputId": "5ee92b86-6231-49d3-8d7c-0f593af25af2"
      },
      "source": [
        "# Второй эксперимент: t = 0, модель с вероятностью 25% возвращает 0 и с 75% - 1\n",
        "t = 0\n",
        "target_labels = np.array([0 if i < t else 1 for i in sample])\n",
        "\n",
        "labels = np.random.randint(4, size=N)\n",
        "model_labels = np.array([0 if i == 0 else 1 for i in labels])\n",
        "np.random.shuffle(model_labels)\n",
        "print(accuracy (target_labels, model_labels))\n",
        "print(precision (target_labels, model_labels))\n",
        "print(recall (target_labels, model_labels))\n",
        "print(F1 (target_labels, model_labels))\n",
        "# Рассчитайте и выведите значения метрик accuracy, precision, recall и F1."
      ],
      "execution_count": 216,
      "outputs": [
        {
          "output_type": "stream",
          "name": "stdout",
          "text": [
            "0.5007\n",
            "0.4969439277172469\n",
            "0.7560137457044673\n",
            "1.143113567388198\n"
          ]
        }
      ]
    },
    {
      "cell_type": "code",
      "metadata": {
        "id": "tkZ3I-OZie7B"
      },
      "source": [
        "# Проанализируйте, какие из метрик применимы в первом и втором экспериментах.\n",
        "#в первом эксперементе неважно какую метрику использовать, т.к. все результаты одинаковые\n",
        "#во втором эксперементе recall\n",
        "#\n",
        "#\n",
        "#\n",
        "#\n",
        "#\n",
        "#\n",
        "#\n",
        "#\n",
        "#\n",
        "#"
      ],
      "execution_count": 197,
      "outputs": []
    },
    {
      "cell_type": "code",
      "metadata": {
        "colab": {
          "base_uri": "https://localhost:8080/"
        },
        "id": "AE78sRTgie7C",
        "outputId": "d37dfeee-228e-456c-d466-923d8744f600"
      },
      "source": [
        "##Третий эксперимент: t = 2, модель с вероятностью 50% возвращает 0 и 1\n",
        "t = 2\n",
        "target_labels = np.array([0 if i < t else 1 for i in sample])\n",
        "\n",
        "model_labels = np.random.randint(2, size=N)\n",
        "\n",
        "print(accuracy (target_labels, model_labels))\n",
        "print(precision (target_labels, model_labels))\n",
        "print(recall (target_labels, model_labels))\n",
        "print(F1 (target_labels, model_labels))\n",
        "# Рассчитайте и выведите значения метрик accuracy, precision, recall и F1."
      ],
      "execution_count": 213,
      "outputs": [
        {
          "output_type": "stream",
          "name": "stdout",
          "text": [
            "0.504\n",
            "0.025790852307072336\n",
            "0.5059288537549407\n",
            "0.5119280101235762\n"
          ]
        }
      ]
    },
    {
      "cell_type": "code",
      "metadata": {
        "colab": {
          "base_uri": "https://localhost:8080/"
        },
        "id": "bTdqVp7Aie7E",
        "outputId": "ad675d76-de54-4f0e-e8ff-bba51f1a88e7"
      },
      "source": [
        "# Четвёртый эксперимент: t = 2, модель с вероятностью 100% возвращает 0\n",
        "t = 2\n",
        "target_labels = np.array([0 if i < t else 1 for i in sample])\n",
        "\n",
        "model_labels = np.zeros(N)\n",
        "print(accuracy (target_labels, model_labels))\n",
        "print(recall (target_labels, model_labels))\n",
        "#print(F1 (target_labels, model_labels))\n",
        "#print(precision (target_labels, model_labels))\n",
        "# Рассчитайте и выведите значения метрик accuracy, precision, recall и F1.\n",
        "\n",
        "\n",
        "\n",
        "\n",
        "\n",
        "#идет деление на ноль в функции precision. tp/(tp+fp)=tp/0"
      ],
      "execution_count": 220,
      "outputs": [
        {
          "output_type": "stream",
          "name": "stdout",
          "text": [
            "0.9747\n",
            "0.0\n"
          ]
        }
      ]
    },
    {
      "cell_type": "code",
      "metadata": {
        "id": "GFUOTev_ie7F"
      },
      "source": [
        "# Проанализируйте, какие из метрик применимы в третьем и четвёртом экспериментах.\n",
        "#в первом и втором эксперементе используем accuracy\n",
        "#\n",
        "#\n",
        "#\n",
        "#\n",
        "#\n",
        "#\n",
        "#\n",
        "#\n",
        "#\n",
        "#\n",
        "#"
      ],
      "execution_count": 97,
      "outputs": []
    },
    {
      "cell_type": "code",
      "metadata": {
        "id": "4U7BbE0gtODE"
      },
      "source": [
        ""
      ],
      "execution_count": 124,
      "outputs": []
    }
  ]
}