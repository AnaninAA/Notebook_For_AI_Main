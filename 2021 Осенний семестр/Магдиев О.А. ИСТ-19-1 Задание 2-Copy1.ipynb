{
 "cells": [
  {
   "cell_type": "code",
   "execution_count": 1,
   "metadata": {
    "colab": {},
    "colab_type": "code",
    "id": "jCIIG4eCyMrP"
   },
   "outputs": [],
   "source": [
    "import numpy as np\n",
    "import pandas as pd\n",
    "import matplotlib.pyplot as plt\n",
    "import sklearn as sk"
   ]
  },
  {
   "cell_type": "code",
   "execution_count": 13,
   "metadata": {
    "colab": {},
    "colab_type": "code",
    "id": "0NkLKSbfyMrX"
   },
   "outputs": [
    {
     "name": "stdout",
     "output_type": "stream",
     "text": [
      "35\n",
      "250\n",
      "0.4\n"
     ]
    },
    {
     "data": {
      "text/plain": [
       "4.918032786885246"
      ]
     },
     "execution_count": 13,
     "metadata": {},
     "output_type": "execute_result"
    }
   ],
   "source": [
    "x=10\n",
    "y=25\n",
    "summ=x+y\n",
    "um=x*y\n",
    "delenie=x/y\n",
    "print(summ)\n",
    "print(um)\n",
    "print(delenie)\n",
    "func=((x**2+y)*(y-1))/(x-y+y**2)\n",
    "func"
   ]
  },
  {
   "cell_type": "code",
   "execution_count": 16,
   "metadata": {
    "colab": {
     "base_uri": "https://localhost:8080/",
     "height": 265
    },
    "colab_type": "code",
    "id": "iSD99wSayMrm",
    "outputId": "48c895d5-9f6a-4dbe-8706-a7dd64d7c83c"
   },
   "outputs": [
    {
     "name": "stdout",
     "output_type": "stream",
     "text": [
      "x равен y\n"
     ]
    }
   ],
   "source": [
    "x=1 \n",
    "y=2\n",
    "if x>y: print(\"x больше y\")\n",
    "if x<y: print(\"x меньше y\")\n",
    "if x==y: print(\"x равен y\")"
   ]
  },
  {
   "cell_type": "code",
   "execution_count": 44,
   "metadata": {
    "colab": {},
    "colab_type": "code",
    "id": "lpiBPPw1yMr_"
   },
   "outputs": [
    {
     "name": "stdout",
     "output_type": "stream",
     "text": [
      "-2\n",
      "-4\n",
      "6\n",
      "8\n",
      "10\n"
     ]
    }
   ],
   "source": [
    "array=[2,4,6,8,10]\n",
    "for i in array: \n",
    "    if i>5:print(i)\n",
    "    else: print(i*-1)\n",
    "    \n"
   ]
  },
  {
   "cell_type": "code",
   "execution_count": 68,
   "metadata": {},
   "outputs": [
    {
     "name": "stdin",
     "output_type": "stream",
     "text": [
      " 6\n"
     ]
    },
    {
     "name": "stdout",
     "output_type": "stream",
     "text": [
      "6\n",
      "30\n",
      "120\n",
      "360\n",
      "720\n"
     ]
    }
   ],
   "source": [
    "n = int(input())\n",
    " \n",
    "factorial = 1\n",
    "while n > 1:\n",
    "    factorial *= n\n",
    "    n -= 1\n",
    "    print(factorial)\n",
    " \n"
   ]
  },
  {
   "cell_type": "code",
   "execution_count": 1,
   "metadata": {},
   "outputs": [
    {
     "name": "stdin",
     "output_type": "stream",
     "text": [
      " 5\n"
     ]
    }
   ],
   "source": [
    "import math\n",
    "n = int(input())\n",
    " \n",
    "if n < 2:\n",
    "    print(\"Число должно быть больше 1\")\n",
    "    quit()\n",
    "elif n == 2:\n",
    "    print(\"Это простое число\")\n",
    "    quit()\n",
    " \n",
    "i = 2 # первый делитель\n",
    " \n",
    "limit = int(math.sqrt(n))\n",
    " \n",
    "while i <= limit:\n",
    "    if n % i == 0:\n",
    "        print(\"Это сложное число\")\n",
    "        quit() # выход из программы\n",
    "    i += 1 # переход к следующему делителю\n",
    " \n"
   ]
  },
  {
   "cell_type": "code",
   "execution_count": null,
   "metadata": {},
   "outputs": [],
   "source": []
  },
  {
   "cell_type": "code",
   "execution_count": null,
   "metadata": {},
   "outputs": [],
   "source": []
  },
  {
   "cell_type": "code",
   "execution_count": null,
   "metadata": {},
   "outputs": [],
   "source": []
  }
 ],
 "metadata": {
  "colab": {
   "name": "task2.ipynb",
   "provenance": []
  },
  "kernelspec": {
   "display_name": "Python 3",
   "language": "python",
   "name": "python3"
  },
  "language_info": {
   "codemirror_mode": {
    "name": "ipython",
    "version": 3
   },
   "file_extension": ".py",
   "mimetype": "text/x-python",
   "name": "python",
   "nbconvert_exporter": "python",
   "pygments_lexer": "ipython3",
   "version": "3.7.10"
  }
 },
 "nbformat": 4,
 "nbformat_minor": 4
}
