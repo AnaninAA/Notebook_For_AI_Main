{
 "cells": [
  {
   "cell_type": "code",
   "execution_count": 1,
   "metadata": {
    "id": "wASaepzLFb5q"
   },
   "outputs": [],
   "source": [
    "import numpy as np\n",
    "import pandas as pd\n",
    "import matplotlib.pyplot as plt\n",
    "import sklearn as sk\n",
    "\n",
    "from sklearn.naive_bayes import MultinomialNB\n",
    "from sklearn.linear_model import LogisticRegression\n",
    "from sklearn.model_selection import train_test_split\n",
    "from sklearn.metrics import f1_score\n",
    "from sklearn.preprocessing import MinMaxScaler"
   ]
  },
  {
   "cell_type": "code",
   "execution_count": 2,
   "metadata": {
    "colab": {
     "base_uri": "https://localhost:8080/"
    },
    "executionInfo": {
     "elapsed": 28,
     "status": "ok",
     "timestamp": 1632577128397,
     "user": {
      "displayName": "Marleena M.",
      "photoUrl": "https://lh3.googleusercontent.com/a/default-user=s64",
      "userId": "01554857910732208880"
     },
     "user_tz": -180
    },
    "id": "g7KsRIIQFb5y",
    "outputId": "6974edf5-e023-4b5d-c9d9-fed631cb98b8"
   },
   "outputs": [
    {
     "name": "stdout",
     "output_type": "stream",
     "text": [
      "    Species  Weight  Length1  Length2  Length3   Height   Width\n",
      "0     Bream   242.0     23.2     25.4     30.0  11.5200  4.0200\n",
      "1     Bream   290.0     24.0     26.3     31.2  12.4800  4.3056\n",
      "2     Bream   340.0     23.9     26.5     31.1  12.3778  4.6961\n",
      "3     Bream   363.0     26.3     29.0     33.5  12.7300  4.4555\n",
      "4     Bream   430.0     26.5     29.0     34.0  12.4440  5.1340\n",
      "..      ...     ...      ...      ...      ...      ...     ...\n",
      "154   Smelt    12.2     11.5     12.2     13.4   2.0904  1.3936\n",
      "155   Smelt    13.4     11.7     12.4     13.5   2.4300  1.2690\n",
      "156   Smelt    12.2     12.1     13.0     13.8   2.2770  1.2558\n",
      "157   Smelt    19.7     13.2     14.3     15.2   2.8728  2.0672\n",
      "158   Smelt    19.9     13.8     15.0     16.2   2.9322  1.8792\n",
      "\n",
      "[159 rows x 7 columns]\n"
     ]
    }
   ],
   "source": [
    "# Набор данных взят с https://www.kaggle.com/aungpyaeap/fish-market\n",
    "# Параметры нескольких популярных промысловых рыб\n",
    "# length 1 = Body height\n",
    "# length 2 = Total Length\n",
    "# length 3 = Diagonal Length\n",
    "fish_data = pd.read_csv(\"datasets/Fish.csv\", delimiter=',')\n",
    "print(fish_data)\n"
   ]
  },
  {
   "cell_type": "code",
   "execution_count": 3,
   "metadata": {
    "colab": {
     "base_uri": "https://localhost:8080/"
    },
    "executionInfo": {
     "elapsed": 24,
     "status": "ok",
     "timestamp": 1632577128399,
     "user": {
      "displayName": "Marleena M.",
      "photoUrl": "https://lh3.googleusercontent.com/a/default-user=s64",
      "userId": "01554857910732208880"
     },
     "user_tz": -180
    },
    "id": "piwt1U-CFb52",
    "outputId": "48ff33c0-f6ec-4b71-f91e-f220ed6c2ae8",
    "scrolled": true
   },
   "outputs": [
    {
     "name": "stdout",
     "output_type": "stream",
     "text": [
      "     Weight  Length1  Length2  Length3   Height   Width Species\n",
      "0     242.0     23.2     25.4     30.0  11.5200  4.0200   Bream\n",
      "1     290.0     24.0     26.3     31.2  12.4800  4.3056   Bream\n",
      "2     340.0     23.9     26.5     31.1  12.3778  4.6961   Bream\n",
      "3     363.0     26.3     29.0     33.5  12.7300  4.4555   Bream\n",
      "4     430.0     26.5     29.0     34.0  12.4440  5.1340   Bream\n",
      "..      ...      ...      ...      ...      ...     ...     ...\n",
      "154    12.2     11.5     12.2     13.4   2.0904  1.3936   Smelt\n",
      "155    13.4     11.7     12.4     13.5   2.4300  1.2690   Smelt\n",
      "156    12.2     12.1     13.0     13.8   2.2770  1.2558   Smelt\n",
      "157    19.7     13.2     14.3     15.2   2.8728  2.0672   Smelt\n",
      "158    19.9     13.8     15.0     16.2   2.9322  1.8792   Smelt\n",
      "\n",
      "[159 rows x 7 columns]\n"
     ]
    }
   ],
   "source": [
    "# Выделим параметры и метки классов\n",
    "x_labels = ['Weight', 'Length1', 'Length2', 'Length3', 'Height', 'Width']\n",
    "y_label = 'Species'\n",
    "\n",
    "data = fish_data[x_labels + [y_label]]\n",
    "print(data)"
   ]
  },
  {
   "cell_type": "code",
   "execution_count": 4,
   "metadata": {
    "colab": {
     "base_uri": "https://localhost:8080/"
    },
    "executionInfo": {
     "elapsed": 20,
     "status": "ok",
     "timestamp": 1632577128400,
     "user": {
      "displayName": "Marleena M.",
      "photoUrl": "https://lh3.googleusercontent.com/a/default-user=s64",
      "userId": "01554857910732208880"
     },
     "user_tz": -180
    },
    "id": "_kUzNTHDFb55",
    "outputId": "fb69caf0-98da-43fd-965b-b3d67759306b"
   },
   "outputs": [
    {
     "name": "stdout",
     "output_type": "stream",
     "text": [
      "32\n"
     ]
    }
   ],
   "source": [
    "# Определим размер валидационной и тестовой выборок\n",
    "val_test_size = round(0.2*len(data))\n",
    "print(val_test_size)"
   ]
  },
  {
   "cell_type": "code",
   "execution_count": 5,
   "metadata": {
    "id": "KpW-xPDnFb57"
   },
   "outputs": [],
   "source": [
    "# Генерируем уникальный seed\n",
    "my_code = \"Волков Н\"\n",
    "seed_limit = 2 ** 32\n",
    "my_seed = int.from_bytes(my_code.encode(), \"little\") % seed_limit"
   ]
  },
  {
   "cell_type": "code",
   "execution_count": 6,
   "metadata": {
    "colab": {
     "base_uri": "https://localhost:8080/"
    },
    "executionInfo": {
     "elapsed": 36,
     "status": "ok",
     "timestamp": 1632577128835,
     "user": {
      "displayName": "Marleena M.",
      "photoUrl": "https://lh3.googleusercontent.com/a/default-user=s64",
      "userId": "01554857910732208880"
     },
     "user_tz": -180
    },
    "id": "D6WH6bWtFb59",
    "outputId": "fad48b7f-603c-4242-dda6-3d0221a59897",
    "scrolled": true
   },
   "outputs": [
    {
     "name": "stdout",
     "output_type": "stream",
     "text": [
      "95 32 32\n"
     ]
    }
   ],
   "source": [
    "# Создадим обучающую, валидационную и тестовую выборки\n",
    "random_state = my_seed\n",
    "train_val, test = train_test_split(data, test_size=val_test_size, random_state=random_state)\n",
    "train, val = train_test_split(train_val, test_size=val_test_size, random_state=random_state)\n",
    "print(len(train), len(val), len(test))"
   ]
  },
  {
   "cell_type": "code",
   "execution_count": 7,
   "metadata": {
    "id": "1txlvgSfFb6C"
   },
   "outputs": [],
   "source": [
    "# Выделим обучающую, валидационную и тестовую выборки\n",
    "train_x = train[x_labels]\n",
    "train_y = np.array(train[y_label])\n",
    "\n",
    "val_x = val[x_labels]\n",
    "val_y = np.array(val[y_label])\n",
    "\n",
    "test_x = test[x_labels]\n",
    "test_y = np.array(test[y_label])"
   ]
  },
  {
   "cell_type": "code",
   "execution_count": 8,
   "metadata": {
    "id": "JJzNc-qDFb6H"
   },
   "outputs": [],
   "source": [
    "# Нормируем значения параметров\n",
    "scaler_x = MinMaxScaler()\n",
    "scaler_x.fit(train_x)\n",
    "scaled_train_x = scaler_x.transform(train_x)\n",
    "\n",
    "scaled_val_x = scaler_x.transform(val_x)\n",
    "\n",
    "scaled_test_x = scaler_x.transform(test_x)"
   ]
  },
  {
   "cell_type": "code",
   "execution_count": 9,
   "metadata": {
    "colab": {
     "base_uri": "https://localhost:8080/",
     "height": 265
    },
    "executionInfo": {
     "elapsed": 30,
     "status": "ok",
     "timestamp": 1632577128841,
     "user": {
      "displayName": "Marleena M.",
      "photoUrl": "https://lh3.googleusercontent.com/a/default-user=s64",
      "userId": "01554857910732208880"
     },
     "user_tz": -180
    },
    "id": "h40F5weQFb6M",
    "outputId": "b44ccbe5-2b21-4403-80d9-e1185e18cda2",
    "scrolled": true
   },
   "outputs": [
    {
     "data": {
      "image/png": "[encoded data removed]",
      "text/plain": [
       "<Figure size 432x288 with 1 Axes>"
      ]
     },
     "metadata": {
      "needs_background": "light"
     },
     "output_type": "display_data"
    }
   ],
   "source": [
    "# Нарисуем график распределения классов\n",
    "plt.hist(train_y)\n",
    "plt.show()"
   ]
  },
  {
   "cell_type": "code",
   "execution_count": 10,
   "metadata": {
    "colab": {
     "base_uri": "https://localhost:8080/"
    },
    "executionInfo": {
     "elapsed": 29,
     "status": "ok",
     "timestamp": 1632577128843,
     "user": {
      "displayName": "Marleena M.",
      "photoUrl": "https://lh3.googleusercontent.com/a/default-user=s64",
      "userId": "01554857910732208880"
     },
     "user_tz": -180
    },
    "id": "lcx367hqFb6N",
    "outputId": "950faf52-9322-46fd-eac7-f5954f2244d7"
   },
   "outputs": [
    {
     "data": {
      "text/plain": [
       "MultinomialNB()"
      ]
     },
     "execution_count": 10,
     "metadata": {},
     "output_type": "execute_result"
    }
   ],
   "source": [
    "# Создадим модель наивного Байесовского классификатора и обучим ее на ненормированных данных.\n",
    "model1 = MultinomialNB()\n",
    "model1.fit(train_x, train_y)"
   ]
  },
  {
   "cell_type": "code",
   "execution_count": 11,
   "metadata": {
    "colab": {
     "base_uri": "https://localhost:8080/"
    },
    "executionInfo": {
     "elapsed": 26,
     "status": "ok",
     "timestamp": 1632577128845,
     "user": {
      "displayName": "Marleena M.",
      "photoUrl": "https://lh3.googleusercontent.com/a/default-user=s64",
      "userId": "01554857910732208880"
     },
     "user_tz": -180
    },
    "id": "gLL2g0aHFb6O",
    "outputId": "356ee089-55fd-4aab-e1c8-a7816277869e"
   },
   "outputs": [
    {
     "name": "stdout",
     "output_type": "stream",
     "text": [
      "0.35743927125506075\n"
     ]
    }
   ],
   "source": [
    "# Проверим результат на валидационной выборке.\n",
    "val_predicted = model1.predict(val_x)\n",
    "\n",
    "f1_1 = f1_score(val_y, val_predicted, average = 'weighted')\n",
    "print(f1_1)"
   ]
  },
  {
   "cell_type": "code",
   "execution_count": 12,
   "metadata": {
    "id": "BGqmsqn6Fb6P"
   },
   "outputs": [],
   "source": [
    "# Проведите обучение модели наивного Байесовского классификатора для нормированных данных, рассчитайте величину F1.\n",
    "# Создайте модель логистической регрессии (LogisticRegression), обучите ее на нормированных данных, рассчитайте величину F1.\n",
    "# Выберите наилучую модель по значению F1 на валидационной выборке. Рассчитайте ее F1 на тестовой выборке."
   ]
  },
  {
   "cell_type": "code",
   "execution_count": 13,
   "metadata": {
    "colab": {
     "base_uri": "https://localhost:8080/"
    },
    "executionInfo": {
     "elapsed": 269,
     "status": "ok",
     "timestamp": 1632577148339,
     "user": {
      "displayName": "Marleena M.",
      "photoUrl": "https://lh3.googleusercontent.com/a/default-user=s64",
      "userId": "01554857910732208880"
     },
     "user_tz": -180
    },
    "id": "TZFc23LEJT2z",
    "outputId": "1ce60dd5-a0cb-4637-91ad-979a749202c2"
   },
   "outputs": [
    {
     "name": "stdout",
     "output_type": "stream",
     "text": [
      "0.058823529411764705\n"
     ]
    },
    {
     "name": "stderr",
     "output_type": "stream",
     "text": [
      "/srv/conda/envs/notebook/lib/python3.7/site-packages/sklearn/base.py:446: UserWarning: X does not have valid feature names, but MultinomialNB was fitted with feature names\n",
      "  \"X does not have valid feature names, but\"\n"
     ]
    }
   ],
   "source": [
    "# модель логистической регрессии на валидационной выборке имеет лучший результат\n",
    "test_predicted = model1.predict(scaled_test_x)\n",
    "\n",
    "f1_1 = f1_score(test_y, test_predicted, average = 'weighted')\n",
    "\n",
    "print(f1_1)"
   ]
  },
  {
   "cell_type": "code",
   "execution_count": null,
   "metadata": {},
   "outputs": [],
   "source": []
  },
  {
   "cell_type": "code",
   "execution_count": null,
   "metadata": {},
   "outputs": [],
   "source": []
  }
 ],
 "metadata": {
  "colab": {
   "collapsed_sections": [],
   "name": "ПР-6 Фамилия ИСТ-19-1.ipynb",
   "provenance": [
    {
     "file_id": "1-rR-uKQEGzN--e4ir81P2-_qt2834_sS",
     "timestamp": 1635857260940
    },
    {
     "file_id": "1cUfvYLFewnRL3ikzCT_hJroAQ0na0yIg",
     "timestamp": 1632575621683
    }
   ]
  },
  "kernelspec": {
   "display_name": "Python 3 (ipykernel)",
   "language": "python",
   "name": "python3"
  },
  "language_info": {
   "codemirror_mode": {
    "name": "ipython",
    "version": 3
   },
   "file_extension": ".py",
   "mimetype": "text/x-python",
   "name": "python",
   "nbconvert_exporter": "python",
   "pygments_lexer": "ipython3",
   "version": "3.7.10"
  }
 },
 "nbformat": 4,
 "nbformat_minor": 4
}
