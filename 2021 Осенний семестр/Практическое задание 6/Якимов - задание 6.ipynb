﻿{
 "cells": [
  {
   "cell_type": "code",
   "execution_count": 1,
   "metadata": {},
   "outputs": [],
   "source": [
    "import numpy as np\n",
    "import pandas as pd\n",
    "import matplotlib.pyplot as plt\n",
    "import sklearn as sk\n",
    "\n",
    "from sklearn.naive_bayes import MultinomialNB\n",
    "from sklearn.linear_model import LogisticRegression\n",
    "from sklearn.model_selection import train_test_split\n",
    "from sklearn.metrics import f1_score\n",
    "from sklearn.preprocessing import MinMaxScaler"
   ]
  },
  {
   "cell_type": "code",
   "execution_count": 2,
   "metadata": {},
   "outputs": [
    {
     "name": "stdout",
     "output_type": "stream",
     "text": [
      "    Species  Weight  Length1  Length2  Length3   Height   Width\n",
      "0     Bream   242.0     23.2     25.4     30.0  11.5200  4.0200\n",
      "1     Bream   290.0     24.0     26.3     31.2  12.4800  4.3056\n",
      "2     Bream   340.0     23.9     26.5     31.1  12.3778  4.6961\n",
      "3     Bream   363.0     26.3     29.0     33.5  12.7300  4.4555\n",
      "4     Bream   430.0     26.5     29.0     34.0  12.4440  5.1340\n",
      "..      ...     ...      ...      ...      ...      ...     ...\n",
      "154   Smelt    12.2     11.5     12.2     13.4   2.0904  1.3936\n",
      "155   Smelt    13.4     11.7     12.4     13.5   2.4300  1.2690\n",
      "156   Smelt    12.2     12.1     13.0     13.8   2.2770  1.2558\n",
      "157   Smelt    19.7     13.2     14.3     15.2   2.8728  2.0672\n",
      "158   Smelt    19.9     13.8     15.0     16.2   2.9322  1.8792\n",
      "\n",
      "[159 rows x 7 columns]\n"
     ]
    }
   ],
   "source": [
    "# Набор данных взят с https://www.kaggle.com/aungpyaeap/fish-market\n",
    "# Параметры нескольких популярных промысловых рыб\n",
    "# length 1 = Body height\n",
    "# length 2 = Total Length\n",
    "# length 3 = Diagonal Length\n",
    "fish_data = pd.read_csv(\"datasets/Fish.csv\", delimiter=',')\n",
    "print(fish_data)"
   ]
  },
  {
   "cell_type": "code",
   "execution_count": 3,
   "metadata": {
    "scrolled": true
   },
   "outputs": [
    {
     "name": "stdout",
     "output_type": "stream",
     "text": [
      "     Weight  Length1  Length2  Length3   Height   Width Species\n",
      "0     242.0     23.2     25.4     30.0  11.5200  4.0200   Bream\n",
      "1     290.0     24.0     26.3     31.2  12.4800  4.3056   Bream\n",
      "2     340.0     23.9     26.5     31.1  12.3778  4.6961   Bream\n",
      "3     363.0     26.3     29.0     33.5  12.7300  4.4555   Bream\n",
      "4     430.0     26.5     29.0     34.0  12.4440  5.1340   Bream\n",
      "..      ...      ...      ...      ...      ...     ...     ...\n",
      "154    12.2     11.5     12.2     13.4   2.0904  1.3936   Smelt\n",
      "155    13.4     11.7     12.4     13.5   2.4300  1.2690   Smelt\n",
      "156    12.2     12.1     13.0     13.8   2.2770  1.2558   Smelt\n",
      "157    19.7     13.2     14.3     15.2   2.8728  2.0672   Smelt\n",
      "158    19.9     13.8     15.0     16.2   2.9322  1.8792   Smelt\n",
      "\n",
      "[159 rows x 7 columns]\n"
     ]
    }
   ],
   "source": [
    "# Выделим параметры и метки классов\n",
    "x_labels = ['Weight', 'Length1', 'Length2', 'Length3', 'Height', 'Width']\n",
    "y_label = 'Species'\n",
    "data = fish_data[x_labels + [y_label]]\n",
    "print(data)\n"
   ]
  },
  {
   "cell_type": "code",
   "execution_count": 4,
   "metadata": {},
   "outputs": [
    {
     "name": "stdout",
     "output_type": "stream",
     "text": [
      "32\n"
     ]
    }
   ],
   "source": [
    "# Определим размер валидационной и тестовой выборок\n",
    "val_test_size = round(0.2*len(data))\n",
    "print(val_test_size)"
   ]
  },
  {
   "cell_type": "code",
   "execution_count": 5,
   "metadata": {},
   "outputs": [],
   "source": [
    "# Генерируем уникальный seed\n",
    "my_code = \"Yakimov\"\n",
    "seed_limit = 2 ** 32\n",
    "my_seed = int.from_bytes(my_code.encode(), \"little\") % seed_limit"
   ]
  },
  {
   "cell_type": "code",
   "execution_count": 6,
   "metadata": {
    "scrolled": true
   },
   "outputs": [
    {
     "name": "stdout",
     "output_type": "stream",
     "text": [
      "95 32 32\n"
     ]
    }
   ],
   "source": [
    "# Создадим обучающую, валидационную и тестовую выборки\n",
    "random_state = my_seed\n",
    "train_val, test = train_test_split(data, test_size=val_test_size, random_state=random_state)\n",
    "train, val = train_test_split(train_val, test_size=val_test_size, random_state=random_state)\n",
    "print(len(train), len(val), len(test))"
   ]
  },
  {
   "cell_type": "code",
   "execution_count": 7,
   "metadata": {},
   "outputs": [],
   "source": [
    "# Выделим обучающую, валидационную и тестовую выборки\n",
    "train_x = train[x_labels]\n",
    "train_y = np.array(train[y_label])\n",
    "val_x = val[x_labels]\n",
    "val_y = np.array(val[y_label])\n",
    "test_x = test[x_labels]\n",
    "test_y = np.array(test[y_label])"
   ]
  },
  {
   "cell_type": "code",
   "execution_count": 8,
   "metadata": {},
   "outputs": [],
   "source": [
    "# Нормируем значения параметров\n",
    "scaler_x = MinMaxScaler()\n",
    "scaler_x.fit(train_x)\n",
    "scaled_train_x = scaler_x.transform(train_x)\n",
    "scaled_val_x = scaler_x.transform(val_x)\n",
    "scaled_test_x = scaler_x.transform(test_x)"
   ]
  },
  {
   "cell_type": "code",
   "execution_count": 9,
   "metadata": {
    "scrolled": true
   },
   "outputs": [
    {
     "data": {
      "image/png": "[encoded data removed]",
      "text/plain": [
       "<Figure size 432x288 with 1 Axes>"
      ]
     },
     "metadata": {
      "needs_background": "light"
     },
     "output_type": "display_data"
    }
   ],
   "source": [
    "# Нарисуем график распределения классов\n",
    "plt.hist(train_y)\n",
    "plt.show()"
   ]
  },
  {
   "cell_type": "code",
   "execution_count": 10,
   "metadata": {},
   "outputs": [
    {
     "data": {
      "text/plain": [
       "MultinomialNB()"
      ]
     },
     "execution_count": 10,
     "metadata": {},
     "output_type": "execute_result"
    }
   ],
   "source": [
    "# Создадим модель наивного Байесовского классификатора и обучим ее на ненормированных данных.\n",
    "model1 = MultinomialNB()\n",
    "model1.fit(train_x, train_y)\n",
    "# Создадим модель наивного Байесовского классификатора и обучим ее на нормированных данных.\n",
    "model2 = MultinomialNB()\n",
    "model2.fit(scaled_train_x, train_y)"
   ]
  },
  {
   "cell_type": "code",
   "execution_count": 11,
   "metadata": {},
   "outputs": [
    {
     "name": "stdout",
     "output_type": "stream",
     "text": [
      "0.4394383394383395\n",
      "0.17587209302325582\n"
     ]
    }
   ],
   "source": [
    "# Проверим результат на валидационной выборке.\n",
    "# ненормированные данные. \n",
    "val_predicted1 = model1.predict(val_x)\n",
    "f1_1 = f1_score(val_y, val_predicted1, average = 'weighted')\n",
    "print(f1_1)\n",
    "# нормированные данные\n",
    "val_predicted2 = model2.predict(scaled_val_x)\n",
    "f1_2 = f1_score(val_y, val_predicted2, average = 'weighted')\n",
    "print(f1_2)"
   ]
  },
  {
   "cell_type": "code",
   "execution_count": 12,
   "metadata": {},
   "outputs": [
    {
     "data": {
      "text/plain": [
       "LogisticRegression()"
      ]
     },
     "execution_count": 12,
     "metadata": {},
     "output_type": "execute_result"
    }
   ],
   "source": [
    "# Создадим модель логистической регрессии и обучим ее на нормированных данных.\n",
    "model1 = LogisticRegression()\n",
    "model1.fit(scaled_train_x, train_y)"
   ]
  },
  {
   "cell_type": "code",
   "execution_count": 13,
   "metadata": {},
   "outputs": [
    {
     "name": "stdout",
     "output_type": "stream",
     "text": [
      "0.5655241935483871\n"
     ]
    }
   ],
   "source": [
    "# Валидационная выборка\n",
    "val_predicted = model1.predict(scaled_val_x)\n",
    "f1_1 = f1_score(val_y, val_predicted, average = 'weighted')\n",
    "print(f1_1)"
   ]
  },
  {
   "cell_type": "code",
   "execution_count": 14,
   "metadata": {},
   "outputs": [
    {
     "name": "stdout",
     "output_type": "stream",
     "text": [
      "0.5967261904761905\n"
     ]
    }
   ],
   "source": [
    "# Модель логистической регрессии на валидационной выборке\n",
    "test_predicted = model1.predict(scaled_test_x)\n",
    "f1_1 = f1_score(test_y, test_predicted, average = 'weighted')\n",
    "print(f1_1)"
   ]
  }
 ],
 "metadata": {
  "kernelspec": {
   "display_name": "Python 3 (ipykernel)",
   "language": "python",
   "name": "python3"
  },
  "language_info": {
   "codemirror_mode": {
    "name": "ipython",
    "version": 3
   },
   "file_extension": ".py",
   "mimetype": "text/x-python",
   "name": "python",
   "nbconvert_exporter": "python",
   "pygments_lexer": "ipython3",
   "version": "3.7.10"
  }
 },
 "nbformat": 4,
 "nbformat_minor": 4
}
