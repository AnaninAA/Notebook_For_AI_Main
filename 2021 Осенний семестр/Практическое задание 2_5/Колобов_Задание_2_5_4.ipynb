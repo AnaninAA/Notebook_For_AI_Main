{
 "cells": [
  {
   "cell_type": "code",
   "execution_count": 1,
   "id": "2d695c12-b156-4f90-9b89-9ac8af47f986",
   "metadata": {},
   "outputs": [],
   "source": [
    "numbers = [2, 4, 6, 8, 10, ]"
   ]
  },
  {
   "cell_type": "code",
   "execution_count": 2,
   "id": "689e75a3-a1fa-4f32-958f-c4423024ada3",
   "metadata": {},
   "outputs": [
    {
     "name": "stdout",
     "output_type": "stream",
     "text": [
      "-2\n",
      "-4\n",
      "6\n",
      "8\n",
      "10\n"
     ]
    }
   ],
   "source": [
    "for i in numbers:\n",
    "    if i > 5:\n",
    "        print(i)\n",
    "    if i < 5:\n",
    "        print(-i)"
   ]
  },
  {
   "cell_type": "code",
   "execution_count": null,
   "id": "4fcbfcfe-78ea-4ef2-94d9-0c893a2d7dc2",
   "metadata": {},
   "outputs": [],
   "source": []
  }
 ],
 "metadata": {
  "kernelspec": {
   "display_name": "Python 3 (ipykernel)",
   "language": "python",
   "name": "python3"
  },
  "language_info": {
   "codemirror_mode": {
    "name": "ipython",
    "version": 3
   },
   "file_extension": ".py",
   "mimetype": "text/x-python",
   "name": "python",
   "nbconvert_exporter": "python",
   "pygments_lexer": "ipython3",
   "version": "3.9.6"
  }
 },
 "nbformat": 4,
 "nbformat_minor": 5
}
