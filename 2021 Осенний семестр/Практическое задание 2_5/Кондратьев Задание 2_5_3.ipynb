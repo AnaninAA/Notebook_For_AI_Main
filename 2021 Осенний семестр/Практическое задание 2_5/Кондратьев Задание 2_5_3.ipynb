{
 "cells": [
  {
   "cell_type": "code",
   "execution_count": 1,
   "id": "2d695c12-b156-4f90-9b89-9ac8af47f986",
   "metadata": {},
   "outputs": [],
   "source": [
    "x = 1\n",
    "y = 2"
   ]
  },
  {
   "cell_type": "code",
   "execution_count": 2,
   "id": "7676a851-43a2-4d85-adf4-e2d334e4948a",
   "metadata": {},
   "outputs": [
    {
     "name": "stdout",
     "output_type": "stream",
     "text": [
      "X меньше Y\n"
     ]
    }
   ],
   "source": [
    "if x > y:\n",
    "    print('X больше Y')\n",
    "if x < y:\n",
    "    print('X меньше Y')\n",
    "if x == y:\n",
    "    print('X равно Y')"
   ]
  },
  {
   "cell_type": "code",
   "execution_count": null,
   "id": "8178aa06-5f92-4377-895a-619299c93356",
   "metadata": {},
   "outputs": [],
   "source": []
  }
 ],
 "metadata": {
  "kernelspec": {
   "display_name": "Python 3 (ipykernel)",
   "language": "python",
   "name": "python3"
  },
  "language_info": {
   "codemirror_mode": {
    "name": "ipython",
    "version": 3
   },
   "file_extension": ".py",
   "mimetype": "text/x-python",
   "name": "python",
   "nbconvert_exporter": "python",
   "pygments_lexer": "ipython3",
   "version": "3.9.6"
  }
 },
 "nbformat": 4,
 "nbformat_minor": 5
}
