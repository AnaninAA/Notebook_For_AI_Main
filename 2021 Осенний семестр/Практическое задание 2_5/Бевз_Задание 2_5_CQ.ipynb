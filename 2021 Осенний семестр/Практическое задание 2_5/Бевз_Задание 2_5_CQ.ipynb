{
 "cells": [
  {
   "cell_type": "code",
   "execution_count": 10,
   "id": "c7a3b123-a7cc-4fd8-9fdb-05d490d6387c",
   "metadata": {},
   "outputs": [],
   "source": [
    "def fac(n):\n",
    "    res = 1\n",
    "    for i in range(1, n + 1):\n",
    "        res *= i\n",
    "    return res"
   ]
  },
  {
   "cell_type": "code",
   "execution_count": 14,
   "id": "3451e635-7922-48e6-bf8e-3411ed332ea9",
   "metadata": {},
   "outputs": [
    {
     "name": "stdout",
     "output_type": "stream",
     "text": [
      "120\n"
     ]
    }
   ],
   "source": [
    "print(fac(5))"
   ]
  },
  {
   "cell_type": "code",
   "execution_count": 22,
   "id": "af40283d-640c-49d6-850a-1935bc7ddfd5",
   "metadata": {},
   "outputs": [],
   "source": [
    "def is_simple_num(p):\n",
    "    for i in range(2, p // 2 + 1):\n",
    "        if p % i == 0:\n",
    "            return False\n",
    "    return True"
   ]
  },
  {
   "cell_type": "code",
   "execution_count": 33,
   "id": "121c4051-a3bc-4e8d-b590-d41585192e9d",
   "metadata": {},
   "outputs": [
    {
     "name": "stdout",
     "output_type": "stream",
     "text": [
      "True\n"
     ]
    }
   ],
   "source": [
    "print(is_simple_num(17))"
   ]
  },
  {
   "cell_type": "code",
   "execution_count": null,
   "id": "1fe99cd3-3338-4dae-902e-58ecbddffe28",
   "metadata": {},
   "outputs": [],
   "source": []
  }
 ],
 "metadata": {
  "kernelspec": {
   "display_name": "Python 3 (ipykernel)",
   "language": "python",
   "name": "python3"
  },
  "language_info": {
   "codemirror_mode": {
    "name": "ipython",
    "version": 3
   },
   "file_extension": ".py",
   "mimetype": "text/x-python",
   "name": "python",
   "nbconvert_exporter": "python",
   "pygments_lexer": "ipython3",
   "version": "3.9.6"
  }
 },
 "nbformat": 4,
 "nbformat_minor": 5
}
