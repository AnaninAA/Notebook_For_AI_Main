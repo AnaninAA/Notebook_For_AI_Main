{
 "cells": [
  {
   "cell_type": "code",
   "execution_count": 1,
   "metadata": {
    "id": "5zzflhrpW2kb"
   },
   "outputs": [],
   "source": [
    "# Зависимости\n",
    "import pandas as pd\n",
    "import numpy as np\n",
    "import matplotlib.pyplot as plt\n",
    "import random\n",
    "\n",
    "from sklearn.model_selection import train_test_split\n",
    "from sklearn.preprocessing import MinMaxScaler\n",
    "from sklearn.compose import ColumnTransformer\n",
    "\n",
    "from sklearn.svm import SVR, SVC\n",
    "\n",
    "from sklearn.metrics import mean_squared_error, f1_score\n",
    "from sklearn.metrics import mean_squared_error"
   ]
  },
  {
   "cell_type": "code",
   "execution_count": null,
   "metadata": {
    "id": "nr_oNzYsS_rB"
   },
   "outputs": [],
   "source": [
    "\n"
   ]
  },
  {
   "cell_type": "code",
   "execution_count": 2,
   "metadata": {
    "id": "WhBULTzRW2kk"
   },
   "outputs": [],
   "source": [
    "# Генерируем уникальный seed\n",
    "my_code = \"Игнатьева\"\n",
    "seed_limit = 2 ** 32\n",
    "my_seed = int.from_bytes(my_code.encode(), \"little\") % seed_limit"
   ]
  },
  {
   "cell_type": "code",
   "execution_count": 3,
   "metadata": {
    "id": "6hBLZSJWW2kl"
   },
   "outputs": [],
   "source": [
    "# Читаем данные из файла\n",
    "example_data = pd.read_csv(\"datasets/Fish.csv\")"
   ]
  },
  {
   "cell_type": "code",
   "execution_count": 4,
   "metadata": {
    "colab": {
     "base_uri": "https://localhost:8080/",
     "height": 204
    },
    "executionInfo": {
     "elapsed": 65,
     "status": "ok",
     "timestamp": 1633961043192,
     "user": {
      "displayName": "Marleena M.",
      "photoUrl": "https://lh3.googleusercontent.com/a/default-user=s64",
      "userId": "01554857910732208880"
     },
     "user_tz": -180
    },
    "id": "thPx9QSPW2km",
    "outputId": "643e6971-8b96-4b23-cb58-c948eec0e2e9"
   },
   "outputs": [
    {
     "data": {
      "text/html": [
       "<div>\n",
       "<style scoped>\n",
       "    .dataframe tbody tr th:only-of-type {\n",
       "        vertical-align: middle;\n",
       "    }\n",
       "\n",
       "    .dataframe tbody tr th {\n",
       "        vertical-align: top;\n",
       "    }\n",
       "\n",
       "    .dataframe thead th {\n",
       "        text-align: right;\n",
       "    }\n",
       "</style>\n",
       "<table border=\"1\" class=\"dataframe\">\n",
       "  <thead>\n",
       "    <tr style=\"text-align: right;\">\n",
       "      <th></th>\n",
       "      <th>Species</th>\n",
       "      <th>Weight</th>\n",
       "      <th>Length1</th>\n",
       "      <th>Length2</th>\n",
       "      <th>Length3</th>\n",
       "      <th>Height</th>\n",
       "      <th>Width</th>\n",
       "    </tr>\n",
       "  </thead>\n",
       "  <tbody>\n",
       "    <tr>\n",
       "      <th>0</th>\n",
       "      <td>Bream</td>\n",
       "      <td>242.0</td>\n",
       "      <td>23.2</td>\n",
       "      <td>25.4</td>\n",
       "      <td>30.0</td>\n",
       "      <td>11.5200</td>\n",
       "      <td>4.0200</td>\n",
       "    </tr>\n",
       "    <tr>\n",
       "      <th>1</th>\n",
       "      <td>Bream</td>\n",
       "      <td>290.0</td>\n",
       "      <td>24.0</td>\n",
       "      <td>26.3</td>\n",
       "      <td>31.2</td>\n",
       "      <td>12.4800</td>\n",
       "      <td>4.3056</td>\n",
       "    </tr>\n",
       "    <tr>\n",
       "      <th>2</th>\n",
       "      <td>Bream</td>\n",
       "      <td>340.0</td>\n",
       "      <td>23.9</td>\n",
       "      <td>26.5</td>\n",
       "      <td>31.1</td>\n",
       "      <td>12.3778</td>\n",
       "      <td>4.6961</td>\n",
       "    </tr>\n",
       "    <tr>\n",
       "      <th>3</th>\n",
       "      <td>Bream</td>\n",
       "      <td>363.0</td>\n",
       "      <td>26.3</td>\n",
       "      <td>29.0</td>\n",
       "      <td>33.5</td>\n",
       "      <td>12.7300</td>\n",
       "      <td>4.4555</td>\n",
       "    </tr>\n",
       "    <tr>\n",
       "      <th>4</th>\n",
       "      <td>Bream</td>\n",
       "      <td>430.0</td>\n",
       "      <td>26.5</td>\n",
       "      <td>29.0</td>\n",
       "      <td>34.0</td>\n",
       "      <td>12.4440</td>\n",
       "      <td>5.1340</td>\n",
       "    </tr>\n",
       "  </tbody>\n",
       "</table>\n",
       "</div>"
      ],
      "text/plain": [
       "  Species  Weight  Length1  Length2  Length3   Height   Width\n",
       "0   Bream   242.0     23.2     25.4     30.0  11.5200  4.0200\n",
       "1   Bream   290.0     24.0     26.3     31.2  12.4800  4.3056\n",
       "2   Bream   340.0     23.9     26.5     31.1  12.3778  4.6961\n",
       "3   Bream   363.0     26.3     29.0     33.5  12.7300  4.4555\n",
       "4   Bream   430.0     26.5     29.0     34.0  12.4440  5.1340"
      ]
     },
     "execution_count": 4,
     "metadata": {},
     "output_type": "execute_result"
    }
   ],
   "source": [
    "example_data.head()"
   ]
  },
  {
   "cell_type": "code",
   "execution_count": 5,
   "metadata": {
    "colab": {
     "base_uri": "https://localhost:8080/"
    },
    "executionInfo": {
     "elapsed": 64,
     "status": "ok",
     "timestamp": 1633961043193,
     "user": {
      "displayName": "Marleena M.",
      "photoUrl": "https://lh3.googleusercontent.com/a/default-user=s64",
      "userId": "01554857910732208880"
     },
     "user_tz": -180
    },
    "id": "EZiUjHBlW2kn",
    "outputId": "78b844b1-2d64-40aa-c98a-2e7bdf302818"
   },
   "outputs": [
    {
     "name": "stdout",
     "output_type": "stream",
     "text": [
      "32\n"
     ]
    }
   ],
   "source": [
    "# Определим размер валидационной и тестовой выборок\n",
    "val_test_size = round(0.2*len(example_data))\n",
    "print(val_test_size)"
   ]
  },
  {
   "cell_type": "code",
   "execution_count": 6,
   "metadata": {
    "colab": {
     "base_uri": "https://localhost:8080/"
    },
    "executionInfo": {
     "elapsed": 61,
     "status": "ok",
     "timestamp": 1633961043194,
     "user": {
      "displayName": "Marleena M.",
      "photoUrl": "https://lh3.googleusercontent.com/a/default-user=s64",
      "userId": "01554857910732208880"
     },
     "user_tz": -180
    },
    "id": "8ZNz72eJW2kn",
    "outputId": "1080320c-8258-46da-acef-27a4b4ca6b07"
   },
   "outputs": [
    {
     "name": "stdout",
     "output_type": "stream",
     "text": [
      "95 32 32\n"
     ]
    }
   ],
   "source": [
    "# Создадим обучающую, валидационную и тестовую выборки\n",
    "random_state = my_seed\n",
    "train_val, test = train_test_split(example_data, test_size=val_test_size, random_state=random_state)\n",
    "train, val = train_test_split(train_val, test_size=val_test_size, random_state=random_state)\n",
    "print(len(train), len(val), len(test))"
   ]
  },
  {
   "cell_type": "code",
   "execution_count": 7,
   "metadata": {
    "colab": {
     "base_uri": "https://localhost:8080/"
    },
    "executionInfo": {
     "elapsed": 58,
     "status": "ok",
     "timestamp": 1633961043194,
     "user": {
      "displayName": "Marleena M.",
      "photoUrl": "https://lh3.googleusercontent.com/a/default-user=s64",
      "userId": "01554857910732208880"
     },
     "user_tz": -180
    },
    "id": "EHd5YGvMW2ko",
    "outputId": "df92db34-21e7-4277-a4cf-0d19762bc835"
   },
   "outputs": [
    {
     "data": {
      "text/plain": [
       "ColumnTransformer(remainder='passthrough',\n",
       "                  transformers=[('numerical', MinMaxScaler(),\n",
       "                                 ['Weight', 'Length1', 'Length2', 'Length3',\n",
       "                                  'Height', 'Width'])])"
      ]
     },
     "execution_count": 7,
     "metadata": {},
     "output_type": "execute_result"
    }
   ],
   "source": [
    "# Значения в числовых столбцах преобразуем к отрезку [0,1].\n",
    "# Для настройки скалировщика используем только обучающую выборку.\n",
    "num_columns = ['Weight', 'Length1', 'Length2', 'Length3', 'Height', 'Width']\n",
    "\n",
    "ct = ColumnTransformer(transformers=[('numerical', MinMaxScaler(), num_columns)], remainder='passthrough')\n",
    "ct.fit(train)"
   ]
  },
  {
   "cell_type": "code",
   "execution_count": 8,
   "metadata": {
    "id": "ZpiO_RskW2kq"
   },
   "outputs": [],
   "source": [
    "# Преобразуем значения, тип данных приводим к DataFrame\n",
    "sc_train = pd.DataFrame(ct.transform(train))\n",
    "sc_test = pd.DataFrame(ct.transform(test))\n",
    "sc_val = pd.DataFrame(ct.transform(val))"
   ]
  },
  {
   "cell_type": "code",
   "execution_count": 12,
   "metadata": {
    "id": "JSYlpxMiW2kr"
   },
   "outputs": [],
   "source": [
    "# Устанавливаем названия столбцов\n",
    "column_names = num_columns + ['Species']\n",
    "sc_train.columns = column_names\n",
    "sc_test.columns = column_names\n",
    "sc_val.columns = column_names"
   ]
  },
  {
   "cell_type": "code",
   "execution_count": 13,
   "metadata": {
    "colab": {
     "base_uri": "https://localhost:8080/",
     "height": 419
    },
    "executionInfo": {
     "elapsed": 56,
     "status": "ok",
     "timestamp": 1633961043196,
     "user": {
      "displayName": "Marleena M.",
      "photoUrl": "https://lh3.googleusercontent.com/a/default-user=s64",
      "userId": "01554857910732208880"
     },
     "user_tz": -180
    },
    "id": "jh9l0CScW2ks",
    "outputId": "7deb6cb4-c20a-4b12-cd4f-07d5185cbfce"
   },
   "outputs": [
    {
     "data": {
      "text/html": [
       "<div>\n",
       "<style scoped>\n",
       "    .dataframe tbody tr th:only-of-type {\n",
       "        vertical-align: middle;\n",
       "    }\n",
       "\n",
       "    .dataframe tbody tr th {\n",
       "        vertical-align: top;\n",
       "    }\n",
       "\n",
       "    .dataframe thead th {\n",
       "        text-align: right;\n",
       "    }\n",
       "</style>\n",
       "<table border=\"1\" class=\"dataframe\">\n",
       "  <thead>\n",
       "    <tr style=\"text-align: right;\">\n",
       "      <th></th>\n",
       "      <th>Weight</th>\n",
       "      <th>Length1</th>\n",
       "      <th>Length2</th>\n",
       "      <th>Length3</th>\n",
       "      <th>Height</th>\n",
       "      <th>Width</th>\n",
       "      <th>Species</th>\n",
       "    </tr>\n",
       "  </thead>\n",
       "  <tbody>\n",
       "    <tr>\n",
       "      <th>0</th>\n",
       "      <td>0.436364</td>\n",
       "      <td>0.475728</td>\n",
       "      <td>0.483636</td>\n",
       "      <td>0.537162</td>\n",
       "      <td>0.849276</td>\n",
       "      <td>0.770044</td>\n",
       "      <td>Bream</td>\n",
       "    </tr>\n",
       "    <tr>\n",
       "      <th>1</th>\n",
       "      <td>0.545455</td>\n",
       "      <td>0.563107</td>\n",
       "      <td>0.556364</td>\n",
       "      <td>0.550676</td>\n",
       "      <td>0.545806</td>\n",
       "      <td>0.984362</td>\n",
       "      <td>Perch</td>\n",
       "    </tr>\n",
       "    <tr>\n",
       "      <th>2</th>\n",
       "      <td>0.666667</td>\n",
       "      <td>0.61165</td>\n",
       "      <td>0.610909</td>\n",
       "      <td>0.60473</td>\n",
       "      <td>0.642425</td>\n",
       "      <td>0.888916</td>\n",
       "      <td>Perch</td>\n",
       "    </tr>\n",
       "    <tr>\n",
       "      <th>3</th>\n",
       "      <td>0.007394</td>\n",
       "      <td>0.08932</td>\n",
       "      <td>0.083636</td>\n",
       "      <td>0.084459</td>\n",
       "      <td>0.031258</td>\n",
       "      <td>0.031795</td>\n",
       "      <td>Smelt</td>\n",
       "    </tr>\n",
       "    <tr>\n",
       "      <th>4</th>\n",
       "      <td>0.181818</td>\n",
       "      <td>0.469903</td>\n",
       "      <td>0.465455</td>\n",
       "      <td>0.489865</td>\n",
       "      <td>0.230512</td>\n",
       "      <td>0.475001</td>\n",
       "      <td>Pike</td>\n",
       "    </tr>\n",
       "    <tr>\n",
       "      <th>...</th>\n",
       "      <td>...</td>\n",
       "      <td>...</td>\n",
       "      <td>...</td>\n",
       "      <td>...</td>\n",
       "      <td>...</td>\n",
       "      <td>...</td>\n",
       "      <td>...</td>\n",
       "    </tr>\n",
       "    <tr>\n",
       "      <th>90</th>\n",
       "      <td>0.121212</td>\n",
       "      <td>0.266019</td>\n",
       "      <td>0.265455</td>\n",
       "      <td>0.287162</td>\n",
       "      <td>0.499878</td>\n",
       "      <td>0.399499</td>\n",
       "      <td>Parkki</td>\n",
       "    </tr>\n",
       "    <tr>\n",
       "      <th>91</th>\n",
       "      <td>0.047273</td>\n",
       "      <td>0.194175</td>\n",
       "      <td>0.189091</td>\n",
       "      <td>0.209459</td>\n",
       "      <td>0.222834</td>\n",
       "      <td>0.283559</td>\n",
       "      <td>Roach</td>\n",
       "    </tr>\n",
       "    <tr>\n",
       "      <th>92</th>\n",
       "      <td>0.181818</td>\n",
       "      <td>0.530097</td>\n",
       "      <td>0.525455</td>\n",
       "      <td>0.523649</td>\n",
       "      <td>0.264232</td>\n",
       "      <td>0.453896</td>\n",
       "      <td>Pike</td>\n",
       "    </tr>\n",
       "    <tr>\n",
       "      <th>93</th>\n",
       "      <td>0.415152</td>\n",
       "      <td>0.514563</td>\n",
       "      <td>0.510909</td>\n",
       "      <td>0.510135</td>\n",
       "      <td>0.530961</td>\n",
       "      <td>0.888244</td>\n",
       "      <td>Perch</td>\n",
       "    </tr>\n",
       "    <tr>\n",
       "      <th>94</th>\n",
       "      <td>0.260606</td>\n",
       "      <td>0.543689</td>\n",
       "      <td>0.538182</td>\n",
       "      <td>0.535473</td>\n",
       "      <td>0.322403</td>\n",
       "      <td>0.538911</td>\n",
       "      <td>Pike</td>\n",
       "    </tr>\n",
       "  </tbody>\n",
       "</table>\n",
       "<p>95 rows × 7 columns</p>\n",
       "</div>"
      ],
      "text/plain": [
       "      Weight   Length1   Length2   Length3    Height     Width Species\n",
       "0   0.436364  0.475728  0.483636  0.537162  0.849276  0.770044   Bream\n",
       "1   0.545455  0.563107  0.556364  0.550676  0.545806  0.984362   Perch\n",
       "2   0.666667   0.61165  0.610909   0.60473  0.642425  0.888916   Perch\n",
       "3   0.007394   0.08932  0.083636  0.084459  0.031258  0.031795   Smelt\n",
       "4   0.181818  0.469903  0.465455  0.489865  0.230512  0.475001    Pike\n",
       "..       ...       ...       ...       ...       ...       ...     ...\n",
       "90  0.121212  0.266019  0.265455  0.287162  0.499878  0.399499  Parkki\n",
       "91  0.047273  0.194175  0.189091  0.209459  0.222834  0.283559   Roach\n",
       "92  0.181818  0.530097  0.525455  0.523649  0.264232  0.453896    Pike\n",
       "93  0.415152  0.514563  0.510909  0.510135  0.530961  0.888244   Perch\n",
       "94  0.260606  0.543689  0.538182  0.535473  0.322403  0.538911    Pike\n",
       "\n",
       "[95 rows x 7 columns]"
      ]
     },
     "execution_count": 13,
     "metadata": {},
     "output_type": "execute_result"
    }
   ],
   "source": [
    "sc_train"
   ]
  },
  {
   "cell_type": "code",
   "execution_count": 14,
   "metadata": {
    "id": "mA1bhT6nW2kt"
   },
   "outputs": [],
   "source": [
    "# Задание №1 - анализ метода опорных векторов в задаче регрессии\n",
    "# https://scikit-learn.org/stable/modules/generated/sklearn.svm.SVR.html#sklearn.svm.SVR\n",
    "# kernel : {'linear', 'poly', 'rbf', 'sigmoid', 'precomputed'}, default='rbf'\n",
    "# Только для kernel = 'poly' : degreeint, default=3"
   ]
  },
  {
   "cell_type": "code",
   "execution_count": 15,
   "metadata": {
    "colab": {
     "base_uri": "https://localhost:8080/"
    },
    "executionInfo": {
     "elapsed": 55,
     "status": "ok",
     "timestamp": 1633961043197,
     "user": {
      "displayName": "Marleena M.",
      "photoUrl": "https://lh3.googleusercontent.com/a/default-user=s64",
      "userId": "01554857910732208880"
     },
     "user_tz": -180
    },
    "id": "kKke-Y6wW2ku",
    "outputId": "3645530e-fe10-4b14-8fe4-e96868495df1",
    "scrolled": true
   },
   "outputs": [
    {
     "name": "stdout",
     "output_type": "stream",
     "text": [
      "['Length1', 'Length2', 'Length3']\n",
      "Width\n"
     ]
    }
   ],
   "source": [
    "# Выбираем 4 числовых переменных, три их них будут предикторами, одна - зависимой переменной\n",
    "n = 4\n",
    "labels = random.sample(num_columns, n)\n",
    "\n",
    "y_label = labels[0]\n",
    "x_labels = labels[1:]\n",
    "\n",
    "print(x_labels)\n",
    "print(y_label)"
   ]
  },
  {
   "cell_type": "code",
   "execution_count": 16,
   "metadata": {
    "id": "CK6-rypuW2kv"
   },
   "outputs": [],
   "source": [
    "# Отберем необходимые параметры\n",
    "x_train = sc_train[x_labels]\n",
    "x_test = sc_test[x_labels]\n",
    "x_val = sc_val[x_labels]\n",
    "\n",
    "y_train = sc_train[y_label]\n",
    "y_test = sc_test[y_label]\n",
    "y_val = sc_val[y_label]"
   ]
  },
  {
   "cell_type": "code",
   "execution_count": 17,
   "metadata": {
    "colab": {
     "base_uri": "https://localhost:8080/"
    },
    "executionInfo": {
     "elapsed": 52,
     "status": "ok",
     "timestamp": 1633961043198,
     "user": {
      "displayName": "Marleena M.",
      "photoUrl": "https://lh3.googleusercontent.com/a/default-user=s64",
      "userId": "01554857910732208880"
     },
     "user_tz": -180
    },
    "id": "uO5LgrUQW2kw",
    "outputId": "d1b08bae-d34d-4e82-b383-54de4cccd078"
   },
   "outputs": [
    {
     "data": {
      "text/plain": [
       "0     0.770044\n",
       "1     0.984362\n",
       "2     0.888916\n",
       "3     0.031795\n",
       "4     0.475001\n",
       "        ...   \n",
       "90    0.399499\n",
       "91    0.283559\n",
       "92    0.453896\n",
       "93    0.888244\n",
       "94    0.538911\n",
       "Name: Width, Length: 95, dtype: object"
      ]
     },
     "execution_count": 17,
     "metadata": {},
     "output_type": "execute_result"
    }
   ],
   "source": [
    "y_train\n"
   ]
  },
  {
   "cell_type": "code",
   "execution_count": 18,
   "metadata": {
    "id": "6AsP_2W_W2kw"
   },
   "outputs": [],
   "source": [
    "# Создайте 4 модели с различными ядрами: 'linear', 'poly', 'rbf', 'sigmoid'.\n",
    "# Решите получившуюся задачу регрессии с помощью созданных моделей и сравните их эффективность.\n",
    "# При необходимости применяйте параметр регуляризации C : float, default=1.0\n",
    "# Укажите, какая модель решает задачу лучше других.\n",
    "r_model1 = SVR( kernel='linear')\n",
    "r_model2 = SVR(kernel='poly')\n",
    "r_model3 = SVR()\n",
    "r_model4 = SVR(kernel='sigmoid')\n",
    "\n",
    "\n"
   ]
  },
  {
   "cell_type": "code",
   "execution_count": 19,
   "metadata": {
    "colab": {
     "base_uri": "https://localhost:8080/"
    },
    "executionInfo": {
     "elapsed": 50,
     "status": "ok",
     "timestamp": 1633961043199,
     "user": {
      "displayName": "Marleena M.",
      "photoUrl": "https://lh3.googleusercontent.com/a/default-user=s64",
      "userId": "01554857910732208880"
     },
     "user_tz": -180
    },
    "id": "Nv70UO-9LXab",
    "outputId": "7d3c4502-69bc-41e2-c01d-2518f88a23db"
   },
   "outputs": [
    {
     "data": {
      "text/plain": [
       "0.014520212411616884"
      ]
     },
     "execution_count": 19,
     "metadata": {},
     "output_type": "execute_result"
    }
   ],
   "source": [
    "r_model1.fit(x_train,y_train)\n",
    "\n",
    "a=r_model1.predict(x_test)\n",
    "mse1 = mean_squared_error(y_test, a)\n",
    "mse1"
   ]
  },
  {
   "cell_type": "code",
   "execution_count": 20,
   "metadata": {
    "colab": {
     "base_uri": "https://localhost:8080/"
    },
    "executionInfo": {
     "elapsed": 44,
     "status": "ok",
     "timestamp": 1633961043200,
     "user": {
      "displayName": "Marleena M.",
      "photoUrl": "https://lh3.googleusercontent.com/a/default-user=s64",
      "userId": "01554857910732208880"
     },
     "user_tz": -180
    },
    "id": "KvIS9HC3k_QO",
    "outputId": "be2f4b64-90d1-438f-f9e8-aedffb7300f3"
   },
   "outputs": [
    {
     "data": {
      "text/plain": [
       "0.04385556174598257"
      ]
     },
     "execution_count": 20,
     "metadata": {},
     "output_type": "execute_result"
    }
   ],
   "source": [
    "\n",
    "r_model2.fit(x_train,y_train)\n",
    "a=r_model2.predict(x_test)\n",
    "mse2 = mean_squared_error(y_test, a)\n",
    "mse2"
   ]
  },
  {
   "cell_type": "code",
   "execution_count": 21,
   "metadata": {
    "colab": {
     "base_uri": "https://localhost:8080/"
    },
    "executionInfo": {
     "elapsed": 40,
     "status": "ok",
     "timestamp": 1633961043200,
     "user": {
      "displayName": "Marleena M.",
      "photoUrl": "https://lh3.googleusercontent.com/a/default-user=s64",
      "userId": "01554857910732208880"
     },
     "user_tz": -180
    },
    "id": "ls7jw2xILSv5",
    "outputId": "44c236db-eb50-424a-93d2-6afed751d057"
   },
   "outputs": [
    {
     "data": {
      "text/plain": [
       "0.014455873241371727"
      ]
     },
     "execution_count": 21,
     "metadata": {},
     "output_type": "execute_result"
    }
   ],
   "source": [
    "r_model3.fit(x_train,y_train)\n",
    "a=r_model3.predict(x_test)\n",
    "mse3 = mean_squared_error(y_test, a)\n",
    "mse3"
   ]
  },
  {
   "cell_type": "code",
   "execution_count": 22,
   "metadata": {
    "colab": {
     "base_uri": "https://localhost:8080/"
    },
    "executionInfo": {
     "elapsed": 38,
     "status": "ok",
     "timestamp": 1633961043201,
     "user": {
      "displayName": "Marleena M.",
      "photoUrl": "https://lh3.googleusercontent.com/a/default-user=s64",
      "userId": "01554857910732208880"
     },
     "user_tz": -180
    },
    "id": "kVRKnyN6k_jU",
    "outputId": "f824ef19-8cfb-4486-8259-d67d6604a2a7"
   },
   "outputs": [
    {
     "data": {
      "text/plain": [
       "26.98823884003972"
      ]
     },
     "execution_count": 22,
     "metadata": {},
     "output_type": "execute_result"
    }
   ],
   "source": [
    "r_model4.fit(x_train,y_train)\n",
    "a=r_model4.predict(x_test)\n",
    "mse4 = mean_squared_error(y_test, a)\n",
    "mse4"
   ]
  },
  {
   "cell_type": "code",
   "execution_count": null,
   "metadata": {
    "id": "HZWjYOcok_uI"
   },
   "outputs": [],
   "source": []
  },
  {
   "cell_type": "code",
   "execution_count": 23,
   "metadata": {
    "id": "HKU5K9yJW2kx"
   },
   "outputs": [],
   "source": [
    "# Задание №2 - анализ метода опорных векторов в задаче классификации\n",
    "# https://scikit-learn.org/stable/modules/generated/sklearn.svm.SVC.html#sklearn.svm.SVC\n",
    "# kernel : {'linear', 'poly', 'rbf', 'sigmoid', 'precomputed'}, default='rbf'\n",
    "# Только для kernel = 'poly' : degreeint, default=3"
   ]
  },
  {
   "cell_type": "code",
   "execution_count": 24,
   "metadata": {
    "colab": {
     "base_uri": "https://localhost:8080/"
    },
    "executionInfo": {
     "elapsed": 35,
     "status": "ok",
     "timestamp": 1633961043203,
     "user": {
      "displayName": "Marleena M.",
      "photoUrl": "https://lh3.googleusercontent.com/a/default-user=s64",
      "userId": "01554857910732208880"
     },
     "user_tz": -180
    },
    "id": "kM6fvAOeW2ky",
    "outputId": "30073da6-c82c-4719-ac1f-6683e4820e7e"
   },
   "outputs": [
    {
     "name": "stdout",
     "output_type": "stream",
     "text": [
      "['Height', 'Width']\n",
      "Species\n"
     ]
    }
   ],
   "source": [
    "# Выбираем 2 числовых переменных, которые будут параметрами элементов набора данных\n",
    "# Метка класса всегда 'Species'\n",
    "n = 2\n",
    "x_labels = random.sample(num_columns, n)\n",
    "y_label = 'Species'\n",
    "\n",
    "print(x_labels)\n",
    "print(y_label)"
   ]
  },
  {
   "cell_type": "code",
   "execution_count": 25,
   "metadata": {
    "id": "PzXKaO-uW2ky",
    "scrolled": true
   },
   "outputs": [],
   "source": [
    "# Отберем необходимые параметры\n",
    "x_train = sc_train[x_labels]\n",
    "x_test = sc_test[x_labels]\n",
    "x_val = sc_val[x_labels]\n",
    "\n",
    "y_train = sc_train[y_label]\n",
    "y_test = sc_test[y_label]\n",
    "y_val = sc_val[y_label]"
   ]
  },
  {
   "cell_type": "code",
   "execution_count": 26,
   "metadata": {
    "colab": {
     "base_uri": "https://localhost:8080/"
    },
    "executionInfo": {
     "elapsed": 426,
     "status": "ok",
     "timestamp": 1633961043597,
     "user": {
      "displayName": "Marleena M.",
      "photoUrl": "https://lh3.googleusercontent.com/a/default-user=s64",
      "userId": "01554857910732208880"
     },
     "user_tz": -180
    },
    "id": "lLM8NrpkW2kz",
    "outputId": "842c4f07-486b-4ee5-ec30-30f4b552c6a3"
   },
   "outputs": [
    {
     "data": {
      "text/plain": [
       "0      Bream\n",
       "1      Perch\n",
       "2      Perch\n",
       "3      Smelt\n",
       "4       Pike\n",
       "       ...  \n",
       "90    Parkki\n",
       "91     Roach\n",
       "92      Pike\n",
       "93     Perch\n",
       "94      Pike\n",
       "Name: Species, Length: 95, dtype: object"
      ]
     },
     "execution_count": 26,
     "metadata": {},
     "output_type": "execute_result"
    }
   ],
   "source": [
    "y_train"
   ]
  },
  {
   "cell_type": "code",
   "execution_count": 27,
   "metadata": {
    "id": "-2BVFBEpW2kz"
   },
   "outputs": [],
   "source": [
    "# Создайте 4 модели с различными ядрами: 'linear', 'poly', 'rbf', 'sigmoid'.\n",
    "# Решите получившуюся задачу регрессии с помощью созданных моделей и сравните их эффективность.\n",
    "# При необходимости применяйте параметр регуляризации C : float, default=1.0\n",
    "# Укажите, какая модель решает задачу лучше других.\n",
    "c_model1 = SVC(kernel= 'linear',degree=1)\n",
    "c_model2 = SVC(kernel='poly',degree=0.5)\n",
    "c_model3 = SVC(degree=0)\n",
    "c_model4 = SVC(kernel='sigmoid',degree=1)\n"
   ]
  },
  {
   "cell_type": "code",
   "execution_count": 28,
   "metadata": {
    "colab": {
     "base_uri": "https://localhost:8080/"
    },
    "executionInfo": {
     "elapsed": 20,
     "status": "ok",
     "timestamp": 1633961043598,
     "user": {
      "displayName": "Marleena M.",
      "photoUrl": "https://lh3.googleusercontent.com/a/default-user=s64",
      "userId": "01554857910732208880"
     },
     "user_tz": -180
    },
    "id": "Ng-VoDMKnRci",
    "outputId": "06d5bc89-dacb-48b8-8d1f-ba4ad85afccb"
   },
   "outputs": [
    {
     "name": "stdout",
     "output_type": "stream",
     "text": [
      "['Perch' 'Perch' 'Perch' 'Bream' 'Perch' 'Perch' 'Bream' 'Perch' 'Perch'\n",
      " 'Perch' 'Bream' 'Bream' 'Perch' 'Perch' 'Perch' 'Perch' 'Perch' 'Perch'\n",
      " 'Bream' 'Perch' 'Perch' 'Perch' 'Perch' 'Perch' 'Perch' 'Perch' 'Perch'\n",
      " 'Perch' 'Perch' 'Perch' 'Perch' 'Bream']\n"
     ]
    }
   ],
   "source": [
    "c_model1.fit(x_train, y_train)\n",
    "print(c_model1.predict(x_test))"
   ]
  },
  {
   "cell_type": "code",
   "execution_count": 29,
   "metadata": {
    "colab": {
     "base_uri": "https://localhost:8080/"
    },
    "executionInfo": {
     "elapsed": 15,
     "status": "ok",
     "timestamp": 1633961043598,
     "user": {
      "displayName": "Marleena M.",
      "photoUrl": "https://lh3.googleusercontent.com/a/default-user=s64",
      "userId": "01554857910732208880"
     },
     "user_tz": -180
    },
    "id": "hBFOmAq5nR5O",
    "outputId": "f79dcf58-937d-49cf-ab2c-cd1b543f4ccd"
   },
   "outputs": [
    {
     "name": "stdout",
     "output_type": "stream",
     "text": [
      "['Perch' 'Perch' 'Perch' 'Perch' 'Perch' 'Perch' 'Perch' 'Perch' 'Perch'\n",
      " 'Perch' 'Perch' 'Perch' 'Perch' 'Perch' 'Perch' 'Perch' 'Perch' 'Perch'\n",
      " 'Perch' 'Perch' 'Perch' 'Perch' 'Perch' 'Perch' 'Perch' 'Perch' 'Perch'\n",
      " 'Perch' 'Perch' 'Perch' 'Perch' 'Perch']\n"
     ]
    }
   ],
   "source": [
    "c_model2.fit(x_train, y_train)\n",
    "print(c_model2.predict(x_test))"
   ]
  },
  {
   "cell_type": "code",
   "execution_count": 30,
   "metadata": {
    "colab": {
     "base_uri": "https://localhost:8080/"
    },
    "executionInfo": {
     "elapsed": 13,
     "status": "ok",
     "timestamp": 1633961043599,
     "user": {
      "displayName": "Marleena M.",
      "photoUrl": "https://lh3.googleusercontent.com/a/default-user=s64",
      "userId": "01554857910732208880"
     },
     "user_tz": -180
    },
    "id": "yThvYyx0nSMg",
    "outputId": "d861f6b9-8485-4b9d-f60b-0d89595a60ef"
   },
   "outputs": [
    {
     "name": "stdout",
     "output_type": "stream",
     "text": [
      "['Perch' 'Perch' 'Perch' 'Bream' 'Perch' 'Perch' 'Bream' 'Smelt' 'Perch'\n",
      " 'Perch' 'Bream' 'Bream' 'Perch' 'Parkki' 'Perch' 'Perch' 'Perch' 'Perch'\n",
      " 'Bream' 'Smelt' 'Parkki' 'Perch' 'Perch' 'Perch' 'Perch' 'Perch' 'Perch'\n",
      " 'Perch' 'Perch' 'Perch' 'Perch' 'Bream']\n"
     ]
    }
   ],
   "source": [
    "c_model3.fit(x_train, y_train)\n",
    "print(c_model3.predict(x_test))"
   ]
  },
  {
   "cell_type": "code",
   "execution_count": 31,
   "metadata": {
    "colab": {
     "base_uri": "https://localhost:8080/"
    },
    "executionInfo": {
     "elapsed": 10,
     "status": "ok",
     "timestamp": 1633961043599,
     "user": {
      "displayName": "Marleena M.",
      "photoUrl": "https://lh3.googleusercontent.com/a/default-user=s64",
      "userId": "01554857910732208880"
     },
     "user_tz": -180
    },
    "id": "P61AtJYjnnKl",
    "outputId": "42210782-c3e2-4766-d335-ea5d0b8ff40d"
   },
   "outputs": [
    {
     "name": "stdout",
     "output_type": "stream",
     "text": [
      "['Bream' 'Bream' 'Bream' 'Perch' 'Bream' 'Bream' 'Bream' 'Smelt' 'Bream'\n",
      " 'Perch' 'Perch' 'Perch' 'Bream' 'Bream' 'Bream' 'Bream' 'Perch' 'Bream'\n",
      " 'Bream' 'Smelt' 'Bream' 'Bream' 'Bream' 'Bream' 'Bream' 'Bream' 'Bream'\n",
      " 'Bream' 'Bream' 'Bream' 'Bream' 'Bream']\n"
     ]
    }
   ],
   "source": [
    "c_model4.fit(x_train, y_train)\n",
    "print(c_model4.predict(x_test))"
   ]
  },
  {
   "cell_type": "code",
   "execution_count": null,
   "metadata": {},
   "outputs": [],
   "source": []
  },
  {
   "cell_type": "code",
   "execution_count": null,
   "metadata": {},
   "outputs": [],
   "source": []
  }
 ],
 "metadata": {
  "colab": {
   "collapsed_sections": [],
   "name": "ПР-9 Фамилия ИСТ-19-1.ipynb",
   "provenance": [
    {
     "file_id": "1zRN4bfyKUgzvj30aypqm3XbLhbChpvuv",
     "timestamp": 1632580115382
    }
   ]
  },
  "kernelspec": {
   "display_name": "Python 3 (ipykernel)",
   "language": "python",
   "name": "python3"
  },
  "language_info": {
   "codemirror_mode": {
    "name": "ipython",
    "version": 3
   },
   "file_extension": ".py",
   "mimetype": "text/x-python",
   "name": "python",
   "nbconvert_exporter": "python",
   "pygments_lexer": "ipython3",
   "version": "3.7.10"
  }
 },
 "nbformat": 4,
 "nbformat_minor": 4
}
