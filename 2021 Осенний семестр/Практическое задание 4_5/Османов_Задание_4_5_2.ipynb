{
 "cells": [
  {
   "cell_type": "code",
   "execution_count": 2,
   "metadata": {},
   "outputs": [
    {
     "name": "stdout",
     "output_type": "stream",
     "text": [
      "   Квадрат\n",
      "1        4\n",
      "3       16\n",
      "5       36\n",
      "7       64\n",
      "9      100\n"
     ]
    }
   ],
   "source": [
    "import pandas as pd\n",
    "df = pd.DataFrame({})\n",
    "df = pd.DataFrame({\"Число\":[1,2,3,4,5,6,7,8,9,10]})\n",
    "l = df[\"Число\"]**2\n",
    "df.insert(1, \"Квадрат\", l)\n",
    "dfcopy = pd.DataFrame(df)\n",
    "dfcopy[\"Число\"] *= (df[\"Число\"]%2==0)\n",
    "dfcopy = dfcopy[dfcopy[\"Число\"]!=0]\n",
    "del dfcopy[\"Число\"]\n",
    "print(dfcopy)"
   ]
  }
 ],
 "metadata": {
  "kernelspec": {
   "display_name": "Python 3 (ipykernel)",
   "language": "python",
   "name": "python3"
  },
  "language_info": {
   "codemirror_mode": {
    "name": "ipython",
    "version": 3
   },
   "file_extension": ".py",
   "mimetype": "text/x-python",
   "name": "python",
   "nbconvert_exporter": "python",
   "pygments_lexer": "ipython3",
   "version": "3.7.10"
  }
 },
 "nbformat": 4,
 "nbformat_minor": 4
}
