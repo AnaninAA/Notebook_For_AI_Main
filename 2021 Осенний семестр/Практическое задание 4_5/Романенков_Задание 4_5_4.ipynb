{
 "cells": [
  {
   "cell_type": "code",
   "execution_count": 32,
   "metadata": {},
   "outputs": [
    {
     "name": "stdout",
     "output_type": "stream",
     "text": [
      "        pH  density\n",
      "54    3.05  0.99300\n",
      "172   3.03  0.99020\n",
      "372   3.34  0.99340\n",
      "1164  3.07  0.99280\n",
      "1166  3.23  0.99270\n",
      "1322  3.54  0.99200\n",
      "1340  3.27  0.99220\n",
      "1366  3.25  0.99140\n",
      "1486  3.30  0.99320\n",
      "2418  3.16  0.99274\n",
      "2468  3.25  0.99155\n",
      "2512  3.28  0.99112\n",
      "2754  3.13  0.98985\n",
      "2888  3.04  0.99180\n",
      "2898  2.99  0.99104\n",
      "2904  3.31  0.99114\n",
      "2934  3.30  0.99215\n",
      "2936  3.30  0.99218\n",
      "2956  2.80  0.99026\n",
      "2968  2.93  0.99038\n",
      "2970  2.93  0.99038\n",
      "2996  3.11  0.98942\n",
      "3136  3.50  0.99026\n",
      "3170  3.02  0.99126\n",
      "3212  3.25  0.99033\n",
      "3526  3.01  0.98984\n",
      "3554  2.92  0.99062\n",
      "3626  3.21  0.99048\n",
      "3924  2.95  0.99249\n",
      "4106  3.16  0.99119\n",
      "4682  3.11  0.98990\n",
      "4804  3.24  0.98934\n",
      "4878  3.24  0.99234\n"
     ]
    },
    {
     "data": {
      "text/plain": [
       "(array([1., 3., 4., 4., 5., 4., 9., 1., 0., 2.]),\n",
       " array([2.8  , 2.874, 2.948, 3.022, 3.096, 3.17 , 3.244, 3.318, 3.392,\n",
       "        3.466, 3.54 ]),\n",
       " <BarContainer object of 10 artists>)"
      ]
     },
     "execution_count": 32,
     "metadata": {},
     "output_type": "execute_result"
    },
    {
     "data": {
      "image/png": "[encoded data removed]",
      "text/plain": [
       "<Figure size 432x288 with 1 Axes>"
      ]
     },
     "metadata": {
      "needs_background": "light"
     },
     "output_type": "display_data"
    }
   ],
   "source": [
    "import numpy as np\n",
    "import pandas\n",
    "import matplotlib.pyplot\n",
    "\n",
    "df1 = pandas.read_csv('winequality-white.csv', ';')\n",
    "df2 = df1[df1['residual sugar'] < 1]\n",
    "df2 = df2[['pH', 'density']]\n",
    "df2 = df2[df2.index % 2 == 0]\n",
    "\n",
    "df2"
   ]
  },
  {
   "cell_type": "code",
   "execution_count": null,
   "metadata": {},
   "outputs": [],
   "source": [
    "matplotlib.pyplot.hist(df2['pH'])"
   ]
  },
  {
   "cell_type": "code",
   "execution_count": null,
   "metadata": {},
   "outputs": [],
   "source": []
  }
 ],
 "metadata": {
  "kernelspec": {
   "display_name": "Python 3 (ipykernel)",
   "language": "python",
   "name": "python3"
  },
  "language_info": {
   "codemirror_mode": {
    "name": "ipython",
    "version": 3
   },
   "file_extension": ".py",
   "mimetype": "text/x-python",
   "name": "python",
   "nbconvert_exporter": "python",
   "pygments_lexer": "ipython3",
   "version": "3.7.10"
  }
 },
 "nbformat": 4,
 "nbformat_minor": 4
}
