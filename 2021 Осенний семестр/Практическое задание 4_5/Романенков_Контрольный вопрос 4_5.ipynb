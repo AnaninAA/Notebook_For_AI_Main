{
 "cells": [
  {
   "cell_type": "code",
   "execution_count": 3,
   "metadata": {},
   "outputs": [
    {
     "name": "stdout",
     "output_type": "stream",
     "text": [
      "   Число  Квадрат\n",
      "0      1        1\n",
      "1      2        4\n",
      "2      3        9\n",
      "3      4       16\n",
      "4      5       25\n",
      "5      6       36\n",
      "6      7       49\n",
      "7      8       64\n",
      "8      9       81\n",
      "9     10      100\n",
      "   Число  Квадрат\n",
      "1      2        4\n",
      "3      4       16\n",
      "5      6       36\n",
      "7      8       64\n",
      "9     10      100\n",
      "   Квадрат\n",
      "1        4\n",
      "3       16\n",
      "5       36\n",
      "7       64\n",
      "9      100\n"
     ]
    }
   ],
   "source": [
    "import numpy as np\n",
    "import pandas\n",
    "import matplotlib.pyplot\n",
    "\n",
    "df1 = pandas.DataFrame()\n",
    "x = []\n",
    "\n",
    "for i in range(1,11):\n",
    "    x.append(i)\n",
    "    y = []\n",
    "    for i in range(1,11):\n",
    "        y.append(i**2)  \n",
    "        \n",
    "df1.insert(0, 'Число', x)\n",
    "df1.insert(1, 'Квадрат', y)\n",
    "print(df1)\n",
    "\n",
    "df2 = df1[ df1['Число'] % 2 == 0 ]\n",
    "print(df2)\n",
    "\n",
    "df2.pop('Число')\n",
    "print(df2)"
   ]
  },
  {
   "cell_type": "code",
   "execution_count": null,
   "metadata": {},
   "outputs": [],
   "source": []
  }
 ],
 "metadata": {
  "kernelspec": {
   "display_name": "Python 3 (ipykernel)",
   "language": "python",
   "name": "python3"
  },
  "language_info": {
   "codemirror_mode": {
    "name": "ipython",
    "version": 3
   },
   "file_extension": ".py",
   "mimetype": "text/x-python",
   "name": "python",
   "nbconvert_exporter": "python",
   "pygments_lexer": "ipython3",
   "version": "3.7.10"
  }
 },
 "nbformat": 4,
 "nbformat_minor": 4
}
