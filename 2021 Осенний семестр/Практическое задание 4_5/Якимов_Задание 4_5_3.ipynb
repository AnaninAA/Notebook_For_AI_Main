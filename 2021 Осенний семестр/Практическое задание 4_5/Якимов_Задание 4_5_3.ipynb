{
 "cells": [
  {
   "cell_type": "code",
   "execution_count": 24,
   "metadata": {},
   "outputs": [
    {
     "name": "stdout",
     "output_type": "stream",
     "text": [
      "      density    pH\n",
      "54    0.99300  3.05\n",
      "172   0.99020  3.03\n",
      "372   0.99340  3.34\n",
      "1164  0.99280  3.07\n",
      "1166  0.99270  3.23\n",
      "1322  0.99200  3.54\n",
      "1340  0.99220  3.27\n",
      "1366  0.99140  3.25\n",
      "1486  0.99320  3.30\n",
      "2418  0.99274  3.16\n",
      "2468  0.99155  3.25\n",
      "2512  0.99112  3.28\n",
      "2754  0.98985  3.13\n",
      "2888  0.99180  3.04\n",
      "2898  0.99104  2.99\n",
      "2904  0.99114  3.31\n",
      "2934  0.99215  3.30\n",
      "2936  0.99218  3.30\n",
      "2956  0.99026  2.80\n",
      "2968  0.99038  2.93\n",
      "2970  0.99038  2.93\n",
      "2996  0.98942  3.11\n",
      "3136  0.99026  3.50\n",
      "3170  0.99126  3.02\n",
      "3212  0.99033  3.25\n",
      "3526  0.98984  3.01\n",
      "3554  0.99062  2.92\n",
      "3626  0.99048  3.21\n",
      "3924  0.99249  2.95\n",
      "4106  0.99119  3.16\n",
      "4682  0.98990  3.11\n",
      "4804  0.98934  3.24\n",
      "4878  0.99234  3.24\n"
     ]
    },
    {
     "name": "stderr",
     "output_type": "stream",
     "text": [
      "/srv/conda/envs/notebook/lib/python3.7/site-packages/IPython/core/interactiveshell.py:3444: FutureWarning: In a future version of pandas all arguments of read_csv except for the argument 'filepath_or_buffer' will be keyword-only\n",
      "  exec(code_obj, self.user_global_ns, self.user_ns)\n"
     ]
    },
    {
     "data": {
      "text/plain": [
       "'a=pandas.DataFrame({\"bub\":[1,2,3,4,5,6,7,8]})\\nb=pandas.DataFrame({\"bub\":a[\"bub\"]*(a[\"bub\"] % 2 == 1)})\\nprint(b)'"
      ]
     },
     "execution_count": 24,
     "metadata": {},
     "output_type": "execute_result"
    }
   ],
   "source": [
    "import numpy\n",
    "import pandas\n",
    "import matplotlib.pyplot\n",
    "a=pandas.DataFrame({})\n",
    "a=pandas.read_csv(\"winequality-white.csv\", ';')\n",
    "b=pandas.DataFrame(a);\n",
    "b.drop(b[b[\"residual sugar\"] >= 1].index, inplace=True)\n",
    "c=pandas.DataFrame({\"density\":b[\"density\"],\"pH\":b[\"pH\"]})\n",
    "c.drop(c[c.index % 2 == 1].index, inplace=True)\n",
    "print(c)"
   ]
  },
  {
   "cell_type": "code",
   "execution_count": null,
   "metadata": {},
   "outputs": [],
   "source": []
  },
  {
   "cell_type": "code",
   "execution_count": null,
   "metadata": {},
   "outputs": [],
   "source": []
  },
  {
   "cell_type": "code",
   "execution_count": null,
   "metadata": {},
   "outputs": [],
   "source": []
  }
 ],
 "metadata": {
  "kernelspec": {
   "display_name": "Python 3 (ipykernel)",
   "language": "python",
   "name": "python3"
  },
  "language_info": {
   "codemirror_mode": {
    "name": "ipython",
    "version": 3
   },
   "file_extension": ".py",
   "mimetype": "text/x-python",
   "name": "python",
   "nbconvert_exporter": "python",
   "pygments_lexer": "ipython3",
   "version": "3.7.10"
  }
 },
 "nbformat": 4,
 "nbformat_minor": 4
}
