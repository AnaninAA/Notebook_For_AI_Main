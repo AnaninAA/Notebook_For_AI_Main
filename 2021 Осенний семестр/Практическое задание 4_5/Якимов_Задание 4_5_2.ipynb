{
 "cells": [
  {
   "cell_type": "code",
   "execution_count": 32,
   "metadata": {},
   "outputs": [
    {
     "name": "stdout",
     "output_type": "stream",
     "text": [
      "   Квадрат\n",
      "1        4\n",
      "3       16\n",
      "5       36\n",
      "7       64\n",
      "9      100\n"
     ]
    }
   ],
   "source": [
    "import numpy\n",
    "import pandas\n",
    "import matplotlib.pyplot\n",
    "a=pandas.DataFrame({})\n",
    "a.insert(0,\"Число\",[1,2,3,4,5,6,7,8,9,10])\n",
    "a.insert(1,\"Квадрат\",a[\"Число\"]**2)\n",
    "b=pandas.DataFrame(a)\n",
    "b.drop(b[b.Число %2 != 0].index, inplace=True)\n",
    "b.drop(\"Число\", axis=1, inplace=True)\n",
    "print(b)"
   ]
  },
  {
   "cell_type": "code",
   "execution_count": null,
   "metadata": {},
   "outputs": [],
   "source": []
  },
  {
   "cell_type": "code",
   "execution_count": null,
   "metadata": {},
   "outputs": [],
   "source": []
  },
  {
   "cell_type": "code",
   "execution_count": null,
   "metadata": {},
   "outputs": [],
   "source": []
  }
 ],
 "metadata": {
  "kernelspec": {
   "display_name": "Python 3 (ipykernel)",
   "language": "python",
   "name": "python3"
  },
  "language_info": {
   "codemirror_mode": {
    "name": "ipython",
    "version": 3
   },
   "file_extension": ".py",
   "mimetype": "text/x-python",
   "name": "python",
   "nbconvert_exporter": "python",
   "pygments_lexer": "ipython3",
   "version": "3.7.10"
  }
 },
 "nbformat": 4,
 "nbformat_minor": 4
}
