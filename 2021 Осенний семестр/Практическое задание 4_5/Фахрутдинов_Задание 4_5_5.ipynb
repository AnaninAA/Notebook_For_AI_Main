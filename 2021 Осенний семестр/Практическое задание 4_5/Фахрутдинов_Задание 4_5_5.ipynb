{
 "cells": [
  {
   "cell_type": "code",
   "execution_count": null,
   "metadata": {},
   "outputs": [],
   "source": [
    "class Square\n",
    "    + name : string\n",
    "    + accronym : string\n",
    "\n",
    "class Row\n",
    "    + left_square : square\n",
    "    + center_square : square\n",
    "    + right_square : square\n",
    "\n",
    "class Face\n",
    "    + top_row : list of 3 square\n",
    "    + center_row : list of 3 square\n",
    "    + bottom_row : list of 3 square\n",
    "\n",
    "    + rotate(counter_clockwise : boolean) : nothing\n",
    "\n",
    "class Cube\n",
    "    + back_face : face\n",
    "    + left_face : face\n",
    "    + top_face : face\n",
    "    + right_face : face\n",
    "    + front_face : face\n",
    "    + bottom_face : face\n",
    "\n",
    "    - rotate_face(cube_face : face, counter_clockwise : boolean) : nothing"
   ]
  },
  {
   "cell_type": "code",
   "execution_count": null,
   "metadata": {},
   "outputs": [],
   "source": []
  },
  {
   "cell_type": "code",
   "execution_count": null,
   "metadata": {},
   "outputs": [],
   "source": []
  }
 ],
 "metadata": {
  "kernelspec": {
   "display_name": "Python 3 (ipykernel)",
   "language": "python",
   "name": "python3"
  },
  "language_info": {
   "codemirror_mode": {
    "name": "ipython",
    "version": 3
   },
   "file_extension": ".py",
   "mimetype": "text/x-python",
   "name": "python",
   "nbconvert_exporter": "python",
   "pygments_lexer": "ipython3",
   "version": "3.7.10"
  }
 },
 "nbformat": 4,
 "nbformat_minor": 4
}
