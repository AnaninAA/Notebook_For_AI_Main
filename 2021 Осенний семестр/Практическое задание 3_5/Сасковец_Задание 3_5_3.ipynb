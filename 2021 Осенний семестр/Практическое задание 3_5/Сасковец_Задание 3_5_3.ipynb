{
 "cells": [
  {
   "cell_type": "code",
   "execution_count": 9,
   "metadata": {},
   "outputs": [
    {
     "name": "stdout",
     "output_type": "stream",
     "text": [
      "Danila\n",
      "['D', 'a', 'a', 'i', 'l', 'n']\n",
      "ilaD a a i l n\n"
     ]
    }
   ],
   "source": [
    "first_list = (\"Danila\")\n",
    "second_list = first_list\n",
    "second_list = sorted(second_list)\n",
    "third_list = one_list + (\" \".join(second_list))\n",
    "third_list = third_list[3:]\n",
    "print(first_list)\n",
    "print(second_list)\n",
    "print(third_list)"
   ]
  }
 ],
 "metadata": {
  "kernelspec": {
   "display_name": "Python 3 (ipykernel)",
   "language": "python",
   "name": "python3"
  },
  "language_info": {
   "codemirror_mode": {
    "name": "ipython",
    "version": 3
   },
   "file_extension": ".py",
   "mimetype": "text/x-python",
   "name": "python",
   "nbconvert_exporter": "python",
   "pygments_lexer": "ipython3",
   "version": "3.7.10"
  }
 },
 "nbformat": 4,
 "nbformat_minor": 4
}
