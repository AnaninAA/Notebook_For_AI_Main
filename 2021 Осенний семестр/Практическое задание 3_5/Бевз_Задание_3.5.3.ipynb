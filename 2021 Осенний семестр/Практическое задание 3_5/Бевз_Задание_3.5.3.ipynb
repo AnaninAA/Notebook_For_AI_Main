{
  "nbformat": 4,
  "nbformat_minor": 0,
  "metadata": {
    "kernelspec": {
      "display_name": "Python 3",
      "language": "python",
      "name": "python3"
    },
    "language_info": {
      "codemirror_mode": {
        "name": "ipython",
        "version": 3
      },
      "file_extension": ".py",
      "mimetype": "text/x-python",
      "name": "python",
      "nbconvert_exporter": "python",
      "pygments_lexer": "ipython3",
      "version": "3.7.8"
    },
    "colab": {
      "name": "empty_notebook.ipynb",
      "provenance": []
    }
  },
  "cells": [
    {
      "cell_type": "code",
      "metadata": {
        "id": "J1dNz-eQmvpl"
      },
      "source": [
        "import numpy as np\n",
        "import pandas as pd\n",
        "import matplotlib.pyplot as plt\n",
        "import sklearn as sk"
      ],
      "execution_count": null,
      "outputs": []
    },
    {
      "cell_type": "code",
      "metadata": {
        "colab": {
          "base_uri": "https://localhost:8080/",
          "height": 0
        },
        "id": "fg_NmZOmmw2n",
        "outputId": "f6fbfe4a-16d7-4ae5-8176-1aa59220763c"
      },
      "source": [
        "list_name = list(\"Александр\")\n",
        "print(list_name)"
      ],
      "execution_count": 49,
      "outputs": [
        {
          "output_type": "stream",
          "name": "stdout",
          "text": [
            "['А', 'л', 'е', 'к', 'с', 'а', 'н', 'д', 'р']\n"
          ]
        }
      ]
    },
    {
      "cell_type": "code",
      "metadata": {
        "id": "H5YLLWq8qnAQ",
        "outputId": "3ee208d1-2e18-4f8f-b75d-36b65202c002",
        "colab": {
          "base_uri": "https://localhost:8080/",
          "height": 0
        }
      },
      "source": [
        "list2 = list(list_name)\n",
        "list2.sort()\n",
        "print(list2)"
      ],
      "execution_count": 50,
      "outputs": [
        {
          "output_type": "stream",
          "name": "stdout",
          "text": [
            "['А', 'а', 'д', 'е', 'к', 'л', 'н', 'р', 'с']\n"
          ]
        }
      ]
    },
    {
      "cell_type": "code",
      "metadata": {
        "id": "OvHbiXAEq2ck",
        "outputId": "a324095c-1d42-45c7-bc64-357e17a9d965",
        "colab": {
          "base_uri": "https://localhost:8080/",
          "height": 0
        }
      },
      "source": [
        "list3 = list_name + list2\n",
        "del list3[:3]\n",
        "print(list3)"
      ],
      "execution_count": 51,
      "outputs": [
        {
          "output_type": "stream",
          "name": "stdout",
          "text": [
            "['к', 'с', 'а', 'н', 'д', 'р', 'А', 'а', 'д', 'е', 'к', 'л', 'н', 'р', 'с']\n"
          ]
        }
      ]
    }
  ]
}