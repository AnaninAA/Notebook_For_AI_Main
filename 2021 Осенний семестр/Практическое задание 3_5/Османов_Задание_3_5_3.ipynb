{
 "cells": [
  {
   "cell_type": "code",
   "execution_count": 34,
   "metadata": {},
   "outputs": [
    {
     "name": "stdout",
     "output_type": "stream",
     "text": [
      "Timur\n",
      "['T', 'i', 'm', 'r', 'u']\n",
      "urTimru\n"
     ]
    }
   ],
   "source": [
    "one_list = (\"Timur\")\n",
    "two_list = one_list\n",
    "two_list=sorted(two_list)\n",
    "three_list = one_list+(\"\".join(two_list))\n",
    "three_list = three_list[3:]\n",
    "print(one_list)\n",
    "print(two_list)\n",
    "print(three_list)"
   ]
  },
  {
   "cell_type": "code",
   "execution_count": null,
   "metadata": {},
   "outputs": [],
   "source": []
  }
 ],
 "metadata": {
  "kernelspec": {
   "display_name": "Python 3 (ipykernel)",
   "language": "python",
   "name": "python3"
  },
  "language_info": {
   "codemirror_mode": {
    "name": "ipython",
    "version": 3
   },
   "file_extension": ".py",
   "mimetype": "text/x-python",
   "name": "python",
   "nbconvert_exporter": "python",
   "pygments_lexer": "ipython3",
   "version": "3.7.10"
  }
 },
 "nbformat": 4,
 "nbformat_minor": 4
}
