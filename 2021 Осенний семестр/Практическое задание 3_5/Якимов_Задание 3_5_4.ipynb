{
 "cells": [
  {
   "cell_type": "code",
   "execution_count": 11,
   "metadata": {},
   "outputs": [
    {
     "name": "stdout",
     "output_type": "stream",
     "text": [
      "{1: 10, 'abc': 'def', 0: [0, 1, 2], (0, 1): 'а'}\n",
      "{1: 15, 'abc': 'defdef', 0: [1, 2, 3]}\n"
     ]
    }
   ],
   "source": [
    "d={}\n",
    "d[1]=10\n",
    "d['abc']='def'\n",
    "d[0]=[0, 1, 2]\n",
    "d[(0, 1)]='а'\n",
    "\n",
    "print(d)\n",
    "\n",
    "d[1]=d[1]+5\n",
    "d['abc']=d['abc']*2\n",
    "d[0].append(3)\n",
    "d[0]=d[0][1::]\n",
    "d.pop((0, 1))\n",
    "\n",
    "print(d)"
   ]
  },
  {
   "cell_type": "code",
   "execution_count": null,
   "metadata": {},
   "outputs": [],
   "source": []
  }
 ],
 "metadata": {
  "kernelspec": {
   "display_name": "Python 3 (ipykernel)",
   "language": "python",
   "name": "python3"
  },
  "language_info": {
   "codemirror_mode": {
    "name": "ipython",
    "version": 3
   },
   "file_extension": ".py",
   "mimetype": "text/x-python",
   "name": "python",
   "nbconvert_exporter": "python",
   "pygments_lexer": "ipython3",
   "version": "3.7.10"
  }
 },
 "nbformat": 4,
 "nbformat_minor": 4
}
