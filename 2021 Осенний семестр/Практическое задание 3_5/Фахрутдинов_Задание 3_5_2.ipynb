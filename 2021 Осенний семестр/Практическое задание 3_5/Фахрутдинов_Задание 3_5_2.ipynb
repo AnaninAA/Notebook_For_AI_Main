{
 "cells": [
  {
   "cell_type": "code",
   "execution_count": 3,
   "metadata": {},
   "outputs": [
    {
     "name": "stdout",
     "output_type": "stream",
     "text": [
      "(5, 6, 7, 8, 9, 10, 11, 12, 13, 14, 15)\n",
      "(20, 19, 18, 17, 16, 15, 14)\n",
      "(7, 9, 11, 13)\n"
     ]
    }
   ],
   "source": [
    "tup = tuple(range(1, 21))\n",
    "a = tuple(tup[slice(4,15,1)])\n",
    "print(a)\n",
    "m = tuple(tup[::-1])\n",
    "b = tuple(m[slice(0,7,1)])\n",
    "print(b)\n",
    "c = tuple(tup[slice(6,13,2)])\n",
    "print(c)"
   ]
  },
  {
   "cell_type": "code",
   "execution_count": null,
   "metadata": {},
   "outputs": [],
   "source": []
  }
 ],
 "metadata": {
  "kernelspec": {
   "display_name": "Python 3 (ipykernel)",
   "language": "python",
   "name": "python3"
  },
  "language_info": {
   "codemirror_mode": {
    "name": "ipython",
    "version": 3
   },
   "file_extension": ".py",
   "mimetype": "text/x-python",
   "name": "python",
   "nbconvert_exporter": "python",
   "pygments_lexer": "ipython3",
   "version": "3.7.10"
  }
 },
 "nbformat": 4,
 "nbformat_minor": 4
}
