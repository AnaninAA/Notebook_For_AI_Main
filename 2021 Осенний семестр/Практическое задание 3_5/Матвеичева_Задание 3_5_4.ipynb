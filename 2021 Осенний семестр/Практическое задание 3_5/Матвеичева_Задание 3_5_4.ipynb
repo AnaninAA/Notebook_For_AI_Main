{
 "cells": [
  {
   "cell_type": "code",
   "execution_count": 28,
   "id": "77e25c4b-c85c-42ca-bccd-06789cc39eb4",
   "metadata": {},
   "outputs": [
    {
     "name": "stdout",
     "output_type": "stream",
     "text": [
      "{1: 15, 'abc': 'defdef', 0: [1, 2, 3]}\n"
     ]
    }
   ],
   "source": [
    "my_dict = {}\n",
    "\n",
    "my_dict[1] = 10\n",
    "my_dict['abc'] = 'def'\n",
    "my_dict[0] = [0, 1, 2]\n",
    "my_dict[(0, 1)] = 'a'\n",
    "\n",
    "my_dict[1] = 10 + 5\n",
    "my_dict['abc'] += my_dict['abc']\n",
    "my_dict[0] = [0, 1, 2] + [3]\n",
    "my_dict[0].pop(0)\n",
    "my_dict.pop((0, 1))\n",
    "\n",
    "print(my_dict)\n"
   ]
  },
  {
   "cell_type": "code",
   "execution_count": null,
   "id": "9899a7f8-4f18-4fef-8bda-9009581ffd45",
   "metadata": {},
   "outputs": [],
   "source": []
  },
  {
   "cell_type": "code",
   "execution_count": null,
   "id": "923019d1-9d21-417a-83f2-e4f5a7a7739b",
   "metadata": {},
   "outputs": [],
   "source": []
  },
  {
   "cell_type": "code",
   "execution_count": null,
   "id": "4f9074a6-b1a5-4caa-8666-68a10dd87e00",
   "metadata": {},
   "outputs": [],
   "source": []
  }
 ],
 "metadata": {
  "kernelspec": {
   "display_name": "Python 3 (ipykernel)",
   "language": "python",
   "name": "python3"
  },
  "language_info": {
   "codemirror_mode": {
    "name": "ipython",
    "version": 3
   },
   "file_extension": ".py",
   "mimetype": "text/x-python",
   "name": "python",
   "nbconvert_exporter": "python",
   "pygments_lexer": "ipython3",
   "version": "3.7.10"
  }
 },
 "nbformat": 4,
 "nbformat_minor": 5
}
