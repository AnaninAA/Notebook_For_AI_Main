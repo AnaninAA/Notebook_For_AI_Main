{
 "cells": [
  {
   "cell_type": "code",
   "execution_count": 5,
   "id": "cedf4f81-104a-4cbd-b885-5a8654eb7f60",
   "metadata": {},
   "outputs": [],
   "source": [
    "#а) Удобнее использовать список, потому что, можн легко обратить к данным и поменять или удалить значение при необходимости\n",
    "#б) Удобнее использовать словарь, потому что, по запросу ФИО можно сразу получить данные об успеваимости студента\n",
    "#в)  Удобнее использовать список, потому что, можн легко обратить к данным и поменять или удалить значение при необходимости"
   ]
  },
  {
   "cell_type": "code",
   "execution_count": 12,
   "id": "eb48b8b4-5fd6-4f91-8cf6-1dca860e0498",
   "metadata": {},
   "outputs": [
    {
     "name": "stdin",
     "output_type": "stream",
     "text": [
      "Количество вводимых значений:  3\n",
      "Значение:  9\n",
      "Значение:  1\n",
      "Значение:  8\n"
     ]
    },
    {
     "name": "stdout",
     "output_type": "stream",
     "text": [
      "3: [2, 3]\n"
     ]
    }
   ],
   "source": [
    "n = int(input('Количество вводимых значений: '))\n",
    "    \n",
    "x = {}\n",
    "    \n",
    "for i in range(1, n + 1):\n",
    "        \n",
    "    y = []\n",
    "    a = int(input('Значение: '))\n",
    "        \n",
    "    for j in range(2, a + 1):\n",
    "           \n",
    "      k = 0\n",
    "           \n",
    "    for d in range(1, j+1):\n",
    "           \n",
    "         if j % d == 0: k += 1\n",
    "               \n",
    "         if k == 2: y.append(d)\n",
    "       \n",
    "x[i] = y\n",
    "\n",
    "for key, value in x.items():\n",
    "       print(\"{0}: {1}\".format(key,value))"
   ]
  },
  {
   "cell_type": "code",
   "execution_count": null,
   "id": "3c1c381b-74c1-44b1-943b-84897c015bd9",
   "metadata": {},
   "outputs": [],
   "source": []
  }
 ],
 "metadata": {
  "kernelspec": {
   "display_name": "Python 3 (ipykernel)",
   "language": "python",
   "name": "python3"
  },
  "language_info": {
   "codemirror_mode": {
    "name": "ipython",
    "version": 3
   },
   "file_extension": ".py",
   "mimetype": "text/x-python",
   "name": "python",
   "nbconvert_exporter": "python",
   "pygments_lexer": "ipython3",
   "version": "3.7.10"
  }
 },
 "nbformat": 4,
 "nbformat_minor": 5
}
