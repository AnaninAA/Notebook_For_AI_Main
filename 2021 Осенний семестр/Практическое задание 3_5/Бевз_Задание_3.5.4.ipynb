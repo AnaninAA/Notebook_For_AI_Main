{
  "nbformat": 4,
  "nbformat_minor": 0,
  "metadata": {
    "kernelspec": {
      "display_name": "Python 3",
      "language": "python",
      "name": "python3"
    },
    "language_info": {
      "codemirror_mode": {
        "name": "ipython",
        "version": 3
      },
      "file_extension": ".py",
      "mimetype": "text/x-python",
      "name": "python",
      "nbconvert_exporter": "python",
      "pygments_lexer": "ipython3",
      "version": "3.7.8"
    },
    "colab": {
      "name": "empty_notebook.ipynb",
      "provenance": []
    }
  },
  "cells": [
    {
      "cell_type": "code",
      "metadata": {
        "id": "J1dNz-eQmvpl"
      },
      "source": [
        "import numpy as np\n",
        "import pandas as pd\n",
        "import matplotlib.pyplot as plt\n",
        "import sklearn as sk"
      ],
      "execution_count": null,
      "outputs": []
    },
    {
      "cell_type": "code",
      "metadata": {
        "colab": {
          "base_uri": "https://localhost:8080/"
        },
        "id": "OvHbiXAEq2ck",
        "outputId": "23db62f2-b609-46f2-ce61-48fa9791f553"
      },
      "source": [
        "d = {}\n",
        "d[1] = 10\n",
        "d['abc'] = 'def'\n",
        "d[0] = [0, 1, 2, ]\n",
        "d[(0, 1, )] = 'a'\n",
        "print(d)\n"
      ],
      "execution_count": 65,
      "outputs": [
        {
          "output_type": "stream",
          "name": "stdout",
          "text": [
            "{1: 10, 'abc': 'def', 0: [0, 1, 2], (0, 1): 'a'}\n"
          ]
        }
      ]
    },
    {
      "cell_type": "code",
      "metadata": {
        "id": "IOaRjLCFuTfH",
        "outputId": "8d482232-784e-4104-eb18-0db029b14c38",
        "colab": {
          "base_uri": "https://localhost:8080/"
        }
      },
      "source": [
        "\n",
        "d[1] = d.get(1) + 5\n",
        "d['abc'] = 2 * d.get('abc')\n",
        "d.get(0).append(3)\n",
        "d.get(0).pop(0)\n",
        "d.pop((0, 1, ))\n",
        "print(d)"
      ],
      "execution_count": 66,
      "outputs": [
        {
          "output_type": "stream",
          "name": "stdout",
          "text": [
            "{1: 15, 'abc': 'defdef', 0: [1, 2, 3]}\n"
          ]
        }
      ]
    }
  ]
}