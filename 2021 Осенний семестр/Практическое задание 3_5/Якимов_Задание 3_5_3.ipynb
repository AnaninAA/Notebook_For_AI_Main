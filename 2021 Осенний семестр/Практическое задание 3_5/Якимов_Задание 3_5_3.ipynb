{
 "cells": [
  {
   "cell_type": "code",
   "execution_count": 11,
   "metadata": {},
   "outputs": [
    {
     "name": "stdout",
     "output_type": "stream",
     "text": [
      "['М', 'И', 'Х', 'А', 'И', 'Л']\n",
      "['А', 'И', 'И', 'Л', 'М', 'Х']\n",
      "['А', 'И', 'Л', 'А', 'И', 'И', 'Л', 'М', 'Х']\n"
     ]
    }
   ],
   "source": [
    "x=list('МИХАИЛ')\n",
    "y=x.copy()\n",
    "y.sort()\n",
    "z=x.copy()+y.copy()\n",
    "z=z[3::]\n",
    "print(x)\n",
    "print(y)\n",
    "print(z)"
   ]
  },
  {
   "cell_type": "code",
   "execution_count": null,
   "metadata": {},
   "outputs": [],
   "source": []
  }
 ],
 "metadata": {
  "kernelspec": {
   "display_name": "Python 3 (ipykernel)",
   "language": "python",
   "name": "python3"
  },
  "language_info": {
   "codemirror_mode": {
    "name": "ipython",
    "version": 3
   },
   "file_extension": ".py",
   "mimetype": "text/x-python",
   "name": "python",
   "nbconvert_exporter": "python",
   "pygments_lexer": "ipython3",
   "version": "3.7.10"
  }
 },
 "nbformat": 4,
 "nbformat_minor": 4
}
