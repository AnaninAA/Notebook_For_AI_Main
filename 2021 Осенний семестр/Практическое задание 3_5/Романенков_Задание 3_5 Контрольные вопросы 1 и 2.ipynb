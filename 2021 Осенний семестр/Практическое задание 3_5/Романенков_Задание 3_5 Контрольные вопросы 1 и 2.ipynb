{
 "cells": [
  {
   "cell_type": "code",
   "execution_count": null,
   "metadata": {},
   "outputs": [],
   "source": [
    "#Д\n",
    "#\n",
    "\n",
    "n = int(input('Количество вводимых значений: '))\n",
    "\n",
    "x = {}\n",
    "\n",
    "for i in range(1, n + 1):\n",
    "    \n",
    "    y = []\n",
    "    a = int(input('Значение: '))\n",
    "    \n",
    "    for j in range(2, a + 1):\n",
    "        \n",
    "        k = 0\n",
    "        \n",
    "        for d in range(1, j+1):\n",
    "        \n",
    "            if j % d == 0: k += 1\n",
    "            \n",
    "        if k == 2: y.append(d)\n",
    "    \n",
    "    x[i] = y\n",
    "    \n",
    "for key, value in x.items():\n",
    "    print(\"{0}: {1}\".format(key,value))"
   ]
  },
  {
   "cell_type": "code",
   "execution_count": null,
   "metadata": {},
   "outputs": [],
   "source": []
  }
 ],
 "metadata": {
  "kernelspec": {
   "display_name": "Python 3 (ipykernel)",
   "language": "python",
   "name": "python3"
  },
  "language_info": {
   "codemirror_mode": {
    "name": "ipython",
    "version": 3
   },
   "file_extension": ".py",
   "mimetype": "text/x-python",
   "name": "python",
   "nbconvert_exporter": "python",
   "pygments_lexer": "ipython3",
   "version": "3.7.10"
  }
 },
 "nbformat": 4,
 "nbformat_minor": 4
}
