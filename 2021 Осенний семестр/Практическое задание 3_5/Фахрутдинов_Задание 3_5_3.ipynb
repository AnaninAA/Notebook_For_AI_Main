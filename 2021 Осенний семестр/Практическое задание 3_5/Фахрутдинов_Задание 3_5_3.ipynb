{
 "cells": [
  {
   "cell_type": "code",
   "execution_count": 26,
   "metadata": {},
   "outputs": [
    {
     "name": "stdout",
     "output_type": "stream",
     "text": [
      "['R', 'A', 'M', 'A', 'Z', 'A', 'N']\n",
      "['A', 'A', 'A', 'M', 'N', 'R', 'Z']\n",
      "['A', 'Z', 'A', 'N', 'A', 'A', 'A', 'M', 'N', 'R', 'Z']\n"
     ]
    }
   ],
   "source": [
    "a = ['R', 'A', 'M', 'A', 'Z', 'A', 'N']\n",
    "print(a)\n",
    "b = a.copy()\n",
    "b = sorted(b)\n",
    "print(b)\n",
    "c  = a + b\n",
    "for elem in c[:3]:\n",
    " c.remove(elem)\n",
    "print(c)\n",
    "\n"
   ]
  },
  {
   "cell_type": "code",
   "execution_count": null,
   "metadata": {},
   "outputs": [],
   "source": []
  },
  {
   "cell_type": "code",
   "execution_count": null,
   "metadata": {},
   "outputs": [],
   "source": []
  }
 ],
 "metadata": {
  "kernelspec": {
   "display_name": "Python 3 (ipykernel)",
   "language": "python",
   "name": "python3"
  },
  "language_info": {
   "codemirror_mode": {
    "name": "ipython",
    "version": 3
   },
   "file_extension": ".py",
   "mimetype": "text/x-python",
   "name": "python",
   "nbconvert_exporter": "python",
   "pygments_lexer": "ipython3",
   "version": "3.7.10"
  }
 },
 "nbformat": 4,
 "nbformat_minor": 4
}
