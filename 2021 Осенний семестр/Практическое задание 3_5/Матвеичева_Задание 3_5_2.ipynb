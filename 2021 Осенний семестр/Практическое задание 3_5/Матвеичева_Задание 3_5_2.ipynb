{
 "cells": [
  {
   "cell_type": "code",
   "execution_count": 15,
   "id": "181c2a67-047e-4863-8ed5-fc6e5359c27b",
   "metadata": {},
   "outputs": [
    {
     "name": "stdout",
     "output_type": "stream",
     "text": [
      "(5, 6, 7, 8, 9, 10, 11, 12, 13, 14, 15)\n",
      "(14, 15, 16, 17, 18, 19, 20)\n",
      "(7, 9, 11, 13)\n"
     ]
    }
   ],
   "source": [
    "my_tuple = (1, 2, 3, 4, 5, 6, 7, 8, 9, 10, 11, 12, 13, 14, 15, 16, 17, 18, 19, 20)\n",
    "\n",
    "a = my_tuple[4:-5]\n",
    "print(a)\n",
    "\n",
    "b = my_tuple[13:]\n",
    "print(b)\n",
    "\n",
    "c = my_tuple[6:14:2]\n",
    "print(c)"
   ]
  },
  {
   "cell_type": "code",
   "execution_count": null,
   "id": "196b31fb-9da4-4ad9-9136-0929ec5c1da7",
   "metadata": {},
   "outputs": [],
   "source": []
  }
 ],
 "metadata": {
  "kernelspec": {
   "display_name": "Python 3 (ipykernel)",
   "language": "python",
   "name": "python3"
  },
  "language_info": {
   "codemirror_mode": {
    "name": "ipython",
    "version": 3
   },
   "file_extension": ".py",
   "mimetype": "text/x-python",
   "name": "python",
   "nbconvert_exporter": "python",
   "pygments_lexer": "ipython3",
   "version": "3.7.10"
  }
 },
 "nbformat": 4,
 "nbformat_minor": 5
}
