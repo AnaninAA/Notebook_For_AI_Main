{
 "cells": [
  {
   "cell_type": "code",
   "execution_count": 1,
   "metadata": {
    "id": "AUcLh2CFXIdN"
   },
   "outputs": [],
   "source": [
    "# Зависимости\n",
    "import pandas as pd\n",
    "import numpy as np\n",
    "import matplotlib.pyplot as plt\n",
    "import random\n",
    "\n",
    "from sklearn.model_selection import train_test_split\n",
    "from sklearn.preprocessing import MinMaxScaler\n",
    "from sklearn.compose import ColumnTransformer\n",
    "\n",
    "from sklearn.tree import DecisionTreeRegressor, DecisionTreeClassifier, plot_tree\n",
    "\n",
    "from sklearn.metrics import mean_squared_error, f1_score"
   ]
  },
  {
   "cell_type": "code",
   "execution_count": null,
   "metadata": {
    "id": "X2a4VTQh4h3K"
   },
   "outputs": [],
   "source": []
  },
  {
   "cell_type": "code",
   "execution_count": 2,
   "metadata": {
    "id": "c0Je-MwpXIdU"
   },
   "outputs": [],
   "source": [
    "# Генерируем уникальный seed\n",
    "my_code = \"Железов\"\n",
    "seed_limit = 2 ** 32\n",
    "my_seed = int.from_bytes(my_code.encode(), \"little\") % seed_limit"
   ]
  },
  {
   "cell_type": "code",
   "execution_count": 3,
   "metadata": {
    "id": "S1DiTOv_XIdW"
   },
   "outputs": [],
   "source": [
    "# Читаем данные из файла\n",
    "example_data = pd.read_csv(\"datasets/Fish.csv\")"
   ]
  },
  {
   "cell_type": "code",
   "execution_count": 4,
   "metadata": {
    "colab": {
     "base_uri": "https://localhost:8080/",
     "height": 204
    },
    "executionInfo": {
     "elapsed": 542,
     "status": "ok",
     "timestamp": 1633966182927,
     "user": {
      "displayName": "Marleena M.",
      "photoUrl": "https://lh3.googleusercontent.com/a/default-user=s64",
      "userId": "01554857910732208880"
     },
     "user_tz": -180
    },
    "id": "nMJneKlAXIdX",
    "outputId": "bb902f71-b07e-4f7c-befb-3c5706641a6c"
   },
   "outputs": [
    {
     "data": {
      "text/html": [
       "<div>\n",
       "<style scoped>\n",
       "    .dataframe tbody tr th:only-of-type {\n",
       "        vertical-align: middle;\n",
       "    }\n",
       "\n",
       "    .dataframe tbody tr th {\n",
       "        vertical-align: top;\n",
       "    }\n",
       "\n",
       "    .dataframe thead th {\n",
       "        text-align: right;\n",
       "    }\n",
       "</style>\n",
       "<table border=\"1\" class=\"dataframe\">\n",
       "  <thead>\n",
       "    <tr style=\"text-align: right;\">\n",
       "      <th></th>\n",
       "      <th>Species</th>\n",
       "      <th>Weight</th>\n",
       "      <th>Length1</th>\n",
       "      <th>Length2</th>\n",
       "      <th>Length3</th>\n",
       "      <th>Height</th>\n",
       "      <th>Width</th>\n",
       "    </tr>\n",
       "  </thead>\n",
       "  <tbody>\n",
       "    <tr>\n",
       "      <th>0</th>\n",
       "      <td>Bream</td>\n",
       "      <td>242.0</td>\n",
       "      <td>23.2</td>\n",
       "      <td>25.4</td>\n",
       "      <td>30.0</td>\n",
       "      <td>11.5200</td>\n",
       "      <td>4.0200</td>\n",
       "    </tr>\n",
       "    <tr>\n",
       "      <th>1</th>\n",
       "      <td>Bream</td>\n",
       "      <td>290.0</td>\n",
       "      <td>24.0</td>\n",
       "      <td>26.3</td>\n",
       "      <td>31.2</td>\n",
       "      <td>12.4800</td>\n",
       "      <td>4.3056</td>\n",
       "    </tr>\n",
       "    <tr>\n",
       "      <th>2</th>\n",
       "      <td>Bream</td>\n",
       "      <td>340.0</td>\n",
       "      <td>23.9</td>\n",
       "      <td>26.5</td>\n",
       "      <td>31.1</td>\n",
       "      <td>12.3778</td>\n",
       "      <td>4.6961</td>\n",
       "    </tr>\n",
       "    <tr>\n",
       "      <th>3</th>\n",
       "      <td>Bream</td>\n",
       "      <td>363.0</td>\n",
       "      <td>26.3</td>\n",
       "      <td>29.0</td>\n",
       "      <td>33.5</td>\n",
       "      <td>12.7300</td>\n",
       "      <td>4.4555</td>\n",
       "    </tr>\n",
       "    <tr>\n",
       "      <th>4</th>\n",
       "      <td>Bream</td>\n",
       "      <td>430.0</td>\n",
       "      <td>26.5</td>\n",
       "      <td>29.0</td>\n",
       "      <td>34.0</td>\n",
       "      <td>12.4440</td>\n",
       "      <td>5.1340</td>\n",
       "    </tr>\n",
       "  </tbody>\n",
       "</table>\n",
       "</div>"
      ],
      "text/plain": [
       "  Species  Weight  Length1  Length2  Length3   Height   Width\n",
       "0   Bream   242.0     23.2     25.4     30.0  11.5200  4.0200\n",
       "1   Bream   290.0     24.0     26.3     31.2  12.4800  4.3056\n",
       "2   Bream   340.0     23.9     26.5     31.1  12.3778  4.6961\n",
       "3   Bream   363.0     26.3     29.0     33.5  12.7300  4.4555\n",
       "4   Bream   430.0     26.5     29.0     34.0  12.4440  5.1340"
      ]
     },
     "execution_count": 4,
     "metadata": {},
     "output_type": "execute_result"
    }
   ],
   "source": [
    "example_data.head()"
   ]
  },
  {
   "cell_type": "code",
   "execution_count": 5,
   "metadata": {
    "colab": {
     "base_uri": "https://localhost:8080/"
    },
    "executionInfo": {
     "elapsed": 58,
     "status": "ok",
     "timestamp": 1633966182928,
     "user": {
      "displayName": "Marleena M.",
      "photoUrl": "https://lh3.googleusercontent.com/a/default-user=s64",
      "userId": "01554857910732208880"
     },
     "user_tz": -180
    },
    "id": "TmvS5-MMXIdY",
    "outputId": "f4b2e890-2ade-4136-babe-65dca20c061a"
   },
   "outputs": [
    {
     "name": "stdout",
     "output_type": "stream",
     "text": [
      "32\n"
     ]
    }
   ],
   "source": [
    "# Определим размер валидационной и тестовой выборок\n",
    "val_test_size = round(0.2*len(example_data))\n",
    "print(val_test_size)"
   ]
  },
  {
   "cell_type": "code",
   "execution_count": 6,
   "metadata": {
    "colab": {
     "base_uri": "https://localhost:8080/"
    },
    "executionInfo": {
     "elapsed": 51,
     "status": "ok",
     "timestamp": 1633966182929,
     "user": {
      "displayName": "Marleena M.",
      "photoUrl": "https://lh3.googleusercontent.com/a/default-user=s64",
      "userId": "01554857910732208880"
     },
     "user_tz": -180
    },
    "id": "ZfzyrnIfXIdZ",
    "outputId": "09d07d91-98d4-4ac2-b1db-559f93b08cef"
   },
   "outputs": [
    {
     "name": "stdout",
     "output_type": "stream",
     "text": [
      "95 32 32\n"
     ]
    }
   ],
   "source": [
    "# Создадим обучающую, валидационную и тестовую выборки\n",
    "random_state = my_seed\n",
    "train_val, test = train_test_split(example_data, test_size=val_test_size, random_state=random_state)\n",
    "train, val = train_test_split(train_val, test_size=val_test_size, random_state=random_state)\n",
    "print(len(train), len(val), len(test))"
   ]
  },
  {
   "cell_type": "code",
   "execution_count": 7,
   "metadata": {
    "colab": {
     "base_uri": "https://localhost:8080/"
    },
    "executionInfo": {
     "elapsed": 46,
     "status": "ok",
     "timestamp": 1633966182929,
     "user": {
      "displayName": "Marleena M.",
      "photoUrl": "https://lh3.googleusercontent.com/a/default-user=s64",
      "userId": "01554857910732208880"
     },
     "user_tz": -180
    },
    "id": "cCKnxG4oXIda",
    "outputId": "03fc3b25-eda7-4dc1-cb8a-afe09c362ec3"
   },
   "outputs": [
    {
     "data": {
      "text/plain": [
       "ColumnTransformer(remainder='passthrough',\n",
       "                  transformers=[('numerical', MinMaxScaler(),\n",
       "                                 ['Weight', 'Length1', 'Length2', 'Length3',\n",
       "                                  'Height', 'Width'])])"
      ]
     },
     "execution_count": 7,
     "metadata": {},
     "output_type": "execute_result"
    }
   ],
   "source": [
    "# Значения в числовых столбцах преобразуем к отрезку [0,1].\n",
    "# Для настройки скалировщика используем только обучающую выборку.\n",
    "num_columns = ['Weight', 'Length1', 'Length2', 'Length3', 'Height', 'Width']\n",
    "\n",
    "ct = ColumnTransformer(transformers=[('numerical', MinMaxScaler(), num_columns)], remainder='passthrough')\n",
    "ct.fit(train)"
   ]
  },
  {
   "cell_type": "code",
   "execution_count": 8,
   "metadata": {
    "id": "u_4l357vXIdc"
   },
   "outputs": [],
   "source": [
    "# Преобразуем значения, тип данных приводим к DataFrame\n",
    "sc_train = pd.DataFrame(ct.transform(train))\n",
    "sc_test = pd.DataFrame(ct.transform(test))\n",
    "sc_val = pd.DataFrame(ct.transform(val))"
   ]
  },
  {
   "cell_type": "code",
   "execution_count": 9,
   "metadata": {
    "id": "OloM1oh6XIdd"
   },
   "outputs": [],
   "source": [
    "# Устанавливаем названия столбцов\n",
    "column_names = num_columns + ['Species']\n",
    "sc_train.columns = column_names\n",
    "sc_test.columns = column_names\n",
    "sc_val.columns = column_names"
   ]
  },
  {
   "cell_type": "code",
   "execution_count": 10,
   "metadata": {
    "colab": {
     "base_uri": "https://localhost:8080/",
     "height": 419
    },
    "executionInfo": {
     "elapsed": 43,
     "status": "ok",
     "timestamp": 1633966182932,
     "user": {
      "displayName": "Marleena M.",
      "photoUrl": "https://lh3.googleusercontent.com/a/default-user=s64",
      "userId": "01554857910732208880"
     },
     "user_tz": -180
    },
    "id": "I_MLUcMvXIde",
    "outputId": "fe73345e-a736-436f-b1ab-f08328fa0563"
   },
   "outputs": [
    {
     "data": {
      "text/html": [
       "<div>\n",
       "<style scoped>\n",
       "    .dataframe tbody tr th:only-of-type {\n",
       "        vertical-align: middle;\n",
       "    }\n",
       "\n",
       "    .dataframe tbody tr th {\n",
       "        vertical-align: top;\n",
       "    }\n",
       "\n",
       "    .dataframe thead th {\n",
       "        text-align: right;\n",
       "    }\n",
       "</style>\n",
       "<table border=\"1\" class=\"dataframe\">\n",
       "  <thead>\n",
       "    <tr style=\"text-align: right;\">\n",
       "      <th></th>\n",
       "      <th>Weight</th>\n",
       "      <th>Length1</th>\n",
       "      <th>Length2</th>\n",
       "      <th>Length3</th>\n",
       "      <th>Height</th>\n",
       "      <th>Width</th>\n",
       "      <th>Species</th>\n",
       "    </tr>\n",
       "  </thead>\n",
       "  <tbody>\n",
       "    <tr>\n",
       "      <th>0</th>\n",
       "      <td>0.30303</td>\n",
       "      <td>0.41165</td>\n",
       "      <td>0.410909</td>\n",
       "      <td>0.462838</td>\n",
       "      <td>0.747797</td>\n",
       "      <td>0.524222</td>\n",
       "      <td>Bream</td>\n",
       "    </tr>\n",
       "    <tr>\n",
       "      <th>1</th>\n",
       "      <td>0.075758</td>\n",
       "      <td>0.223301</td>\n",
       "      <td>0.229091</td>\n",
       "      <td>0.231419</td>\n",
       "      <td>0.234465</td>\n",
       "      <td>0.360201</td>\n",
       "      <td>Perch</td>\n",
       "    </tr>\n",
       "    <tr>\n",
       "      <th>2</th>\n",
       "      <td>0.0</td>\n",
       "      <td>0.223301</td>\n",
       "      <td>0.22</td>\n",
       "      <td>0.236486</td>\n",
       "      <td>0.280759</td>\n",
       "      <td>0.315031</td>\n",
       "      <td>Roach</td>\n",
       "    </tr>\n",
       "    <tr>\n",
       "      <th>3</th>\n",
       "      <td>0.005879</td>\n",
       "      <td>0.056311</td>\n",
       "      <td>0.047273</td>\n",
       "      <td>0.054054</td>\n",
       "      <td>0.027657</td>\n",
       "      <td>0.033116</td>\n",
       "      <td>Smelt</td>\n",
       "    </tr>\n",
       "    <tr>\n",
       "      <th>4</th>\n",
       "      <td>0.287879</td>\n",
       "      <td>0.405825</td>\n",
       "      <td>0.410909</td>\n",
       "      <td>0.462838</td>\n",
       "      <td>0.741373</td>\n",
       "      <td>0.565631</td>\n",
       "      <td>Bream</td>\n",
       "    </tr>\n",
       "    <tr>\n",
       "      <th>...</th>\n",
       "      <td>...</td>\n",
       "      <td>...</td>\n",
       "      <td>...</td>\n",
       "      <td>...</td>\n",
       "      <td>...</td>\n",
       "      <td>...</td>\n",
       "      <td>...</td>\n",
       "    </tr>\n",
       "    <tr>\n",
       "      <th>90</th>\n",
       "      <td>0.090909</td>\n",
       "      <td>0.252427</td>\n",
       "      <td>0.256364</td>\n",
       "      <td>0.256757</td>\n",
       "      <td>0.299497</td>\n",
       "      <td>0.353981</td>\n",
       "      <td>Perch</td>\n",
       "    </tr>\n",
       "    <tr>\n",
       "      <th>91</th>\n",
       "      <td>0.590909</td>\n",
       "      <td>0.580583</td>\n",
       "      <td>0.592727</td>\n",
       "      <td>0.626689</td>\n",
       "      <td>1.0</td>\n",
       "      <td>0.800575</td>\n",
       "      <td>Bream</td>\n",
       "    </tr>\n",
       "    <tr>\n",
       "      <th>92</th>\n",
       "      <td>0.424242</td>\n",
       "      <td>0.44466</td>\n",
       "      <td>0.447273</td>\n",
       "      <td>0.498311</td>\n",
       "      <td>0.77672</td>\n",
       "      <td>0.591541</td>\n",
       "      <td>Bream</td>\n",
       "    </tr>\n",
       "    <tr>\n",
       "      <th>93</th>\n",
       "      <td>0.042424</td>\n",
       "      <td>0.159223</td>\n",
       "      <td>0.163636</td>\n",
       "      <td>0.163851</td>\n",
       "      <td>0.169137</td>\n",
       "      <td>0.256392</td>\n",
       "      <td>Perch</td>\n",
       "    </tr>\n",
       "    <tr>\n",
       "      <th>94</th>\n",
       "      <td>0.515152</td>\n",
       "      <td>0.570874</td>\n",
       "      <td>0.574545</td>\n",
       "      <td>0.565878</td>\n",
       "      <td>0.603312</td>\n",
       "      <td>0.851922</td>\n",
       "      <td>Perch</td>\n",
       "    </tr>\n",
       "  </tbody>\n",
       "</table>\n",
       "<p>95 rows × 7 columns</p>\n",
       "</div>"
      ],
      "text/plain": [
       "      Weight   Length1   Length2   Length3    Height     Width Species\n",
       "0    0.30303   0.41165  0.410909  0.462838  0.747797  0.524222   Bream\n",
       "1   0.075758  0.223301  0.229091  0.231419  0.234465  0.360201   Perch\n",
       "2        0.0  0.223301      0.22  0.236486  0.280759  0.315031   Roach\n",
       "3   0.005879  0.056311  0.047273  0.054054  0.027657  0.033116   Smelt\n",
       "4   0.287879  0.405825  0.410909  0.462838  0.741373  0.565631   Bream\n",
       "..       ...       ...       ...       ...       ...       ...     ...\n",
       "90  0.090909  0.252427  0.256364  0.256757  0.299497  0.353981   Perch\n",
       "91  0.590909  0.580583  0.592727  0.626689       1.0  0.800575   Bream\n",
       "92  0.424242   0.44466  0.447273  0.498311   0.77672  0.591541   Bream\n",
       "93  0.042424  0.159223  0.163636  0.163851  0.169137  0.256392   Perch\n",
       "94  0.515152  0.570874  0.574545  0.565878  0.603312  0.851922   Perch\n",
       "\n",
       "[95 rows x 7 columns]"
      ]
     },
     "execution_count": 10,
     "metadata": {},
     "output_type": "execute_result"
    }
   ],
   "source": [
    "sc_train"
   ]
  },
  {
   "cell_type": "code",
   "execution_count": 11,
   "metadata": {
    "id": "Y2LCVDkfXIdf"
   },
   "outputs": [],
   "source": [
    "# Задание №1 - анализ деревьев принятия решений в задаче регрессии\n",
    "# https://scikit-learn.org/stable/modules/generated/sklearn.tree.DecisionTreeRegressor.html\n",
    "# criterion : {“mse”, “friedman_mse”, “mae”, “poisson”}, default=”mse”\n",
    "# splitter : {“best”, “random”}, default=”best”\n",
    "# max_depth : int, default=None\n",
    "# min_samples_split : int or float, default=2\n",
    "# min_samples_leaf : int or float, default=1"
   ]
  },
  {
   "cell_type": "code",
   "execution_count": 12,
   "metadata": {
    "colab": {
     "base_uri": "https://localhost:8080/"
    },
    "executionInfo": {
     "elapsed": 41,
     "status": "ok",
     "timestamp": 1633966182933,
     "user": {
      "displayName": "Marleena M.",
      "photoUrl": "https://lh3.googleusercontent.com/a/default-user=s64",
      "userId": "01554857910732208880"
     },
     "user_tz": -180
    },
    "id": "aPaj72cwXIdg",
    "outputId": "4e372327-3863-41c9-cd7a-57dda620578b",
    "scrolled": true
   },
   "outputs": [
    {
     "name": "stdout",
     "output_type": "stream",
     "text": [
      "['Width', 'Length2', 'Length3']\n",
      "Height\n"
     ]
    }
   ],
   "source": [
    "# Выбираем 4 числовых переменных, три их них будут предикторами, одна - зависимой переменной\n",
    "n = 4\n",
    "labels = random.sample(num_columns, n)\n",
    "\n",
    "y_label = labels[0]\n",
    "x_labels = labels[1:]\n",
    "\n",
    "print(x_labels)\n",
    "print(y_label)"
   ]
  },
  {
   "cell_type": "code",
   "execution_count": 13,
   "metadata": {
    "id": "DWKC2zDkXIdh"
   },
   "outputs": [],
   "source": [
    "# Отберем необходимые параметры\n",
    "x_train = sc_train[x_labels]\n",
    "x_test = sc_test[x_labels]\n",
    "x_val = sc_val[x_labels]\n",
    "\n",
    "y_train = sc_train[y_label]\n",
    "y_test = sc_test[y_label]\n",
    "y_val = sc_val[y_label]"
   ]
  },
  {
   "cell_type": "markdown",
   "metadata": {
    "id": "4KgibKha7K18"
   },
   "source": []
  },
  {
   "cell_type": "code",
   "execution_count": 14,
   "metadata": {
    "colab": {
     "base_uri": "https://localhost:8080/",
     "height": 419
    },
    "executionInfo": {
     "elapsed": 35,
     "status": "ok",
     "timestamp": 1633966182934,
     "user": {
      "displayName": "Marleena M.",
      "photoUrl": "https://lh3.googleusercontent.com/a/default-user=s64",
      "userId": "01554857910732208880"
     },
     "user_tz": -180
    },
    "id": "YjvY1wsaXIdh",
    "outputId": "f2584627-3273-4f80-db59-060f14b8959e"
   },
   "outputs": [
    {
     "data": {
      "text/html": [
       "<div>\n",
       "<style scoped>\n",
       "    .dataframe tbody tr th:only-of-type {\n",
       "        vertical-align: middle;\n",
       "    }\n",
       "\n",
       "    .dataframe tbody tr th {\n",
       "        vertical-align: top;\n",
       "    }\n",
       "\n",
       "    .dataframe thead th {\n",
       "        text-align: right;\n",
       "    }\n",
       "</style>\n",
       "<table border=\"1\" class=\"dataframe\">\n",
       "  <thead>\n",
       "    <tr style=\"text-align: right;\">\n",
       "      <th></th>\n",
       "      <th>Width</th>\n",
       "      <th>Length2</th>\n",
       "      <th>Length3</th>\n",
       "    </tr>\n",
       "  </thead>\n",
       "  <tbody>\n",
       "    <tr>\n",
       "      <th>0</th>\n",
       "      <td>0.524222</td>\n",
       "      <td>0.410909</td>\n",
       "      <td>0.462838</td>\n",
       "    </tr>\n",
       "    <tr>\n",
       "      <th>1</th>\n",
       "      <td>0.360201</td>\n",
       "      <td>0.229091</td>\n",
       "      <td>0.231419</td>\n",
       "    </tr>\n",
       "    <tr>\n",
       "      <th>2</th>\n",
       "      <td>0.315031</td>\n",
       "      <td>0.22</td>\n",
       "      <td>0.236486</td>\n",
       "    </tr>\n",
       "    <tr>\n",
       "      <th>3</th>\n",
       "      <td>0.033116</td>\n",
       "      <td>0.047273</td>\n",
       "      <td>0.054054</td>\n",
       "    </tr>\n",
       "    <tr>\n",
       "      <th>4</th>\n",
       "      <td>0.565631</td>\n",
       "      <td>0.410909</td>\n",
       "      <td>0.462838</td>\n",
       "    </tr>\n",
       "    <tr>\n",
       "      <th>...</th>\n",
       "      <td>...</td>\n",
       "      <td>...</td>\n",
       "      <td>...</td>\n",
       "    </tr>\n",
       "    <tr>\n",
       "      <th>90</th>\n",
       "      <td>0.353981</td>\n",
       "      <td>0.256364</td>\n",
       "      <td>0.256757</td>\n",
       "    </tr>\n",
       "    <tr>\n",
       "      <th>91</th>\n",
       "      <td>0.800575</td>\n",
       "      <td>0.592727</td>\n",
       "      <td>0.626689</td>\n",
       "    </tr>\n",
       "    <tr>\n",
       "      <th>92</th>\n",
       "      <td>0.591541</td>\n",
       "      <td>0.447273</td>\n",
       "      <td>0.498311</td>\n",
       "    </tr>\n",
       "    <tr>\n",
       "      <th>93</th>\n",
       "      <td>0.256392</td>\n",
       "      <td>0.163636</td>\n",
       "      <td>0.163851</td>\n",
       "    </tr>\n",
       "    <tr>\n",
       "      <th>94</th>\n",
       "      <td>0.851922</td>\n",
       "      <td>0.574545</td>\n",
       "      <td>0.565878</td>\n",
       "    </tr>\n",
       "  </tbody>\n",
       "</table>\n",
       "<p>95 rows × 3 columns</p>\n",
       "</div>"
      ],
      "text/plain": [
       "       Width   Length2   Length3\n",
       "0   0.524222  0.410909  0.462838\n",
       "1   0.360201  0.229091  0.231419\n",
       "2   0.315031      0.22  0.236486\n",
       "3   0.033116  0.047273  0.054054\n",
       "4   0.565631  0.410909  0.462838\n",
       "..       ...       ...       ...\n",
       "90  0.353981  0.256364  0.256757\n",
       "91  0.800575  0.592727  0.626689\n",
       "92  0.591541  0.447273  0.498311\n",
       "93  0.256392  0.163636  0.163851\n",
       "94  0.851922  0.574545  0.565878\n",
       "\n",
       "[95 rows x 3 columns]"
      ]
     },
     "execution_count": 14,
     "metadata": {},
     "output_type": "execute_result"
    }
   ],
   "source": [
    "x_train"
   ]
  },
  {
   "cell_type": "code",
   "execution_count": 19,
   "metadata": {
    "id": "-HbiJ74yXIdi"
   },
   "outputs": [],
   "source": [
    "# Создайте 4 модели с различными критериями ветвления criterion: 'mse', 'friedman_mse', 'mae', 'poisson'.\n",
    "# Решите получившуюся задачу регрессии с помощью созданных моделей и сравните их эффективность.\n",
    "# При необходимости применяйте параметры splitter, max_depth, min_samples_split, min_samples_leaf\n",
    "# Укажите, какая модель решает задачу лучше других.\n",
    "r_model1 = DecisionTreeRegressor(ccp_alpha=0.0, criterion='mse')\n",
    "r_model2 = DecisionTreeRegressor(ccp_alpha=0.0, criterion='friedman_mse')\n",
    "r_model3 = DecisionTreeRegressor(ccp_alpha=0.0, criterion='mae')\n",
    "r_model4 = DecisionTreeRegressor( criterion=\"poisson\")\n"
   ]
  },
  {
   "cell_type": "code",
   "execution_count": 20,
   "metadata": {
    "colab": {
     "base_uri": "https://localhost:8080/"
    },
    "executionInfo": {
     "elapsed": 33,
     "status": "ok",
     "timestamp": 1633966182935,
     "user": {
      "displayName": "Marleena M.",
      "photoUrl": "https://lh3.googleusercontent.com/a/default-user=s64",
      "userId": "01554857910732208880"
     },
     "user_tz": -180
    },
    "id": "xrEg3GRltFs0",
    "outputId": "c2fdad68-d98c-471b-d8d1-f4c92907a734"
   },
   "outputs": [
    {
     "name": "stderr",
     "output_type": "stream",
     "text": [
      "/srv/conda/envs/notebook/lib/python3.7/site-packages/sklearn/tree/_classes.py:363: FutureWarning: Criterion 'mse' was deprecated in v1.0 and will be removed in version 1.2. Use `criterion='squared_error'` which is equivalent.\n",
      "  FutureWarning,\n"
     ]
    },
    {
     "data": {
      "text/plain": [
       "0.019030337999738106"
      ]
     },
     "execution_count": 20,
     "metadata": {},
     "output_type": "execute_result"
    }
   ],
   "source": [
    "r_model1.fit(x_train,y_train)\n",
    "a=r_model1.predict(x_test)\n",
    "mse1 = mean_squared_error(y_test, a)\n",
    "mse1"
   ]
  },
  {
   "cell_type": "code",
   "execution_count": 21,
   "metadata": {
    "colab": {
     "base_uri": "https://localhost:8080/"
    },
    "executionInfo": {
     "elapsed": 31,
     "status": "ok",
     "timestamp": 1633966182936,
     "user": {
      "displayName": "Marleena M.",
      "photoUrl": "https://lh3.googleusercontent.com/a/default-user=s64",
      "userId": "01554857910732208880"
     },
     "user_tz": -180
    },
    "id": "dFo63i0XyeJl",
    "outputId": "c063bf1e-1bb1-4f5e-cd18-5376ed0ee9dc"
   },
   "outputs": [
    {
     "data": {
      "text/plain": [
       "0.01988763710874393"
      ]
     },
     "execution_count": 21,
     "metadata": {},
     "output_type": "execute_result"
    }
   ],
   "source": [
    "r_model2.fit(x_train,y_train)\n",
    "a=r_model2.predict(x_test)\n",
    "mse1 = mean_squared_error(y_test, a)\n",
    "mse1"
   ]
  },
  {
   "cell_type": "code",
   "execution_count": 22,
   "metadata": {
    "colab": {
     "base_uri": "https://localhost:8080/"
    },
    "executionInfo": {
     "elapsed": 28,
     "status": "ok",
     "timestamp": 1633966182936,
     "user": {
      "displayName": "Marleena M.",
      "photoUrl": "https://lh3.googleusercontent.com/a/default-user=s64",
      "userId": "01554857910732208880"
     },
     "user_tz": -180
    },
    "id": "2XXFtyjozmtO",
    "outputId": "cbf7a5a6-d997-4f77-b3f7-01a790568626"
   },
   "outputs": [
    {
     "name": "stderr",
     "output_type": "stream",
     "text": [
      "/srv/conda/envs/notebook/lib/python3.7/site-packages/sklearn/tree/_classes.py:370: FutureWarning: Criterion 'mae' was deprecated in v1.0 and will be removed in version 1.2. Use `criterion='absolute_error'` which is equivalent.\n",
      "  FutureWarning,\n"
     ]
    },
    {
     "data": {
      "text/plain": [
       "0.02094824941322821"
      ]
     },
     "execution_count": 22,
     "metadata": {},
     "output_type": "execute_result"
    }
   ],
   "source": [
    "r_model3.fit(x_train,y_train)\n",
    "a=r_model3.predict(x_test)\n",
    "mse1 = mean_squared_error(y_test, a)\n",
    "mse1"
   ]
  },
  {
   "cell_type": "code",
   "execution_count": 23,
   "metadata": {
    "colab": {
     "base_uri": "https://localhost:8080/",
     "height": 479
    },
    "executionInfo": {
     "elapsed": 4002,
     "status": "ok",
     "timestamp": 1633966186914,
     "user": {
      "displayName": "Marleena M.",
      "photoUrl": "https://lh3.googleusercontent.com/a/default-user=s64",
      "userId": "01554857910732208880"
     },
     "user_tz": -180
    },
    "id": "gTH-2CIOXIdj",
    "outputId": "2b95a8b8-1a04-418e-d13e-ec967c762092"
   },
   "outputs": [
    {
     "data": {
      "image/png": "[encoded data removed]",
      "text/plain": [
       "<Figure size 432x288 with 1 Axes>"
      ]
     },
     "metadata": {
      "needs_background": "light"
     },
     "output_type": "display_data"
    },
    {
     "data": {
      "image/png": "[encoded data removed]",
      "text/plain": [
       "<Figure size 432x288 with 1 Axes>"
      ]
     },
     "metadata": {
      "needs_background": "light"
     },
     "output_type": "display_data"
    }
   ],
   "source": [
    "# Вывод на экран дерева tree.\n",
    "# max_depth - максимальная губина отображения, по умолчанию выводится дерево целиком.\n",
    "plot_tree(r_model1, max_depth=1)\n",
    "plt.show()\n",
    "plot_tree(r_model1)\n",
    "plt.show()"
   ]
  },
  {
   "cell_type": "code",
   "execution_count": 24,
   "metadata": {
    "id": "jabgWTuvXIdk"
   },
   "outputs": [],
   "source": [
    "# Задание №2 - анализ деревьев принятия решений в задаче классификации\n",
    "# https://scikit-learn.org/stable/modules/generated/sklearn.tree.DecisionTreeClassifier.html\n",
    "# criterion : {“gini”, “entropy”}, default=”gini”\n",
    "# splitter : {“best”, “random”}, default=”best”\n",
    "# max_depth : int, default=None\n",
    "# min_samples_split : int or float, default=2\n",
    "# min_samples_leaf : int or float, default=1"
   ]
  },
  {
   "cell_type": "code",
   "execution_count": 25,
   "metadata": {
    "colab": {
     "base_uri": "https://localhost:8080/"
    },
    "executionInfo": {
     "elapsed": 33,
     "status": "ok",
     "timestamp": 1633966186916,
     "user": {
      "displayName": "Marleena M.",
      "photoUrl": "https://lh3.googleusercontent.com/a/default-user=s64",
      "userId": "01554857910732208880"
     },
     "user_tz": -180
    },
    "id": "80-jtkq1XIdk",
    "outputId": "d8a8ae30-08bc-4118-df07-cf1f09c74e41"
   },
   "outputs": [
    {
     "name": "stdout",
     "output_type": "stream",
     "text": [
      "['Weight', 'Width']\n",
      "Species\n"
     ]
    }
   ],
   "source": [
    "# Выбираем 2 числовых переменных, которые будут параметрами элементов набора данных\n",
    "# Метка класса всегда 'Species'\n",
    "n = 2\n",
    "x_labels = random.sample(num_columns, n)\n",
    "y_label = 'Species'\n",
    "\n",
    "print(x_labels)\n",
    "print(y_label)"
   ]
  },
  {
   "cell_type": "code",
   "execution_count": 26,
   "metadata": {
    "id": "_0vAKKjTXIdl",
    "scrolled": true
   },
   "outputs": [],
   "source": [
    "# Отберем необходимые параметры\n",
    "x_train = sc_train[x_labels]\n",
    "x_test = sc_test[x_labels]\n",
    "x_val = sc_val[x_labels]\n",
    "\n",
    "y_train = sc_train[y_label]\n",
    "y_test = sc_test[y_label]\n",
    "y_val = sc_val[y_label]"
   ]
  },
  {
   "cell_type": "code",
   "execution_count": 27,
   "metadata": {
    "colab": {
     "base_uri": "https://localhost:8080/"
    },
    "executionInfo": {
     "elapsed": 27,
     "status": "ok",
     "timestamp": 1633966186917,
     "user": {
      "displayName": "Marleena M.",
      "photoUrl": "https://lh3.googleusercontent.com/a/default-user=s64",
      "userId": "01554857910732208880"
     },
     "user_tz": -180
    },
    "id": "BHH2CpNFXIdm",
    "outputId": "9c905d9e-f952-4bf3-e205-adc12e188070"
   },
   "outputs": [
    {
     "data": {
      "text/plain": [
       "0     Bream\n",
       "1     Perch\n",
       "2     Roach\n",
       "3     Smelt\n",
       "4     Bream\n",
       "      ...  \n",
       "90    Perch\n",
       "91    Bream\n",
       "92    Bream\n",
       "93    Perch\n",
       "94    Perch\n",
       "Name: Species, Length: 95, dtype: object"
      ]
     },
     "execution_count": 27,
     "metadata": {},
     "output_type": "execute_result"
    }
   ],
   "source": [
    "y_train"
   ]
  },
  {
   "cell_type": "code",
   "execution_count": 30,
   "metadata": {
    "id": "f1dcNf12XIdm"
   },
   "outputs": [],
   "source": [
    "# Создайте 4 модели с различными критериями ветвления criterion : 'gini', 'entropy' и splitter : 'best', 'random'.\n",
    "# Решите получившуюся задачу классификации с помощью созданных моделей и сравните их эффективность.\n",
    "# При необходимости применяйте параметры max_depth, min_samples_split, min_samples_leaf\n",
    "# Укажите, какая модель решает задачу лучше других.\n",
    "c_model1 = DecisionTreeClassifier(ccp_alpha=0.0, criterion='gini', max_depth=1,\n",
    "                      max_features=None, max_leaf_nodes=None,\n",
    "                      min_impurity_decrease=0.0, \n",
    "                      min_samples_leaf=1, min_samples_split=2,\n",
    "                      min_weight_fraction_leaf=0.0,\n",
    "                      random_state=None, splitter='best')\n",
    "c_model2 = DecisionTreeClassifier(ccp_alpha=0.0, criterion='entropy', max_depth=2,\n",
    "                      max_features=None, max_leaf_nodes=None,\n",
    "                      min_impurity_decrease=0.0, \n",
    "                      min_samples_leaf=1, min_samples_split=2,\n",
    "                      min_weight_fraction_leaf=0.0,\n",
    "                      random_state=None, splitter='best')\n",
    "c_model3 = DecisionTreeClassifier(ccp_alpha=0.0, criterion='mae', max_depth=3,\n",
    "                      max_features=None, max_leaf_nodes=None,\n",
    "                      min_impurity_decrease=0.0, \n",
    "                      min_samples_leaf=1, min_samples_split=2,\n",
    "                      min_weight_fraction_leaf=0.0,\n",
    "                      random_state=None, splitter='best')\n",
    "c_model4 = DecisionTreeClassifier(ccp_alpha=0.0, criterion='poisson', max_depth=4,\n",
    "                      max_features=None, max_leaf_nodes=None,\n",
    "                      min_impurity_decrease=0.0, \n",
    "                      min_samples_leaf=1, min_samples_split=2,\n",
    "                      min_weight_fraction_leaf=0.0,\n",
    "                      random_state=None, splitter='random')"
   ]
  },
  {
   "cell_type": "code",
   "execution_count": 31,
   "metadata": {
    "colab": {
     "base_uri": "https://localhost:8080/"
    },
    "executionInfo": {
     "elapsed": 24,
     "status": "ok",
     "timestamp": 1633966186918,
     "user": {
      "displayName": "Marleena M.",
      "photoUrl": "https://lh3.googleusercontent.com/a/default-user=s64",
      "userId": "01554857910732208880"
     },
     "user_tz": -180
    },
    "id": "RodVfcHE8QKs",
    "outputId": "9f74ccf4-48e6-4cdc-a69f-962d7536f0d2"
   },
   "outputs": [
    {
     "data": {
      "text/plain": [
       "array(['Perch', 'Bream', 'Bream', 'Bream', 'Perch', 'Perch', 'Bream',\n",
       "       'Bream', 'Bream', 'Bream', 'Bream', 'Perch', 'Bream', 'Bream',\n",
       "       'Perch', 'Perch', 'Perch', 'Perch', 'Bream', 'Perch', 'Bream',\n",
       "       'Bream', 'Perch', 'Bream', 'Bream', 'Perch', 'Perch', 'Perch',\n",
       "       'Perch', 'Perch', 'Perch', 'Perch'], dtype=object)"
      ]
     },
     "execution_count": 31,
     "metadata": {},
     "output_type": "execute_result"
    }
   ],
   "source": [
    "c_model1.fit(x_train,y_train)\n",
    "c_model1.predict(x_test)"
   ]
  },
  {
   "cell_type": "code",
   "execution_count": 32,
   "metadata": {
    "colab": {
     "base_uri": "https://localhost:8080/"
    },
    "executionInfo": {
     "elapsed": 21,
     "status": "ok",
     "timestamp": 1633966186919,
     "user": {
      "displayName": "Marleena M.",
      "photoUrl": "https://lh3.googleusercontent.com/a/default-user=s64",
      "userId": "01554857910732208880"
     },
     "user_tz": -180
    },
    "id": "cPCvGuzQ9iAr",
    "outputId": "340ed4b3-5798-4b17-cf2b-0ed349b73401"
   },
   "outputs": [
    {
     "data": {
      "text/plain": [
       "array(['Smelt', 'Bream', 'Bream', 'Bream', 'Perch', 'Smelt', 'Bream',\n",
       "       'Bream', 'Bream', 'Bream', 'Bream', 'Perch', 'Bream', 'Bream',\n",
       "       'Perch', 'Smelt', 'Perch', 'Perch', 'Bream', 'Perch', 'Bream',\n",
       "       'Bream', 'Perch', 'Bream', 'Bream', 'Perch', 'Perch', 'Smelt',\n",
       "       'Perch', 'Perch', 'Smelt', 'Perch'], dtype=object)"
      ]
     },
     "execution_count": 32,
     "metadata": {},
     "output_type": "execute_result"
    }
   ],
   "source": [
    "c_model2.fit(x_train,y_train)\n",
    "c_model2.predict(x_test)"
   ]
  },
  {
   "cell_type": "code",
   "execution_count": 37,
   "metadata": {
    "colab": {
     "base_uri": "https://localhost:8080/",
     "height": 180
    },
    "executionInfo": {
     "elapsed": 486,
     "status": "error",
     "timestamp": 1633966275801,
     "user": {
      "displayName": "Marleena M.",
      "photoUrl": "https://lh3.googleusercontent.com/a/default-user=s64",
      "userId": "01554857910732208880"
     },
     "user_tz": -180
    },
    "id": "tB2lN7Jy9ibf",
    "outputId": "a6b122c1-fb69-44ef-bb21-bd86291cf507"
   },
   "outputs": [
    {
     "ename": "KeyError",
     "evalue": "'mae'",
     "output_type": "error",
     "traceback": [
      "\u001b[0;31m---------------------------------------------------------------------------\u001b[0m",
      "\u001b[0;31mKeyError\u001b[0m                                  Traceback (most recent call last)",
      "\u001b[0;32m/tmp/ipykernel_113/889830132.py\u001b[0m in \u001b[0;36m<module>\u001b[0;34m\u001b[0m\n\u001b[0;32m----> 1\u001b[0;31m \u001b[0mc_model3\u001b[0m\u001b[0;34m.\u001b[0m\u001b[0mfit\u001b[0m\u001b[0;34m(\u001b[0m\u001b[0mx_train\u001b[0m\u001b[0;34m,\u001b[0m\u001b[0my_train\u001b[0m\u001b[0;34m,\u001b[0m\u001b[0;34m)\u001b[0m\u001b[0;34m\u001b[0m\u001b[0;34m\u001b[0m\u001b[0m\n\u001b[0m\u001b[1;32m      2\u001b[0m \u001b[0mc_model3\u001b[0m\u001b[0;34m.\u001b[0m\u001b[0mpredict\u001b[0m\u001b[0;34m(\u001b[0m\u001b[0mx_test\u001b[0m\u001b[0;34m)\u001b[0m\u001b[0;34m\u001b[0m\u001b[0;34m\u001b[0m\u001b[0m\n",
      "\u001b[0;32m/srv/conda/envs/notebook/lib/python3.7/site-packages/sklearn/tree/_classes.py\u001b[0m in \u001b[0;36mfit\u001b[0;34m(self, X, y, sample_weight, check_input, X_idx_sorted)\u001b[0m\n\u001b[1;32m    940\u001b[0m             \u001b[0msample_weight\u001b[0m\u001b[0;34m=\u001b[0m\u001b[0msample_weight\u001b[0m\u001b[0;34m,\u001b[0m\u001b[0;34m\u001b[0m\u001b[0;34m\u001b[0m\u001b[0m\n\u001b[1;32m    941\u001b[0m             \u001b[0mcheck_input\u001b[0m\u001b[0;34m=\u001b[0m\u001b[0mcheck_input\u001b[0m\u001b[0;34m,\u001b[0m\u001b[0;34m\u001b[0m\u001b[0;34m\u001b[0m\u001b[0m\n\u001b[0;32m--> 942\u001b[0;31m             \u001b[0mX_idx_sorted\u001b[0m\u001b[0;34m=\u001b[0m\u001b[0mX_idx_sorted\u001b[0m\u001b[0;34m,\u001b[0m\u001b[0;34m\u001b[0m\u001b[0;34m\u001b[0m\u001b[0m\n\u001b[0m\u001b[1;32m    943\u001b[0m         )\n\u001b[1;32m    944\u001b[0m         \u001b[0;32mreturn\u001b[0m \u001b[0mself\u001b[0m\u001b[0;34m\u001b[0m\u001b[0;34m\u001b[0m\u001b[0m\n",
      "\u001b[0;32m/srv/conda/envs/notebook/lib/python3.7/site-packages/sklearn/tree/_classes.py\u001b[0m in \u001b[0;36mfit\u001b[0;34m(self, X, y, sample_weight, check_input, X_idx_sorted)\u001b[0m\n\u001b[1;32m    350\u001b[0m         \u001b[0;32mif\u001b[0m \u001b[0;32mnot\u001b[0m \u001b[0misinstance\u001b[0m\u001b[0;34m(\u001b[0m\u001b[0mcriterion\u001b[0m\u001b[0;34m,\u001b[0m \u001b[0mCriterion\u001b[0m\u001b[0;34m)\u001b[0m\u001b[0;34m:\u001b[0m\u001b[0;34m\u001b[0m\u001b[0;34m\u001b[0m\u001b[0m\n\u001b[1;32m    351\u001b[0m             \u001b[0;32mif\u001b[0m \u001b[0mis_classification\u001b[0m\u001b[0;34m:\u001b[0m\u001b[0;34m\u001b[0m\u001b[0;34m\u001b[0m\u001b[0m\n\u001b[0;32m--> 352\u001b[0;31m                 criterion = CRITERIA_CLF[self.criterion](\n\u001b[0m\u001b[1;32m    353\u001b[0m                     \u001b[0mself\u001b[0m\u001b[0;34m.\u001b[0m\u001b[0mn_outputs_\u001b[0m\u001b[0;34m,\u001b[0m \u001b[0mself\u001b[0m\u001b[0;34m.\u001b[0m\u001b[0mn_classes_\u001b[0m\u001b[0;34m\u001b[0m\u001b[0;34m\u001b[0m\u001b[0m\n\u001b[1;32m    354\u001b[0m                 )\n",
      "\u001b[0;31mKeyError\u001b[0m: 'mae'"
     ]
    }
   ],
   "source": [
    "c_model3.fit(x_train,y_train,)\n",
    "c_model3.predict(x_test)"
   ]
  },
  {
   "cell_type": "code",
   "execution_count": 38,
   "metadata": {
    "id": "MF74iq0v9inz"
   },
   "outputs": [
    {
     "ename": "TypeError",
     "evalue": "'<' not supported between instances of 'str' and 'int'",
     "output_type": "error",
     "traceback": [
      "\u001b[0;31m---------------------------------------------------------------------------\u001b[0m",
      "\u001b[0;31mTypeError\u001b[0m                                 Traceback (most recent call last)",
      "\u001b[0;32m/tmp/ipykernel_113/4144442788.py\u001b[0m in \u001b[0;36m<module>\u001b[0;34m\u001b[0m\n\u001b[0;32m----> 1\u001b[0;31m \u001b[0mc_model4\u001b[0m\u001b[0;34m.\u001b[0m\u001b[0mfit\u001b[0m\u001b[0;34m(\u001b[0m\u001b[0mx_train\u001b[0m\u001b[0;34m,\u001b[0m\u001b[0my_train\u001b[0m\u001b[0;34m)\u001b[0m\u001b[0;34m\u001b[0m\u001b[0;34m\u001b[0m\u001b[0m\n\u001b[0m\u001b[1;32m      2\u001b[0m \u001b[0mc_model4\u001b[0m\u001b[0;34m.\u001b[0m\u001b[0mpredict\u001b[0m\u001b[0;34m(\u001b[0m\u001b[0mx_test\u001b[0m\u001b[0;34m)\u001b[0m\u001b[0;34m\u001b[0m\u001b[0;34m\u001b[0m\u001b[0m\n",
      "\u001b[0;32m/srv/conda/envs/notebook/lib/python3.7/site-packages/sklearn/tree/_classes.py\u001b[0m in \u001b[0;36mfit\u001b[0;34m(self, X, y, sample_weight, check_input, X_idx_sorted)\u001b[0m\n\u001b[1;32m    940\u001b[0m             \u001b[0msample_weight\u001b[0m\u001b[0;34m=\u001b[0m\u001b[0msample_weight\u001b[0m\u001b[0;34m,\u001b[0m\u001b[0;34m\u001b[0m\u001b[0;34m\u001b[0m\u001b[0m\n\u001b[1;32m    941\u001b[0m             \u001b[0mcheck_input\u001b[0m\u001b[0;34m=\u001b[0m\u001b[0mcheck_input\u001b[0m\u001b[0;34m,\u001b[0m\u001b[0;34m\u001b[0m\u001b[0;34m\u001b[0m\u001b[0m\n\u001b[0;32m--> 942\u001b[0;31m             \u001b[0mX_idx_sorted\u001b[0m\u001b[0;34m=\u001b[0m\u001b[0mX_idx_sorted\u001b[0m\u001b[0;34m,\u001b[0m\u001b[0;34m\u001b[0m\u001b[0;34m\u001b[0m\u001b[0m\n\u001b[0m\u001b[1;32m    943\u001b[0m         )\n\u001b[1;32m    944\u001b[0m         \u001b[0;32mreturn\u001b[0m \u001b[0mself\u001b[0m\u001b[0;34m\u001b[0m\u001b[0;34m\u001b[0m\u001b[0m\n",
      "\u001b[0;32m/srv/conda/envs/notebook/lib/python3.7/site-packages/sklearn/tree/_classes.py\u001b[0m in \u001b[0;36mfit\u001b[0;34m(self, X, y, sample_weight, check_input, X_idx_sorted)\u001b[0m\n\u001b[1;32m    175\u001b[0m \u001b[0;34m\u001b[0m\u001b[0m\n\u001b[1;32m    176\u001b[0m             \u001b[0;32mif\u001b[0m \u001b[0mself\u001b[0m\u001b[0;34m.\u001b[0m\u001b[0mcriterion\u001b[0m \u001b[0;34m==\u001b[0m \u001b[0;34m\"poisson\"\u001b[0m\u001b[0;34m:\u001b[0m\u001b[0;34m\u001b[0m\u001b[0;34m\u001b[0m\u001b[0m\n\u001b[0;32m--> 177\u001b[0;31m                 \u001b[0;32mif\u001b[0m \u001b[0mnp\u001b[0m\u001b[0;34m.\u001b[0m\u001b[0many\u001b[0m\u001b[0;34m(\u001b[0m\u001b[0my\u001b[0m \u001b[0;34m<\u001b[0m \u001b[0;36m0\u001b[0m\u001b[0;34m)\u001b[0m\u001b[0;34m:\u001b[0m\u001b[0;34m\u001b[0m\u001b[0;34m\u001b[0m\u001b[0m\n\u001b[0m\u001b[1;32m    178\u001b[0m                     raise ValueError(\n\u001b[1;32m    179\u001b[0m                         \u001b[0;34m\"Some value(s) of y are negative which is\"\u001b[0m\u001b[0;34m\u001b[0m\u001b[0;34m\u001b[0m\u001b[0m\n",
      "\u001b[0;31mTypeError\u001b[0m: '<' not supported between instances of 'str' and 'int'"
     ]
    }
   ],
   "source": [
    "c_model4.fit(x_train,y_train)\n",
    "c_model4.predict(x_test)"
   ]
  },
  {
   "cell_type": "code",
   "execution_count": 39,
   "metadata": {
    "colab": {
     "base_uri": "https://localhost:8080/",
     "height": 248
    },
    "executionInfo": {
     "elapsed": 18,
     "status": "ok",
     "timestamp": 1633966186921,
     "user": {
      "displayName": "Marleena M.",
      "photoUrl": "https://lh3.googleusercontent.com/a/default-user=s64",
      "userId": "01554857910732208880"
     },
     "user_tz": -180
    },
    "id": "hrMCKo3MXIdn",
    "outputId": "b52e9634-6faf-4785-dcec-66b179ee707f"
   },
   "outputs": [
    {
     "data": {
      "image/png": "[encoded data removed]",
      "text/plain": [
       "<Figure size 432x288 with 1 Axes>"
      ]
     },
     "metadata": {
      "needs_background": "light"
     },
     "output_type": "display_data"
    }
   ],
   "source": [
    "# Вывод на экран дерева tree.\n",
    "# max_depth - максимальная губина отображения, по умолчанию выводится дерево целиком.\n",
    "plot_tree(c_model1, max_depth=1)\n",
    "plt.show()"
   ]
  },
  {
   "cell_type": "code",
   "execution_count": 40,
   "metadata": {
    "colab": {
     "base_uri": "https://localhost:8080/",
     "height": 248
    },
    "executionInfo": {
     "elapsed": 502,
     "status": "ok",
     "timestamp": 1633966187406,
     "user": {
      "displayName": "Marleena M.",
      "photoUrl": "https://lh3.googleusercontent.com/a/default-user=s64",
      "userId": "01554857910732208880"
     },
     "user_tz": -180
    },
    "id": "FjienfhUXIdo",
    "outputId": "fdc32a4b-550c-42ff-9710-005d5ee5317b"
   },
   "outputs": [
    {
     "data": {
      "image/png": "[encoded data removed]",
      "text/plain": [
       "<Figure size 432x288 with 1 Axes>"
      ]
     },
     "metadata": {
      "needs_background": "light"
     },
     "output_type": "display_data"
    }
   ],
   "source": [
    "plot_tree(c_model1)\n",
    "plt.show()"
   ]
  },
  {
   "cell_type": "code",
   "execution_count": null,
   "metadata": {},
   "outputs": [],
   "source": []
  },
  {
   "cell_type": "code",
   "execution_count": null,
   "metadata": {},
   "outputs": [],
   "source": []
  }
 ],
 "metadata": {
  "colab": {
   "collapsed_sections": [],
   "name": "ПР-10 Фамилия ИСТ-19-1.ipynb",
   "provenance": [
    {
     "file_id": "1eSBpbp5xb4Lj-En7cv4MoXgXC6gBvG18",
     "timestamp": 1632580182800
    }
   ]
  },
  "kernelspec": {
   "display_name": "Python 3 (ipykernel)",
   "language": "python",
   "name": "python3"
  },
  "language_info": {
   "codemirror_mode": {
    "name": "ipython",
    "version": 3
   },
   "file_extension": ".py",
   "mimetype": "text/x-python",
   "name": "python",
   "nbconvert_exporter": "python",
   "pygments_lexer": "ipython3",
   "version": "3.7.12"
  }
 },
 "nbformat": 4,
 "nbformat_minor": 4
}
